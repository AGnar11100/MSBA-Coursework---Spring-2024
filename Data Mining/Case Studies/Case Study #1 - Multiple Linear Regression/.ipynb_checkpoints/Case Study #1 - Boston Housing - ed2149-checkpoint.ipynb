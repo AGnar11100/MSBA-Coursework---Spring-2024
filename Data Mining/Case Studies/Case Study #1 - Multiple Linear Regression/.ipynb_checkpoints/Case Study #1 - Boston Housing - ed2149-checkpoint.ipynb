{
 "cells": [
  {
   "cell_type": "code",
   "execution_count": 1,
   "id": "218a675e",
   "metadata": {},
   "outputs": [],
   "source": [
    "# !pip install dmba"
   ]
  },
  {
   "cell_type": "code",
   "execution_count": 2,
   "id": "40883971",
   "metadata": {},
   "outputs": [],
   "source": [
    "import pandas as pd\n",
    "import numpy as np\n",
    "import matplotlib.pyplot as plt\n",
    "\n",
    "\n",
    "from sklearn.model_selection import train_test_split\n",
    "from sklearn.linear_model import LinearRegression\n",
    "from sklearn.metrics import r2_score\n",
    "\n",
    "import statsmodels.formula.api as sm\n",
    "\n",
    "from dmba import regressionSummary, exhaustive_search\n",
    "from dmba import backward_elimination, forward_selection, stepwise_selection\n",
    "from dmba import adjusted_r2_score, AIC_score, BIC_score\n",
    "\n",
    "import matplotlib.pylab as plt\n",
    "%matplotlib inline"
   ]
  },
  {
   "cell_type": "code",
   "execution_count": 3,
   "id": "d3316c88",
   "metadata": {},
   "outputs": [],
   "source": [
    "try:\n",
    "    boston_df = pd.read_csv('BostonHousing.csv')\n",
    "except:\n",
    "    print('BostonHousing.csv is not in your pwd')"
   ]
  },
  {
   "cell_type": "code",
   "execution_count": 4,
   "id": "a5bfd611",
   "metadata": {},
   "outputs": [
    {
     "data": {
      "text/html": [
       "<div>\n",
       "<style scoped>\n",
       "    .dataframe tbody tr th:only-of-type {\n",
       "        vertical-align: middle;\n",
       "    }\n",
       "\n",
       "    .dataframe tbody tr th {\n",
       "        vertical-align: top;\n",
       "    }\n",
       "\n",
       "    .dataframe thead th {\n",
       "        text-align: right;\n",
       "    }\n",
       "</style>\n",
       "<table border=\"1\" class=\"dataframe\">\n",
       "  <thead>\n",
       "    <tr style=\"text-align: right;\">\n",
       "      <th></th>\n",
       "      <th>CRIME</th>\n",
       "      <th>ZONE</th>\n",
       "      <th>INDUST</th>\n",
       "      <th>CHAR RIV</th>\n",
       "      <th>NIT OXIDE</th>\n",
       "      <th>ROOMS</th>\n",
       "      <th>AGE</th>\n",
       "      <th>DISTANCE</th>\n",
       "      <th>RADIAL</th>\n",
       "      <th>TAX</th>\n",
       "      <th>ST RATIO</th>\n",
       "      <th>LOW STAT</th>\n",
       "      <th>MVALUE</th>\n",
       "      <th>C MVALUE</th>\n",
       "    </tr>\n",
       "  </thead>\n",
       "  <tbody>\n",
       "    <tr>\n",
       "      <th>0</th>\n",
       "      <td>0.00632</td>\n",
       "      <td>18.0</td>\n",
       "      <td>2.31</td>\n",
       "      <td>N</td>\n",
       "      <td>0.538</td>\n",
       "      <td>6.575</td>\n",
       "      <td>65.2</td>\n",
       "      <td>4.0900</td>\n",
       "      <td>1</td>\n",
       "      <td>296</td>\n",
       "      <td>15.3</td>\n",
       "      <td>4.98</td>\n",
       "      <td>24.0</td>\n",
       "      <td>No</td>\n",
       "    </tr>\n",
       "    <tr>\n",
       "      <th>1</th>\n",
       "      <td>0.02731</td>\n",
       "      <td>0.0</td>\n",
       "      <td>7.07</td>\n",
       "      <td>N</td>\n",
       "      <td>0.469</td>\n",
       "      <td>6.421</td>\n",
       "      <td>78.9</td>\n",
       "      <td>4.9671</td>\n",
       "      <td>2</td>\n",
       "      <td>242</td>\n",
       "      <td>17.8</td>\n",
       "      <td>9.14</td>\n",
       "      <td>21.6</td>\n",
       "      <td>No</td>\n",
       "    </tr>\n",
       "    <tr>\n",
       "      <th>2</th>\n",
       "      <td>0.02729</td>\n",
       "      <td>0.0</td>\n",
       "      <td>7.07</td>\n",
       "      <td>N</td>\n",
       "      <td>0.469</td>\n",
       "      <td>7.185</td>\n",
       "      <td>61.1</td>\n",
       "      <td>4.9671</td>\n",
       "      <td>2</td>\n",
       "      <td>242</td>\n",
       "      <td>17.8</td>\n",
       "      <td>4.03</td>\n",
       "      <td>34.7</td>\n",
       "      <td>Yes</td>\n",
       "    </tr>\n",
       "    <tr>\n",
       "      <th>3</th>\n",
       "      <td>0.03237</td>\n",
       "      <td>0.0</td>\n",
       "      <td>2.18</td>\n",
       "      <td>N</td>\n",
       "      <td>0.458</td>\n",
       "      <td>6.998</td>\n",
       "      <td>45.8</td>\n",
       "      <td>6.0622</td>\n",
       "      <td>3</td>\n",
       "      <td>222</td>\n",
       "      <td>18.7</td>\n",
       "      <td>2.94</td>\n",
       "      <td>33.4</td>\n",
       "      <td>Yes</td>\n",
       "    </tr>\n",
       "    <tr>\n",
       "      <th>4</th>\n",
       "      <td>0.06905</td>\n",
       "      <td>0.0</td>\n",
       "      <td>2.18</td>\n",
       "      <td>N</td>\n",
       "      <td>0.458</td>\n",
       "      <td>7.147</td>\n",
       "      <td>54.2</td>\n",
       "      <td>6.0622</td>\n",
       "      <td>3</td>\n",
       "      <td>222</td>\n",
       "      <td>18.7</td>\n",
       "      <td>5.33</td>\n",
       "      <td>36.2</td>\n",
       "      <td>Yes</td>\n",
       "    </tr>\n",
       "  </tbody>\n",
       "</table>\n",
       "</div>"
      ],
      "text/plain": [
       "     CRIME  ZONE  INDUST CHAR RIV  NIT OXIDE  ROOMS   AGE  DISTANCE  RADIAL  \\\n",
       "0  0.00632  18.0    2.31        N      0.538  6.575  65.2    4.0900       1   \n",
       "1  0.02731   0.0    7.07        N      0.469  6.421  78.9    4.9671       2   \n",
       "2  0.02729   0.0    7.07        N      0.469  7.185  61.1    4.9671       2   \n",
       "3  0.03237   0.0    2.18        N      0.458  6.998  45.8    6.0622       3   \n",
       "4  0.06905   0.0    2.18        N      0.458  7.147  54.2    6.0622       3   \n",
       "\n",
       "   TAX  ST RATIO  LOW STAT  MVALUE C MVALUE  \n",
       "0  296      15.3      4.98    24.0       No  \n",
       "1  242      17.8      9.14    21.6       No  \n",
       "2  242      17.8      4.03    34.7      Yes  \n",
       "3  222      18.7      2.94    33.4      Yes  \n",
       "4  222      18.7      5.33    36.2      Yes  "
      ]
     },
     "execution_count": 4,
     "metadata": {},
     "output_type": "execute_result"
    }
   ],
   "source": [
    "boston_df.head()"
   ]
  },
  {
   "cell_type": "code",
   "execution_count": 5,
   "id": "98f578db",
   "metadata": {},
   "outputs": [
    {
     "name": "stdout",
     "output_type": "stream",
     "text": [
      "There are 506 rows/records and 14 columns/features in the Boston Housing dataset.\n",
      "Each row/record represents a home and each column/feature is attribute that the home in this dataset possess.\n"
     ]
    }
   ],
   "source": [
    "# 1a.  Create a boston_df data frame by uploading the original data set into Python. Determine \n",
    "# and present in this report the data frame dimensions, i.e., number of rows and columns \n",
    "# from Python, and briefly explain these numbers. \n",
    "nrows = boston_df.shape[0]\n",
    "ncols = boston_df.shape[1]\n",
    "print('There are', nrows, 'rows/records and', ncols, 'columns/features in the Boston Housing dataset.')\n",
    "print('Each row/record represents a home and each column/feature is attribute that the home in this dataset possess.')"
   ]
  },
  {
   "cell_type": "code",
   "execution_count": 6,
   "id": "84f299e4",
   "metadata": {},
   "outputs": [],
   "source": [
    "# 1b. Display in Python the column titles and present them in your report. If some of them \n",
    "# contain two (or more) words, convert them into one-word titles, and present the modified \n",
    "# titles in your report.  \n",
    "boston_df.columns = boston_df.columns.str.replace(' ', '_')"
   ]
  },
  {
   "cell_type": "code",
   "execution_count": 7,
   "id": "43829a22",
   "metadata": {},
   "outputs": [],
   "source": [
    "# 1c. Display in Python column data types and present them in your report. If some of them are \n",
    "# listed as “object’, briefly explain that in your report, convert them into dummy variables, \n",
    "# and provide in your report the modified list of column titles with dummy variables. "
   ]
  },
  {
   "cell_type": "code",
   "execution_count": 8,
   "id": "016017a6",
   "metadata": {},
   "outputs": [
    {
     "data": {
      "text/plain": [
       "CRIME        float64\n",
       "ZONE         float64\n",
       "INDUST       float64\n",
       "CHAR_RIV      object\n",
       "NIT_OXIDE    float64\n",
       "ROOMS        float64\n",
       "AGE          float64\n",
       "DISTANCE     float64\n",
       "RADIAL         int64\n",
       "TAX            int64\n",
       "ST_RATIO     float64\n",
       "LOW_STAT     float64\n",
       "MVALUE       float64\n",
       "C_MVALUE      object\n",
       "dtype: object"
      ]
     },
     "execution_count": 8,
     "metadata": {},
     "output_type": "execute_result"
    }
   ],
   "source": [
    "boston_df.dtypes\n",
    "# CHAR_RIV, C_MVALUE are both of type object. "
   ]
  },
  {
   "cell_type": "code",
   "execution_count": 9,
   "id": "f89635eb",
   "metadata": {},
   "outputs": [],
   "source": [
    "boston_df.CHAR_RIV = boston_df.CHAR_RIV.astype('category')\n",
    "boston_df.C_MVALUE = boston_df.C_MVALUE.astype('category')"
   ]
  },
  {
   "cell_type": "code",
   "execution_count": 10,
   "id": "0ed11b2b",
   "metadata": {},
   "outputs": [],
   "source": [
    "boston_df = pd.get_dummies(boston_df, prefix_sep='_', \n",
    "                            drop_first=True)"
   ]
  },
  {
   "cell_type": "code",
   "execution_count": 11,
   "id": "7a762495",
   "metadata": {},
   "outputs": [],
   "source": [
    "# 1d. Display in Python the descriptive statistics for all columns in the modified boston_df data \n",
    "# frame (after converting to one-word titles and dummy variables). Check if there are \n",
    "# missing records (values) in the columns. Present the table with descriptive statistics in \n",
    "# your report, and comment about the missing values. You don’t need to comment on the \n",
    "# values of outliers (min/max) or their extreme values."
   ]
  },
  {
   "cell_type": "code",
   "execution_count": 12,
   "id": "eb56714b",
   "metadata": {},
   "outputs": [
    {
     "data": {
      "text/html": [
       "<div>\n",
       "<style scoped>\n",
       "    .dataframe tbody tr th:only-of-type {\n",
       "        vertical-align: middle;\n",
       "    }\n",
       "\n",
       "    .dataframe tbody tr th {\n",
       "        vertical-align: top;\n",
       "    }\n",
       "\n",
       "    .dataframe thead th {\n",
       "        text-align: right;\n",
       "    }\n",
       "</style>\n",
       "<table border=\"1\" class=\"dataframe\">\n",
       "  <thead>\n",
       "    <tr style=\"text-align: right;\">\n",
       "      <th></th>\n",
       "      <th>CRIME</th>\n",
       "      <th>ZONE</th>\n",
       "      <th>INDUST</th>\n",
       "      <th>NIT_OXIDE</th>\n",
       "      <th>ROOMS</th>\n",
       "      <th>AGE</th>\n",
       "      <th>DISTANCE</th>\n",
       "      <th>RADIAL</th>\n",
       "      <th>TAX</th>\n",
       "      <th>ST_RATIO</th>\n",
       "      <th>LOW_STAT</th>\n",
       "      <th>MVALUE</th>\n",
       "      <th>CHAR_RIV_Y</th>\n",
       "      <th>C_MVALUE_Yes</th>\n",
       "    </tr>\n",
       "  </thead>\n",
       "  <tbody>\n",
       "    <tr>\n",
       "      <th>count</th>\n",
       "      <td>506.000000</td>\n",
       "      <td>506.000000</td>\n",
       "      <td>506.000000</td>\n",
       "      <td>506.000000</td>\n",
       "      <td>506.000000</td>\n",
       "      <td>506.000000</td>\n",
       "      <td>506.000000</td>\n",
       "      <td>506.000000</td>\n",
       "      <td>506.000000</td>\n",
       "      <td>506.000000</td>\n",
       "      <td>506.000000</td>\n",
       "      <td>506.000000</td>\n",
       "      <td>506.000000</td>\n",
       "      <td>506.000000</td>\n",
       "    </tr>\n",
       "    <tr>\n",
       "      <th>mean</th>\n",
       "      <td>3.613524</td>\n",
       "      <td>11.363636</td>\n",
       "      <td>11.136779</td>\n",
       "      <td>0.554695</td>\n",
       "      <td>6.284634</td>\n",
       "      <td>68.574901</td>\n",
       "      <td>3.795043</td>\n",
       "      <td>9.549407</td>\n",
       "      <td>408.237154</td>\n",
       "      <td>18.455534</td>\n",
       "      <td>12.653063</td>\n",
       "      <td>22.532806</td>\n",
       "      <td>0.069170</td>\n",
       "      <td>0.166008</td>\n",
       "    </tr>\n",
       "    <tr>\n",
       "      <th>std</th>\n",
       "      <td>8.601545</td>\n",
       "      <td>23.322453</td>\n",
       "      <td>6.860353</td>\n",
       "      <td>0.115878</td>\n",
       "      <td>0.702617</td>\n",
       "      <td>28.148861</td>\n",
       "      <td>2.105710</td>\n",
       "      <td>8.707259</td>\n",
       "      <td>168.537116</td>\n",
       "      <td>2.164946</td>\n",
       "      <td>7.141062</td>\n",
       "      <td>9.197104</td>\n",
       "      <td>0.253994</td>\n",
       "      <td>0.372456</td>\n",
       "    </tr>\n",
       "    <tr>\n",
       "      <th>min</th>\n",
       "      <td>0.006320</td>\n",
       "      <td>0.000000</td>\n",
       "      <td>0.460000</td>\n",
       "      <td>0.385000</td>\n",
       "      <td>3.561000</td>\n",
       "      <td>2.900000</td>\n",
       "      <td>1.129600</td>\n",
       "      <td>1.000000</td>\n",
       "      <td>187.000000</td>\n",
       "      <td>12.600000</td>\n",
       "      <td>1.730000</td>\n",
       "      <td>5.000000</td>\n",
       "      <td>0.000000</td>\n",
       "      <td>0.000000</td>\n",
       "    </tr>\n",
       "    <tr>\n",
       "      <th>25%</th>\n",
       "      <td>0.082045</td>\n",
       "      <td>0.000000</td>\n",
       "      <td>5.190000</td>\n",
       "      <td>0.449000</td>\n",
       "      <td>5.885500</td>\n",
       "      <td>45.025000</td>\n",
       "      <td>2.100175</td>\n",
       "      <td>4.000000</td>\n",
       "      <td>279.000000</td>\n",
       "      <td>17.400000</td>\n",
       "      <td>6.950000</td>\n",
       "      <td>17.025000</td>\n",
       "      <td>0.000000</td>\n",
       "      <td>0.000000</td>\n",
       "    </tr>\n",
       "    <tr>\n",
       "      <th>50%</th>\n",
       "      <td>0.256510</td>\n",
       "      <td>0.000000</td>\n",
       "      <td>9.690000</td>\n",
       "      <td>0.538000</td>\n",
       "      <td>6.208500</td>\n",
       "      <td>77.500000</td>\n",
       "      <td>3.207450</td>\n",
       "      <td>5.000000</td>\n",
       "      <td>330.000000</td>\n",
       "      <td>19.050000</td>\n",
       "      <td>11.360000</td>\n",
       "      <td>21.200000</td>\n",
       "      <td>0.000000</td>\n",
       "      <td>0.000000</td>\n",
       "    </tr>\n",
       "    <tr>\n",
       "      <th>75%</th>\n",
       "      <td>3.677083</td>\n",
       "      <td>12.500000</td>\n",
       "      <td>18.100000</td>\n",
       "      <td>0.624000</td>\n",
       "      <td>6.623500</td>\n",
       "      <td>94.075000</td>\n",
       "      <td>5.188425</td>\n",
       "      <td>24.000000</td>\n",
       "      <td>666.000000</td>\n",
       "      <td>20.200000</td>\n",
       "      <td>16.955000</td>\n",
       "      <td>25.000000</td>\n",
       "      <td>0.000000</td>\n",
       "      <td>0.000000</td>\n",
       "    </tr>\n",
       "    <tr>\n",
       "      <th>max</th>\n",
       "      <td>88.976200</td>\n",
       "      <td>100.000000</td>\n",
       "      <td>27.740000</td>\n",
       "      <td>0.871000</td>\n",
       "      <td>8.780000</td>\n",
       "      <td>100.000000</td>\n",
       "      <td>12.126500</td>\n",
       "      <td>24.000000</td>\n",
       "      <td>711.000000</td>\n",
       "      <td>22.000000</td>\n",
       "      <td>37.970000</td>\n",
       "      <td>50.000000</td>\n",
       "      <td>1.000000</td>\n",
       "      <td>1.000000</td>\n",
       "    </tr>\n",
       "  </tbody>\n",
       "</table>\n",
       "</div>"
      ],
      "text/plain": [
       "            CRIME        ZONE      INDUST   NIT_OXIDE       ROOMS         AGE  \\\n",
       "count  506.000000  506.000000  506.000000  506.000000  506.000000  506.000000   \n",
       "mean     3.613524   11.363636   11.136779    0.554695    6.284634   68.574901   \n",
       "std      8.601545   23.322453    6.860353    0.115878    0.702617   28.148861   \n",
       "min      0.006320    0.000000    0.460000    0.385000    3.561000    2.900000   \n",
       "25%      0.082045    0.000000    5.190000    0.449000    5.885500   45.025000   \n",
       "50%      0.256510    0.000000    9.690000    0.538000    6.208500   77.500000   \n",
       "75%      3.677083   12.500000   18.100000    0.624000    6.623500   94.075000   \n",
       "max     88.976200  100.000000   27.740000    0.871000    8.780000  100.000000   \n",
       "\n",
       "         DISTANCE      RADIAL         TAX    ST_RATIO    LOW_STAT      MVALUE  \\\n",
       "count  506.000000  506.000000  506.000000  506.000000  506.000000  506.000000   \n",
       "mean     3.795043    9.549407  408.237154   18.455534   12.653063   22.532806   \n",
       "std      2.105710    8.707259  168.537116    2.164946    7.141062    9.197104   \n",
       "min      1.129600    1.000000  187.000000   12.600000    1.730000    5.000000   \n",
       "25%      2.100175    4.000000  279.000000   17.400000    6.950000   17.025000   \n",
       "50%      3.207450    5.000000  330.000000   19.050000   11.360000   21.200000   \n",
       "75%      5.188425   24.000000  666.000000   20.200000   16.955000   25.000000   \n",
       "max     12.126500   24.000000  711.000000   22.000000   37.970000   50.000000   \n",
       "\n",
       "       CHAR_RIV_Y  C_MVALUE_Yes  \n",
       "count  506.000000    506.000000  \n",
       "mean     0.069170      0.166008  \n",
       "std      0.253994      0.372456  \n",
       "min      0.000000      0.000000  \n",
       "25%      0.000000      0.000000  \n",
       "50%      0.000000      0.000000  \n",
       "75%      0.000000      0.000000  \n",
       "max      1.000000      1.000000  "
      ]
     },
     "execution_count": 12,
     "metadata": {},
     "output_type": "execute_result"
    }
   ],
   "source": [
    "# Display descriptive stats\n",
    "boston_df.describe()"
   ]
  },
  {
   "cell_type": "code",
   "execution_count": 13,
   "id": "64330e00",
   "metadata": {},
   "outputs": [
    {
     "name": "stdout",
     "output_type": "stream",
     "text": [
      "<class 'pandas.core.frame.DataFrame'>\n",
      "RangeIndex: 506 entries, 0 to 505\n",
      "Data columns (total 14 columns):\n",
      " #   Column        Non-Null Count  Dtype  \n",
      "---  ------        --------------  -----  \n",
      " 0   CRIME         506 non-null    float64\n",
      " 1   ZONE          506 non-null    float64\n",
      " 2   INDUST        506 non-null    float64\n",
      " 3   NIT_OXIDE     506 non-null    float64\n",
      " 4   ROOMS         506 non-null    float64\n",
      " 5   AGE           506 non-null    float64\n",
      " 6   DISTANCE      506 non-null    float64\n",
      " 7   RADIAL        506 non-null    int64  \n",
      " 8   TAX           506 non-null    int64  \n",
      " 9   ST_RATIO      506 non-null    float64\n",
      " 10  LOW_STAT      506 non-null    float64\n",
      " 11  MVALUE        506 non-null    float64\n",
      " 12  CHAR_RIV_Y    506 non-null    uint8  \n",
      " 13  C_MVALUE_Yes  506 non-null    uint8  \n",
      "dtypes: float64(10), int64(2), uint8(2)\n",
      "memory usage: 48.6 KB\n"
     ]
    }
   ],
   "source": [
    "boston_df.info()"
   ]
  },
  {
   "cell_type": "code",
   "execution_count": 14,
   "id": "23eedf43",
   "metadata": {},
   "outputs": [
    {
     "data": {
      "text/plain": [
       "CRIME           0\n",
       "ZONE            0\n",
       "INDUST          0\n",
       "NIT_OXIDE       0\n",
       "ROOMS           0\n",
       "AGE             0\n",
       "DISTANCE        0\n",
       "RADIAL          0\n",
       "TAX             0\n",
       "ST_RATIO        0\n",
       "LOW_STAT        0\n",
       "MVALUE          0\n",
       "CHAR_RIV_Y      0\n",
       "C_MVALUE_Yes    0\n",
       "dtype: int64"
      ]
     },
     "execution_count": 14,
     "metadata": {},
     "output_type": "execute_result"
    }
   ],
   "source": [
    "# check for missing values\n",
    "boston_df.isnull().sum()"
   ]
  },
  {
   "cell_type": "code",
   "execution_count": 15,
   "id": "6e0e819b",
   "metadata": {},
   "outputs": [],
   "source": [
    "# 2a. Develop in Python outcome and predictor variables, partition the data set (70% for \n",
    "# training and 30% for validation partitions), and train the multiple linear regression model \n",
    "# using LinearRegression() with the training data set. Identify and display in Python \n",
    "# intercept and regression coefficients of this model. Provide these coefficients in your \n",
    "# report and present the mathematical equation of this linear regression model.    "
   ]
  },
  {
   "cell_type": "code",
   "execution_count": 16,
   "id": "abf4244d",
   "metadata": {},
   "outputs": [],
   "source": [
    "predictors = ['CRIME', 'ZONE', 'INDUST', 'NIT_OXIDE', 'ROOMS', 'AGE', 'DISTANCE',\n",
    "       'RADIAL', 'TAX', 'ST_RATIO', 'LOW_STAT', 'CHAR_RIV_Y',\n",
    "       'C_MVALUE_Yes']\n",
    "outcome = 'MVALUE'\n",
    " \n",
    "X = boston_df[predictors]\n",
    "y = boston_df[outcome]\n",
    "train_X, valid_X, train_y, valid_y = train_test_split(X, y, test_size=0.3, random_state=1)"
   ]
  },
  {
   "cell_type": "code",
   "execution_count": 17,
   "id": "7f20dbfd",
   "metadata": {},
   "outputs": [
    {
     "name": "stdout",
     "output_type": "stream",
     "text": [
      "Regression Model for Boston Housing Training Set\n",
      "\n",
      "Intercept:  48.62\n",
      "       Predictor  Coefficient\n",
      "0          CRIME        -0.15\n",
      "1           ZONE        -0.01\n",
      "2         INDUST         0.13\n",
      "3      NIT_OXIDE       -17.86\n",
      "4          ROOMS         0.33\n",
      "5            AGE        -0.01\n",
      "6       DISTANCE        -0.66\n",
      "7         RADIAL         0.22\n",
      "8            TAX        -0.01\n",
      "9       ST_RATIO        -0.63\n",
      "10      LOW_STAT        -0.47\n",
      "11    CHAR_RIV_Y         2.33\n",
      "12  C_MVALUE_Yes        12.13\n"
     ]
    }
   ],
   "source": [
    "boston_lm = LinearRegression()\n",
    "boston_lm.fit(train_X, train_y)\n",
    "\n",
    "print('Regression Model for Boston Housing Training Set')\n",
    "print()\n",
    "print('Intercept: ', np.round(boston_lm.intercept_, 2)) # coefficients\n",
    "print(pd.DataFrame({'Predictor': X.columns, 'Coefficient': np.round(boston_lm.coef_, 2)}))"
   ]
  },
  {
   "cell_type": "code",
   "execution_count": 18,
   "id": "f25ce1f5",
   "metadata": {},
   "outputs": [],
   "source": [
    "# MVALUE = 48.62 + (-0.15)CRIME + (-0.01)ZONE + (0.13)INDUST + (-17.86)NIT_OXIDE + (0.33)ROOMS + (-0.01)AGE \n",
    "# (-0.66)DISTANCE + (0.22)RADIAL + (-0.01)TAX + (-0.63)ST_RATIO + (-0.47)LOW_STAT + (2.33)CHAR_RIV_Y + (12.13)C_MVALUE_Yes"
   ]
  },
  {
   "cell_type": "code",
   "execution_count": 19,
   "id": "970861f4",
   "metadata": {},
   "outputs": [],
   "source": [
    "# 2b. Using the multiple regression model, identify in Python predictions for validation and \n",
    "# training predictors (valid_X and train_X). Based on these predictions, identify and display \n",
    "# in Python R2 and adjusted R2 performance measures for training and validation partitions. \n",
    "# Present and compare these performance measures in your report and explain if there is \n",
    "# a possibility of overfitting.    "
   ]
  },
  {
   "cell_type": "code",
   "execution_count": 20,
   "id": "29ac7c4c",
   "metadata": {},
   "outputs": [],
   "source": [
    "# predictions for validation set.\n",
    "boston_lm_pred = boston_lm.predict(valid_X)\n",
    "\n",
    "# training set.\n",
    "pred_y = boston_lm.predict(train_X)"
   ]
  },
  {
   "cell_type": "code",
   "execution_count": 21,
   "id": "17fdc4a2",
   "metadata": {},
   "outputs": [
    {
     "name": "stdout",
     "output_type": "stream",
     "text": [
      "Prediction Performance Measures for Training Set\n",
      "r2 :  0.83\n",
      "Adjusted r2 :  0.824\n",
      "Prediction Performance Measures for Validation Set\n",
      "r2 :  0.852\n",
      "adjusted r2 :  0.838\n"
     ]
    }
   ],
   "source": [
    "# Create prediction performance measures for training set.\n",
    "r2 = round(r2_score(train_y, pred_y),3)\n",
    "adj_r2 = round(adjusted_r2_score(train_y, pred_y, boston_lm),3)\n",
    "\n",
    "# Display prediction performance measures for training set.\n",
    "print('Prediction Performance Measures for Training Set')\n",
    "print('r2 : ', r2)\n",
    "print('Adjusted r2 : ', adj_r2)\n",
    "\n",
    "# Create prediction performance measures for validation set.\n",
    "r2 = round(r2_score(valid_y, boston_lm_pred),3)\n",
    "adj_r2 = round(adjusted_r2_score(valid_y, boston_lm_pred, boston_lm),3)\n",
    "\n",
    "# Display prediction performance measures for validation set.\n",
    "print('Prediction Performance Measures for Validation Set')\n",
    "print('r2 : ', r2)\n",
    "print('adjusted r2 : ', adj_r2)"
   ]
  },
  {
   "cell_type": "code",
   "execution_count": 22,
   "id": "dbca01d6",
   "metadata": {},
   "outputs": [],
   "source": [
    "# 2c. Identify and display in Python the common accuracy measures for training and validation \n",
    "# data set (predictions). Provide and compare these accuracy measures in your report and \n",
    "# assess again a possibility of overfitting. "
   ]
  },
  {
   "cell_type": "code",
   "execution_count": 23,
   "id": "bce91172",
   "metadata": {},
   "outputs": [
    {
     "name": "stdout",
     "output_type": "stream",
     "text": [
      "Accuracy Measures for Training Set - All Variables\n",
      "\n",
      "Regression statistics\n",
      "\n",
      "                      Mean Error (ME) : 0.0000\n",
      "       Root Mean Squared Error (RMSE) : 3.7145\n",
      "            Mean Absolute Error (MAE) : 2.6931\n",
      "          Mean Percentage Error (MPE) : -2.7567\n",
      "Mean Absolute Percentage Error (MAPE) : 13.2197\n",
      "\n",
      "Accuracy Measures for Validation Set - All Variables\n",
      "\n",
      "Regression statistics\n",
      "\n",
      "                      Mean Error (ME) : 0.3667\n",
      "       Root Mean Squared Error (RMSE) : 3.6868\n",
      "            Mean Absolute Error (MAE) : 2.7428\n",
      "          Mean Percentage Error (MPE) : -2.9628\n",
      "Mean Absolute Percentage Error (MAPE) : 13.9356\n"
     ]
    }
   ],
   "source": [
    "# Display common accuracy measures for training set.\n",
    "print('Accuracy Measures for Training Set - All Variables')\n",
    "regressionSummary(train_y, pred_y)\n",
    "print()\n",
    "\n",
    "# Display common accuracy measures for validation set.\n",
    "print('Accuracy Measures for Validation Set - All Variables')\n",
    "regressionSummary(valid_y, boston_lm_pred)"
   ]
  },
  {
   "cell_type": "code",
   "execution_count": 24,
   "id": "73f245e3",
   "metadata": {},
   "outputs": [],
   "source": [
    "# 3a. Use the Exhaustive Search algorithm in Python to identify the best predictors for the \n",
    "# multiple linear regression model. Based on these predictors, train a new multiple linear \n",
    "# regression model using the respective training data set predictors and 70%-30% partition \n",
    "# of the data set. Identify and display in Python the intercept and regression coefficients of \n",
    "# this model and the common accuracy measures for validation partition. Provide these \n",
    "# coefficients in your report and present the mathematical equation of the respective \n",
    "# multiple linear regression model.   "
   ]
  },
  {
   "cell_type": "code",
   "execution_count": 25,
   "id": "302064f7",
   "metadata": {},
   "outputs": [
    {
     "name": "stdout",
     "output_type": "stream",
     "text": [
      "     n     r2adj          AIC    AGE  CHAR_RIV_Y  CRIME  C_MVALUE_Yes  DISTANCE  INDUST  LOW_STAT  \\\n",
      "0    1  0.615757  2227.470343  False       False  False          True     False   False     False   \n",
      "1    2  0.784502  2023.736517  False       False  False          True     False   False      True   \n",
      "2    3  0.793737  2009.222342  False       False   True          True     False   False      True   \n",
      "3    4  0.800829  1997.822810  False        True   True          True     False   False      True   \n",
      "4    5  0.804618  1992.008003  False       False  False          True      True   False      True   \n",
      "5    6  0.811403  1980.477479  False        True  False          True      True   False      True   \n",
      "6    7  0.816868  1971.047129  False        True   True          True      True   False      True   \n",
      "7    8  0.822139  1961.682655  False        True   True          True      True   False      True   \n",
      "8    9  0.822845  1961.248007  False        True   True          True      True    True      True   \n",
      "9   10  0.824545  1958.803262  False        True   True          True      True    True      True   \n",
      "10  11  0.824282  1960.300013  False        True   True          True      True    True      True   \n",
      "11  12  0.823903  1962.027384  False        True   True          True      True    True      True   \n",
      "12  13  0.823556  1963.683649   True        True   True          True      True    True      True   \n",
      "\n",
      "    NIT_OXIDE  RADIAL  ROOMS  ST_RATIO    TAX   ZONE  \n",
      "0       False   False  False     False  False  False  \n",
      "1       False   False  False     False  False  False  \n",
      "2       False   False  False     False  False  False  \n",
      "3       False   False  False     False  False  False  \n",
      "4        True   False  False      True  False  False  \n",
      "5        True   False  False      True  False  False  \n",
      "6        True   False  False      True  False  False  \n",
      "7        True    True  False      True  False  False  \n",
      "8        True    True  False      True  False  False  \n",
      "9        True    True  False      True   True  False  \n",
      "10       True    True   True      True   True  False  \n",
      "11       True    True   True      True   True   True  \n",
      "12       True    True   True      True   True   True  \n"
     ]
    }
   ],
   "source": [
    "# Define train_model() function used in Executive Search\n",
    "def train_model(variables):\n",
    "    model = LinearRegression()\n",
    "    model.fit(train_X[variables], train_y)\n",
    "    return model\n",
    "\n",
    "# Define score_model() function used in Executive Search \n",
    "def score_model(model, variables):\n",
    "    pred_y = model.predict(train_X[variables])\n",
    "    # Apply negative sign as score is optimized to be \n",
    "    # as low as possible in exhaustive_search() function.\n",
    "    return -adjusted_r2_score(train_y, pred_y, model)\n",
    "\n",
    "# Create allVariables object with predcitors in train_X,\n",
    "# i.e., training data set, with 13 predictor columns \n",
    "allVariables = train_X.columns\n",
    "\n",
    "# The exhaustive_search() function consists of 3 arguments:\n",
    "# - allVariables - list of all variables in training data set,\n",
    "# - train_model() function that creates a model for a specific \n",
    "#    combination of variables,\n",
    "# - score_model() function that score the model performance using\n",
    "#     adjusted_r2.\n",
    "results = exhaustive_search(allVariables, train_model, score_model)\n",
    "\n",
    "# Create data[] loop process to identify and append the best model \n",
    "# for each combination of 1, 2, 3, ..., 13 variables with their \n",
    "# respective number of variables (n), adjusted R_squared (r2adj) and\n",
    "# AIC. \n",
    "data = []\n",
    "for result in results:\n",
    "    model = result['model']\n",
    "    variables = result['variables']\n",
    "    AIC = AIC_score(train_y, model.predict(train_X[variables]), model)\n",
    "    d = {'n': result['n'], 'r2adj': -result['score'], 'AIC': AIC}\n",
    "    d.update({var: var in result['variables'] for var in allVariables})\n",
    "    data.append(d)\n",
    "\n",
    "pd.set_option('display.width', 100)\n",
    "\n",
    "# Display the Exhaustive Search results.\n",
    "print(pd.DataFrame(data, columns=('n', 'r2adj', 'AIC') + tuple(sorted(allVariables))))\n",
    " \n",
    "pd.reset_option('display.width')"
   ]
  },
  {
   "cell_type": "code",
   "execution_count": 26,
   "id": "25838f33",
   "metadata": {},
   "outputs": [
    {
     "name": "stdout",
     "output_type": "stream",
     "text": [
      "Regression Model for Training Set Using Exhaustive Search\n",
      "\n",
      "Intercept  48.69\n",
      "       Predictor  Coefficient\n",
      "0     CHAR_RIV_Y         2.31\n",
      "1          CRIME        -0.15\n",
      "2   C_MVALUE_Yes        11.98\n",
      "3       DISTANCE        -0.69\n",
      "4         INDUST         0.13\n",
      "5       LOW_STAT        -0.48\n",
      "6      NIT_OXIDE       -18.30\n",
      "7         RADIAL         0.22\n",
      "8          ROOMS         0.29\n",
      "9       ST_RATIO        -0.62\n",
      "10           TAX        -0.01\n"
     ]
    }
   ],
   "source": [
    "# Identify predictors and outcome of the regression model. n = 10\n",
    "predictors_ex = ['CHAR_RIV_Y', 'CRIME', 'C_MVALUE_Yes', 'DISTANCE', 'INDUST', 'LOW_STAT', 'NIT_OXIDE', 'RADIAL', \n",
    "                 'ROOMS', 'ST_RATIO', 'TAX']\n",
    "outcome = 'MVALUE'\n",
    "\n",
    "# Identify X and y variables for regression and partition data\n",
    "# using 70% of records for training and 30% for validation \n",
    "# (test_size=0.3).\n",
    "X = boston_df[predictors_ex]\n",
    "y = boston_df[outcome]\n",
    "train_X_ex, valid_X_ex, train_y_ex, valid_y_ex = train_test_split(X, y, test_size=0.3, random_state=1)\n",
    "\n",
    "# Create multiple linear regression model using X and y.\n",
    "boston_ex = LinearRegression()\n",
    "boston_ex.fit(train_X_ex, train_y_ex)\n",
    "\n",
    "# Display intercept and regression coefficients. Round them\n",
    "# to 2 decimals.\n",
    "print('Regression Model for Training Set Using Exhaustive Search')\n",
    "print()\n",
    "print('Intercept ', np.round(boston_ex.intercept_, 2))\n",
    "print(pd.DataFrame({'Predictor': X.columns,\n",
    "            'Coefficient': np.round(boston_ex.coef_, 2)}))"
   ]
  },
  {
   "cell_type": "code",
   "execution_count": 27,
   "id": "59327765",
   "metadata": {},
   "outputs": [],
   "source": [
    "# MVALUE = 48.69 + (-0.15)CRIME + (0.13)INDUST + (-18.30)NIT_OXIDE + (0.29)ROOMS + (-0.69)DISTANCE + (0.22)RADIAL + (-0.01)TAX\n",
    "# + (-0.62)ST_RATIO + (-0.48)LOW_STAT + (2.31)CHAR_RIV_Y + (11.98)C_MVALUE_Yes"
   ]
  },
  {
   "cell_type": "code",
   "execution_count": 28,
   "id": "46313f06",
   "metadata": {},
   "outputs": [
    {
     "name": "stdout",
     "output_type": "stream",
     "text": [
      "Accuracy Measures for Validation Set - Exhaustive Search feature selection\n",
      "\n",
      "Regression statistics\n",
      "\n",
      "                      Mean Error (ME) : 0.3628\n",
      "       Root Mean Squared Error (RMSE) : 3.6801\n",
      "            Mean Absolute Error (MAE) : 2.7244\n",
      "          Mean Percentage Error (MPE) : -2.9382\n",
      "Mean Absolute Percentage Error (MAPE) : 13.8210\n"
     ]
    }
   ],
   "source": [
    "# predictions for validation set from exhaustive search \n",
    "boston_ex_pred = boston_ex.predict(valid_X_ex)\n",
    "\n",
    "# Display common accuracy measures for validation set.\n",
    "print('Accuracy Measures for Validation Set - Exhaustive Search feature selection')\n",
    "regressionSummary(valid_y_ex, boston_ex_pred)"
   ]
  },
  {
   "cell_type": "code",
   "execution_count": 29,
   "id": "2ff4b6d4",
   "metadata": {},
   "outputs": [],
   "source": [
    "# 3b. Use the Backward Elimination algorithm in Python exactly as discussed in 3a.  Provide the \n",
    "# same results in your report as discussed in 3a. Also, explain the differences (if any exists) \n",
    "# between the best predictors (number and specific predictors used) in the models in 3a \n",
    "# and 3b.   "
   ]
  },
  {
   "cell_type": "code",
   "execution_count": 30,
   "id": "445e30ab",
   "metadata": {},
   "outputs": [
    {
     "name": "stdout",
     "output_type": "stream",
     "text": [
      "Variables: CRIME, ZONE, INDUST, NIT_OXIDE, ROOMS, AGE, DISTANCE, RADIAL, TAX, ST_RATIO, LOW_STAT, CHAR_RIV_Y, C_MVALUE_Yes\n",
      "Start: score=1963.68\n",
      "Step: score=1962.03, remove AGE\n",
      "Step: score=1960.30, remove ZONE\n",
      "Step: score=1958.80, remove ROOMS\n",
      "Step: score=1958.80, remove None\n",
      "\n",
      "Best Variables from Backward Elimination Algorithm\n",
      "['CRIME', 'INDUST', 'NIT_OXIDE', 'DISTANCE', 'RADIAL', 'TAX', 'ST_RATIO', 'LOW_STAT', 'CHAR_RIV_Y', 'C_MVALUE_Yes']\n"
     ]
    }
   ],
   "source": [
    "# Define train_model() function used in Backward Elimination\n",
    "# algorithm with backward_elimination() function. \n",
    "def train_model(variables):\n",
    "    model = LinearRegression()\n",
    "    model.fit(train_X[variables], train_y)\n",
    "    return model\n",
    "\n",
    "# Define score_model() function used in Backward Elimination\n",
    "# algorithm with backward_elimination() function. \n",
    "def score_model(model, variables):\n",
    "    return AIC_score(train_y, model.predict(train_X[variables]), model)\n",
    "\n",
    "# Use backward_elimination() function to identify the\n",
    "# best_model and best_variables. \n",
    "best_model_be, best_variables_be = backward_elimination(train_X.columns, \n",
    "                        train_model, score_model, verbose=True)\n",
    " \n",
    "print()\n",
    "print('Best Variables from Backward Elimination Algorithm')\n",
    "print(best_variables_be)"
   ]
  },
  {
   "cell_type": "code",
   "execution_count": 31,
   "id": "c614daec",
   "metadata": {},
   "outputs": [
    {
     "name": "stdout",
     "output_type": "stream",
     "text": [
      "Regression Model for Training Set Using Backward Elimination\n",
      "\n",
      "Intercept  50.82\n",
      "      Predictor  Coefficient\n",
      "0         CRIME        -0.15\n",
      "1        INDUST         0.13\n",
      "2     NIT_OXIDE       -18.39\n",
      "3      DISTANCE        -0.69\n",
      "4        RADIAL         0.23\n",
      "5           TAX        -0.01\n",
      "6      ST_RATIO        -0.63\n",
      "7      LOW_STAT        -0.49\n",
      "8    CHAR_RIV_Y         2.34\n",
      "9  C_MVALUE_Yes        12.19\n"
     ]
    }
   ],
   "source": [
    "# Develop the multiple linear regression model based\n",
    "# on the Backward Elimination results.\n",
    "\n",
    "predictors_be = ['CRIME', 'INDUST', 'NIT_OXIDE', 'DISTANCE', 'RADIAL', 'TAX', 'ST_RATIO', 'LOW_STAT', \n",
    "                 'CHAR_RIV_Y', 'C_MVALUE_Yes']\n",
    "outcome = 'MVALUE'\n",
    "\n",
    "# Identify X and y variables for regression and partition data\n",
    "# using 70% of records for training and 30% for validation \n",
    "# (test_size=0.3). \n",
    "X = boston_df[predictors_be]\n",
    "y = boston_df[outcome]\n",
    "train_X_be, valid_X_be, train_y_be, valid_y_be = train_test_split(X, y, test_size=0.3, random_state=1)\n",
    "\n",
    "# Train Backwards Elimination Model\n",
    "boston_be = LinearRegression()\n",
    "boston_be.fit(train_X_be, train_y_be)\n",
    "\n",
    "# Display intercept and regression coefficients.\n",
    "print('Regression Model for Training Set Using Backward Elimination')\n",
    "print()\n",
    "print('Intercept ', np.round(boston_be.intercept_, 2))\n",
    "print(pd.DataFrame({'Predictor': X.columns,\n",
    "            'Coefficient': np.round(boston_be.coef_, 2)}))"
   ]
  },
  {
   "cell_type": "code",
   "execution_count": 32,
   "id": "dbb95d8c",
   "metadata": {},
   "outputs": [],
   "source": [
    "# MVALUE = 50.82 + (-0.15)CRIME + (0.13)INDUST + (-18.39)NIT_OXIDE + (-0.69)DISTANCE + (0.23)RADIAL + (-0.01)TAX\n",
    "# + (-0.63)ST_RATIO + (-0.49)LOW_STAT + (2.34)CHAR_RIV_Y + (12.19)C_MVALUE_Yes"
   ]
  },
  {
   "cell_type": "code",
   "execution_count": 33,
   "id": "135857d7",
   "metadata": {},
   "outputs": [
    {
     "name": "stdout",
     "output_type": "stream",
     "text": [
      "Accuracy Measures for Validation Set - Backward Elimination\n",
      "\n",
      "Regression statistics\n",
      "\n",
      "                      Mean Error (ME) : 0.3854\n",
      "       Root Mean Squared Error (RMSE) : 3.7318\n",
      "            Mean Absolute Error (MAE) : 2.7591\n",
      "          Mean Percentage Error (MPE) : -2.8698\n",
      "Mean Absolute Percentage Error (MAPE) : 13.9371\n"
     ]
    }
   ],
   "source": [
    "# predictions for validation set from exhaustive search \n",
    "boston_be_pred = boston_be.predict(valid_X_be)\n",
    "\n",
    "# Display common accuracy measures for validation set.\n",
    "print('Accuracy Measures for Validation Set - Backward Elimination')\n",
    "regressionSummary(valid_y_be, boston_be_pred)"
   ]
  },
  {
   "cell_type": "code",
   "execution_count": 34,
   "id": "e3d54790",
   "metadata": {},
   "outputs": [],
   "source": [
    "# 3c. Present and compare in your report the common accuracy measures for validation data \n",
    "# set of the three linear regression models:  with all predictors based on the Exhaustive \n",
    "# Search algorithm and based on Backward Elimination algorithm.  Using the value of RMSE \n",
    "# and the number of variables in each model, which model would you recommend using for \n",
    "# making predictions in this case? Briefly explain your answer.    "
   ]
  },
  {
   "cell_type": "code",
   "execution_count": 38,
   "id": "c070e335",
   "metadata": {},
   "outputs": [
    {
     "name": "stdout",
     "output_type": "stream",
     "text": [
      "Accuracy Measures for Validation Set - All Predictors\n",
      "\n",
      "Regression statistics\n",
      "\n",
      "                      Mean Error (ME) : 0.3667\n",
      "       Root Mean Squared Error (RMSE) : 3.6868\n",
      "            Mean Absolute Error (MAE) : 2.7428\n",
      "          Mean Percentage Error (MPE) : -2.9628\n",
      "Mean Absolute Percentage Error (MAPE) : 13.9356\n"
     ]
    }
   ],
   "source": [
    "# predictions for validation set.\n",
    "boston_lm_pred = boston_lm.predict(valid_X)\n",
    "\n",
    "# Display common accuracy measures for validation set.\n",
    "print('Accuracy Measures for Validation Set - All Predictors')\n",
    "regressionSummary(valid_y, boston_lm_pred)\n",
    "# has 13 predictors\n",
    "# Could be fitting noise even though error isnt much worse than Exhaustive search\n",
    "# Not simple enough"
   ]
  },
  {
   "cell_type": "code",
   "execution_count": 36,
   "id": "21532971",
   "metadata": {},
   "outputs": [
    {
     "name": "stdout",
     "output_type": "stream",
     "text": [
      "Accuracy Measures for Validation Set - Exhaustive Search feature selection\n",
      "\n",
      "Regression statistics\n",
      "\n",
      "                      Mean Error (ME) : 0.3628\n",
      "       Root Mean Squared Error (RMSE) : 3.6801\n",
      "            Mean Absolute Error (MAE) : 2.7244\n",
      "          Mean Percentage Error (MPE) : -2.9382\n",
      "Mean Absolute Percentage Error (MAPE) : 13.8210\n"
     ]
    }
   ],
   "source": [
    "# predictions for validation set from exhaustive search \n",
    "boston_ex_pred = boston_ex.predict(valid_X_ex)\n",
    "\n",
    "# Display common accuracy measures for validation set.\n",
    "print('Accuracy Measures for Validation Set - Exhaustive Search feature selection')\n",
    "regressionSummary(valid_y_ex, boston_ex_pred)\n",
    "# has 11 predictors \n",
    "# Best Model\n",
    "# Pros: least error, simple since less predictors\n",
    "# Cons: time taken to allocate best feature set"
   ]
  },
  {
   "cell_type": "code",
   "execution_count": 37,
   "id": "be6cbe8a",
   "metadata": {},
   "outputs": [
    {
     "name": "stdout",
     "output_type": "stream",
     "text": [
      "Accuracy Measures for Validation Set - Backward Elimination\n",
      "\n",
      "Regression statistics\n",
      "\n",
      "                      Mean Error (ME) : 0.3854\n",
      "       Root Mean Squared Error (RMSE) : 3.7318\n",
      "            Mean Absolute Error (MAE) : 2.7591\n",
      "          Mean Percentage Error (MPE) : -2.8698\n",
      "Mean Absolute Percentage Error (MAPE) : 13.9371\n"
     ]
    }
   ],
   "source": [
    "# predictions for validation set from backwards elimination \n",
    "boston_be_pred = boston_be.predict(valid_X_be)\n",
    "\n",
    "# Display common accuracy measures for validation set.\n",
    "print('Accuracy Measures for Validation Set - Backward Elimination')\n",
    "regressionSummary(valid_y_be, boston_be_pred)\n",
    "# has 10 predictors\n",
    "# RMSE is higher than Exhaustive and model trained with all predictors\n",
    "# Although simpliest model, error is not desired. "
   ]
  }
 ],
 "metadata": {
  "kernelspec": {
   "display_name": "Python 3 (ipykernel)",
   "language": "python",
   "name": "python3"
  },
  "language_info": {
   "codemirror_mode": {
    "name": "ipython",
    "version": 3
   },
   "file_extension": ".py",
   "mimetype": "text/x-python",
   "name": "python",
   "nbconvert_exporter": "python",
   "pygments_lexer": "ipython3",
   "version": "3.11.5"
  }
 },
 "nbformat": 4,
 "nbformat_minor": 5
}
