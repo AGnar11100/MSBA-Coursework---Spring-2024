{
 "cells": [
  {
   "cell_type": "code",
   "execution_count": 1,
   "id": "0ad68eff",
   "metadata": {},
   "outputs": [],
   "source": [
    "# !pip install mord"
   ]
  },
  {
   "cell_type": "code",
   "execution_count": 2,
   "id": "aeb4a7cf",
   "metadata": {},
   "outputs": [],
   "source": [
    "from pathlib import Path\n",
    "\n",
    "import numpy as np\n",
    "import pandas as pd\n",
    "\n",
    "from sklearn.linear_model import LogisticRegression\n",
    "from sklearn.model_selection import train_test_split\n",
    "from mord import LogisticIT\n",
    "\n",
    "import statsmodels.api as sm\n",
    "\n",
    "from dmba import classificationSummary, gainsChart, liftChart\n",
    "\n",
    "%matplotlib inline\n",
    "import matplotlib.pylab as plt"
   ]
  },
  {
   "cell_type": "markdown",
   "id": "f5260a41",
   "metadata": {},
   "source": [
    "1. Upload, explore, clean, and preprocess data."
   ]
  },
  {
   "cell_type": "markdown",
   "id": "ac42b67a",
   "metadata": {},
   "source": [
    "a. Why a logistic regression model may be used in this case? Why may you not apply a\n",
    "multiple linear regression model in this case? Provide brief answers to both questions."
   ]
  },
  {
   "cell_type": "markdown",
   "id": "136aebaf",
   "metadata": {},
   "source": [
    "A logistic regression model may be used in this study since the outcome that we want to predict can be represented as a binary variable where FL_STATUS = 0 would be a flight that was delayed and FL_STATUS = 1 would be a flight that was on time. Logistic regression is specifically designed for binary classification tasks of Nominal categorical variable and estimates the probability of the binary outcome using the logit function.\n",
    "\n",
    "Conversely, multiple linear regression is not appropriate for this case study. It predicts continuous numerical values that can fall outside the [0,1] range, making it unsuitable for binary classification tasks like predicting flight status."
   ]
  },
  {
   "cell_type": "markdown",
   "id": "dbfbed20",
   "metadata": {},
   "source": [
    "b. Create a flight_df data frame by uploading the original data set into Python. Remove\n",
    "‘DEST’ and ‘ORIGIN’ variables from the flight_df data frame. Convert ‘CARRIER’ and\n",
    "‘FL_STATUS’ into binary variables. This portion of part 1 will not be graded."
   ]
  },
  {
   "cell_type": "code",
   "execution_count": 3,
   "id": "dad27b45",
   "metadata": {},
   "outputs": [],
   "source": [
    "try:\n",
    "    flight_df = pd.read_csv('FlightDelays.csv')\n",
    "except:\n",
    "    print(\"FlightDelays.csv is not in the present working directory\")"
   ]
  },
  {
   "cell_type": "code",
   "execution_count": 4,
   "id": "bbeb8c9e",
   "metadata": {},
   "outputs": [],
   "source": [
    "# Remove ‘DEST’ and ‘ORIGIN’ variables from the flight_df data frame.\n",
    "flight_df = flight_df.drop(['DEST', 'ORIGIN'], axis=1)"
   ]
  },
  {
   "cell_type": "code",
   "execution_count": 5,
   "id": "0b211d7d",
   "metadata": {},
   "outputs": [],
   "source": [
    "# Convert ‘CARRIER’ and ‘FL_STATUS’ into category.\n",
    "flight_df.CARRIER = flight_df.CARRIER.astype('category')\n",
    "flight_df.FL_STATUS = flight_df.FL_STATUS.astype('category')"
   ]
  },
  {
   "cell_type": "code",
   "execution_count": 6,
   "id": "ad19fb3b",
   "metadata": {},
   "outputs": [],
   "source": [
    "# Convert ‘CARRIER’ and ‘FL_STATUS’ into binary variables.\n",
    "flight_df = pd.get_dummies(flight_df, columns=['CARRIER', 'FL_STATUS'], prefix_sep='_', drop_first=True)"
   ]
  },
  {
   "cell_type": "code",
   "execution_count": 7,
   "id": "a5d0cd3b",
   "metadata": {},
   "outputs": [
    {
     "data": {
      "text/html": [
       "<div>\n",
       "<style scoped>\n",
       "    .dataframe tbody tr th:only-of-type {\n",
       "        vertical-align: middle;\n",
       "    }\n",
       "\n",
       "    .dataframe tbody tr th {\n",
       "        vertical-align: top;\n",
       "    }\n",
       "\n",
       "    .dataframe thead th {\n",
       "        text-align: right;\n",
       "    }\n",
       "</style>\n",
       "<table border=\"1\" class=\"dataframe\">\n",
       "  <thead>\n",
       "    <tr style=\"text-align: right;\">\n",
       "      <th></th>\n",
       "      <th>SCH_TIME</th>\n",
       "      <th>DEP_TIME</th>\n",
       "      <th>DISTANCE</th>\n",
       "      <th>FL_NUM</th>\n",
       "      <th>WEATHER</th>\n",
       "      <th>WK_DAY</th>\n",
       "      <th>MTH_DAY</th>\n",
       "      <th>CARRIER_DH</th>\n",
       "      <th>CARRIER_DL</th>\n",
       "      <th>CARRIER_MQ</th>\n",
       "      <th>CARRIER_OH</th>\n",
       "      <th>CARRIER_RU</th>\n",
       "      <th>CARRIER_UA</th>\n",
       "      <th>CARRIER_US</th>\n",
       "      <th>FL_STATUS_ontime</th>\n",
       "    </tr>\n",
       "  </thead>\n",
       "  <tbody>\n",
       "    <tr>\n",
       "      <th>0</th>\n",
       "      <td>1455</td>\n",
       "      <td>1455</td>\n",
       "      <td>184</td>\n",
       "      <td>5935</td>\n",
       "      <td>0</td>\n",
       "      <td>4</td>\n",
       "      <td>1</td>\n",
       "      <td>0</td>\n",
       "      <td>0</td>\n",
       "      <td>0</td>\n",
       "      <td>1</td>\n",
       "      <td>0</td>\n",
       "      <td>0</td>\n",
       "      <td>0</td>\n",
       "      <td>1</td>\n",
       "    </tr>\n",
       "    <tr>\n",
       "      <th>1</th>\n",
       "      <td>1640</td>\n",
       "      <td>1640</td>\n",
       "      <td>213</td>\n",
       "      <td>6155</td>\n",
       "      <td>0</td>\n",
       "      <td>4</td>\n",
       "      <td>1</td>\n",
       "      <td>1</td>\n",
       "      <td>0</td>\n",
       "      <td>0</td>\n",
       "      <td>0</td>\n",
       "      <td>0</td>\n",
       "      <td>0</td>\n",
       "      <td>0</td>\n",
       "      <td>1</td>\n",
       "    </tr>\n",
       "    <tr>\n",
       "      <th>2</th>\n",
       "      <td>1245</td>\n",
       "      <td>1245</td>\n",
       "      <td>229</td>\n",
       "      <td>7208</td>\n",
       "      <td>0</td>\n",
       "      <td>4</td>\n",
       "      <td>1</td>\n",
       "      <td>1</td>\n",
       "      <td>0</td>\n",
       "      <td>0</td>\n",
       "      <td>0</td>\n",
       "      <td>0</td>\n",
       "      <td>0</td>\n",
       "      <td>0</td>\n",
       "      <td>1</td>\n",
       "    </tr>\n",
       "    <tr>\n",
       "      <th>3</th>\n",
       "      <td>1715</td>\n",
       "      <td>1709</td>\n",
       "      <td>229</td>\n",
       "      <td>7215</td>\n",
       "      <td>0</td>\n",
       "      <td>4</td>\n",
       "      <td>1</td>\n",
       "      <td>1</td>\n",
       "      <td>0</td>\n",
       "      <td>0</td>\n",
       "      <td>0</td>\n",
       "      <td>0</td>\n",
       "      <td>0</td>\n",
       "      <td>0</td>\n",
       "      <td>1</td>\n",
       "    </tr>\n",
       "    <tr>\n",
       "      <th>4</th>\n",
       "      <td>1039</td>\n",
       "      <td>1035</td>\n",
       "      <td>229</td>\n",
       "      <td>7792</td>\n",
       "      <td>0</td>\n",
       "      <td>4</td>\n",
       "      <td>1</td>\n",
       "      <td>1</td>\n",
       "      <td>0</td>\n",
       "      <td>0</td>\n",
       "      <td>0</td>\n",
       "      <td>0</td>\n",
       "      <td>0</td>\n",
       "      <td>0</td>\n",
       "      <td>1</td>\n",
       "    </tr>\n",
       "  </tbody>\n",
       "</table>\n",
       "</div>"
      ],
      "text/plain": [
       "   SCH_TIME  DEP_TIME  DISTANCE  FL_NUM  WEATHER  WK_DAY  MTH_DAY  CARRIER_DH  \\\n",
       "0      1455      1455       184    5935        0       4        1           0   \n",
       "1      1640      1640       213    6155        0       4        1           1   \n",
       "2      1245      1245       229    7208        0       4        1           1   \n",
       "3      1715      1709       229    7215        0       4        1           1   \n",
       "4      1039      1035       229    7792        0       4        1           1   \n",
       "\n",
       "   CARRIER_DL  CARRIER_MQ  CARRIER_OH  CARRIER_RU  CARRIER_UA  CARRIER_US  \\\n",
       "0           0           0           1           0           0           0   \n",
       "1           0           0           0           0           0           0   \n",
       "2           0           0           0           0           0           0   \n",
       "3           0           0           0           0           0           0   \n",
       "4           0           0           0           0           0           0   \n",
       "\n",
       "   FL_STATUS_ontime  \n",
       "0                 1  \n",
       "1                 1  \n",
       "2                 1  \n",
       "3                 1  \n",
       "4                 1  "
      ]
     },
     "execution_count": 7,
     "metadata": {},
     "output_type": "execute_result"
    }
   ],
   "source": [
    "flight_df.head()"
   ]
  },
  {
   "cell_type": "markdown",
   "id": "cd4b4204",
   "metadata": {},
   "source": [
    "c. Why does the output variable ‘FL_STATUS’ need to be converted into binary variables for\n",
    "logistic regression? Briefly explain."
   ]
  },
  {
   "cell_type": "markdown",
   "id": "88681592",
   "metadata": {},
   "source": [
    "In logistic regression, the output variable 'FL_STATUS' needs to be converted into a binary variable to align with the model's design for binary classification tasks and does not understand what to do with variables represented as strings. Logistic regression estimates the probability that an instance belongs to one of two classes. By representing 'FL_STATUS' as binary where FL_STATUS=0 indicates a delayed flight and FL_STATUS=1 indicates an on-time flight, the model can effectively predict the probability of a flight status based on the predictor variables."
   ]
  },
  {
   "cell_type": "markdown",
   "id": "29d26b5a",
   "metadata": {},
   "source": [
    "2. Develop a logistic regression model for the Flight Delays case."
   ]
  },
  {
   "cell_type": "markdown",
   "id": "263e6209",
   "metadata": {},
   "source": [
    "a. Develop in Python the predictor variables (14 variables) and outcome variable\n",
    "(‘FL_STATUS’) and partition the data set (70% for training and 30% for validation\n",
    "partitions). Train a logistic regression model using LogisticRegression() with the training\n",
    "data set and display in Python the model’s parameters (intercept and regression\n",
    "coefficients). Provide these parameters in your report and also present the mathematical\n",
    "equation of the trained logistic regression model."
   ]
  },
  {
   "cell_type": "code",
   "execution_count": 8,
   "id": "ced375b6",
   "metadata": {},
   "outputs": [],
   "source": [
    "predictors = ['SCH_TIME', 'DEP_TIME', 'DISTANCE', 'FL_NUM', 'WEATHER', 'WK_DAY',\n",
    "              'MTH_DAY', 'CARRIER_DH', 'CARRIER_DL', 'CARRIER_MQ', 'CARRIER_OH',\n",
    "               'CARRIER_RU', 'CARRIER_UA', 'CARRIER_US']\n",
    "target = 'FL_STATUS_ontime'\n",
    "\n",
    "X = flight_df[predictors]\n",
    "y = flight_df[target]\n",
    "\n",
    "train_X, valid_X, train_y, valid_y = train_test_split(X, y, test_size=0.3, random_state=1)"
   ]
  },
  {
   "cell_type": "code",
   "execution_count": 9,
   "id": "f057e686",
   "metadata": {},
   "outputs": [
    {
     "data": {
      "text/html": [
       "<style>#sk-container-id-1 {color: black;}#sk-container-id-1 pre{padding: 0;}#sk-container-id-1 div.sk-toggleable {background-color: white;}#sk-container-id-1 label.sk-toggleable__label {cursor: pointer;display: block;width: 100%;margin-bottom: 0;padding: 0.3em;box-sizing: border-box;text-align: center;}#sk-container-id-1 label.sk-toggleable__label-arrow:before {content: \"▸\";float: left;margin-right: 0.25em;color: #696969;}#sk-container-id-1 label.sk-toggleable__label-arrow:hover:before {color: black;}#sk-container-id-1 div.sk-estimator:hover label.sk-toggleable__label-arrow:before {color: black;}#sk-container-id-1 div.sk-toggleable__content {max-height: 0;max-width: 0;overflow: hidden;text-align: left;background-color: #f0f8ff;}#sk-container-id-1 div.sk-toggleable__content pre {margin: 0.2em;color: black;border-radius: 0.25em;background-color: #f0f8ff;}#sk-container-id-1 input.sk-toggleable__control:checked~div.sk-toggleable__content {max-height: 200px;max-width: 100%;overflow: auto;}#sk-container-id-1 input.sk-toggleable__control:checked~label.sk-toggleable__label-arrow:before {content: \"▾\";}#sk-container-id-1 div.sk-estimator input.sk-toggleable__control:checked~label.sk-toggleable__label {background-color: #d4ebff;}#sk-container-id-1 div.sk-label input.sk-toggleable__control:checked~label.sk-toggleable__label {background-color: #d4ebff;}#sk-container-id-1 input.sk-hidden--visually {border: 0;clip: rect(1px 1px 1px 1px);clip: rect(1px, 1px, 1px, 1px);height: 1px;margin: -1px;overflow: hidden;padding: 0;position: absolute;width: 1px;}#sk-container-id-1 div.sk-estimator {font-family: monospace;background-color: #f0f8ff;border: 1px dotted black;border-radius: 0.25em;box-sizing: border-box;margin-bottom: 0.5em;}#sk-container-id-1 div.sk-estimator:hover {background-color: #d4ebff;}#sk-container-id-1 div.sk-parallel-item::after {content: \"\";width: 100%;border-bottom: 1px solid gray;flex-grow: 1;}#sk-container-id-1 div.sk-label:hover label.sk-toggleable__label {background-color: #d4ebff;}#sk-container-id-1 div.sk-serial::before {content: \"\";position: absolute;border-left: 1px solid gray;box-sizing: border-box;top: 0;bottom: 0;left: 50%;z-index: 0;}#sk-container-id-1 div.sk-serial {display: flex;flex-direction: column;align-items: center;background-color: white;padding-right: 0.2em;padding-left: 0.2em;position: relative;}#sk-container-id-1 div.sk-item {position: relative;z-index: 1;}#sk-container-id-1 div.sk-parallel {display: flex;align-items: stretch;justify-content: center;background-color: white;position: relative;}#sk-container-id-1 div.sk-item::before, #sk-container-id-1 div.sk-parallel-item::before {content: \"\";position: absolute;border-left: 1px solid gray;box-sizing: border-box;top: 0;bottom: 0;left: 50%;z-index: -1;}#sk-container-id-1 div.sk-parallel-item {display: flex;flex-direction: column;z-index: 1;position: relative;background-color: white;}#sk-container-id-1 div.sk-parallel-item:first-child::after {align-self: flex-end;width: 50%;}#sk-container-id-1 div.sk-parallel-item:last-child::after {align-self: flex-start;width: 50%;}#sk-container-id-1 div.sk-parallel-item:only-child::after {width: 0;}#sk-container-id-1 div.sk-dashed-wrapped {border: 1px dashed gray;margin: 0 0.4em 0.5em 0.4em;box-sizing: border-box;padding-bottom: 0.4em;background-color: white;}#sk-container-id-1 div.sk-label label {font-family: monospace;font-weight: bold;display: inline-block;line-height: 1.2em;}#sk-container-id-1 div.sk-label-container {text-align: center;}#sk-container-id-1 div.sk-container {/* jupyter's `normalize.less` sets `[hidden] { display: none; }` but bootstrap.min.css set `[hidden] { display: none !important; }` so we also need the `!important` here to be able to override the default hidden behavior on the sphinx rendered scikit-learn.org. See: https://github.com/scikit-learn/scikit-learn/issues/21755 */display: inline-block !important;position: relative;}#sk-container-id-1 div.sk-text-repr-fallback {display: none;}</style><div id=\"sk-container-id-1\" class=\"sk-top-container\"><div class=\"sk-text-repr-fallback\"><pre>LogisticRegression(C=1e+42, solver=&#x27;liblinear&#x27;)</pre><b>In a Jupyter environment, please rerun this cell to show the HTML representation or trust the notebook. <br />On GitHub, the HTML representation is unable to render, please try loading this page with nbviewer.org.</b></div><div class=\"sk-container\" hidden><div class=\"sk-item\"><div class=\"sk-estimator sk-toggleable\"><input class=\"sk-toggleable__control sk-hidden--visually\" id=\"sk-estimator-id-1\" type=\"checkbox\" checked><label for=\"sk-estimator-id-1\" class=\"sk-toggleable__label sk-toggleable__label-arrow\">LogisticRegression</label><div class=\"sk-toggleable__content\"><pre>LogisticRegression(C=1e+42, solver=&#x27;liblinear&#x27;)</pre></div></div></div></div></div>"
      ],
      "text/plain": [
       "LogisticRegression(C=1e+42, solver='liblinear')"
      ]
     },
     "execution_count": 9,
     "metadata": {},
     "output_type": "execute_result"
    }
   ],
   "source": [
    "# train LogisticRegression model\n",
    "lr = LogisticRegression(penalty='l2', C=1e42, solver='liblinear')\n",
    "lr.fit(train_X, train_y)"
   ]
  },
  {
   "cell_type": "code",
   "execution_count": 10,
   "id": "0376d63e",
   "metadata": {},
   "outputs": [
    {
     "name": "stdout",
     "output_type": "stream",
     "text": [
      "Parameters of Multiple Predictors (14) Logistic Regression Model\n",
      "Intercept: 0.115\n",
      "              SCH_TIME  DEP_TIME  DISTANCE  FL_NUM  WEATHER  WK_DAY  MTH_DAY  \\\n",
      "Coefficient:     0.025    -0.026     0.009     0.0   -0.753   0.069   -0.022   \n",
      "\n",
      "              CARRIER_DH  CARRIER_DL  CARRIER_MQ  CARRIER_OH  CARRIER_RU  \\\n",
      "Coefficient:       0.059         0.9      -1.004        0.37       0.031   \n",
      "\n",
      "              CARRIER_UA  CARRIER_US  \n",
      "Coefficient:       0.054       0.154  \n"
     ]
    }
   ],
   "source": [
    "print('Parameters of Multiple Predictors (14) Logistic Regression Model')\n",
    "print('Intercept:', np.round(lr.intercept_[0], decimals=3))\n",
    "print(pd.DataFrame({'Coefficient:': np.round(lr.coef_[0], decimals=3)}, \n",
    "                   index=X.columns).transpose())"
   ]
  },
  {
   "cell_type": "markdown",
   "id": "63d0a1b4",
   "metadata": {},
   "source": [
    "Put in report: logit(p)= 0.115 + 0.025(SCH_TIME) − 0.026(DEP_TIME) + 0.009(DISTANCE) + 0(FL_NUM) − 0.753(WEATHER) + 0.069(WK_DAY) − 0.022(MTH_DAY) + 0.059(CARRIER_DH) + 0.9(CARRIER_DL) − 1.004(CARRIER_MQ) + 0.37(CARRIER_OH) + 0.031(CARRIER_RU) + 0.054(CARRIER_UA) + 0.154(CARRIER_US)"
   ]
  },
  {
   "cell_type": "markdown",
   "id": "9d43ecc2",
   "metadata": {},
   "source": [
    "b. In Python, make predictions and identify probabilities p(0) and p(1) for the validation data\n",
    "set. For the first 20 records in the validation data set, display a table that contains the\n",
    "actual and predicted flight arrivalstatus, and probabilities p(0) and p(1). Present this table\n",
    "in your report, and comment on the predicted vs. actual flight arrival status."
   ]
  },
  {
   "cell_type": "code",
   "execution_count": 11,
   "id": "d5acbb9b",
   "metadata": {},
   "outputs": [],
   "source": [
    "# make predictors and identify probabilities p(0) and p(1) for the validation data set\n",
    "log_pred_single = lr.predict(valid_X)"
   ]
  },
  {
   "cell_type": "code",
   "execution_count": 12,
   "id": "8fa7ca58",
   "metadata": {},
   "outputs": [
    {
     "name": "stdout",
     "output_type": "stream",
     "text": [
      "Classification for Validation Partition\n",
      "      Actual  Classification    p(0)    p(1)\n",
      "1276       1               1  0.1506  0.8494\n",
      "1446       1               1  0.0730  0.9270\n",
      "335        1               1  0.1008  0.8992\n",
      "1458       1               1  0.1206  0.8794\n",
      "2038       1               1  0.0986  0.9014\n",
      "1314       1               1  0.0811  0.9189\n",
      "389        1               1  0.1300  0.8700\n",
      "1639       1               1  0.1623  0.8377\n",
      "2004       1               1  0.0967  0.9033\n",
      "403        1               1  0.2379  0.7621\n",
      "979        1               1  0.0615  0.9385\n",
      "65         1               1  0.0743  0.9257\n",
      "2105       1               1  0.1841  0.8159\n",
      "1162       1               1  0.1365  0.8635\n",
      "572        1               1  0.2444  0.7556\n",
      "1026       0               1  0.0620  0.9380\n",
      "1044       1               1  0.4702  0.5298\n",
      "1846       0               1  0.4088  0.5912\n",
      "1005       1               1  0.1422  0.8578\n",
      "1677       1               1  0.0814  0.9186\n"
     ]
    }
   ],
   "source": [
    "# For the first 20 records in the validation data set, display a table that contains the actual and predicted \n",
    "# flight arrivalstatus, and probabilities p(0) and p(1)\n",
    "log_prob_single = np.round(lr.predict_proba(valid_X), \n",
    "                           decimals=4)\n",
    "\n",
    "# Create data frame to display simple logistic regression\n",
    "# resuts for validation set. \n",
    "log_result_single = pd.DataFrame({'Actual': valid_y, \n",
    "                        'Classification': log_pred_single,     \n",
    "                        'p(0)': [p[0] for p in log_prob_single],\n",
    "                        'p(1)': [p[1] for p in log_prob_single],\n",
    "                        })\n",
    "print('Classification for Validation Partition')\n",
    "print(log_result_single.head(20))"
   ]
  },
  {
   "cell_type": "markdown",
   "id": "4a6265d7",
   "metadata": {},
   "source": [
    "Comment on the predicted vs. actual flight arrival status: Overall, the Logistic Regression model does well at predicting records with FL_STATUS = 1 (on time) but produces two false positives for FL_STATUS = 0 (delayed) by wrongly labeling the records as on time. It seems that the positive class (1) is more dominant than the negative class (0) in this validation partition. This imbalance is likely affecting the model's performance. "
   ]
  },
  {
   "cell_type": "markdown",
   "id": "13f1d9ca",
   "metadata": {},
   "source": [
    "c. Identify and display in Python confusion matrices for the training and validation\n",
    "partitions. Present them in your report and comment on accuracy (misclassification) rate\n",
    "for both partitions and explain if there is a possibility of overfitting."
   ]
  },
  {
   "cell_type": "code",
   "execution_count": 13,
   "id": "52c763a9",
   "metadata": {},
   "outputs": [
    {
     "name": "stdout",
     "output_type": "stream",
     "text": [
      "Training Partition\n",
      "Confusion Matrix (Accuracy 0.8968)\n",
      "\n",
      "       Prediction\n",
      "Actual    0    1\n",
      "     0  151  153\n",
      "     1    6 1230\n",
      "\n",
      "Validation Partition\n",
      "Confusion Matrix (Accuracy 0.8971)\n",
      "\n",
      "       Prediction\n",
      "Actual   0   1\n",
      "     0  58  66\n",
      "     1   2 535\n"
     ]
    }
   ],
   "source": [
    "# Identify  and display confusion matrix for training partition. \n",
    "print('Training Partition')\n",
    "classificationSummary(train_y, lr.predict(train_X))\n",
    "\n",
    "# Identify and display confusion matrix for validation partition. \n",
    "print()\n",
    "print('Validation Partition')\n",
    "classificationSummary(valid_y, lr.predict(valid_X))"
   ]
  },
  {
   "cell_type": "markdown",
   "id": "074360f1",
   "metadata": {},
   "source": [
    "Explanation: The Logistic regression model with 14 predictors does well at obtaining an accuracy of 0.8968 on the training partition and 0.8971 on the validation partition. Being that the margin between these two accuracies is very minimal, we can conclude that there are no significant signs of overfitting on the training partition. "
   ]
  },
  {
   "cell_type": "markdown",
   "id": "9ad34b7c",
   "metadata": {},
   "source": [
    "d. Create and display in Python the Lift chart only for ‘delayed’ flight status. For that, use\n",
    "p(0) for .sort_values() and p(0) in liftChart(). Also, use ncols=1 in plt.subplots() for a single\n",
    "plot, and remove ax=axes[1] from liftChart(). Present this Lift chart in your report and\n",
    "briefly explain what the chart demonstrates and what conclusion(s) can be made."
   ]
  },
  {
   "cell_type": "code",
   "execution_count": 14,
   "id": "99623e1a",
   "metadata": {},
   "outputs": [
    {
     "data": {
      "image/png": "[encoded data removed]",
      "text/plain": [
       "<Figure size 1000x400 with 1 Axes>"
      ]
     },
     "metadata": {},
     "output_type": "display_data"
    }
   ],
   "source": [
    "df = log_result_single.sort_values(by=['p(0)'], ascending=False)\n",
    "\n",
    "fig, axes = plt.subplots(nrows=1, ncols=1, figsize=(10, 4))\n",
    "liftChart(df['p(0)'], title=False)\n",
    " \n",
    "plt.tight_layout()\n",
    "plt.show()"
   ]
  },
  {
   "cell_type": "markdown",
   "id": "78123b0b",
   "metadata": {},
   "source": [
    "Briefly explain what the chart demonstrates and what conclusion(s) can be made: A decile lift chart shows how much better a logistic model is compared to random assignments. In the decile lift chart for delayed flight status we can see that the lift chart suggests that the model performs exceptionally well in the top 10% of the flights, with a lift value of 3.7, meaning it is 3.7 times better at identifying delayed flights compared to random selection. However, the model's performance deteriorates as we move down the deciles, becoming worse than random selection from the 7th decile onward. Performing worse than random selection past the 7th decile suggests that the predictive model needs further refinement and optimization to improve its effectiveness in identifying delayed flights. "
   ]
  },
  {
   "cell_type": "markdown",
   "id": "c5192c85",
   "metadata": {},
   "source": [
    "3. Compare results of logistic regression model vs. classification tree model for the same data set."
   ]
  },
  {
   "cell_type": "markdown",
   "id": "4522a8ec",
   "metadata": {},
   "source": [
    "a. Present and compare in your report the validation confusion matrix for the logistic\n",
    "regression model in 2c of this case versus the validation confusion matrix using the\n",
    "GridSearchCV() algorithm for the classification tree in the previous case study. Using the\n",
    "accuracy value (misclassification rate), which model would you recommend applying for\n",
    "classification (prediction) of flight arrival status? Briefly explain your answer."
   ]
  },
  {
   "cell_type": "markdown",
   "id": "88f15cb7",
   "metadata": {},
   "source": [
    "Explanation: Since the accuracy between the logistic regression model and the optimize classification model on the validation partition produces a small difference, we can say that either of these models would be good for predicting flight status. There is one trade-off to compare in this case and that is interpretability. If we want to have a model that can be explained through coefficients then using the logistic regression model would be preferred. The logistic regression model also does better at .. (finished in report) "
   ]
  },
  {
   "cell_type": "markdown",
   "id": "ba7fa025",
   "metadata": {},
   "source": [
    "4. Extra Credit (Optional)."
   ]
  },
  {
   "cell_type": "markdown",
   "id": "2a5ed026",
   "metadata": {},
   "source": [
    "a. For the logistic regression in 2a, consider using the Backward Elimination algorithm to\n",
    "reduce the number of predictors. In the train_model() function, consider model =\n",
    "LogisticRegression(max_iter=500). Develop a logistic regression model based on the best\n",
    "predictor variables from Backward Elimination and present the intercept and regression\n",
    "coefficients (apply .coef_[0] )in your report. What specific predictors were removed from\n",
    "this model?"
   ]
  },
  {
   "cell_type": "code",
   "execution_count": 15,
   "id": "93ae9a21",
   "metadata": {},
   "outputs": [
    {
     "name": "stdout",
     "output_type": "stream",
     "text": [
      "Variables: SCH_TIME, DEP_TIME, DISTANCE, FL_NUM, WEATHER, WK_DAY, MTH_DAY, CARRIER_DH, CARRIER_DL, CARRIER_MQ, CARRIER_OH, CARRIER_RU, CARRIER_UA, CARRIER_US\n",
      "Start: score=936.60\n",
      "Step: score=850.22, remove FL_NUM\n",
      "Step: score=850.22, remove None\n",
      "\n",
      "Best Variables from Backward Elimination Algorithm\n",
      "['SCH_TIME', 'DEP_TIME', 'DISTANCE', 'WEATHER', 'WK_DAY', 'MTH_DAY', 'CARRIER_DH', 'CARRIER_DL', 'CARRIER_MQ', 'CARRIER_OH', 'CARRIER_RU', 'CARRIER_UA', 'CARRIER_US']\n"
     ]
    }
   ],
   "source": [
    "from dmba import backward_elimination\n",
    "from dmba import adjusted_r2_score, AIC_score, BIC_score\n",
    "\n",
    "def train_model(variables):\n",
    "    model = LogisticRegression(max_iter=550)\n",
    "    model.fit(train_X[variables], train_y)\n",
    "    return model\n",
    "\n",
    "# Define score_model() function used in Backward Elimination\n",
    "# algorithm with backward_elimination() function. \n",
    "def score_model(model, variables):\n",
    "    return AIC_score(train_y, model.predict(train_X[variables]), model)\n",
    "\n",
    "# Use backward_elimination() function to identify the\n",
    "# best_model and best_variables. \n",
    "best_model_be, best_variables_be = backward_elimination(train_X.columns, \n",
    "                        train_model, score_model, verbose=True)\n",
    "\n",
    "# Display best variables based on Backward Elimination algorithm. \n",
    "print()\n",
    "print('Best Variables from Backward Elimination Algorithm')\n",
    "print(best_variables_be)"
   ]
  },
  {
   "cell_type": "code",
   "execution_count": 16,
   "id": "fd1b844a",
   "metadata": {},
   "outputs": [],
   "source": [
    "predictors = ['SCH_TIME', 'DEP_TIME', 'DISTANCE', 'WEATHER', 'WK_DAY', 'MTH_DAY', \n",
    "              'CARRIER_DH', 'CARRIER_DL', 'CARRIER_MQ', 'CARRIER_OH', 'CARRIER_RU', \n",
    "              'CARRIER_UA', 'CARRIER_US']\n",
    "\n",
    "target = 'FL_STATUS_ontime'\n",
    "\n",
    "X = flight_df[predictors]\n",
    "y = flight_df[target]\n",
    "\n",
    "train_X, valid_X, train_y, valid_y = train_test_split(X, y, test_size=0.3, random_state=1)"
   ]
  },
  {
   "cell_type": "code",
   "execution_count": 17,
   "id": "2fb16e64",
   "metadata": {},
   "outputs": [
    {
     "data": {
      "text/html": [
       "<style>#sk-container-id-2 {color: black;}#sk-container-id-2 pre{padding: 0;}#sk-container-id-2 div.sk-toggleable {background-color: white;}#sk-container-id-2 label.sk-toggleable__label {cursor: pointer;display: block;width: 100%;margin-bottom: 0;padding: 0.3em;box-sizing: border-box;text-align: center;}#sk-container-id-2 label.sk-toggleable__label-arrow:before {content: \"▸\";float: left;margin-right: 0.25em;color: #696969;}#sk-container-id-2 label.sk-toggleable__label-arrow:hover:before {color: black;}#sk-container-id-2 div.sk-estimator:hover label.sk-toggleable__label-arrow:before {color: black;}#sk-container-id-2 div.sk-toggleable__content {max-height: 0;max-width: 0;overflow: hidden;text-align: left;background-color: #f0f8ff;}#sk-container-id-2 div.sk-toggleable__content pre {margin: 0.2em;color: black;border-radius: 0.25em;background-color: #f0f8ff;}#sk-container-id-2 input.sk-toggleable__control:checked~div.sk-toggleable__content {max-height: 200px;max-width: 100%;overflow: auto;}#sk-container-id-2 input.sk-toggleable__control:checked~label.sk-toggleable__label-arrow:before {content: \"▾\";}#sk-container-id-2 div.sk-estimator input.sk-toggleable__control:checked~label.sk-toggleable__label {background-color: #d4ebff;}#sk-container-id-2 div.sk-label input.sk-toggleable__control:checked~label.sk-toggleable__label {background-color: #d4ebff;}#sk-container-id-2 input.sk-hidden--visually {border: 0;clip: rect(1px 1px 1px 1px);clip: rect(1px, 1px, 1px, 1px);height: 1px;margin: -1px;overflow: hidden;padding: 0;position: absolute;width: 1px;}#sk-container-id-2 div.sk-estimator {font-family: monospace;background-color: #f0f8ff;border: 1px dotted black;border-radius: 0.25em;box-sizing: border-box;margin-bottom: 0.5em;}#sk-container-id-2 div.sk-estimator:hover {background-color: #d4ebff;}#sk-container-id-2 div.sk-parallel-item::after {content: \"\";width: 100%;border-bottom: 1px solid gray;flex-grow: 1;}#sk-container-id-2 div.sk-label:hover label.sk-toggleable__label {background-color: #d4ebff;}#sk-container-id-2 div.sk-serial::before {content: \"\";position: absolute;border-left: 1px solid gray;box-sizing: border-box;top: 0;bottom: 0;left: 50%;z-index: 0;}#sk-container-id-2 div.sk-serial {display: flex;flex-direction: column;align-items: center;background-color: white;padding-right: 0.2em;padding-left: 0.2em;position: relative;}#sk-container-id-2 div.sk-item {position: relative;z-index: 1;}#sk-container-id-2 div.sk-parallel {display: flex;align-items: stretch;justify-content: center;background-color: white;position: relative;}#sk-container-id-2 div.sk-item::before, #sk-container-id-2 div.sk-parallel-item::before {content: \"\";position: absolute;border-left: 1px solid gray;box-sizing: border-box;top: 0;bottom: 0;left: 50%;z-index: -1;}#sk-container-id-2 div.sk-parallel-item {display: flex;flex-direction: column;z-index: 1;position: relative;background-color: white;}#sk-container-id-2 div.sk-parallel-item:first-child::after {align-self: flex-end;width: 50%;}#sk-container-id-2 div.sk-parallel-item:last-child::after {align-self: flex-start;width: 50%;}#sk-container-id-2 div.sk-parallel-item:only-child::after {width: 0;}#sk-container-id-2 div.sk-dashed-wrapped {border: 1px dashed gray;margin: 0 0.4em 0.5em 0.4em;box-sizing: border-box;padding-bottom: 0.4em;background-color: white;}#sk-container-id-2 div.sk-label label {font-family: monospace;font-weight: bold;display: inline-block;line-height: 1.2em;}#sk-container-id-2 div.sk-label-container {text-align: center;}#sk-container-id-2 div.sk-container {/* jupyter's `normalize.less` sets `[hidden] { display: none; }` but bootstrap.min.css set `[hidden] { display: none !important; }` so we also need the `!important` here to be able to override the default hidden behavior on the sphinx rendered scikit-learn.org. See: https://github.com/scikit-learn/scikit-learn/issues/21755 */display: inline-block !important;position: relative;}#sk-container-id-2 div.sk-text-repr-fallback {display: none;}</style><div id=\"sk-container-id-2\" class=\"sk-top-container\"><div class=\"sk-text-repr-fallback\"><pre>LogisticRegression(C=1e+42, solver=&#x27;liblinear&#x27;)</pre><b>In a Jupyter environment, please rerun this cell to show the HTML representation or trust the notebook. <br />On GitHub, the HTML representation is unable to render, please try loading this page with nbviewer.org.</b></div><div class=\"sk-container\" hidden><div class=\"sk-item\"><div class=\"sk-estimator sk-toggleable\"><input class=\"sk-toggleable__control sk-hidden--visually\" id=\"sk-estimator-id-2\" type=\"checkbox\" checked><label for=\"sk-estimator-id-2\" class=\"sk-toggleable__label sk-toggleable__label-arrow\">LogisticRegression</label><div class=\"sk-toggleable__content\"><pre>LogisticRegression(C=1e+42, solver=&#x27;liblinear&#x27;)</pre></div></div></div></div></div>"
      ],
      "text/plain": [
       "LogisticRegression(C=1e+42, solver='liblinear')"
      ]
     },
     "execution_count": 17,
     "metadata": {},
     "output_type": "execute_result"
    }
   ],
   "source": [
    "# train LogisticRegression model\n",
    "lr_backwards = LogisticRegression(penalty='l2', C=1e42, solver='liblinear')\n",
    "lr_backwards.fit(train_X, train_y)"
   ]
  },
  {
   "cell_type": "code",
   "execution_count": 18,
   "id": "7d1f3a05",
   "metadata": {},
   "outputs": [
    {
     "name": "stdout",
     "output_type": "stream",
     "text": [
      "Parameters of Backwards Elimination Logistic Regression Model\n",
      "Intercept: 0.547\n",
      "              SCH_TIME  DEP_TIME  DISTANCE  WEATHER  WK_DAY  MTH_DAY  \\\n",
      "Coefficient:     0.025    -0.025     0.008    -2.88   0.057    -0.02   \n",
      "\n",
      "              CARRIER_DH  CARRIER_DL  CARRIER_MQ  CARRIER_OH  CARRIER_RU  \\\n",
      "Coefficient:        0.32       0.909      -0.619       1.462        0.11   \n",
      "\n",
      "              CARRIER_UA  CARRIER_US  \n",
      "Coefficient:       0.288       0.246  \n"
     ]
    }
   ],
   "source": [
    "print('Parameters of Backwards Elimination Logistic Regression Model')\n",
    "print('Intercept:', np.round(lr_backwards.intercept_[0], decimals=3))\n",
    "print(pd.DataFrame({'Coefficient:': np.round(lr_backwards.coef_[0], decimals=3)}, \n",
    "                   index=X.columns).transpose())"
   ]
  },
  {
   "cell_type": "markdown",
   "id": "c7baf3f5",
   "metadata": {},
   "source": [
    "b. For the logistic regression model in 4a, identify and compare the confusion matrices for\n",
    "training and validation partitions. Also, compare this validation confusion matrix with the\n",
    "one from 2c, and explain if the logistic regression model based on Backward Elimination\n",
    "can be potentially a good choice for classification of flight arrival status. "
   ]
  },
  {
   "cell_type": "code",
   "execution_count": 19,
   "id": "a6e26179",
   "metadata": {},
   "outputs": [
    {
     "name": "stdout",
     "output_type": "stream",
     "text": [
      "Training Partition of Backwards Elimination Model\n",
      "Confusion Matrix (Accuracy 0.8994)\n",
      "\n",
      "       Prediction\n",
      "Actual    0    1\n",
      "     0  150  154\n",
      "     1    1 1235\n",
      "\n",
      "Validation Partition of Backwards Elimination Model\n",
      "Confusion Matrix (Accuracy 0.8986)\n",
      "\n",
      "       Prediction\n",
      "Actual   0   1\n",
      "     0  58  66\n",
      "     1   1 536\n"
     ]
    }
   ],
   "source": [
    "# Identify  and display confusion matrix for training partition. \n",
    "print('Training Partition of Backwards Elimination Model')\n",
    "classificationSummary(train_y, lr_backwards.predict(train_X))\n",
    "\n",
    "# Identify and display confusion matrix for validation partition. \n",
    "print()\n",
    "print('Validation Partition of Backwards Elimination Model')\n",
    "classificationSummary(valid_y, lr_backwards.predict(valid_X))"
   ]
  }
 ],
 "metadata": {
  "kernelspec": {
   "display_name": "Python 3 (ipykernel)",
   "language": "python",
   "name": "python3"
  },
  "language_info": {
   "codemirror_mode": {
    "name": "ipython",
    "version": 3
   },
   "file_extension": ".py",
   "mimetype": "text/x-python",
   "name": "python",
   "nbconvert_exporter": "python",
   "pygments_lexer": "ipython3",
   "version": "3.11.5"
  }
 },
 "nbformat": 4,
 "nbformat_minor": 5
}
