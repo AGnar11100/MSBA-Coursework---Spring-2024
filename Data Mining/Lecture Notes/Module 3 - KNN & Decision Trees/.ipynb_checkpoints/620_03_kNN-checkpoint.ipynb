{
 "cells": [
  {
   "cell_type": "markdown",
   "metadata": {},
   "source": [
    "# k-Nearest Neighbors (k-NN)"
   ]
  },
  {
   "cell_type": "markdown",
   "metadata": {},
   "source": [
    "## Import required packages."
   ]
  },
  {
   "cell_type": "code",
   "execution_count": 1,
   "metadata": {},
   "outputs": [],
   "source": [
    "from pathlib import Path\n",
    "\n",
    "import pandas as pd\n",
    "import numpy as np\n",
    "\n",
    "from sklearn.model_selection import train_test_split\n",
    "\n",
    "from sklearn.preprocessing import StandardScaler\n",
    "from sklearn.metrics import accuracy_score\n",
    "from sklearn import neighbors \n",
    "from sklearn.neighbors import KNeighborsClassifier, KNeighborsRegressor\n",
    "from sklearn.metrics import mean_squared_error \n",
    "\n",
    "from math import sqrt\n",
    "from dmba import regressionSummary\n",
    "\n",
    "import matplotlib.pylab as plt\n",
    "%matplotlib inline\n"
   ]
  },
  {
   "cell_type": "markdown",
   "metadata": {},
   "source": [
    "## Load Riding Mowers data set and display scatter plot for the entire data set and new record."
   ]
  },
  {
   "cell_type": "code",
   "execution_count": 2,
   "metadata": {
    "scrolled": false
   },
   "outputs": [
    {
     "data": {
      "text/html": [
       "<div>\n",
       "<style scoped>\n",
       "    .dataframe tbody tr th:only-of-type {\n",
       "        vertical-align: middle;\n",
       "    }\n",
       "\n",
       "    .dataframe tbody tr th {\n",
       "        vertical-align: top;\n",
       "    }\n",
       "\n",
       "    .dataframe thead th {\n",
       "        text-align: right;\n",
       "    }\n",
       "</style>\n",
       "<table border=\"1\" class=\"dataframe\">\n",
       "  <thead>\n",
       "    <tr style=\"text-align: right;\">\n",
       "      <th></th>\n",
       "      <th>Income</th>\n",
       "      <th>Lot_Size</th>\n",
       "      <th>Ownership</th>\n",
       "      <th>Number</th>\n",
       "    </tr>\n",
       "  </thead>\n",
       "  <tbody>\n",
       "    <tr>\n",
       "      <th>0</th>\n",
       "      <td>60.0</td>\n",
       "      <td>18.4</td>\n",
       "      <td>Owner</td>\n",
       "      <td>1</td>\n",
       "    </tr>\n",
       "    <tr>\n",
       "      <th>1</th>\n",
       "      <td>85.5</td>\n",
       "      <td>16.8</td>\n",
       "      <td>Owner</td>\n",
       "      <td>2</td>\n",
       "    </tr>\n",
       "    <tr>\n",
       "      <th>2</th>\n",
       "      <td>64.8</td>\n",
       "      <td>21.6</td>\n",
       "      <td>Owner</td>\n",
       "      <td>3</td>\n",
       "    </tr>\n",
       "    <tr>\n",
       "      <th>3</th>\n",
       "      <td>61.5</td>\n",
       "      <td>20.8</td>\n",
       "      <td>Owner</td>\n",
       "      <td>4</td>\n",
       "    </tr>\n",
       "    <tr>\n",
       "      <th>4</th>\n",
       "      <td>87.0</td>\n",
       "      <td>23.6</td>\n",
       "      <td>Owner</td>\n",
       "      <td>5</td>\n",
       "    </tr>\n",
       "    <tr>\n",
       "      <th>5</th>\n",
       "      <td>110.1</td>\n",
       "      <td>19.2</td>\n",
       "      <td>Owner</td>\n",
       "      <td>6</td>\n",
       "    </tr>\n",
       "    <tr>\n",
       "      <th>6</th>\n",
       "      <td>108.0</td>\n",
       "      <td>17.6</td>\n",
       "      <td>Owner</td>\n",
       "      <td>7</td>\n",
       "    </tr>\n",
       "    <tr>\n",
       "      <th>7</th>\n",
       "      <td>82.8</td>\n",
       "      <td>22.4</td>\n",
       "      <td>Owner</td>\n",
       "      <td>8</td>\n",
       "    </tr>\n",
       "    <tr>\n",
       "      <th>8</th>\n",
       "      <td>69.0</td>\n",
       "      <td>20.0</td>\n",
       "      <td>Owner</td>\n",
       "      <td>9</td>\n",
       "    </tr>\n",
       "    <tr>\n",
       "      <th>9</th>\n",
       "      <td>93.0</td>\n",
       "      <td>20.8</td>\n",
       "      <td>Owner</td>\n",
       "      <td>10</td>\n",
       "    </tr>\n",
       "    <tr>\n",
       "      <th>10</th>\n",
       "      <td>51.0</td>\n",
       "      <td>22.0</td>\n",
       "      <td>Owner</td>\n",
       "      <td>11</td>\n",
       "    </tr>\n",
       "    <tr>\n",
       "      <th>11</th>\n",
       "      <td>81.0</td>\n",
       "      <td>20.0</td>\n",
       "      <td>Owner</td>\n",
       "      <td>12</td>\n",
       "    </tr>\n",
       "    <tr>\n",
       "      <th>12</th>\n",
       "      <td>75.0</td>\n",
       "      <td>19.6</td>\n",
       "      <td>Nonowner</td>\n",
       "      <td>13</td>\n",
       "    </tr>\n",
       "    <tr>\n",
       "      <th>13</th>\n",
       "      <td>52.8</td>\n",
       "      <td>20.8</td>\n",
       "      <td>Nonowner</td>\n",
       "      <td>14</td>\n",
       "    </tr>\n",
       "    <tr>\n",
       "      <th>14</th>\n",
       "      <td>64.8</td>\n",
       "      <td>17.2</td>\n",
       "      <td>Nonowner</td>\n",
       "      <td>15</td>\n",
       "    </tr>\n",
       "    <tr>\n",
       "      <th>15</th>\n",
       "      <td>43.2</td>\n",
       "      <td>20.4</td>\n",
       "      <td>Nonowner</td>\n",
       "      <td>16</td>\n",
       "    </tr>\n",
       "    <tr>\n",
       "      <th>16</th>\n",
       "      <td>84.0</td>\n",
       "      <td>17.6</td>\n",
       "      <td>Nonowner</td>\n",
       "      <td>17</td>\n",
       "    </tr>\n",
       "    <tr>\n",
       "      <th>17</th>\n",
       "      <td>49.2</td>\n",
       "      <td>17.6</td>\n",
       "      <td>Nonowner</td>\n",
       "      <td>18</td>\n",
       "    </tr>\n",
       "    <tr>\n",
       "      <th>18</th>\n",
       "      <td>59.4</td>\n",
       "      <td>16.0</td>\n",
       "      <td>Nonowner</td>\n",
       "      <td>19</td>\n",
       "    </tr>\n",
       "    <tr>\n",
       "      <th>19</th>\n",
       "      <td>66.0</td>\n",
       "      <td>18.4</td>\n",
       "      <td>Nonowner</td>\n",
       "      <td>20</td>\n",
       "    </tr>\n",
       "    <tr>\n",
       "      <th>20</th>\n",
       "      <td>47.4</td>\n",
       "      <td>16.4</td>\n",
       "      <td>Nonowner</td>\n",
       "      <td>21</td>\n",
       "    </tr>\n",
       "    <tr>\n",
       "      <th>21</th>\n",
       "      <td>33.0</td>\n",
       "      <td>18.8</td>\n",
       "      <td>Nonowner</td>\n",
       "      <td>22</td>\n",
       "    </tr>\n",
       "    <tr>\n",
       "      <th>22</th>\n",
       "      <td>51.0</td>\n",
       "      <td>14.0</td>\n",
       "      <td>Nonowner</td>\n",
       "      <td>23</td>\n",
       "    </tr>\n",
       "    <tr>\n",
       "      <th>23</th>\n",
       "      <td>63.0</td>\n",
       "      <td>14.8</td>\n",
       "      <td>Nonowner</td>\n",
       "      <td>24</td>\n",
       "    </tr>\n",
       "  </tbody>\n",
       "</table>\n",
       "</div>"
      ],
      "text/plain": [
       "    Income  Lot_Size Ownership  Number\n",
       "0     60.0      18.4     Owner       1\n",
       "1     85.5      16.8     Owner       2\n",
       "2     64.8      21.6     Owner       3\n",
       "3     61.5      20.8     Owner       4\n",
       "4     87.0      23.6     Owner       5\n",
       "5    110.1      19.2     Owner       6\n",
       "6    108.0      17.6     Owner       7\n",
       "7     82.8      22.4     Owner       8\n",
       "8     69.0      20.0     Owner       9\n",
       "9     93.0      20.8     Owner      10\n",
       "10    51.0      22.0     Owner      11\n",
       "11    81.0      20.0     Owner      12\n",
       "12    75.0      19.6  Nonowner      13\n",
       "13    52.8      20.8  Nonowner      14\n",
       "14    64.8      17.2  Nonowner      15\n",
       "15    43.2      20.4  Nonowner      16\n",
       "16    84.0      17.6  Nonowner      17\n",
       "17    49.2      17.6  Nonowner      18\n",
       "18    59.4      16.0  Nonowner      19\n",
       "19    66.0      18.4  Nonowner      20\n",
       "20    47.4      16.4  Nonowner      21\n",
       "21    33.0      18.8  Nonowner      22\n",
       "22    51.0      14.0  Nonowner      23\n",
       "23    63.0      14.8  Nonowner      24"
      ]
     },
     "execution_count": 2,
     "metadata": {},
     "output_type": "execute_result"
    }
   ],
   "source": [
    "# Create data frame Riding Mowers data set. \n",
    "mower_df = pd.read_csv('RidingMowers.csv')\n",
    "\n",
    "# Add column to data frame with the record number starting \n",
    "# from 1 to 24.\n",
    "mower_df['Number'] = mower_df.index + 1\n",
    "\n",
    "# Display the data set. \n",
    "mower_df"
   ]
  },
  {
   "cell_type": "code",
   "execution_count": 3,
   "metadata": {},
   "outputs": [
    {
     "name": "stdout",
     "output_type": "stream",
     "text": [
      "New Record Data\n"
     ]
    },
    {
     "data": {
      "text/html": [
       "<div>\n",
       "<style scoped>\n",
       "    .dataframe tbody tr th:only-of-type {\n",
       "        vertical-align: middle;\n",
       "    }\n",
       "\n",
       "    .dataframe tbody tr th {\n",
       "        vertical-align: top;\n",
       "    }\n",
       "\n",
       "    .dataframe thead th {\n",
       "        text-align: right;\n",
       "    }\n",
       "</style>\n",
       "<table border=\"1\" class=\"dataframe\">\n",
       "  <thead>\n",
       "    <tr style=\"text-align: right;\">\n",
       "      <th></th>\n",
       "      <th>Income</th>\n",
       "      <th>Lot_Size</th>\n",
       "    </tr>\n",
       "  </thead>\n",
       "  <tbody>\n",
       "    <tr>\n",
       "      <th>0</th>\n",
       "      <td>60</td>\n",
       "      <td>20</td>\n",
       "    </tr>\n",
       "  </tbody>\n",
       "</table>\n",
       "</div>"
      ],
      "text/plain": [
       "   Income  Lot_Size\n",
       "0      60        20"
      ]
     },
     "execution_count": 3,
     "metadata": {},
     "output_type": "execute_result"
    }
   ],
   "source": [
    "# Define new record and its data for Income and Lot-Size.\n",
    "# Display the new record.\n",
    "newHousehold = pd.DataFrame([{'Income': 60, 'Lot_Size': 20}])\n",
    "print('New Record Data')\n",
    "newHousehold"
   ]
  },
  {
   "cell_type": "code",
   "execution_count": 4,
   "metadata": {},
   "outputs": [
    {
     "data": {
      "image/png": "[encoded data removed]",
      "text/plain": [
       "<Figure size 640x480 with 1 Axes>"
      ]
     },
     "metadata": {},
     "output_type": "display_data"
    }
   ],
   "source": [
    "# Scatter plot for the entire data set with 24 rows and new record.\n",
    "fig, ax = plt.subplots()\n",
    "\n",
    "# Develop scatter plot markers (bold brown circles) and name for\n",
    "# Owner records. \n",
    "subset = mower_df.loc[mower_df['Ownership']=='Owner']\n",
    "ax.scatter(subset.Income, subset.Lot_Size, marker='o', \n",
    "           label='Owner', color='C1')\n",
    "\n",
    "# Develop scatter plot markers (bold blue diamonds) and name for\n",
    "# Nonowner records. \n",
    "subset = mower_df.loc[mower_df['Ownership']=='Nonowner']\n",
    "ax.scatter(subset.Income, subset.Lot_Size, marker='D', \n",
    "           label='Nonowner', color='C0')\n",
    "\n",
    "# Develop scatter plot marker (black star) and name for\n",
    "# new record. \n",
    "ax.scatter(newHousehold.Income, newHousehold.Lot_Size, marker='*', \n",
    "           label='New household', color='black', s=150)\n",
    "\n",
    "# Create coordinate labes for coordinates. \n",
    "plt.xlabel('Income')  # set x-axis label\n",
    "plt.ylabel('Lot_Size')  # set y-axis label\n",
    "\n",
    "# Add numbers to the markers in the scatter plot.\n",
    "for _, row in mower_df.iterrows():\n",
    "    ax.annotate(row.Number, (row.Income + 1, row.Lot_Size))\n",
    "    \n",
    "# Create legend for markers (handles) and associated labels.\n",
    "handles, labels = ax.get_legend_handles_labels()\n",
    "ax.set_xlim(30, 115)\n",
    "ax.legend(handles, labels, loc=4)\n",
    "\n",
    "plt.title('Scatter Plot of Riding Mowers Households and New Household')\n",
    "plt.show()"
   ]
  },
  {
   "cell_type": "markdown",
   "metadata": {},
   "source": [
    "## Develop training and validation partitions and scatter plots for partitions. "
   ]
  },
  {
   "cell_type": "code",
   "execution_count": 5,
   "metadata": {
    "scrolled": false
   },
   "outputs": [
    {
     "name": "stdout",
     "output_type": "stream",
     "text": [
      "Number of Records and Columns in Training and Validation Partitions\n",
      "(14, 4) (10, 4)\n",
      "\n",
      "Training Partition Records\n",
      "    Income  Lot_Size Ownership  Number\n",
      "5    110.1      19.2     Owner       6\n",
      "3     61.5      20.8     Owner       4\n",
      "7     82.8      22.4     Owner       8\n",
      "20    47.4      16.4  Nonowner      21\n",
      "18    59.4      16.0  Nonowner      19\n",
      "2     64.8      21.6     Owner       3\n",
      "4     87.0      23.6     Owner       5\n",
      "0     60.0      18.4     Owner       1\n",
      "13    52.8      20.8  Nonowner      14\n",
      "22    51.0      14.0  Nonowner      23\n",
      "1     85.5      16.8     Owner       2\n",
      "16    84.0      17.6  Nonowner      17\n",
      "6    108.0      17.6     Owner       7\n",
      "21    33.0      18.8  Nonowner      22\n",
      "\n",
      "Validation Partition Records\n",
      "    Income  Lot_Size Ownership  Number\n",
      "12    75.0      19.6  Nonowner      13\n",
      "14    64.8      17.2  Nonowner      15\n",
      "11    81.0      20.0     Owner      12\n",
      "8     69.0      20.0     Owner       9\n",
      "15    43.2      20.4  Nonowner      16\n",
      "10    51.0      22.0     Owner      11\n",
      "17    49.2      17.6  Nonowner      18\n",
      "19    66.0      18.4  Nonowner      20\n",
      "23    63.0      14.8  Nonowner      24\n",
      "9     93.0      20.8     Owner      10\n"
     ]
    }
   ],
   "source": [
    "# Develop training and validation partitions, 60% (0.6)for \n",
    "# training parition data and 40% (0.4) for validation data. \n",
    "trainData, validData = train_test_split(mower_df, test_size=0.4, random_state=26)\n",
    "\n",
    "#Display training partition shape (number of records, number of columns)\n",
    "print('Number of Records and Columns in Training and Validation Partitions')\n",
    "print(trainData.shape, validData.shape)\n",
    "\n",
    "# Display training and validation partition records. \n",
    "print()\n",
    "print('Training Partition Records')\n",
    "print(trainData)\n",
    "print()\n",
    "print('Validation Partition Records')\n",
    "print(validData)\n"
   ]
  },
  {
   "cell_type": "code",
   "execution_count": 6,
   "metadata": {
    "scrolled": false
   },
   "outputs": [
    {
     "data": {
      "image/png": "[encoded data removed]",
      "text/plain": [
       "<Figure size 640x480 with 1 Axes>"
      ]
     },
     "metadata": {},
     "output_type": "display_data"
    }
   ],
   "source": [
    "# Scatter plot for training partition and new record. \n",
    "fig, ax = plt.subplots()\n",
    "\n",
    "# Develop scatter plot markers (bold brown circles) and name for\n",
    "# Owner training partition records. \n",
    "subset = trainData.loc[trainData['Ownership']=='Owner']\n",
    "ax.scatter(subset.Income, subset.Lot_Size, marker='o', \n",
    "           label='Owner', color='C1')\n",
    "\n",
    "# Develop scatter plot markers (bold blue diamonds) and name for\n",
    "# Nonowner training partition records. \n",
    "subset = trainData.loc[trainData['Ownership']=='Nonowner']\n",
    "ax.scatter(subset.Income, subset.Lot_Size, marker='D', \n",
    "           label='Nonowner', color='C0')\n",
    "\n",
    "# Develop scatter plot marker (black star) and name for\n",
    "# Nonowner records. \n",
    "ax.scatter(newHousehold.Income, newHousehold.Lot_Size, marker='*', \n",
    "           label='New household', color='black', s=150)\n",
    "\n",
    "# Create coordinate labes for coordinates. \n",
    "plt.xlabel('Income')  # set x-axis label\n",
    "plt.ylabel('Lot_Size')  # set y-axis label\n",
    "\n",
    "# Add numbers to the markers in the scatter plot.\n",
    "for _, row in trainData.iterrows():\n",
    "    ax.annotate(row.Number, (row.Income + 1, row.Lot_Size))\n",
    "    \n",
    "# Create legend for markers (handles) and associated labels.\n",
    "handles, labels = ax.get_legend_handles_labels()\n",
    "ax.set_xlim(30, 115)\n",
    "ax.legend(handles, labels, loc=4)\n",
    "\n",
    "plt.title('Scatter Plot with Training (Solid Markers) Partition')\n",
    "plt.show()"
   ]
  },
  {
   "cell_type": "code",
   "execution_count": 7,
   "metadata": {},
   "outputs": [
    {
     "data": {
      "image/png": "[encoded data removed]",
      "text/plain": [
       "<Figure size 640x480 with 1 Axes>"
      ]
     },
     "metadata": {},
     "output_type": "display_data"
    }
   ],
   "source": [
    "# Scatterplot for both training and validation partitions and new record. \n",
    "# **kwargs are used to handle named arguments in a function.\n",
    "def plotDataset(ax, data, showLabel=True, **kwargs):\n",
    "    subset = data.loc[data['Ownership']=='Owner']\n",
    "    ax.scatter(subset.Income, subset.Lot_Size, marker='o', \n",
    "               label='Owner' if showLabel else None, color='C1', **kwargs)\n",
    "\n",
    "    subset = data.loc[data['Ownership']=='Nonowner']\n",
    "    ax.scatter(subset.Income, subset.Lot_Size, marker='D', \n",
    "               label='Nonowner' if showLabel else None, color='C0', **kwargs)\n",
    "\n",
    "    plt.xlabel('Income')  # set x-axis label\n",
    "    plt.ylabel('Lot_Size')  # set y-axis label\n",
    "    for _, row in data.iterrows():\n",
    "        ax.annotate(row.Number, (row.Income + 1, row.Lot_Size))\n",
    "\n",
    "fig, ax = plt.subplots()\n",
    "\n",
    "plotDataset(ax, trainData)\n",
    "plotDataset(ax, validData, showLabel=False, facecolors='none')\n",
    "\n",
    "ax.scatter(newHousehold.Income, newHousehold.Lot_Size, marker='*', \n",
    "           label='New household', color='black', s=150)\n",
    "\n",
    "plt.xlabel('Income')  # set x-axis label\n",
    "plt.ylabel('Lot_Size')  # set y-axis label\n",
    "    \n",
    "handles, labels = ax.get_legend_handles_labels()\n",
    "ax.set_xlim(30, 115)\n",
    "ax.legend(handles, labels, loc=4)\n",
    "\n",
    "plt.title('Scatter Plot with Training (Solid Markers) and Validation (Hollow Markers) Partitions')\n",
    "plt.show()"
   ]
  },
  {
   "cell_type": "markdown",
   "metadata": {},
   "source": [
    "## Data standardization (normalization) for the entire data set, training and validation partitions. "
   ]
  },
  {
   "cell_type": "code",
   "execution_count": 8,
   "metadata": {},
   "outputs": [
    {
     "name": "stdout",
     "output_type": "stream",
     "text": [
      "Standardized (Normalized) Values of Riding Mowers Data Set\n",
      "\n",
      "     zIncome  zLot_Size Ownership  Number\n",
      "0  -0.435452  -0.231370     Owner       1\n",
      "1   0.880582  -0.904445     Owner       2\n",
      "2  -0.187728   1.114781     Owner       3\n",
      "3  -0.358039   0.778243     Owner       4\n",
      "4   0.957995   1.956125     Owner       5\n",
      "5   2.150167   0.105168     Owner       6\n",
      "6   2.041788  -0.567907     Owner       7\n",
      "7   0.741237   1.451319     Owner       8\n",
      "8   0.029030   0.441706     Owner       9\n",
      "9   1.267650   0.778243     Owner      10\n",
      "10 -0.899935   1.283050     Owner      11\n",
      "11  0.648340   0.441706     Owner      12\n",
      "12  0.338685   0.273437  Nonowner      13\n",
      "13 -0.807038   0.778243  Nonowner      14\n",
      "14 -0.187728  -0.736176  Nonowner      15\n",
      "15 -1.302487   0.609975  Nonowner      16\n",
      "16  0.803168  -0.567907  Nonowner      17\n",
      "17 -0.992832  -0.567907  Nonowner      18\n",
      "18 -0.466418  -1.240983  Nonowner      19\n",
      "19 -0.125797  -0.231370  Nonowner      20\n",
      "20 -1.085728  -1.072714  Nonowner      21\n",
      "21 -1.828900  -0.063101  Nonowner      22\n",
      "22 -0.899935  -2.082327  Nonowner      23\n",
      "23 -0.280625  -1.745789  Nonowner      24\n"
     ]
    }
   ],
   "source": [
    "# Develop standardized (normalized) data for the entire data set. \n",
    "scaler = StandardScaler()\n",
    "\n",
    "# Note the use of an array of column names.\n",
    "scaler.fit(mower_df[['Income', 'Lot_Size']])  \n",
    "\n",
    "# Transform the full data set into standardized (normalized) data set. \n",
    "mowerNorm = pd.concat([pd.DataFrame(scaler.transform(mower_df[['Income', 'Lot_Size']]), \n",
    "                                    columns=['zIncome', 'zLot_Size']),\n",
    "                       mower_df[['Ownership', 'Number']]], axis=1)\n",
    "print('Standardized (Normalized) Values of Riding Mowers Data Set')\n",
    "print()\n",
    "print(mowerNorm)"
   ]
  },
  {
   "cell_type": "code",
   "execution_count": 9,
   "metadata": {},
   "outputs": [
    {
     "name": "stdout",
     "output_type": "stream",
     "text": [
      "Standardized (Normalized) Values of Training Data Parition\n",
      "\n",
      "     zIncome  zLot_Size Ownership  Number\n",
      "5   2.150167   0.105168     Owner       6\n",
      "3  -0.358039   0.778243     Owner       4\n",
      "7   0.741237   1.451319     Owner       8\n",
      "20 -1.085728  -1.072714  Nonowner      21\n",
      "18 -0.466418  -1.240983  Nonowner      19\n",
      "2  -0.187728   1.114781     Owner       3\n",
      "4   0.957995   1.956125     Owner       5\n",
      "0  -0.435452  -0.231370     Owner       1\n",
      "13 -0.807038   0.778243  Nonowner      14\n",
      "22 -0.899935  -2.082327  Nonowner      23\n",
      "1   0.880582  -0.904445     Owner       2\n",
      "16  0.803168  -0.567907  Nonowner      17\n",
      "6   2.041788  -0.567907     Owner       7\n",
      "21 -1.828900  -0.063101  Nonowner      22\n",
      "\n",
      "Normalized Values for New Record\n",
      "    zIncome  zLot_Size\n",
      "0 -0.435452   0.441706\n"
     ]
    }
   ],
   "source": [
    "# Develop standardized (normalized) data in training and validation\n",
    "# partitions. \n",
    "trainNorm = mowerNorm.iloc[trainData.index]\n",
    "validNorm = mowerNorm.iloc[validData.index]\n",
    "\n",
    "# Display normalized records in training partition.\n",
    "print('Standardized (Normalized) Values of Training Data Parition')\n",
    "print()\n",
    "print(trainNorm)\n",
    "\n",
    "# Develop and print standardized (normalized) data for new record.\n",
    "newHouseholdNorm = pd.DataFrame(scaler.transform(newHousehold), \n",
    "                    columns=['zIncome', 'zLot_Size'])\n",
    "print()\n",
    "print('Normalized Values for New Record')\n",
    "print(newHouseholdNorm)\n"
   ]
  },
  {
   "cell_type": "markdown",
   "metadata": {},
   "source": [
    "## Apply k-NN algorithm for the new record using training partition. Identify the best k value using validation partition. "
   ]
  },
  {
   "cell_type": "code",
   "execution_count": 10,
   "metadata": {
    "scrolled": true
   },
   "outputs": [
    {
     "name": "stdout",
     "output_type": "stream",
     "text": [
      "Distances to New Record: [[0.34532669 0.50133206 0.67307542]]\n",
      "\n",
      "The Nearest Neighbors for New Record\n",
      "     zIncome  zLot_Size Ownership  Number\n",
      "3  -0.358039   0.778243     Owner       4\n",
      "13 -0.807038   0.778243  Nonowner      14\n",
      "0  -0.435452  -0.231370     Owner       1\n"
     ]
    }
   ],
   "source": [
    "# Identify trainining and validation predictors, zIncome\n",
    "# and zLot_Size.\n",
    "train_X = trainNorm[['zIncome', 'zLot_Size']]\n",
    "valid_X = validNorm[['zIncome', 'zLot_Size']]\n",
    "\n",
    "# Identify training and validation response variable, Ownership.\n",
    "train_y = trainNorm['Ownership']\n",
    "valid_y = validNorm['Ownership']\n",
    "\n",
    "# Apply NearestNeighbors() function for k=3 in training \n",
    "# parition. \n",
    "knn = KNeighborsClassifier(n_neighbors=3).fit(train_X, train_y)\n",
    "\n",
    "# Indetify and display distances and indices of the \n",
    "# 3 nearest neighbors to the new record.  \n",
    "distances, indices = knn.kneighbors(newHouseholdNorm)\n",
    "print('Distances to New Record:',distances)\n",
    "\n",
    "# Identify and display results of the nearest neighbors. \n",
    "# indices is a list of lists, we are only interested in the first \n",
    "# element, which is the nearest neighbors for the new record.\n",
    "print()\n",
    "print('The Nearest Neighbors for New Record')\n",
    "print(trainNorm.iloc[indices[0], :])  \n"
   ]
  },
  {
   "cell_type": "code",
   "execution_count": 11,
   "metadata": {},
   "outputs": [
    {
     "name": "stdout",
     "output_type": "stream",
     "text": [
      "     k  Accuracy Score\n",
      "0    1             0.6\n",
      "1    2             0.7\n",
      "2    3             0.8\n",
      "3    4             0.9\n",
      "4    5             0.7\n",
      "5    6             0.9\n",
      "6    7             0.9\n",
      "7    8             0.9\n",
      "8    9             0.9\n",
      "9   10             0.8\n",
      "10  11             0.8\n",
      "11  12             0.9\n",
      "12  13             0.4\n",
      "13  14             0.4\n"
     ]
    }
   ],
   "source": [
    "# Identify best k value for number of nearest neighbors using \n",
    "# validation partition.\n",
    "\n",
    "# Develop k-NN classifier using training partition for various\n",
    "# values of k and then identify accuracy score using validation\n",
    "# partition. Accuracy score (accuracy) means a probability of \n",
    "# correct predictions with the k-NN classifier. \n",
    "results = []\n",
    "for k in range(1, 15):\n",
    "    # Train knn classifier using training partition.\n",
    "    knn = KNeighborsClassifier(n_neighbors=k).fit(np.array(train_X), np.array(train_y))\n",
    "    results.append({\n",
    "        'k': k,\n",
    "        # For each k, identify accuracy score using validation \n",
    "        # partition.\n",
    "        'Accuracy Score': accuracy_score(valid_y, knn.predict(np.array(valid_X)))\n",
    "    })\n",
    "\n",
    "# Convert results to a pandas data frame. The smallest k value \n",
    "# with the highest accuracy is the best k to apply in k-NN \n",
    "# classifier. \n",
    "results = pd.DataFrame(results)\n",
    "print(results)"
   ]
  },
  {
   "cell_type": "code",
   "execution_count": 12,
   "metadata": {},
   "outputs": [
    {
     "data": {
      "image/png": "[encoded data removed]",
      "text/plain": [
       "<Figure size 640x480 with 1 Axes>"
      ]
     },
     "metadata": {},
     "output_type": "display_data"
    }
   ],
   "source": [
    "# Develop and display Elbow chart to compare accuracy_score with \n",
    "# number of nearest neighbors, k, from 1 to 20. \n",
    "ax = results.plot(x='k', y='Accuracy Score')\n",
    "plt.xlabel('Number of Nearest Neighbors (k)')\n",
    "plt.ylabel('Accuracy Score')\n",
    "\n",
    "plt.title('Elbow Chart for Number of Nearest Neighbors')\n",
    "ax.legend().set_visible(False)\n",
    "plt.show()"
   ]
  },
  {
   "cell_type": "markdown",
   "metadata": {},
   "source": [
    "## Combine training and validation partitions to classify new records. "
   ]
  },
  {
   "cell_type": "code",
   "execution_count": 13,
   "metadata": {},
   "outputs": [
    {
     "name": "stdout",
     "output_type": "stream",
     "text": [
      "New Record Classification: ['Owner']\n",
      "\n",
      "Distances to New Record: [[0.34532669 0.46448259 0.50133206 0.67307542]]\n",
      "\n",
      "Nearest Neighbors to New Record\n",
      "     zIncome  zLot_Size Ownership  Number\n",
      "3  -0.358039   0.778243     Owner       4\n",
      "8   0.029030   0.441706     Owner       9\n",
      "13 -0.807038   0.778243  Nonowner      14\n",
      "0  -0.435452  -0.231370     Owner       1\n"
     ]
    }
   ],
   "source": [
    "# Retrain with full dataset.\n",
    "mower_X = mowerNorm[['zIncome', 'zLot_Size']]\n",
    "mower_y = mowerNorm['Ownership']\n",
    "\n",
    "# Develop k-NN classifier for the entire data set, k = 4.\n",
    "kNN = KNeighborsClassifier(n_neighbors=4).fit(mower_X, mower_y)\n",
    "\n",
    "# Display new record's classification result, distances and \n",
    "# indices, and nearest neighbors. \n",
    "new_record_class = kNN.predict(newHouseholdNorm)\n",
    "print('New Record Classification:', new_record_class)\n",
    "\n",
    "# Identify and display distances to new record and indices \n",
    "# of nearest neighbors. \n",
    "distances, indices = kNN.kneighbors(newHouseholdNorm)\n",
    "print()\n",
    "print('Distances to New Record:',distances)\n",
    "# print('Indices of Nearest Neighbors:', indices)\n",
    "\n",
    "# Indetify and display nearest neighbors.\n",
    "print()\n",
    "print('Nearest Neighbors to New Record')\n",
    "print(mowerNorm.iloc[indices[0], :])"
   ]
  },
  {
   "cell_type": "markdown",
   "metadata": {},
   "source": [
    "# k-NN Model for Numeric Predictions."
   ]
  },
  {
   "cell_type": "markdown",
   "metadata": {},
   "source": [
    "## Upload data set. Explore, clean, and preprocess data."
   ]
  },
  {
   "cell_type": "code",
   "execution_count": 14,
   "metadata": {
    "scrolled": false
   },
   "outputs": [
    {
     "data": {
      "text/plain": [
       "(1436, 39)"
      ]
     },
     "execution_count": 14,
     "metadata": {},
     "output_type": "execute_result"
    }
   ],
   "source": [
    "# Create data frame from the original data set.  \n",
    "car_df = pd.read_csv('ToyotaCorolla.csv')\n",
    "\n",
    "# Determine dimensions of dataframe. \n",
    "car_df.shape # It has 1436 rows and 39 columns.\n"
   ]
  },
  {
   "cell_type": "code",
   "execution_count": 15,
   "metadata": {
    "scrolled": true
   },
   "outputs": [
    {
     "data": {
      "text/plain": [
       "Index(['Id', 'Model', 'Price', 'Age_08_04', 'Mfg_Month', 'Mfg_Year', 'KM',\n",
       "       'Fuel_Type', 'HP', 'Met_Color', 'Color', 'Automatic', 'CC', 'Doors',\n",
       "       'Cylinders', 'Gears', 'Quarterly_Tax', 'Weight', 'Mfr_Guarantee',\n",
       "       'BOVAG_Guarantee', 'Guarantee_Period', 'ABS', 'Airbag_1', 'Airbag_2',\n",
       "       'Airco', 'Automatic_airco', 'Boardcomputer', 'CD_Player',\n",
       "       'Central_Lock', 'Powered_Windows', 'Power_Steering', 'Radio',\n",
       "       'Mistlamps', 'Sport_Model', 'Backseat_Divider', 'Metallic_Rim',\n",
       "       'Radio_cassette', 'Parking_Assistant', 'Tow_Bar'],\n",
       "      dtype='object')"
      ]
     },
     "execution_count": 15,
     "metadata": {},
     "output_type": "execute_result"
    }
   ],
   "source": [
    "# Display the column names.\n",
    "car_df.columns"
   ]
  },
  {
   "cell_type": "code",
   "execution_count": 16,
   "metadata": {},
   "outputs": [
    {
     "data": {
      "text/html": [
       "<div>\n",
       "<style scoped>\n",
       "    .dataframe tbody tr th:only-of-type {\n",
       "        vertical-align: middle;\n",
       "    }\n",
       "\n",
       "    .dataframe tbody tr th {\n",
       "        vertical-align: top;\n",
       "    }\n",
       "\n",
       "    .dataframe thead th {\n",
       "        text-align: right;\n",
       "    }\n",
       "</style>\n",
       "<table border=\"1\" class=\"dataframe\">\n",
       "  <thead>\n",
       "    <tr style=\"text-align: right;\">\n",
       "      <th></th>\n",
       "      <th>Price</th>\n",
       "      <th>Age_08_04</th>\n",
       "      <th>KM</th>\n",
       "      <th>Fuel_Type</th>\n",
       "      <th>HP</th>\n",
       "      <th>Met_Color</th>\n",
       "      <th>Automatic</th>\n",
       "      <th>CC</th>\n",
       "      <th>Doors</th>\n",
       "      <th>Quarterly_Tax</th>\n",
       "      <th>Weight</th>\n",
       "    </tr>\n",
       "  </thead>\n",
       "  <tbody>\n",
       "    <tr>\n",
       "      <th>0</th>\n",
       "      <td>13500</td>\n",
       "      <td>23</td>\n",
       "      <td>46986</td>\n",
       "      <td>Diesel</td>\n",
       "      <td>90</td>\n",
       "      <td>1</td>\n",
       "      <td>0</td>\n",
       "      <td>2000</td>\n",
       "      <td>3</td>\n",
       "      <td>210</td>\n",
       "      <td>1165</td>\n",
       "    </tr>\n",
       "    <tr>\n",
       "      <th>1</th>\n",
       "      <td>13750</td>\n",
       "      <td>23</td>\n",
       "      <td>72937</td>\n",
       "      <td>Diesel</td>\n",
       "      <td>90</td>\n",
       "      <td>1</td>\n",
       "      <td>0</td>\n",
       "      <td>2000</td>\n",
       "      <td>3</td>\n",
       "      <td>210</td>\n",
       "      <td>1165</td>\n",
       "    </tr>\n",
       "    <tr>\n",
       "      <th>2</th>\n",
       "      <td>13950</td>\n",
       "      <td>24</td>\n",
       "      <td>41711</td>\n",
       "      <td>Diesel</td>\n",
       "      <td>90</td>\n",
       "      <td>1</td>\n",
       "      <td>0</td>\n",
       "      <td>2000</td>\n",
       "      <td>3</td>\n",
       "      <td>210</td>\n",
       "      <td>1165</td>\n",
       "    </tr>\n",
       "    <tr>\n",
       "      <th>3</th>\n",
       "      <td>14950</td>\n",
       "      <td>26</td>\n",
       "      <td>48000</td>\n",
       "      <td>Diesel</td>\n",
       "      <td>90</td>\n",
       "      <td>0</td>\n",
       "      <td>0</td>\n",
       "      <td>2000</td>\n",
       "      <td>3</td>\n",
       "      <td>210</td>\n",
       "      <td>1165</td>\n",
       "    </tr>\n",
       "    <tr>\n",
       "      <th>4</th>\n",
       "      <td>13750</td>\n",
       "      <td>30</td>\n",
       "      <td>38500</td>\n",
       "      <td>Diesel</td>\n",
       "      <td>90</td>\n",
       "      <td>0</td>\n",
       "      <td>0</td>\n",
       "      <td>2000</td>\n",
       "      <td>3</td>\n",
       "      <td>210</td>\n",
       "      <td>1170</td>\n",
       "    </tr>\n",
       "    <tr>\n",
       "      <th>5</th>\n",
       "      <td>12950</td>\n",
       "      <td>32</td>\n",
       "      <td>61000</td>\n",
       "      <td>Diesel</td>\n",
       "      <td>90</td>\n",
       "      <td>0</td>\n",
       "      <td>0</td>\n",
       "      <td>2000</td>\n",
       "      <td>3</td>\n",
       "      <td>210</td>\n",
       "      <td>1170</td>\n",
       "    </tr>\n",
       "    <tr>\n",
       "      <th>6</th>\n",
       "      <td>16900</td>\n",
       "      <td>27</td>\n",
       "      <td>94612</td>\n",
       "      <td>Diesel</td>\n",
       "      <td>90</td>\n",
       "      <td>1</td>\n",
       "      <td>0</td>\n",
       "      <td>2000</td>\n",
       "      <td>3</td>\n",
       "      <td>210</td>\n",
       "      <td>1245</td>\n",
       "    </tr>\n",
       "    <tr>\n",
       "      <th>7</th>\n",
       "      <td>18600</td>\n",
       "      <td>30</td>\n",
       "      <td>75889</td>\n",
       "      <td>Diesel</td>\n",
       "      <td>90</td>\n",
       "      <td>1</td>\n",
       "      <td>0</td>\n",
       "      <td>2000</td>\n",
       "      <td>3</td>\n",
       "      <td>210</td>\n",
       "      <td>1245</td>\n",
       "    </tr>\n",
       "    <tr>\n",
       "      <th>8</th>\n",
       "      <td>21500</td>\n",
       "      <td>27</td>\n",
       "      <td>19700</td>\n",
       "      <td>Petrol</td>\n",
       "      <td>192</td>\n",
       "      <td>0</td>\n",
       "      <td>0</td>\n",
       "      <td>1800</td>\n",
       "      <td>3</td>\n",
       "      <td>100</td>\n",
       "      <td>1185</td>\n",
       "    </tr>\n",
       "    <tr>\n",
       "      <th>9</th>\n",
       "      <td>12950</td>\n",
       "      <td>23</td>\n",
       "      <td>71138</td>\n",
       "      <td>Diesel</td>\n",
       "      <td>69</td>\n",
       "      <td>0</td>\n",
       "      <td>0</td>\n",
       "      <td>1900</td>\n",
       "      <td>3</td>\n",
       "      <td>185</td>\n",
       "      <td>1105</td>\n",
       "    </tr>\n",
       "  </tbody>\n",
       "</table>\n",
       "</div>"
      ],
      "text/plain": [
       "   Price  Age_08_04     KM Fuel_Type   HP  Met_Color  Automatic    CC  Doors  \\\n",
       "0  13500         23  46986    Diesel   90          1          0  2000      3   \n",
       "1  13750         23  72937    Diesel   90          1          0  2000      3   \n",
       "2  13950         24  41711    Diesel   90          1          0  2000      3   \n",
       "3  14950         26  48000    Diesel   90          0          0  2000      3   \n",
       "4  13750         30  38500    Diesel   90          0          0  2000      3   \n",
       "5  12950         32  61000    Diesel   90          0          0  2000      3   \n",
       "6  16900         27  94612    Diesel   90          1          0  2000      3   \n",
       "7  18600         30  75889    Diesel   90          1          0  2000      3   \n",
       "8  21500         27  19700    Petrol  192          0          0  1800      3   \n",
       "9  12950         23  71138    Diesel   69          0          0  1900      3   \n",
       "\n",
       "   Quarterly_Tax  Weight  \n",
       "0            210    1165  \n",
       "1            210    1165  \n",
       "2            210    1165  \n",
       "3            210    1165  \n",
       "4            210    1170  \n",
       "5            210    1170  \n",
       "6            210    1245  \n",
       "7            210    1245  \n",
       "8            100    1185  \n",
       "9            185    1105  "
      ]
     },
     "execution_count": 16,
     "metadata": {},
     "output_type": "execute_result"
    }
   ],
   "source": [
    "# Create a subset data frame with 11 columns and top \n",
    "# 1000 records for regression analysis.\n",
    "\n",
    "# Use the pd.concat() function to combine non-consecutive \n",
    "# columns into a new data frame, car_df_reg, with top 1000\n",
    "# records.\n",
    "# The axis argument specifies the dimension along which \n",
    "# the concatenation happens, 0=rows, 1=columns.\n",
    "car_df_reg  = pd.concat([car_df.iloc[0:1000,2:4], \n",
    "           car_df.iloc[0:1000,6:10], \n",
    "           car_df.iloc[0:1000,11:14], \n",
    "           car_df.iloc[0:1000,16:18]], axis=1)\n",
    "\n",
    "# Show the first 10 records of dataframe for regression analysis.\n",
    "car_df_reg.head(10)"
   ]
  },
  {
   "cell_type": "code",
   "execution_count": 17,
   "metadata": {},
   "outputs": [
    {
     "data": {
      "text/plain": [
       "Price             int64\n",
       "Age_08_04         int64\n",
       "KM                int64\n",
       "Fuel_Type        object\n",
       "HP                int64\n",
       "Met_Color         int64\n",
       "Automatic         int64\n",
       "CC                int64\n",
       "Doors             int64\n",
       "Quarterly_Tax     int64\n",
       "Weight            int64\n",
       "dtype: object"
      ]
     },
     "execution_count": 17,
     "metadata": {},
     "output_type": "execute_result"
    }
   ],
   "source": [
    "# Display column data types in the dataframe for regression analysis.\n",
    "car_df_reg.dtypes"
   ]
  },
  {
   "cell_type": "code",
   "execution_count": 18,
   "metadata": {},
   "outputs": [
    {
     "data": {
      "text/plain": [
       "Index(['Price', 'Age_08_04', 'KM', 'HP', 'Met_Color', 'Automatic', 'CC',\n",
       "       'Doors', 'Quarterly_Tax', 'Weight', 'Fuel_Type_Diesel',\n",
       "       'Fuel_Type_Petrol'],\n",
       "      dtype='object')"
      ]
     },
     "execution_count": 18,
     "metadata": {},
     "output_type": "execute_result"
    }
   ],
   "source": [
    "# Convert category variable 'Fuel' into dummy variables, \n",
    "# Use drop_first=True to drop the first dummy variable, CNG.\n",
    "car_df_reg = pd.get_dummies(car_df_reg, prefix_sep='_', \n",
    "                            drop_first=True)\n",
    "car_df_reg.columns"
   ]
  },
  {
   "cell_type": "markdown",
   "metadata": {},
   "source": [
    "## Develop k-NN model and make predictions. "
   ]
  },
  {
   "cell_type": "code",
   "execution_count": 19,
   "metadata": {
    "scrolled": true
   },
   "outputs": [],
   "source": [
    "# Identify predictors and outcome of the k-NN regressor model.\n",
    "predictors = ['Age_08_04', 'KM', 'HP', 'Met_Color', 'Automatic', 'CC',\n",
    "               'Doors', 'Quarterly_Tax', 'Weight', 'Fuel_Type_Diesel',\n",
    "               'Fuel_Type_Petrol']\n",
    "outcome = 'Price'\n",
    "\n",
    "# Identify X and y variables for k-NN regressor, and partition data\n",
    "# using 60% (0.6) of records for training and 40% for validation \n",
    "# (test_size=0.4). \n",
    "X = car_df_reg[predictors]\n",
    "y = car_df_reg[outcome]\n",
    "train_X, valid_X, train_y, valid_y = train_test_split(X, y, test_size=0.4, random_state=1)"
   ]
  },
  {
   "cell_type": "code",
   "execution_count": 20,
   "metadata": {},
   "outputs": [
    {
     "name": "stdout",
     "output_type": "stream",
     "text": [
      "Number of Records and Columns in Training and Validation Partitions\n",
      "(600, 11) (400, 11)\n",
      "\n",
      "Training Partition Records\n",
      "     zAge_08_04       zKM       zHP  zMet_Color  zAutomatic       zCC  \\\n",
      "0     -0.778150 -1.262096  0.572467    0.675508   -0.245093 -0.002138   \n",
      "1     -1.497920  0.575807 -0.739779   -1.480368   -0.245093  0.644795   \n",
      "2      0.361484 -0.669205  0.572467    0.675508   -0.245093 -0.002138   \n",
      "3      0.781349  0.497000  0.572467    0.675508   -0.245093 -0.002138   \n",
      "4      0.421465  0.857675 -1.002228    0.675508   -0.245093 -0.487337   \n",
      "..          ...       ...       ...         ...         ...       ...   \n",
      "595    0.541426  0.435319 -1.002228    0.675508   -0.245093 -0.487337   \n",
      "596   -1.198016 -0.960875  0.572467    0.675508   -0.245093 -0.005372   \n",
      "597    1.081253 -0.130003  0.572467    0.675508   -0.245093 -0.002138   \n",
      "598   -0.598208 -0.069436  0.572467    0.675508   -0.245093 -0.002138   \n",
      "599   -1.497920 -1.484872 -0.280493    0.675508   -0.245093 -0.325604   \n",
      "\n",
      "       zDoors  zQuarterly_Tax   zWeight  zFuel_Type_Diesel  zFuel_Type_Petrol  \n",
      "0    0.968196       -0.118306 -0.081261          -0.386556           0.414578  \n",
      "1    0.968196        3.209758  3.217684           2.586949          -2.412091  \n",
      "2   -1.144231       -0.475682 -0.673380          -0.386556           0.414578  \n",
      "3   -0.088018       -0.475682 -0.673380          -0.386556           0.414578  \n",
      "4   -1.144231       -0.475682 -1.096321          -0.386556           0.414578  \n",
      "..        ...             ...       ...                ...                ...  \n",
      "595  0.968196       -0.475682 -0.588791          -0.386556           0.414578  \n",
      "596  0.968196       -0.118306  0.849211          -0.386556           0.414578  \n",
      "597  0.968196       -0.118306 -0.165850          -0.386556           0.414578  \n",
      "598  0.968196       -0.118306 -0.081261          -0.386556           0.414578  \n",
      "599 -1.144231       -0.118306  0.341681          -0.386556           0.414578  \n",
      "\n",
      "[600 rows x 11 columns]\n"
     ]
    }
   ],
   "source": [
    "# Develop standardized (normalized) data for the training and \n",
    "# validation partitions for k-NN regressor model.\n",
    "\n",
    "# Create scaler object using StandardScaler() function. \n",
    "scaler = StandardScaler()\n",
    "\n",
    "# Transform training and validation predictors into scaled \n",
    "# (normalized) values (train_X_scaled), and create a data \n",
    "# frame based on the transformed values. \n",
    "train_X_scaled = scaler.fit_transform(train_X)\n",
    "\n",
    "train_X_s = pd.DataFrame(train_X_scaled, \n",
    "                columns=['zAge_08_04', 'zKM', 'zHP', 'zMet_Color', \n",
    "                         'zAutomatic', 'zCC', 'zDoors', 'zQuarterly_Tax', \n",
    "                         'zWeight', 'zFuel_Type_Diesel','zFuel_Type_Petrol'])\n",
    "\n",
    "valid_X_scaled = scaler.fit_transform(valid_X)\n",
    "valid_X_s = pd.DataFrame(valid_X_scaled,\n",
    "                columns=['zAge_08_04', 'zKM', 'zHP', 'zMet_Color', \n",
    "                'zAutomatic', 'zCC', 'zDoors', 'zQuarterly_Tax', \n",
    "                'zWeight', 'zFuel_Type_Diesel','zFuel_Type_Petrol'])\n",
    "\n",
    "#Display training partition shape (number of records, number of columns)\n",
    "print('Number of Records and Columns in Training and Validation Partitions')\n",
    "print(train_X_s.shape, valid_X_s.shape)\n",
    "\n",
    "# Display normalized training partition records. \n",
    "print()\n",
    "print('Training Partition Records')\n",
    "print(train_X_s)\n",
    "\n",
    "#print()\n",
    "#print('Validation Partition Records')\n",
    "#print(valid_X_s)\n"
   ]
  },
  {
   "cell_type": "code",
   "execution_count": 21,
   "metadata": {},
   "outputs": [
    {
     "data": {
      "text/html": [
       "<style>#sk-container-id-1 {color: black;}#sk-container-id-1 pre{padding: 0;}#sk-container-id-1 div.sk-toggleable {background-color: white;}#sk-container-id-1 label.sk-toggleable__label {cursor: pointer;display: block;width: 100%;margin-bottom: 0;padding: 0.3em;box-sizing: border-box;text-align: center;}#sk-container-id-1 label.sk-toggleable__label-arrow:before {content: \"▸\";float: left;margin-right: 0.25em;color: #696969;}#sk-container-id-1 label.sk-toggleable__label-arrow:hover:before {color: black;}#sk-container-id-1 div.sk-estimator:hover label.sk-toggleable__label-arrow:before {color: black;}#sk-container-id-1 div.sk-toggleable__content {max-height: 0;max-width: 0;overflow: hidden;text-align: left;background-color: #f0f8ff;}#sk-container-id-1 div.sk-toggleable__content pre {margin: 0.2em;color: black;border-radius: 0.25em;background-color: #f0f8ff;}#sk-container-id-1 input.sk-toggleable__control:checked~div.sk-toggleable__content {max-height: 200px;max-width: 100%;overflow: auto;}#sk-container-id-1 input.sk-toggleable__control:checked~label.sk-toggleable__label-arrow:before {content: \"▾\";}#sk-container-id-1 div.sk-estimator input.sk-toggleable__control:checked~label.sk-toggleable__label {background-color: #d4ebff;}#sk-container-id-1 div.sk-label input.sk-toggleable__control:checked~label.sk-toggleable__label {background-color: #d4ebff;}#sk-container-id-1 input.sk-hidden--visually {border: 0;clip: rect(1px 1px 1px 1px);clip: rect(1px, 1px, 1px, 1px);height: 1px;margin: -1px;overflow: hidden;padding: 0;position: absolute;width: 1px;}#sk-container-id-1 div.sk-estimator {font-family: monospace;background-color: #f0f8ff;border: 1px dotted black;border-radius: 0.25em;box-sizing: border-box;margin-bottom: 0.5em;}#sk-container-id-1 div.sk-estimator:hover {background-color: #d4ebff;}#sk-container-id-1 div.sk-parallel-item::after {content: \"\";width: 100%;border-bottom: 1px solid gray;flex-grow: 1;}#sk-container-id-1 div.sk-label:hover label.sk-toggleable__label {background-color: #d4ebff;}#sk-container-id-1 div.sk-serial::before {content: \"\";position: absolute;border-left: 1px solid gray;box-sizing: border-box;top: 0;bottom: 0;left: 50%;z-index: 0;}#sk-container-id-1 div.sk-serial {display: flex;flex-direction: column;align-items: center;background-color: white;padding-right: 0.2em;padding-left: 0.2em;position: relative;}#sk-container-id-1 div.sk-item {position: relative;z-index: 1;}#sk-container-id-1 div.sk-parallel {display: flex;align-items: stretch;justify-content: center;background-color: white;position: relative;}#sk-container-id-1 div.sk-item::before, #sk-container-id-1 div.sk-parallel-item::before {content: \"\";position: absolute;border-left: 1px solid gray;box-sizing: border-box;top: 0;bottom: 0;left: 50%;z-index: -1;}#sk-container-id-1 div.sk-parallel-item {display: flex;flex-direction: column;z-index: 1;position: relative;background-color: white;}#sk-container-id-1 div.sk-parallel-item:first-child::after {align-self: flex-end;width: 50%;}#sk-container-id-1 div.sk-parallel-item:last-child::after {align-self: flex-start;width: 50%;}#sk-container-id-1 div.sk-parallel-item:only-child::after {width: 0;}#sk-container-id-1 div.sk-dashed-wrapped {border: 1px dashed gray;margin: 0 0.4em 0.5em 0.4em;box-sizing: border-box;padding-bottom: 0.4em;background-color: white;}#sk-container-id-1 div.sk-label label {font-family: monospace;font-weight: bold;display: inline-block;line-height: 1.2em;}#sk-container-id-1 div.sk-label-container {text-align: center;}#sk-container-id-1 div.sk-container {/* jupyter's `normalize.less` sets `[hidden] { display: none; }` but bootstrap.min.css set `[hidden] { display: none !important; }` so we also need the `!important` here to be able to override the default hidden behavior on the sphinx rendered scikit-learn.org. See: https://github.com/scikit-learn/scikit-learn/issues/21755 */display: inline-block !important;position: relative;}#sk-container-id-1 div.sk-text-repr-fallback {display: none;}</style><div id=\"sk-container-id-1\" class=\"sk-top-container\"><div class=\"sk-text-repr-fallback\"><pre>KNeighborsRegressor(n_neighbors=3)</pre><b>In a Jupyter environment, please rerun this cell to show the HTML representation or trust the notebook. <br />On GitHub, the HTML representation is unable to render, please try loading this page with nbviewer.org.</b></div><div class=\"sk-container\" hidden><div class=\"sk-item\"><div class=\"sk-estimator sk-toggleable\"><input class=\"sk-toggleable__control sk-hidden--visually\" id=\"sk-estimator-id-1\" type=\"checkbox\" checked><label for=\"sk-estimator-id-1\" class=\"sk-toggleable__label sk-toggleable__label-arrow\">KNeighborsRegressor</label><div class=\"sk-toggleable__content\"><pre>KNeighborsRegressor(n_neighbors=3)</pre></div></div></div></div></div>"
      ],
      "text/plain": [
       "KNeighborsRegressor(n_neighbors=3)"
      ]
     },
     "execution_count": 21,
     "metadata": {},
     "output_type": "execute_result"
    }
   ],
   "source": [
    "# Develop k-NN regressor model using KNeighborsRegressor()\n",
    "# function and number of nearest neighbors, k = 3.\n",
    "knn = neighbors.KNeighborsRegressor(n_neighbors=3)\n",
    "knn.fit(train_X_s, train_y)\n"
   ]
  },
  {
   "cell_type": "code",
   "execution_count": 22,
   "metadata": {},
   "outputs": [
    {
     "name": "stdout",
     "output_type": "stream",
     "text": [
      "Actual, Prediction, and Residual Prices for Validation Set\n",
      "     Actual  Predicted  Residual\n",
      "507   11500   11033.33    466.67\n",
      "818    8950    9116.67   -166.67\n",
      "452   11450    9800.00   1650.00\n",
      "368   11450   13598.33  -2148.33\n",
      "242   11950   11966.67    -16.67\n",
      "929    9995   10481.67   -486.67\n",
      "262   13500   10250.00   3250.00\n",
      "810    7950    8650.00   -700.00\n",
      "318    9900   11133.33  -1233.33\n",
      "49    21950   21950.00      0.00\n"
     ]
    }
   ],
   "source": [
    "# Make predictions using k-NN model. \n",
    "# Use predict() to score (make) predictions for validation set.\n",
    "knn_valid_pred = knn.predict(valid_X_s)\n",
    "\n",
    "# Develop and display data frame with actual values of Price,\n",
    "# scoring (predicted) results, and residuals.\n",
    "# Use round() function to round vlaues in data frame to \n",
    "# 2 decimals. \n",
    "print('Actual, Prediction, and Residual Prices for Validation Set')\n",
    "result = round(pd.DataFrame({'Actual': valid_y,'Predicted': knn_valid_pred, \n",
    "                       'Residual': valid_y - knn_valid_pred}), 2)\n",
    "print(result.head(10))"
   ]
  },
  {
   "cell_type": "code",
   "execution_count": 23,
   "metadata": {},
   "outputs": [
    {
     "name": "stdout",
     "output_type": "stream",
     "text": [
      "Accuracy Measures for Training Set\n",
      "\n",
      "Regression statistics\n",
      "\n",
      "                      Mean Error (ME) : 43.0167\n",
      "       Root Mean Squared Error (RMSE) : 1068.9920\n",
      "            Mean Absolute Error (MAE) : 733.6744\n",
      "          Mean Percentage Error (MPE) : -0.5896\n",
      "Mean Absolute Percentage Error (MAPE) : 6.4962\n",
      "\n",
      "Accuracy Measures for Validation Set\n",
      "\n",
      "Regression statistics\n",
      "\n",
      "                      Mean Error (ME) : 154.7000\n",
      "       Root Mean Squared Error (RMSE) : 1189.1772\n",
      "            Mean Absolute Error (MAE) : 924.9167\n",
      "          Mean Percentage Error (MPE) : 0.3142\n",
      "Mean Absolute Percentage Error (MAPE) : 8.1472\n"
     ]
    }
   ],
   "source": [
    "# Use predict() function to make predictions for\n",
    "# training set.\n",
    "knn_train_pred = knn.predict(train_X_s)\n",
    "\n",
    "# Display common accuracy measures for training set.\n",
    "print('Accuracy Measures for Training Set')\n",
    "regressionSummary(train_y, knn_train_pred)\n",
    "print()\n",
    "\n",
    "# Display common accuracy measures for validation set.\n",
    "print('Accuracy Measures for Validation Set')\n",
    "regressionSummary(valid_y, knn_valid_pred)"
   ]
  },
  {
   "cell_type": "markdown",
   "metadata": {},
   "source": [
    "## Identify best value of nearest neighbors k in k-NN model."
   ]
  },
  {
   "cell_type": "code",
   "execution_count": 24,
   "metadata": {},
   "outputs": [
    {
     "name": "stdout",
     "output_type": "stream",
     "text": [
      "     k         RMSE\n",
      "0    1  1490.474339\n",
      "1    2  1293.115933\n",
      "2    3  1189.177247\n",
      "3    4  1169.929725\n",
      "4    5  1190.171420\n",
      "5    6  1242.380765\n",
      "6    7  1276.513275\n",
      "7    8  1273.696860\n",
      "8    9  1286.518182\n",
      "9   10  1306.272951\n",
      "10  11  1347.122167\n",
      "11  12  1375.046891\n",
      "12  13  1404.152448\n",
      "13  14  1431.966584\n",
      "14  15  1472.788550\n",
      "15  16  1501.232485\n",
      "16  17  1550.058519\n",
      "17  18  1577.902968\n",
      "18  19  1606.798934\n",
      "19  20  1644.473225\n"
     ]
    }
   ],
   "source": [
    "# Develop k-NN regressor model using training partition for various\n",
    "# values of k and then identify RMSE for each model \n",
    "# using validation partition.\n",
    "results_rmse = [] #to store rmse values for different k\n",
    "for k in range(1, 21):\n",
    "    # Create k-NN model for different k in training partition.\n",
    "    knn_model = neighbors.KNeighborsRegressor(n_neighbors = k)\n",
    "    knn_model.fit(train_X_s, train_y) \n",
    "    \n",
    "    # Make k-NN model predictions using validation partition.\n",
    "    knn_pred = knn_model.predict(valid_X_s)\n",
    "    \n",
    "    # calculate RMSE for predictions in validation partition.\n",
    "    RMSE = sqrt(mean_squared_error(valid_y, knn_pred))\n",
    "    \n",
    "    # Develop output resuts with each k and respective RMSE.\n",
    "    results_rmse.append({\n",
    "        'k': k,\n",
    "        'RMSE': RMSE\n",
    "    })\n",
    "    \n",
    "# Convert results_rmse to a pandas data frame and display \n",
    "# data frame. \n",
    "results = pd.DataFrame(results_rmse)\n",
    "print(results)"
   ]
  },
  {
   "cell_type": "code",
   "execution_count": 25,
   "metadata": {},
   "outputs": [
    {
     "data": {
      "image/png": "[encoded data removed]",
      "text/plain": [
       "<Figure size 640x480 with 1 Axes>"
      ]
     },
     "metadata": {},
     "output_type": "display_data"
    }
   ],
   "source": [
    "# Develop and display Elbow chart to compare RMSE with \n",
    "# number of nearest neighbors, k, from 1 to 20. \n",
    "ax = results.plot(x='k', y='RMSE')\n",
    "plt.xlabel('Number of Nearest Neighbors (k)')\n",
    "plt.ylabel('RMSE')\n",
    "\n",
    "plt.title('Elbow chart')\n",
    "ax.legend().set_visible(False)\n",
    "plt.show()"
   ]
  },
  {
   "cell_type": "markdown",
   "metadata": {},
   "source": [
    "## Develop k-NN model with best value of k and make predictions for new records."
   ]
  },
  {
   "cell_type": "code",
   "execution_count": 26,
   "metadata": {},
   "outputs": [
    {
     "data": {
      "text/html": [
       "<style>#sk-container-id-2 {color: black;}#sk-container-id-2 pre{padding: 0;}#sk-container-id-2 div.sk-toggleable {background-color: white;}#sk-container-id-2 label.sk-toggleable__label {cursor: pointer;display: block;width: 100%;margin-bottom: 0;padding: 0.3em;box-sizing: border-box;text-align: center;}#sk-container-id-2 label.sk-toggleable__label-arrow:before {content: \"▸\";float: left;margin-right: 0.25em;color: #696969;}#sk-container-id-2 label.sk-toggleable__label-arrow:hover:before {color: black;}#sk-container-id-2 div.sk-estimator:hover label.sk-toggleable__label-arrow:before {color: black;}#sk-container-id-2 div.sk-toggleable__content {max-height: 0;max-width: 0;overflow: hidden;text-align: left;background-color: #f0f8ff;}#sk-container-id-2 div.sk-toggleable__content pre {margin: 0.2em;color: black;border-radius: 0.25em;background-color: #f0f8ff;}#sk-container-id-2 input.sk-toggleable__control:checked~div.sk-toggleable__content {max-height: 200px;max-width: 100%;overflow: auto;}#sk-container-id-2 input.sk-toggleable__control:checked~label.sk-toggleable__label-arrow:before {content: \"▾\";}#sk-container-id-2 div.sk-estimator input.sk-toggleable__control:checked~label.sk-toggleable__label {background-color: #d4ebff;}#sk-container-id-2 div.sk-label input.sk-toggleable__control:checked~label.sk-toggleable__label {background-color: #d4ebff;}#sk-container-id-2 input.sk-hidden--visually {border: 0;clip: rect(1px 1px 1px 1px);clip: rect(1px, 1px, 1px, 1px);height: 1px;margin: -1px;overflow: hidden;padding: 0;position: absolute;width: 1px;}#sk-container-id-2 div.sk-estimator {font-family: monospace;background-color: #f0f8ff;border: 1px dotted black;border-radius: 0.25em;box-sizing: border-box;margin-bottom: 0.5em;}#sk-container-id-2 div.sk-estimator:hover {background-color: #d4ebff;}#sk-container-id-2 div.sk-parallel-item::after {content: \"\";width: 100%;border-bottom: 1px solid gray;flex-grow: 1;}#sk-container-id-2 div.sk-label:hover label.sk-toggleable__label {background-color: #d4ebff;}#sk-container-id-2 div.sk-serial::before {content: \"\";position: absolute;border-left: 1px solid gray;box-sizing: border-box;top: 0;bottom: 0;left: 50%;z-index: 0;}#sk-container-id-2 div.sk-serial {display: flex;flex-direction: column;align-items: center;background-color: white;padding-right: 0.2em;padding-left: 0.2em;position: relative;}#sk-container-id-2 div.sk-item {position: relative;z-index: 1;}#sk-container-id-2 div.sk-parallel {display: flex;align-items: stretch;justify-content: center;background-color: white;position: relative;}#sk-container-id-2 div.sk-item::before, #sk-container-id-2 div.sk-parallel-item::before {content: \"\";position: absolute;border-left: 1px solid gray;box-sizing: border-box;top: 0;bottom: 0;left: 50%;z-index: -1;}#sk-container-id-2 div.sk-parallel-item {display: flex;flex-direction: column;z-index: 1;position: relative;background-color: white;}#sk-container-id-2 div.sk-parallel-item:first-child::after {align-self: flex-end;width: 50%;}#sk-container-id-2 div.sk-parallel-item:last-child::after {align-self: flex-start;width: 50%;}#sk-container-id-2 div.sk-parallel-item:only-child::after {width: 0;}#sk-container-id-2 div.sk-dashed-wrapped {border: 1px dashed gray;margin: 0 0.4em 0.5em 0.4em;box-sizing: border-box;padding-bottom: 0.4em;background-color: white;}#sk-container-id-2 div.sk-label label {font-family: monospace;font-weight: bold;display: inline-block;line-height: 1.2em;}#sk-container-id-2 div.sk-label-container {text-align: center;}#sk-container-id-2 div.sk-container {/* jupyter's `normalize.less` sets `[hidden] { display: none; }` but bootstrap.min.css set `[hidden] { display: none !important; }` so we also need the `!important` here to be able to override the default hidden behavior on the sphinx rendered scikit-learn.org. See: https://github.com/scikit-learn/scikit-learn/issues/21755 */display: inline-block !important;position: relative;}#sk-container-id-2 div.sk-text-repr-fallback {display: none;}</style><div id=\"sk-container-id-2\" class=\"sk-top-container\"><div class=\"sk-text-repr-fallback\"><pre>KNeighborsRegressor(n_neighbors=4)</pre><b>In a Jupyter environment, please rerun this cell to show the HTML representation or trust the notebook. <br />On GitHub, the HTML representation is unable to render, please try loading this page with nbviewer.org.</b></div><div class=\"sk-container\" hidden><div class=\"sk-item\"><div class=\"sk-estimator sk-toggleable\"><input class=\"sk-toggleable__control sk-hidden--visually\" id=\"sk-estimator-id-2\" type=\"checkbox\" checked><label for=\"sk-estimator-id-2\" class=\"sk-toggleable__label sk-toggleable__label-arrow\">KNeighborsRegressor</label><div class=\"sk-toggleable__content\"><pre>KNeighborsRegressor(n_neighbors=4)</pre></div></div></div></div></div>"
      ],
      "text/plain": [
       "KNeighborsRegressor(n_neighbors=4)"
      ]
     },
     "execution_count": 26,
     "metadata": {},
     "output_type": "execute_result"
    }
   ],
   "source": [
    "# Develop k-NN regressor model using KNeighborsRegressor()\n",
    "# function and best number of nearest neighbors, k = 4\n",
    "knn = neighbors.KNeighborsRegressor(n_neighbors=4)\n",
    "\n",
    "# For knn.fit, use train_X_c.values. \n",
    "# values returns only values of the data frame, and \n",
    "# removes the column names. This will be very useful \n",
    "# to make predictions for new records to avoid mismatch\n",
    "# between real predictor names like KM HP and their \n",
    "# normalized column names like zKM and zHP. \n",
    "knn.fit(train_X_s.values, train_y)"
   ]
  },
  {
   "cell_type": "code",
   "execution_count": 27,
   "metadata": {},
   "outputs": [],
   "source": [
    "# Make predictions using k-NN model. \n",
    "# Use predict() to score (make) predictions for validation set.\n",
    "# See comment for .values from the previous cell. \n",
    "knn_valid_pred = knn.predict(valid_X_s.values)\n",
    "\n",
    "# Use predict() function to make predictions for\n",
    "# training set.\n",
    "knn_train_pred = knn.predict(train_X_s.values)\n"
   ]
  },
  {
   "cell_type": "code",
   "execution_count": 28,
   "metadata": {},
   "outputs": [
    {
     "name": "stdout",
     "output_type": "stream",
     "text": [
      "Accuracy Measures for Training Set\n",
      "\n",
      "Regression statistics\n",
      "\n",
      "                      Mean Error (ME) : 14.0925\n",
      "       Root Mean Squared Error (RMSE) : 1170.2628\n",
      "            Mean Absolute Error (MAE) : 822.9675\n",
      "          Mean Percentage Error (MPE) : -0.8966\n",
      "Mean Absolute Percentage Error (MAPE) : 7.2693\n",
      "\n",
      "Accuracy Measures for Validation Set\n",
      "\n",
      "Regression statistics\n",
      "\n",
      "                      Mean Error (ME) : 135.1637\n",
      "       Root Mean Squared Error (RMSE) : 1169.9297\n",
      "            Mean Absolute Error (MAE) : 909.9075\n",
      "          Mean Percentage Error (MPE) : 0.1165\n",
      "Mean Absolute Percentage Error (MAPE) : 8.0463\n"
     ]
    }
   ],
   "source": [
    "# Display common accuracy measures for training set.\n",
    "print('Accuracy Measures for Training Set')\n",
    "regressionSummary(train_y, knn_train_pred)\n",
    "print()\n",
    "\n",
    "# Display common accuracy measures for validation set.\n",
    "print('Accuracy Measures for Validation Set')\n",
    "regressionSummary(valid_y, knn_valid_pred)"
   ]
  },
  {
   "cell_type": "code",
   "execution_count": 29,
   "metadata": {},
   "outputs": [
    {
     "name": "stdout",
     "output_type": "stream",
     "text": [
      "New Toyota Corolla Data and Predictions for New Data\n",
      "\n",
      "   Age_08_04     KM   HP  Met_Color  Automatic  CC  Doors  Quarterly_Tax  \\\n",
      "0         24  35200   90          0          0   0      3             85   \n",
      "1         34  20840  190          0          1   0      4            220   \n",
      "\n",
      "   Weight  Fuel_Type_Diesel  Fuel_Type_Petrol  Predicted Price  \n",
      "0    1120                 1                 0         13950.00  \n",
      "1    1000                 0                 1          9586.25  \n"
     ]
    }
   ],
   "source": [
    "# Make predictions for two new Toyota Corolla records. \n",
    "\n",
    "# Develop dataframe with 2 new records. Notice that the \n",
    "# 'Price' output variable is not present in these records.\n",
    "new_data = pd.DataFrame({\n",
    "            'Age_08_04': [24,34],  \n",
    "            'KM': [35200, 20840],\n",
    "            'HP': [90, 190],  \n",
    "            'Met_Color': [0, 0],\n",
    "            'Automatic': [0, 1],\n",
    "            'CC': [0,0],\n",
    "            'Doors': [3, 4],  \n",
    "            'Quarterly_Tax': [85, 220],  \n",
    "            'Weight': [1120, 1000],\n",
    "            'Fuel_Type_Diesel': [1, 0],\n",
    "            'Fuel_Type_Petrol': [0, 1],\n",
    "})\n",
    "\n",
    "# Apply standard scalre to conver the new data into\n",
    "# standardize (normalized) format.\n",
    "scaler = StandardScaler()\n",
    "new_data_scaled = scaler.fit_transform(new_data.values)\n",
    "\n",
    "# Use predict() function to make predictions for \n",
    "# new Toyota Corolla data using regression model \n",
    "# and round them to 2 decimals.\n",
    "knn_pred = knn.predict(new_data_scaled)\n",
    "pred_result = pd.DataFrame({\n",
    "             'Predicted Price': knn_pred,\n",
    "})\n",
    "\n",
    "# Display new data and display 'Price' prediction \n",
    "# for each record.\n",
    "pred_result = pd.DataFrame({\n",
    "            'Age_08_04': [24,34],  \n",
    "            'KM': [35200, 20840],\n",
    "            'HP': [90, 190],  \n",
    "            'Met_Color': [0, 0],\n",
    "            'Automatic': [0, 1],\n",
    "            'CC': [0,0],\n",
    "            'Doors': [3, 4],  \n",
    "            'Quarterly_Tax': [85, 220],  \n",
    "            'Weight': [1120, 1000],\n",
    "            'Fuel_Type_Diesel': [1, 0],\n",
    "            'Fuel_Type_Petrol': [0, 1],\n",
    "            'Predicted Price': knn_pred,\n",
    " })\n",
    "\n",
    "print('New Toyota Corolla Data and Predictions for New Data')\n",
    "print()\n",
    "print(pred_result)"
   ]
  },
  {
   "cell_type": "code",
   "execution_count": null,
   "metadata": {},
   "outputs": [],
   "source": []
  }
 ],
 "metadata": {
  "kernelspec": {
   "display_name": "Python 3 (ipykernel)",
   "language": "python",
   "name": "python3"
  },
  "language_info": {
   "codemirror_mode": {
    "name": "ipython",
    "version": 3
   },
   "file_extension": ".py",
   "mimetype": "text/x-python",
   "name": "python",
   "nbconvert_exporter": "python",
   "pygments_lexer": "ipython3",
   "version": "3.11.5"
  }
 },
 "nbformat": 4,
 "nbformat_minor": 2
}
