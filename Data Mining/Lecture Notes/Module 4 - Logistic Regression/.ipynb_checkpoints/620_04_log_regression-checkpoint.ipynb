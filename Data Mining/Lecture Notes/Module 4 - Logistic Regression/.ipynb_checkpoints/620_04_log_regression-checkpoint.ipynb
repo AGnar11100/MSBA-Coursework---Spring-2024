{
 "cells": [
  {
   "cell_type": "markdown",
   "metadata": {},
   "source": [
    "# Logistic Regression.\n"
   ]
  },
  {
   "cell_type": "markdown",
   "metadata": {},
   "source": [
    "## Import required packages."
   ]
  },
  {
   "cell_type": "code",
   "execution_count": 1,
   "metadata": {},
   "outputs": [],
   "source": [
    "# !pip install mord"
   ]
  },
  {
   "cell_type": "code",
   "execution_count": 2,
   "metadata": {},
   "outputs": [],
   "source": [
    "from pathlib import Path\n",
    "\n",
    "import numpy as np\n",
    "import pandas as pd\n",
    "\n",
    "from sklearn.linear_model import LogisticRegression\n",
    "from sklearn.model_selection import train_test_split\n",
    "from mord import LogisticIT\n",
    "\n",
    "import statsmodels.api as sm\n",
    "\n",
    "from dmba import classificationSummary, gainsChart, liftChart\n",
    "\n",
    "%matplotlib inline\n",
    "import matplotlib.pylab as plt"
   ]
  },
  {
   "cell_type": "markdown",
   "metadata": {},
   "source": [
    "## Data exploration, cleaning, and preprocessing."
   ]
  },
  {
   "cell_type": "code",
   "execution_count": 3,
   "metadata": {
    "scrolled": true
   },
   "outputs": [
    {
     "name": "stdout",
     "output_type": "stream",
     "text": [
      "   ID  Age  Experience  Income  ZIP Code  Family  CCAvg  Education  Mortgage  \\\n",
      "0   1   25           1      49     91107       4    1.6          1         0   \n",
      "1   2   45          19      34     90089       3    1.5          1         0   \n",
      "2   3   39          15      11     94720       1    1.0          1         0   \n",
      "3   4   35           9     100     94112       1    2.7          2         0   \n",
      "4   5   35           8      45     91330       4    1.0          2         0   \n",
      "5   6   37          13      29     92121       4    0.4          2       155   \n",
      "6   7   53          27      72     91711       2    1.5          2         0   \n",
      "7   8   50          24      22     93943       1    0.3          3         0   \n",
      "8   9   35          10      81     90089       3    0.6          2       104   \n",
      "9  10   34           9     180     93023       1    8.9          3         0   \n",
      "\n",
      "   Personal Loan  Securities Account  CD Account  Online  CreditCard  \n",
      "0              0                   1           0       0           0  \n",
      "1              0                   1           0       0           0  \n",
      "2              0                   0           0       0           0  \n",
      "3              0                   0           0       0           0  \n",
      "4              0                   0           0       0           1  \n",
      "5              0                   0           0       1           0  \n",
      "6              0                   0           0       1           0  \n",
      "7              0                   0           0       0           1  \n",
      "8              0                   0           0       1           0  \n",
      "9              1                   0           0       0           0  \n"
     ]
    },
    {
     "data": {
      "text/plain": [
       "ID                      int64\n",
       "Age                     int64\n",
       "Experience              int64\n",
       "Income                  int64\n",
       "ZIP Code                int64\n",
       "Family                  int64\n",
       "CCAvg                 float64\n",
       "Education               int64\n",
       "Mortgage                int64\n",
       "Personal Loan           int64\n",
       "Securities Account      int64\n",
       "CD Account              int64\n",
       "Online                  int64\n",
       "CreditCard              int64\n",
       "dtype: object"
      ]
     },
     "execution_count": 3,
     "metadata": {},
     "output_type": "execute_result"
    }
   ],
   "source": [
    "# Create data frame for UniversalBank data set.\n",
    "bank_df = pd.read_csv('UniversalBank.csv')\n",
    "\n",
    "# Display the first 10 records of bank_df data frame.\n",
    "print(bank_df.head(10))\n",
    "\n",
    "# Identify variable types.\n",
    "bank_df.dtypes"
   ]
  },
  {
   "cell_type": "code",
   "execution_count": 4,
   "metadata": {},
   "outputs": [
    {
     "name": "stdout",
     "output_type": "stream",
     "text": [
      "Index(['Age', 'Experience', 'Income', 'Family', 'CCAvg', 'Mortgage',\n",
      "       'Personal_Loan', 'Securities_Account', 'CD_Account', 'Online',\n",
      "       'CreditCard', 'Education_Graduate', 'Education_Advanced/Professional'],\n",
      "      dtype='object')\n"
     ]
    },
    {
     "data": {
      "text/html": [
       "<div>\n",
       "<style scoped>\n",
       "    .dataframe tbody tr th:only-of-type {\n",
       "        vertical-align: middle;\n",
       "    }\n",
       "\n",
       "    .dataframe tbody tr th {\n",
       "        vertical-align: top;\n",
       "    }\n",
       "\n",
       "    .dataframe thead th {\n",
       "        text-align: right;\n",
       "    }\n",
       "</style>\n",
       "<table border=\"1\" class=\"dataframe\">\n",
       "  <thead>\n",
       "    <tr style=\"text-align: right;\">\n",
       "      <th></th>\n",
       "      <th>Age</th>\n",
       "      <th>Experience</th>\n",
       "      <th>Income</th>\n",
       "      <th>Family</th>\n",
       "      <th>CCAvg</th>\n",
       "      <th>Mortgage</th>\n",
       "      <th>Personal_Loan</th>\n",
       "      <th>Securities_Account</th>\n",
       "      <th>CD_Account</th>\n",
       "      <th>Online</th>\n",
       "      <th>CreditCard</th>\n",
       "      <th>Education_Graduate</th>\n",
       "      <th>Education_Advanced/Professional</th>\n",
       "    </tr>\n",
       "  </thead>\n",
       "  <tbody>\n",
       "    <tr>\n",
       "      <th>0</th>\n",
       "      <td>25</td>\n",
       "      <td>1</td>\n",
       "      <td>49</td>\n",
       "      <td>4</td>\n",
       "      <td>1.6</td>\n",
       "      <td>0</td>\n",
       "      <td>0</td>\n",
       "      <td>1</td>\n",
       "      <td>0</td>\n",
       "      <td>0</td>\n",
       "      <td>0</td>\n",
       "      <td>0</td>\n",
       "      <td>0</td>\n",
       "    </tr>\n",
       "    <tr>\n",
       "      <th>1</th>\n",
       "      <td>45</td>\n",
       "      <td>19</td>\n",
       "      <td>34</td>\n",
       "      <td>3</td>\n",
       "      <td>1.5</td>\n",
       "      <td>0</td>\n",
       "      <td>0</td>\n",
       "      <td>1</td>\n",
       "      <td>0</td>\n",
       "      <td>0</td>\n",
       "      <td>0</td>\n",
       "      <td>0</td>\n",
       "      <td>0</td>\n",
       "    </tr>\n",
       "    <tr>\n",
       "      <th>2</th>\n",
       "      <td>39</td>\n",
       "      <td>15</td>\n",
       "      <td>11</td>\n",
       "      <td>1</td>\n",
       "      <td>1.0</td>\n",
       "      <td>0</td>\n",
       "      <td>0</td>\n",
       "      <td>0</td>\n",
       "      <td>0</td>\n",
       "      <td>0</td>\n",
       "      <td>0</td>\n",
       "      <td>0</td>\n",
       "      <td>0</td>\n",
       "    </tr>\n",
       "    <tr>\n",
       "      <th>3</th>\n",
       "      <td>35</td>\n",
       "      <td>9</td>\n",
       "      <td>100</td>\n",
       "      <td>1</td>\n",
       "      <td>2.7</td>\n",
       "      <td>0</td>\n",
       "      <td>0</td>\n",
       "      <td>0</td>\n",
       "      <td>0</td>\n",
       "      <td>0</td>\n",
       "      <td>0</td>\n",
       "      <td>1</td>\n",
       "      <td>0</td>\n",
       "    </tr>\n",
       "    <tr>\n",
       "      <th>4</th>\n",
       "      <td>35</td>\n",
       "      <td>8</td>\n",
       "      <td>45</td>\n",
       "      <td>4</td>\n",
       "      <td>1.0</td>\n",
       "      <td>0</td>\n",
       "      <td>0</td>\n",
       "      <td>0</td>\n",
       "      <td>0</td>\n",
       "      <td>0</td>\n",
       "      <td>1</td>\n",
       "      <td>1</td>\n",
       "      <td>0</td>\n",
       "    </tr>\n",
       "  </tbody>\n",
       "</table>\n",
       "</div>"
      ],
      "text/plain": [
       "   Age  Experience  Income  Family  CCAvg  Mortgage  Personal_Loan  \\\n",
       "0   25           1      49       4    1.6         0              0   \n",
       "1   45          19      34       3    1.5         0              0   \n",
       "2   39          15      11       1    1.0         0              0   \n",
       "3   35           9     100       1    2.7         0              0   \n",
       "4   35           8      45       4    1.0         0              0   \n",
       "\n",
       "   Securities_Account  CD_Account  Online  CreditCard  Education_Graduate  \\\n",
       "0                   1           0       0           0                   0   \n",
       "1                   1           0       0           0                   0   \n",
       "2                   0           0       0           0                   0   \n",
       "3                   0           0       0           0                   1   \n",
       "4                   0           0       0           1                   1   \n",
       "\n",
       "   Education_Advanced/Professional  \n",
       "0                                0  \n",
       "1                                0  \n",
       "2                                0  \n",
       "3                                0  \n",
       "4                                0  "
      ]
     },
     "execution_count": 4,
     "metadata": {},
     "output_type": "execute_result"
    }
   ],
   "source": [
    "# Drop (remove)'ID' and 'ZIP Code' variables which are\n",
    "# not relevant for model building.\n",
    "bank_df = bank_df.drop(columns=['ID', 'ZIP Code'])\n",
    "\n",
    "# Replace two-words variable names with one-word using '_'.\n",
    "bank_df.columns = [s.strip().replace(' ', '_') for s in bank_df.columns]\n",
    "\n",
    "# Treat 'Education' as categorical variable with three categories:\n",
    "# 1 = Undergrad, 2 = Graduate,and 3 = Advanced/Professional.\n",
    "bank_df['Education'] = bank_df['Education'].astype('category')\n",
    "\n",
    "bank_df['Education'] = bank_df['Education'].cat.rename_categories({1:'Undergrad', 2: 'Graduate', 3: 'Advanced/Professional'})\n",
    "\n",
    "# Convert 'Education' categorical variable to dummy variables.\n",
    "bank_df = pd.get_dummies(bank_df, prefix_sep='_', drop_first=True)\n",
    "\n",
    "# Display updated columns.\n",
    "print(bank_df.columns)\n",
    "\n",
    "bank_df.head()"
   ]
  },
  {
   "cell_type": "markdown",
   "metadata": {},
   "source": [
    "## Develop and run logistic regression for Universal Bank data using single predictor."
   ]
  },
  {
   "cell_type": "code",
   "execution_count": 5,
   "metadata": {
    "scrolled": true
   },
   "outputs": [
    {
     "name": "stdout",
     "output_type": "stream",
     "text": [
      "Parameters of Single Predictor Logistic Regression Model\n",
      "Intercept: -6.049\n",
      "              Income\n",
      "Coefficient:   0.036\n"
     ]
    }
   ],
   "source": [
    "# Apply single predictor 'Income' and outcome 'Personal_Loan' \n",
    "# for single predictor logistic model.\n",
    "predictors = ['Income']\n",
    "outcome = 'Personal_Loan'\n",
    "\n",
    "# Create predictor X and outcome y variables.  \n",
    "X = bank_df[predictors]\n",
    "y = bank_df[outcome]\n",
    "\n",
    "# Partition data into training (60% or 0.6) and validation(40% or 0.4)\n",
    "# of the bank_df data frame.\n",
    "\n",
    "train_X, valid_X, train_y, valid_y = train_test_split(X, y, test_size=0.4, random_state=1)\n",
    "\n",
    "# Using LogisticRegression() function, fit single predictor logistic \n",
    "# model for training partition. Set penalty='l2' for regularization. \n",
    "# Regularization is any modification to a learning algorithm that is \n",
    "# intended to reduce its generalization error but not its training error.\n",
    "# Regularization can be used to train models that generalize \n",
    "# better on unseen data by preventing the algorithm from overfitting \n",
    "# the training data set.\n",
    "# solver='liblinear' is used for automated selection of the best parameters.\n",
    "log_reg_single = LogisticRegression(penalty='l2', C=1e42, solver='liblinear')\n",
    "log_reg_single.fit(train_X, train_y)\n",
    "\n",
    "# Display intercept and coefficients of the single predictor logistic\n",
    "# model.\n",
    "print('Parameters of Single Predictor Logistic Regression Model')\n",
    "print('Intercept:', np.round(log_reg_single.intercept_[0], decimals=3))\n",
    "print(pd.DataFrame({'Coefficient:': np.round(log_reg_single.coef_[0], decimals=3)}, \n",
    "                   index=X.columns).transpose())\n",
    "# logit = -6.049 + 0.036*Income"
   ]
  },
  {
   "cell_type": "code",
   "execution_count": 6,
   "metadata": {},
   "outputs": [
    {
     "name": "stdout",
     "output_type": "stream",
     "text": [
      "Classification for Validation Partition\n",
      "      Actual  Classification    p(0)    p(1)\n",
      "2764       0               0  0.9524  0.0476\n",
      "4767       0               0  0.9880  0.0120\n",
      "3814       0               0  0.9916  0.0084\n",
      "3499       0               0  0.8706  0.1294\n",
      "2735       0               0  0.9708  0.0292\n",
      "3922       0               0  0.9951  0.0049\n",
      "2701       0               0  0.9829  0.0171\n",
      "1179       0               0  0.9232  0.0768\n",
      "932        0               0  0.8785  0.1215\n",
      "792        0               0  0.9232  0.0768\n",
      "1852       0               0  0.9835  0.0165\n",
      "1185       0               0  0.9928  0.0072\n",
      "1724       0               0  0.9944  0.0056\n",
      "4080       0               0  0.9900  0.0100\n",
      "3823       0               0  0.9885  0.0115\n",
      "4054       0               0  0.9764  0.0236\n",
      "2721       1               1  0.4407  0.5593\n",
      "3903       0               0  0.9756  0.0244\n",
      "1865       0               0  0.9415  0.0585\n",
      "759        0               0  0.9803  0.0197\n"
     ]
    }
   ],
   "source": [
    "# Make predictions for validation set using single\n",
    "# predictor logistic model. \n",
    "\n",
    "# Predict single logistic model's results (0 or 1)\n",
    "# for validation set.\n",
    "log_pred_single = log_reg_single.predict(valid_X)\n",
    "\n",
    "\n",
    "# Predict single logistic model's probabilities p(0)\n",
    "# and p(1) for validation set.\n",
    "log_prob_single = np.round(log_reg_single.predict_proba(valid_X), \n",
    "                           decimals=4)\n",
    "\n",
    "# Create data frame to display simple logistic regression\n",
    "# resuts for validation set. \n",
    "log_result_single = pd.DataFrame({'Actual': valid_y, \n",
    "                        'Classification': log_pred_single,     \n",
    "                        'p(0)': [p[0] for p in log_prob_single],\n",
    "                        'p(1)': [p[1] for p in log_prob_single],\n",
    "                        })\n",
    "print('Classification for Validation Partition')\n",
    "print(log_result_single.head(20))\n"
   ]
  },
  {
   "cell_type": "code",
   "execution_count": 7,
   "metadata": {},
   "outputs": [
    {
     "name": "stdout",
     "output_type": "stream",
     "text": [
      "Predictions for Specific Records in Validation Set\n",
      "      Actual  Classification    p(0)    p(1)\n",
      "2764       0               0  0.9524  0.0476\n",
      "932        0               0  0.8785  0.1215\n",
      "2721       1               1  0.4407  0.5593\n",
      "702        1               0  0.8897  0.1103\n"
     ]
    }
   ],
   "source": [
    "## Display four different cases from validation set.\n",
    "interestingCases = [2764, 932, 2721, 702]\n",
    "print('Predictions for Specific Records in Validation Set')\n",
    "print(log_result_single.loc[interestingCases])"
   ]
  },
  {
   "cell_type": "code",
   "execution_count": 8,
   "metadata": {
    "scrolled": false
   },
   "outputs": [
    {
     "name": "stdout",
     "output_type": "stream",
     "text": [
      "Training Partition\n",
      "Confusion Matrix (Accuracy 0.9080)\n",
      "\n",
      "       Prediction\n",
      "Actual    0    1\n",
      "     0 2632   81\n",
      "     1  195   92\n",
      "\n",
      "Validation Partition\n",
      "Confusion Matrix (Accuracy 0.9110)\n",
      "\n",
      "       Prediction\n",
      "Actual    0    1\n",
      "     0 1763   44\n",
      "     1  134   59\n"
     ]
    }
   ],
   "source": [
    "# Confusion matrices for single predictor logistic model. \n",
    "\n",
    "# Identify  and display confusion matrix for training partition. \n",
    "print('Training Partition')\n",
    "classificationSummary(train_y, log_reg_single.predict(train_X))\n",
    "\n",
    "# Identify and display confusion matrix for validation partition. \n",
    "print()\n",
    "print('Validation Partition')\n",
    "classificationSummary(valid_y, log_reg_single.predict(valid_X))"
   ]
  },
  {
   "cell_type": "markdown",
   "metadata": {},
   "source": [
    "## Develop and run logistic regression for Universal Bank data using multiple predictors."
   ]
  },
  {
   "cell_type": "code",
   "execution_count": 9,
   "metadata": {},
   "outputs": [
    {
     "name": "stdout",
     "output_type": "stream",
     "text": [
      "Parameters of Logistic Regresion Model with Multiple Predictors\n",
      "Intercept: -12.105\n",
      "Coefficients for Predictors\n",
      "          Age  Experience  Income  Family  CCAvg  Mortgage  \\\n",
      "Coeff: -0.052       0.053   0.059    0.61   0.24     0.001   \n",
      "\n",
      "        Securities_Account  CD_Account  Online  CreditCard  \\\n",
      "Coeff:               -1.03       3.648  -0.679      -0.961   \n",
      "\n",
      "        Education_Graduate  Education_Advanced/Professional  \n",
      "Coeff:               4.199                            4.359  \n"
     ]
    }
   ],
   "source": [
    "# Create predictors X and outcome y variables.\n",
    "X = bank_df.drop(columns=['Personal_Loan'])\n",
    "y = bank_df['Personal_Loan']\n",
    "\n",
    "# Partition data into training (60% or 0.6) and validation(40% or 0.4)\n",
    "# of the bank_df data frame.\n",
    "train_X, valid_X, train_y, valid_y = train_test_split(X, y, \n",
    "                            test_size=0.4, random_state=1)\n",
    "\n",
    "# Using LogisticRegression() function, fit multiple predictors logistic \n",
    "# regression for training partition. Set penalty='l2' for regularization. \n",
    "# Regularization is any modification to a learning algorithm that is \n",
    "# intended to reduce its generalization error but not its training error.\n",
    "# Regularization can be used to train models that generalize \n",
    "# better on unseen data by preventing the algorithm from overfitting \n",
    "# the training data set.\n",
    "# solver='liblinear' is used for automated selection of the best parameters.\n",
    "log_reg = LogisticRegression(penalty='l2', C=1e42, solver='liblinear')\n",
    "log_reg.fit(train_X, train_y)\n",
    "\n",
    "# Show intercept and coefficients of the multiple predictors' logistic model.\n",
    "print('Parameters of Logistic Regresion Model with Multiple Predictors')\n",
    "print('Intercept:', np.round(log_reg.intercept_[0], decimals=3))\n",
    "print('Coefficients for Predictors')\n",
    "print(pd.DataFrame({'Coeff:': np.round(log_reg.coef_[0], decimals=3)}, \n",
    "                    index=X.columns).transpose())\n"
   ]
  },
  {
   "cell_type": "code",
   "execution_count": 10,
   "metadata": {
    "scrolled": false
   },
   "outputs": [
    {
     "name": "stdout",
     "output_type": "stream",
     "text": [
      "Classification for Validation Partition\n",
      "      Actual  Classification    p(0)    p(1)\n",
      "2764       0               0  0.9759  0.0241\n",
      "4767       0               0  0.9999  0.0001\n",
      "3814       0               0  0.9999  0.0001\n",
      "3499       0               0  0.9984  0.0016\n",
      "2735       0               0  0.9562  0.0438\n",
      "3922       0               0  0.9975  0.0025\n",
      "2701       0               0  0.9962  0.0038\n",
      "1179       0               0  0.9588  0.0412\n",
      "932        0               1  0.3319  0.6681\n",
      "792        0               0  0.9344  0.0656\n",
      "1852       0               0  0.9465  0.0535\n",
      "1185       0               0  0.9999  0.0001\n",
      "1724       0               0  0.9986  0.0014\n",
      "4080       0               0  0.9988  0.0012\n",
      "3823       0               0  0.9874  0.0126\n",
      "4054       0               0  0.9988  0.0012\n",
      "2721       1               1  0.0315  0.9685\n",
      "3903       0               0  0.9999  0.0001\n",
      "1865       0               0  0.8972  0.1028\n",
      "759        0               0  0.9910  0.0090\n"
     ]
    }
   ],
   "source": [
    "# Make predictions for validation set using multiple\n",
    "# predictors logistic regression model. \n",
    "\n",
    "# Predict multiple predictors logistic model's results \n",
    "# (0 or 1) for validation set.\n",
    "log_pred = log_reg.predict(valid_X)\n",
    "\n",
    "# Predict multiple predictors logistic model's probabilities \n",
    "# p(0) and p(1) for validation set.\n",
    "log_prob = np.round(log_reg.predict_proba(valid_X), decimals=4)\n",
    "\n",
    "# Create data frame to show multiple predictors logistic\n",
    "# model resuts for validation set. \n",
    "log_result = pd.DataFrame({'Actual': valid_y, \n",
    "                    'Classification': log_pred,\n",
    "                    'p(0)': [p[0] for p in log_prob],\n",
    "                    'p(1)': [p[1] for p in log_prob]\n",
    "})\n",
    "\n",
    "print('Classification for Validation Partition')\n",
    "print(log_result.head(20))"
   ]
  },
  {
   "cell_type": "code",
   "execution_count": 11,
   "metadata": {
    "scrolled": true
   },
   "outputs": [
    {
     "name": "stdout",
     "output_type": "stream",
     "text": [
      "Training Partition\n",
      "Confusion Matrix (Accuracy 0.9607)\n",
      "\n",
      "       Prediction\n",
      "Actual    0    1\n",
      "     0 2685   28\n",
      "     1   90  197\n",
      "\n",
      "Validation Partition\n",
      "Confusion Matrix (Accuracy 0.9595)\n",
      "\n",
      "       Prediction\n",
      "Actual    0    1\n",
      "     0 1791   16\n",
      "     1   65  128\n"
     ]
    }
   ],
   "source": [
    "# Confusion matrices for multiple predictors logistic model. \n",
    "\n",
    "# Identify and display confusion matrix for training partition. \n",
    "print('Training Partition')\n",
    "classificationSummary(train_y, log_reg.predict(train_X))\n",
    "\n",
    "# Identify and display confusion matrix for validation partition. \n",
    "print()\n",
    "print('Validation Partition')\n",
    "classificationSummary(valid_y, log_reg.predict(valid_X))"
   ]
  },
  {
   "cell_type": "code",
   "execution_count": 12,
   "metadata": {
    "scrolled": false
   },
   "outputs": [
    {
     "name": "stdout",
     "output_type": "stream",
     "text": [
      "\n",
      "Classification for Personal Loan using New Data\n",
      "   Age  Experience  Income  Family  CCAvg  Mortgage  Securities_Account  \\\n",
      "0    0           0     115       1      0         0                   0   \n",
      "1    0           0     124       4      0         0                   0   \n",
      "2    0           0      84       2      0         0                   0   \n",
      "\n",
      "   CD_Account  Online  CreditCard  Education_Graduate  \\\n",
      "0           0       0           0                   0   \n",
      "1           0       1           0                   0   \n",
      "2           0       1           0                   1   \n",
      "\n",
      "   Education_Advanced/Professional  Classification    p(0)    p(1)  \n",
      "0                                1               0  0.5961  0.4039  \n",
      "1                                0               0  0.9604  0.0396  \n",
      "2                                0               0  0.9196  0.0804  \n"
     ]
    }
   ],
   "source": [
    "# Make classification for new Universal Bank data using \n",
    "# multiple predictor logistics regression model. \n",
    "\n",
    "# Consider dataframe new_data with 3 new records, for \n",
    "# which classification of 'Personal Loan' is required. \n",
    "# Notice that the 'Personal Loan' outcome variable is \n",
    "# not present in these records. \n",
    "new_data = pd.DataFrame({\n",
    "            'Age': [0, 0, 0],  \n",
    "            'Experience': [0, 0, 0],\n",
    "            'Income': [115, 122, 84],\n",
    "            'Family': [1, 4, 2],  \n",
    "            'CCAvg': [0, 0, 0],\n",
    "            'Mortgage': [0, 0, 0],\n",
    "            'Securities_Account': [0, 0, 0],  \n",
    "            'CD_Account': [0, 0, 0],  \n",
    "            'Online': [0, 1, 1],  \n",
    "            'CreditCard': [0, 0, 0],\n",
    "            'Education_Graduate': [0, 0, 1],\n",
    "            'Education_Advanced/Professional': [1, 0, 0] \n",
    "})\n",
    "\n",
    "# Make classifications for new Universal Bank data.\n",
    "pred_new_data = log_reg.predict(new_data)\n",
    "\n",
    "# Predict multiple predictors logistic model's probabilities \n",
    "# p(0) and p(1) for new Universal Bank data.\n",
    "pred_new_prob = np.round(log_reg.predict_proba(new_data),\n",
    "                    decimals = 4)\n",
    "\n",
    "# Display new Universal Bank data and classifications \n",
    "# for new data.\n",
    "pred_new_result = pd.DataFrame({\n",
    "            'Age': [0, 0, 0],  \n",
    "            'Experience': [0, 0, 0],\n",
    "            'Income': [115, 124, 84],\n",
    "            'Family': [1, 4, 2],  \n",
    "            'CCAvg': [0, 0, 0],\n",
    "            'Mortgage': [0, 0, 0],\n",
    "            'Securities_Account': [0, 0, 0],  \n",
    "            'CD_Account': [0, 0, 0],  \n",
    "            'Online': [0, 1, 1],  \n",
    "            'CreditCard': [0, 0, 0],\n",
    "            'Education_Graduate': [0, 0, 1],\n",
    "            'Education_Advanced/Professional': [1, 0, 0], \n",
    "            'Classification': pred_new_data,\n",
    "            'p(0)': [p[0] for p in pred_new_prob],\n",
    "            'p(1)': [p[1] for p in pred_new_prob],\n",
    "            \n",
    "})\n",
    "print()\n",
    "print('Classification for Personal Loan using New Data')\n",
    "print(pred_new_result)"
   ]
  },
  {
   "cell_type": "markdown",
   "metadata": {},
   "source": [
    "## Create and display Gains chart and Lift chart for Unviersal Bank validation partition. "
   ]
  },
  {
   "cell_type": "code",
   "execution_count": 13,
   "metadata": {
    "scrolled": false
   },
   "outputs": [
    {
     "data": {
      "image/png": "[encoded data removed]",
      "text/plain": [
       "<Figure size 1000x400 with 2 Axes>"
      ]
     },
     "metadata": {},
     "output_type": "display_data"
    }
   ],
   "source": [
    "# Develop and display Gains chart and Lift chart. \n",
    "\n",
    "# Create a new df data frame from logit_result data frame\n",
    "# that is sorted by p(1) in descending order.  \n",
    "df = log_result.sort_values(by=['p(1)'], ascending=False)\n",
    "\n",
    "# Create a data plot with two plots (ncols=2) \n",
    "# back-to-back (nrows=1).\n",
    "fig, axes = plt.subplots(nrows=1, ncols=2, figsize=(10, 4))\n",
    "\n",
    "# Using gainsChart() function, create Gains chart. \n",
    "# In the Gains chart, the 'lift' over the base curve \n",
    "# indicates for a given number of cases (on x-axis), \n",
    "# the additional responders that you can identify \n",
    "# by using the logistic regression model.\n",
    "gainsChart(df.Actual, ax=axes[0], color='Blue')\n",
    "\n",
    "# Using liftChart() function, create decile-wise Lift chart. \n",
    "# In this Lift chart, taking the 10% of the records \n",
    "# that are ranked by the model as 'most probable 1's' \n",
    "# yields 7.8 times as many 1's as would simply selecting \n",
    "# 10% of the records at random.\n",
    "liftChart(df['p(1)'], title=False, ax=axes[1])\n",
    " \n",
    "# Display the charts. \n",
    "plt.tight_layout()\n",
    "plt.show()"
   ]
  },
  {
   "cell_type": "markdown",
   "metadata": {},
   "source": [
    "## Develop and run logistic regression for Universal Bank data using statsmodels library.  "
   ]
  },
  {
   "cell_type": "code",
   "execution_count": 14,
   "metadata": {
    "scrolled": false
   },
   "outputs": [
    {
     "name": "stdout",
     "output_type": "stream",
     "text": [
      "                 Generalized Linear Model Regression Results                  \n",
      "==============================================================================\n",
      "Dep. Variable:          Personal_Loan   No. Observations:                 3000\n",
      "Model:                            GLM   Df Residuals:                     2987\n",
      "Model Family:                Binomial   Df Model:                           12\n",
      "Link Function:                  Logit   Scale:                          1.0000\n",
      "Method:                          IRLS   Log-Likelihood:                -340.15\n",
      "Date:                Mon, 15 Apr 2024   Deviance:                       680.30\n",
      "Time:                        18:28:31   Pearson chi2:                 8.10e+03\n",
      "No. Iterations:                     8   Pseudo R-squ. (CS):             0.3325\n",
      "Covariance Type:            nonrobust                                         \n",
      "===================================================================================================\n",
      "                                      coef    std err          z      P>|z|      [0.025      0.975]\n",
      "---------------------------------------------------------------------------------------------------\n",
      "const                             -12.5634      2.336     -5.377      0.000     -17.143      -7.984\n",
      "Age                                -0.0354      0.086     -0.412      0.680      -0.204       0.133\n",
      "Experience                          0.0369      0.086      0.431      0.666      -0.131       0.205\n",
      "Income                              0.0589      0.004     15.044      0.000       0.051       0.067\n",
      "Family                              0.6128      0.103      5.931      0.000       0.410       0.815\n",
      "CCAvg                               0.2408      0.060      4.032      0.000       0.124       0.358\n",
      "Mortgage                            0.0010      0.001      1.301      0.193      -0.001       0.003\n",
      "Securities_Account                 -1.0305      0.422     -2.443      0.015      -1.857      -0.204\n",
      "CD_Account                          3.6628      0.460      7.961      0.000       2.761       4.565\n",
      "Online                             -0.6794      0.216     -3.140      0.002      -1.103      -0.255\n",
      "CreditCard                         -0.9609      0.274     -3.507      0.000      -1.498      -0.424\n",
      "Education_Graduate                  4.2075      0.364     11.573      0.000       3.495       4.920\n",
      "Education_Advanced/Professional     4.3580      0.365     11.937      0.000       3.642       5.074\n",
      "===================================================================================================\n"
     ]
    }
   ],
   "source": [
    "# Same initial preprocessing and creating dummies.\n",
    "\n",
    "# Create a data frame for statsmodels package. \n",
    "bank_df_sm = bank_df \n",
    "\n",
    "# Add constant column.\n",
    "bank_df_sm = sm.add_constant(bank_df_sm, prepend=True)\n",
    "\n",
    "# Create predictors X and output variable y.   \n",
    "X = bank_df_sm.drop(columns=['Personal_Loan'])\n",
    "y = bank_df_sm['Personal_Loan']\n",
    "\n",
    "# Partition data into training (60% or 0.6) and validation(40% or 0.4)\n",
    "# of the bank_df data frame.\n",
    "train_X, valid_X, train_y, valid_y = train_test_split(X, y, test_size=0.4, random_state=1)\n",
    "\n",
    "# Use GLM (generalized linear model) with the binomial family \n",
    "# to fit a logistic regression.\n",
    "log_reg_sm = sm.GLM(train_y, train_X, family=sm.families.Binomial())\n",
    "log_result_sm = log_reg_sm.fit()\n",
    "print(log_result_sm.summary())"
   ]
  },
  {
   "cell_type": "code",
   "execution_count": 15,
   "metadata": {
    "scrolled": false
   },
   "outputs": [
    {
     "name": "stdout",
     "output_type": "stream",
     "text": [
      "                 Generalized Linear Model Regression Results                  \n",
      "==============================================================================\n",
      "Dep. Variable:          Personal_Loan   No. Observations:                 3000\n",
      "Model:                            GLM   Df Residuals:                     2990\n",
      "Model Family:                Binomial   Df Model:                            9\n",
      "Link Function:                  Logit   Scale:                          1.0000\n",
      "Method:                          IRLS   Log-Likelihood:                -341.09\n",
      "Date:                Mon, 15 Apr 2024   Deviance:                       682.18\n",
      "Time:                        18:28:31   Pearson chi2:                 7.61e+03\n",
      "No. Iterations:                     8   Pseudo R-squ. (CS):             0.3320\n",
      "Covariance Type:            nonrobust                                         \n",
      "===================================================================================================\n",
      "                                      coef    std err          z      P>|z|      [0.025      0.975]\n",
      "---------------------------------------------------------------------------------------------------\n",
      "const                             -13.3660      0.767    -17.424      0.000     -14.870     -11.863\n",
      "Income                              0.0595      0.004     15.315      0.000       0.052       0.067\n",
      "Family                              0.6137      0.103      5.950      0.000       0.412       0.816\n",
      "CCAvg                               0.2314      0.059      3.933      0.000       0.116       0.347\n",
      "Securities_Account                 -1.0096      0.420     -2.404      0.016      -1.833      -0.186\n",
      "CD_Account                          3.6736      0.458      8.018      0.000       2.776       4.572\n",
      "Online                             -0.6806      0.216     -3.155      0.002      -1.103      -0.258\n",
      "CreditCard                         -0.9583      0.273     -3.513      0.000      -1.493      -0.424\n",
      "Education_Graduate                  4.1704      0.362     11.530      0.000       3.461       4.879\n",
      "Education_Advanced/Professional     4.3035      0.360     11.962      0.000       3.598       5.009\n",
      "===================================================================================================\n"
     ]
    }
   ],
   "source": [
    "# Remove 3 predcitor variables ('Age', 'Experience', and\n",
    "# 'Mortgage'), and rerun the logistic regression model\n",
    "# using GLM algorithm. \n",
    "\n",
    "# Create predictors X and output variable y.   \n",
    "X = bank_df_sm.drop(columns=['Personal_Loan','Age','Experience','Mortgage'])\n",
    "y = bank_df_sm['Personal_Loan']\n",
    "\n",
    "# Partition data into training (60% or 0.6) and validation(40% or 0.4)\n",
    "# of the bank_df data frame.\n",
    "train_X, valid_X, train_y, valid_y = train_test_split(X, y, test_size=0.4, random_state=1)\n",
    "\n",
    "# Use GLM (general linear model) with the binomial family to fit a logistic regression.\n",
    "log_reg_sm = sm.GLM(train_y, train_X, family=sm.families.Binomial())\n",
    "log_result_sm = log_reg_sm.fit()\n",
    "print(log_result_sm.summary())"
   ]
  },
  {
   "cell_type": "markdown",
   "metadata": {},
   "source": [
    "## Logistic regression for multi-class classification for car accidents (accidentsnn.csv). "
   ]
  },
  {
   "cell_type": "code",
   "execution_count": 16,
   "metadata": {},
   "outputs": [
    {
     "name": "stdout",
     "output_type": "stream",
     "text": [
      "   ALCHL_I  PROFIL_I_R  SUR_COND  VEH_INVL  MAX_SEV_IR\n",
      "0        2           0         1         1           0\n",
      "1        2           1         1         1           2\n",
      "2        1           0         1         1           0\n",
      "3        2           0         2         2           1\n",
      "4        2           1         1         2           1\n",
      "5        2           0         1         1           0\n",
      "6        2           0         2         1           2\n",
      "7        2           1         2         1           1\n",
      "8        2           1         1         1           1\n",
      "9        2           0         1         1           0\n",
      "\n",
      "Number of rows and Columns in Data Set\n",
      "(999, 5)\n",
      "\n",
      "Data Types in Columns\n",
      "ALCHL_I       int64\n",
      "PROFIL_I_R    int64\n",
      "SUR_COND      int64\n",
      "VEH_INVL      int64\n",
      "MAX_SEV_IR    int64\n",
      "dtype: object\n"
     ]
    }
   ],
   "source": [
    "# Create data frame for accidentsnn data set.\n",
    "# Display the first 10 records of the data set. \n",
    "# ALCHL_I - Alcohol involvement (1) or \n",
    "#           noninvolvement (2) in accident.\n",
    "# PROFIL_I_R - Profile of the roadway: level (1), \n",
    "#              other (0). \n",
    "# SUR_COND – Surface condition of the road: dry (1), \n",
    "#            wet (2), snow/slush (3), ice (4), \n",
    "#            unknown (9).\n",
    "# VEH_INVL – Number of vehicles involved.\n",
    "# MAX_SEV_IR – Severity of accident: no injury (0), \n",
    "#              nonfatal injury (1), fatality (2).\n",
    "accident_df = pd.read_csv('accidentsnn.csv')\n",
    "print(accident_df.head(10))\n",
    "\n",
    "# Display dimensions (rows and columns) of data frame.\n",
    "print()\n",
    "print('Number of rows and Columns in Data Set')\n",
    "print(accident_df.shape)\n",
    "\n",
    "# Identify variable types.\n",
    "print()\n",
    "print('Data Types in Columns')\n",
    "print(accident_df.dtypes)"
   ]
  },
  {
   "cell_type": "code",
   "execution_count": 17,
   "metadata": {
    "scrolled": false
   },
   "outputs": [
    {
     "name": "stdout",
     "output_type": "stream",
     "text": [
      "\n",
      "First 10 records of Updated Accidents Data Set\n",
      "   ALCHL_I  PROFIL_I_R  VEH_INVL  MAX_SEV_IR  SUR_COND_1  SUR_COND_2  \\\n",
      "0        2           0         1           0           1           0   \n",
      "1        2           1         1           2           1           0   \n",
      "2        1           0         1           0           1           0   \n",
      "3        2           0         2           1           0           1   \n",
      "4        2           1         2           1           1           0   \n",
      "5        2           0         1           0           1           0   \n",
      "6        2           0         1           2           0           1   \n",
      "7        2           1         1           1           0           1   \n",
      "8        2           1         1           1           1           0   \n",
      "9        2           0         1           0           1           0   \n",
      "\n",
      "   SUR_COND_3  SUR_COND_4  \n",
      "0           0           0  \n",
      "1           0           0  \n",
      "2           0           0  \n",
      "3           0           0  \n",
      "4           0           0  \n",
      "5           0           0  \n",
      "6           0           0  \n",
      "7           0           0  \n",
      "8           0           0  \n",
      "9           0           0  \n",
      "Index(['ALCHL_I', 'PROFIL_I_R', 'VEH_INVL', 'MAX_SEV_IR', 'SUR_COND_1',\n",
      "       'SUR_COND_2', 'SUR_COND_3', 'SUR_COND_4'],\n",
      "      dtype='object')\n"
     ]
    }
   ],
   "source": [
    "# Remove for SUR_COND (surface condition) the class \n",
    "# unknown = 9. For that, convert SUR_COND into categorical variable. \n",
    "accident_df.SUR_COND = accident_df.SUR_COND.astype('category')\n",
    "\n",
    "# Convert the categorical data into dummy variables\n",
    "# exclude the column for SUR_COND_9 (unknown = 9).\n",
    "# Create updated accident_upd data frame.\n",
    "accident_upd = pd.get_dummies(accident_df, \n",
    "            columns=['SUR_COND']).drop(columns=['SUR_COND_9'])\n",
    "\n",
    "# Display the first 10 records of accident_upd data frame.\n",
    "print()\n",
    "print('First 10 records of Updated Accidents Data Set')\n",
    "print(accident_upd.head(10))\n",
    "print(accident_upd.columns)"
   ]
  },
  {
   "cell_type": "code",
   "execution_count": 18,
   "metadata": {},
   "outputs": [],
   "source": [
    "# Identify outcome for car accidents. The outcome variable \n",
    "# is 'MAX_SEV_IR' - maximum severity from an accident:\n",
    "# 0 = No Injury, 1 = Nonfatal Injury, 2 = Fatality. \n",
    "# It is a multi-class outcome variable with 3 classes.\n",
    "outcome = 'MAX_SEV_IR'\n",
    "\n",
    "# Identify predictors for car accidents. \n",
    "predictors = ['ALCHL_I', 'PROFIL_I_R', 'SUR_COND_1','SUR_COND_2', \n",
    "              'SUR_COND_3', 'SUR_COND_4','VEH_INVL']\n",
    "\n",
    "# Create outcome (y) and predictor (X) variables. \n",
    "y = accident_upd[outcome]\n",
    "X = accident_upd[predictors]\n",
    "\n",
    "# Partition data into training (60% or 0.6) and validation(40% or 0.4)\n",
    "# of the accidents_upd data frame.\n",
    "train_X, valid_X, train_y, valid_y = train_test_split(X, y, \n",
    "                            test_size=0.4, random_state=1)\n"
   ]
  },
  {
   "cell_type": "code",
   "execution_count": 19,
   "metadata": {
    "scrolled": false
   },
   "outputs": [
    {
     "name": "stdout",
     "output_type": "stream",
     "text": [
      "Ordinal Logistic Regression\n",
      "  Intercepts [-3.217 -1.54 ]\n",
      "  Coefficients [-1.253  2.106 -3.405 -1.874 -1.733 -1.533  0.821]\n",
      "\n",
      "\n",
      "Classification for First 10 Records in Validation Data Set\n",
      "     Actual  Classification    P(0)    P(1)    P(2)\n",
      "507       2               1  0.2866  0.3959  0.3175\n",
      "608       2               0  0.7408  0.1978  0.0614\n",
      "452       1               0  0.5844  0.2983  0.1173\n",
      "368       1               1  0.2138  0.3789  0.4073\n",
      "242       1               0  0.5844  0.2983  0.1173\n",
      "928       0               0  0.8666  0.1054  0.0280\n",
      "262       0               0  0.8666  0.1054  0.0280\n",
      "809       0               0  0.8666  0.1054  0.0280\n",
      "318       2               1  0.3560  0.3913  0.2527\n",
      "49        1               1  0.1843  0.3630  0.4527\n"
     ]
    }
   ],
   "source": [
    "# Develop and display ordinal logistic model. \n",
    "\n",
    "# Change np.int to int in the latest update of NumPy.\n",
    "np.int = int\n",
    "\n",
    "# Utilize LogisticIT() function from mord library to \n",
    "# develop ordinal logistic regression. alpha = 0 \n",
    "# means no regularizaiton in this function. \n",
    "logit_ord = LogisticIT(alpha=0)\n",
    "logit_ord.fit(train_X, train_y)\n",
    "\n",
    "# Display intercept (logit_ord.theta) and coefficients of\n",
    "# the ordinal logistic regression (logit_ord.coef_). \n",
    "print('Ordinal Logistic Regression')\n",
    "print('  Intercepts', np.round(logit_ord.theta_, decimals=3))\n",
    "print('  Coefficients', np.round(logit_ord.coef_, decimals=3))\n",
    "print()\n",
    "\n",
    "# Classify ordinal logistic outcomes results_ord and \n",
    "# probabilities prob_ord for validation partition, \n",
    "# i.e., p(0), p(1), and p(2) for car accidents data set.\n",
    "results_ord = logit_ord.predict(valid_X)\n",
    "prob_ord = np.round(logit_ord.predict_proba(valid_X), decimals=4)\n",
    "\n",
    "# Create data frame to show ordinal logistic\n",
    "# model resuts for car accidents data set.\n",
    "print()\n",
    "print('Classification for First 10 Records in Validation Data Set')\n",
    "results_ord = pd.DataFrame({\n",
    "    'Actual': valid_y, 'Classification': results_ord,\n",
    "    'P(0)': [p[0] for p in prob_ord],\n",
    "    'P(1)': [p[1] for p in prob_ord],\n",
    "    'P(2)': [p[2] for p in prob_ord],\n",
    "})\n",
    "\n",
    "# Display 10 top records with actual classes and classification \n",
    "# results, and respective probabilities. \n",
    "print(results_ord.head(10))"
   ]
  },
  {
   "cell_type": "code",
   "execution_count": 20,
   "metadata": {},
   "outputs": [
    {
     "name": "stdout",
     "output_type": "stream",
     "text": [
      "Training Partition for Ordinal Logistic Model\n",
      "Confusion Matrix (Accuracy 0.7679)\n",
      "\n",
      "       Prediction\n",
      "Actual   0   1   2\n",
      "     0 331   1   0\n",
      "     1  13 117  50\n",
      "     2  35  40  12\n",
      "\n",
      "Validation Partition for Ordinal Logistic Model\n",
      "Confusion Matrix (Accuracy 0.7625)\n",
      "\n",
      "       Prediction\n",
      "Actual   0   1   2\n",
      "     0 219   0   0\n",
      "     1  19  78  22\n",
      "     2  29  25   8\n"
     ]
    }
   ],
   "source": [
    "# Identify and display confusion matrix for training partition. \n",
    "print('Training Partition for Ordinal Logistic Model')\n",
    "classificationSummary(train_y, logit_ord.predict(train_X))\n",
    "\n",
    "# Identify and display confusion matrix for validation partition. \n",
    "print()\n",
    "print('Validation Partition for Ordinal Logistic Model')\n",
    "classificationSummary(valid_y, logit_ord.predict(valid_X))"
   ]
  },
  {
   "cell_type": "code",
   "execution_count": 21,
   "metadata": {
    "scrolled": false
   },
   "outputs": [
    {
     "name": "stdout",
     "output_type": "stream",
     "text": [
      "\n",
      "Nominal Logistic Regression\n",
      "  Intercepts [ 13.495 -28.245  14.75 ]\n",
      "  Coefficients [[  0.917 -47.324 -10.369 -27.288 -19.74  -30.048  -2.047]\n",
      " [  0.164  25.005  24.272  34.543  30.571  36.027   1.157]\n",
      " [ -1.081  22.319 -13.903  -7.255 -10.831  -5.979   0.89 ]]\n",
      "\n",
      "\n",
      "Classification for First 10 Records in Validation Data Set\n",
      "     Actual  Classification    P(0)    P(1)    P(2)\n",
      "507       2               1  0.0000  0.5779  0.4221\n",
      "608       2               0  0.5614  0.0624  0.3762\n",
      "452       1               1  0.0000  0.8263  0.1737\n",
      "368       1               1  0.0000  0.8902  0.1098\n",
      "242       1               1  0.0000  0.8263  0.1737\n",
      "928       0               0  0.9615  0.0043  0.0342\n",
      "262       0               0  0.9615  0.0043  0.0342\n",
      "809       0               0  0.9615  0.0043  0.0342\n",
      "318       2               2  0.0033  0.2196  0.7771\n",
      "49        1               2  0.0000  0.3492  0.6508\n"
     ]
    }
   ],
   "source": [
    "# Develop and display nominal logistic model for\n",
    "# car accidents data set.\n",
    "\n",
    "# Utilize LogisticRegression() function to \n",
    "# develop nominal logistic regression. \n",
    "# 'liblinear' algorithm for solver does not support \n",
    "# 'multinominal' class. Instead, the 'lbfgs' algorithm\n",
    "# is used, which supports 'multinominal' class.\n",
    "logit_nom = LogisticRegression(penalty=\"l2\", solver='lbfgs', \n",
    "               max_iter=3000, C=1e24, multi_class='multinomial')\n",
    "logit_nom.fit(train_X, train_y)\n",
    "\n",
    "# Display intercept (logit_nom.interpcept_) and coefficients of\n",
    "# the nominal logistic regression (logit_nom.coef_). \n",
    "print()\n",
    "print('Nominal Logistic Regression')\n",
    "print('  Intercepts', np.round(logit_nom.intercept_, decimals=3))\n",
    "print('  Coefficients', np.round(logit_nom.coef_, decimals=3))\n",
    "print()\n",
    "\n",
    "# Classify nominal logistic outcomes results_nom and \n",
    "# probabilities prob_nom for validation partition, \n",
    "# i.e., p(0), p(1), and p(2) for car accidents data set.\n",
    "results_nom = logit_nom.predict(valid_X)\n",
    "prob_nom = np.round(logit_nom.predict_proba(valid_X), decimals = 4)\n",
    "\n",
    "# Create data frame to show nominal logistic\n",
    "# model resuts for car accidents data set. \n",
    "print()\n",
    "print('Classification for First 10 Records in Validation Data Set')\n",
    "results_nom = pd.DataFrame({\n",
    "    'Actual': valid_y, 'Classification': results_nom,\n",
    "    'P(0)': [p[0] for p in prob_nom],\n",
    "    'P(1)': [p[1] for p in prob_nom],\n",
    "    'P(2)': [p[2] for p in prob_nom],\n",
    "})\n",
    "\n",
    "# Display 10 top records with actual classes and classification \n",
    "# results, and respective probabilities.  \n",
    "print(results_nom.head(10))\n"
   ]
  },
  {
   "cell_type": "code",
   "execution_count": 22,
   "metadata": {
    "scrolled": true
   },
   "outputs": [
    {
     "name": "stdout",
     "output_type": "stream",
     "text": [
      "Training Partition for Nominal Logistic Model\n",
      "Confusion Matrix (Accuracy 0.8731)\n",
      "\n",
      "       Prediction\n",
      "Actual   0   1   2\n",
      "     0 331   0   1\n",
      "     1   0 172   8\n",
      "     2  30  37  20\n",
      "\n",
      "Validation Partition for Nominal Logistic Model\n",
      "Confusion Matrix (Accuracy 0.8650)\n",
      "\n",
      "       Prediction\n",
      "Actual   0   1   2\n",
      "     0 218   0   1\n",
      "     1   0 116   3\n",
      "     2  24  26  12\n"
     ]
    }
   ],
   "source": [
    "# Identify and display confusion matrix for training partition. \n",
    "print('Training Partition for Nominal Logistic Model')\n",
    "classificationSummary(train_y, logit_nom.predict(train_X))\n",
    "\n",
    "# Identify and display confusion matrix for validation partition. \n",
    "print()\n",
    "print('Validation Partition for Nominal Logistic Model')\n",
    "classificationSummary(valid_y, logit_nom.predict(valid_X))"
   ]
  },
  {
   "cell_type": "code",
   "execution_count": null,
   "metadata": {},
   "outputs": [],
   "source": []
  }
 ],
 "metadata": {
  "kernelspec": {
   "display_name": "Python 3 (ipykernel)",
   "language": "python",
   "name": "python3"
  },
  "language_info": {
   "codemirror_mode": {
    "name": "ipython",
    "version": 3
   },
   "file_extension": ".py",
   "mimetype": "text/x-python",
   "name": "python",
   "nbconvert_exporter": "python",
   "pygments_lexer": "ipython3",
   "version": "3.11.5"
  }
 },
 "nbformat": 4,
 "nbformat_minor": 2
}
