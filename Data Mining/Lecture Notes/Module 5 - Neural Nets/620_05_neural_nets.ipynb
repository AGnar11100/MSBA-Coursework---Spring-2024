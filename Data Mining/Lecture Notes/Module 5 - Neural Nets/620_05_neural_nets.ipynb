{
 "cells": [
  {
   "cell_type": "markdown",
   "metadata": {},
   "source": [
    "# Neural Nets."
   ]
  },
  {
   "cell_type": "markdown",
   "metadata": {},
   "source": [
    "## Import required packages."
   ]
  },
  {
   "cell_type": "code",
   "execution_count": 1,
   "metadata": {},
   "outputs": [],
   "source": [
    "from pathlib import Path\n",
    "\n",
    "import pandas as pd\n",
    "import numpy as np\n",
    "\n",
    "from sklearn.model_selection import train_test_split\n",
    "from sklearn.model_selection import cross_val_score, GridSearchCV\n",
    "from sklearn.neural_network import MLPClassifier, MLPRegressor \n",
    "from sklearn.preprocessing import StandardScaler\n",
    "\n",
    "from mord import LogisticIT\n",
    "\n",
    "from dmba import classificationSummary, regressionSummary\n",
    "\n",
    "%matplotlib inline\n",
    "import matplotlib.pylab as plt"
   ]
  },
  {
   "cell_type": "markdown",
   "metadata": {},
   "source": [
    "## Neural network for Tiny data set. "
   ]
  },
  {
   "cell_type": "code",
   "execution_count": 2,
   "metadata": {},
   "outputs": [
    {
     "name": "stdout",
     "output_type": "stream",
     "text": [
      "   Obs.  Fat  Salt Acceptance\n",
      "0     1  0.2   0.9       like\n",
      "1     2  0.1   0.1    dislike\n",
      "2     3  0.2   0.4    dislike\n",
      "3     4  0.2   0.5    dislike\n",
      "4     5  0.4   0.5       like\n",
      "5     6  0.3   0.8       like\n"
     ]
    },
    {
     "data": {
      "text/plain": [
       "Obs.            int64\n",
       "Fat           float64\n",
       "Salt          float64\n",
       "Acceptance     object\n",
       "dtype: object"
      ]
     },
     "execution_count": 2,
     "metadata": {},
     "output_type": "execute_result"
    }
   ],
   "source": [
    "# Create data frame for Tiny data set.\n",
    "tiny_df = pd.read_csv('TinyData.csv')\n",
    "\n",
    "# Display the 6 records of tiny_df data frame.\n",
    "print(tiny_df.head(6))\n",
    "\n",
    "# Identify variable types.\n",
    "tiny_df.dtypes"
   ]
  },
  {
   "cell_type": "code",
   "execution_count": 3,
   "metadata": {},
   "outputs": [
    {
     "name": "stdout",
     "output_type": "stream",
     "text": [
      "Outcome Classes Sorted in Ascending Order\n",
      "['dislike', 'like']\n"
     ]
    }
   ],
   "source": [
    "# Apply 'Fat' and 'Salt' as predictors and 'Acceptance' \n",
    "# as outcome for neural network model.\n",
    "predictors = ['Fat', 'Salt']\n",
    "outcome = 'Acceptance'\n",
    "\n",
    "# Create predictor X and outcome y variables.   \n",
    "X = tiny_df[predictors]\n",
    "y = tiny_df[outcome]\n",
    "\n",
    "# Sort and display outcome classes in ascending order.\n",
    "classes = sorted(y.unique())\n",
    "print('Outcome Classes Sorted in Ascending Order')\n",
    "print(classes)\n"
   ]
  },
  {
   "cell_type": "code",
   "execution_count": 4,
   "metadata": {
    "scrolled": false
   },
   "outputs": [
    {
     "name": "stdout",
     "output_type": "stream",
     "text": [
      "Final Intercepts for Tiny Neural Network Model\n",
      "[array([0.13368045, 4.07247552, 7.00768104]), array([14.30748676])]\n",
      "\n",
      "Network Weights for Tiny Neural Network Model\n",
      "[array([[ -1.30656481,  -4.20427792, -13.29587332],\n",
      "       [ -0.04399727,  -4.91606924,  -6.03356987]]), array([[ -0.27348313],\n",
      "       [ -9.01211573],\n",
      "       [-17.63504694]])]\n"
     ]
    }
   ],
   "source": [
    "# Use MLPCclassifier() function for nerual network model.\n",
    "# Apply a default single hidden layer with 3 nodes, 'logistic' \n",
    "# activation function, and solver = 'lbfgs', which is\n",
    "# applied for small data sets for better performance \n",
    "# and fast convergence. For large data sets, apply default \n",
    "# solver = 'adam'. \n",
    "tiny_clf = MLPClassifier(hidden_layer_sizes=(3), activation='logistic', \n",
    "                    solver='lbfgs', random_state=1)\n",
    "tiny_clf.fit(X, y)\n",
    "\n",
    "# Make predictions using neural network model for \n",
    "# Tiny data set.\n",
    "tiny_clf.predict(X)\n",
    "\n",
    "# Display network structure with the final values of \n",
    "# intercepts (Theta) and weights (W).\n",
    "print('Final Intercepts for Tiny Neural Network Model')\n",
    "print(tiny_clf.intercepts_)\n",
    "\n",
    "print()\n",
    "print('Network Weights for Tiny Neural Network Model')\n",
    "print(tiny_clf.coefs_)\n"
   ]
  },
  {
   "cell_type": "code",
   "execution_count": 5,
   "metadata": {},
   "outputs": [
    {
     "name": "stdout",
     "output_type": "stream",
     "text": [
      "\n",
      "Tiny Data Set and Predictions Using Neural Network Model\n",
      "   Obs.  Fat  Salt Acceptance   dislike      like\n",
      "0     1  0.2   0.9       like  0.000490  0.999510\n",
      "1     2  0.1   0.1    dislike  0.999994  0.000006\n",
      "2     3  0.2   0.4    dislike  0.999741  0.000259\n",
      "3     4  0.2   0.5    dislike  0.997368  0.002632\n",
      "4     5  0.4   0.5       like  0.002133  0.997867\n",
      "5     6  0.3   0.8       like  0.000075  0.999925\n"
     ]
    }
   ],
   "source": [
    "# Display Tiny data set and predictions for each record.\n",
    "print()\n",
    "print('Tiny Data Set and Predictions Using Neural Network Model')\n",
    "print(pd.concat([\n",
    "    tiny_df,\n",
    "    pd.DataFrame(tiny_clf.predict_proba(X), columns=classes)\n",
    "], axis=1))"
   ]
  },
  {
   "cell_type": "code",
   "execution_count": 6,
   "metadata": {},
   "outputs": [
    {
     "name": "stdout",
     "output_type": "stream",
     "text": [
      "Confusion Matrix for Tiny Neural Network Model\n",
      "Confusion Matrix (Accuracy 1.0000)\n",
      "\n",
      "        Prediction\n",
      " Actual dislike    like\n",
      "dislike       3       0\n",
      "   like       0       3\n"
     ]
    }
   ],
   "source": [
    "# Confusion matrix for Tiny neural network model. \n",
    "\n",
    "# Identify  and display confusion matrix for Tiny predictions\n",
    "# using neural network model. \n",
    "print('Confusion Matrix for Tiny Neural Network Model')\n",
    "classificationSummary(y, tiny_clf.predict(X), class_names=classes)"
   ]
  },
  {
   "cell_type": "markdown",
   "metadata": {},
   "source": [
    "## Neural network model for car accidents severity. "
   ]
  },
  {
   "cell_type": "code",
   "execution_count": 7,
   "metadata": {
    "scrolled": false
   },
   "outputs": [
    {
     "name": "stdout",
     "output_type": "stream",
     "text": [
      "(999, 5)\n",
      "First 10 Records of Accidents Data Set\n",
      "   ALCHL_I  PROFIL_I_R  SUR_COND  VEH_INVL  MAX_SEV_IR\n",
      "0        2           0         1         1           0\n",
      "1        2           1         1         1           2\n",
      "2        1           0         1         1           0\n",
      "3        2           0         2         2           1\n",
      "4        2           1         1         2           1\n",
      "5        2           0         1         1           0\n",
      "6        2           0         2         1           2\n",
      "7        2           1         2         1           1\n",
      "8        2           1         1         1           1\n",
      "9        2           0         1         1           0\n",
      "\n",
      "Variable Type for Accident Data Set\n",
      "ALCHL_I       int64\n",
      "PROFIL_I_R    int64\n",
      "SUR_COND      int64\n",
      "VEH_INVL      int64\n",
      "MAX_SEV_IR    int64\n",
      "dtype: object\n",
      "\n",
      "First 10 Records of Updated Accidents Data Set\n",
      "   ALCHL_I  PROFIL_I_R  VEH_INVL  MAX_SEV_IR  SUR_COND_1  SUR_COND_2  \\\n",
      "0        2           0         1           0           1           0   \n",
      "1        2           1         1           2           1           0   \n",
      "2        1           0         1           0           1           0   \n",
      "3        2           0         2           1           0           1   \n",
      "4        2           1         2           1           1           0   \n",
      "5        2           0         1           0           1           0   \n",
      "6        2           0         1           2           0           1   \n",
      "7        2           1         1           1           0           1   \n",
      "8        2           1         1           1           1           0   \n",
      "9        2           0         1           0           1           0   \n",
      "\n",
      "   SUR_COND_3  SUR_COND_4  \n",
      "0           0           0  \n",
      "1           0           0  \n",
      "2           0           0  \n",
      "3           0           0  \n",
      "4           0           0  \n",
      "5           0           0  \n",
      "6           0           0  \n",
      "7           0           0  \n",
      "8           0           0  \n",
      "9           0           0  \n"
     ]
    }
   ],
   "source": [
    "# Upload the Accidents (accidentsnn.csv) data set and do \n",
    "# data cleaning and preprocessing. \n",
    "\n",
    "# Create data frame for Accidents data set.\n",
    "accident_df = pd.read_csv('accidentsnn.csv')\n",
    "print(accident_df.shape)\n",
    "# The data set has 999 records and 5 columns.\n",
    "\n",
    "# Display the first 10 records of accident_df data frame.\n",
    "print('First 10 Records of Accidents Data Set')\n",
    "print(accident_df.head(10))\n",
    "\n",
    "# Identify and display variable types.\n",
    "print()\n",
    "print('Variable Type for Accident Data Set')\n",
    "print(accident_df.dtypes)\n",
    "\n",
    "# To remove for SUR_COND (surface condition) the unknown = 9,\n",
    "# convert SUR_COND into categorical variable. \n",
    "accident_df.SUR_COND = accident_df.SUR_COND.astype('category')\n",
    "\n",
    "# Convert the categorical data into dummy variables\n",
    "# exclude the column for SUR_COND_9 (unknown = 9).\n",
    "accident_upd = pd.get_dummies(accident_df, \n",
    "            columns=['SUR_COND']).drop(columns=['SUR_COND_9'])\n",
    "\n",
    "# Display the first 10 records of the updated Accidents \n",
    "# data frame, accidents_upd.\n",
    "print()\n",
    "print('First 10 Records of Updated Accidents Data Set')\n",
    "print(accident_upd.head(10))"
   ]
  },
  {
   "cell_type": "code",
   "execution_count": 8,
   "metadata": {},
   "outputs": [
    {
     "name": "stdout",
     "output_type": "stream",
     "text": [
      "Final Intercepts for Accidents Neural Network Model\n",
      "[array([-2.10410195, -1.22860899,  2.15191685]), array([-6.69504242,  4.57429369,  2.16758111])]\n",
      "\n",
      "Network Weights for Accidents Neural Network Model\n",
      "[array([[ 3.84425076, -2.66588082, -1.33746346],\n",
      "       [-7.24621073, -0.82765019, -7.00965479],\n",
      "       [-4.39420108, -2.09433738,  0.15446075],\n",
      "       [ 4.25738797,  1.20409705,  5.24115923],\n",
      "       [-2.55121097, -1.79778896, -3.85451348],\n",
      "       [-0.38657878, -0.17167315, -1.93980547],\n",
      "       [-6.85899428, -0.60168751, -2.32883437]]), array([[ 9.22173258, -7.05858024, -1.75295541],\n",
      "       [ 0.31080214, -0.76514448, -0.02144678],\n",
      "       [ 3.65911791, -6.24133596,  2.55611586]])]\n"
     ]
    }
   ],
   "source": [
    "# Create Accidents outcome and predictors to run neural network\n",
    "# model.\n",
    "outcome = 'MAX_SEV_IR'\n",
    "predictors = [c for c in accident_upd.columns if c != outcome]\n",
    "\n",
    "# Create predictors and outcome variables.  \n",
    "X = accident_upd[predictors]\n",
    "y = accident_upd[outcome]\n",
    "\n",
    "# Partition data into training (60% or 0.6) and validation(40% or 0.4)\n",
    "# of the accident_upd data frame.\n",
    "train_X, valid_X, train_y, valid_y = train_test_split(X, y, \n",
    "                            test_size=0.4, random_state=1)\n",
    "\n",
    "# Use MLPCclassifier() function to train neural network model.\n",
    "# Apply: \n",
    "# (a) default input layer with the number of nodes equal \n",
    "#     to number of predictor variables (7); \n",
    "# (b) single hidden layer with 3 nodes (default is 2); \n",
    "# (c) default output layer with the number nodes equal\n",
    "#     to number of classes in outcome variable (3);\n",
    "# (d) 'logistic' activation function;\n",
    "# (e) solver = 'lbfgs', which is applied for small data \n",
    "#     sets for better performance and fast convergence. \n",
    "#     For large data sets, apply default solver = 'adam'. \n",
    "accident_clf = MLPClassifier(hidden_layer_sizes=(3), max_iter=10000,\n",
    "                activation='logistic', solver='lbfgs', random_state=1)\n",
    "accident_clf.fit(train_X, train_y)\n",
    "\n",
    "# Display network structure with the final values of \n",
    "# intercepts (Theta) and weights (W).\n",
    "print('Final Intercepts for Accidents Neural Network Model')\n",
    "print(accident_clf.intercepts_)\n",
    "\n",
    "print()\n",
    "print('Network Weights for Accidents Neural Network Model')\n",
    "print(accident_clf.coefs_)"
   ]
  },
  {
   "cell_type": "code",
   "execution_count": 9,
   "metadata": {
    "scrolled": true
   },
   "outputs": [
    {
     "name": "stdout",
     "output_type": "stream",
     "text": [
      "Classification for Accidents Data for Validation Partition\n",
      "     Actual    p(0)    p(1)    p(2)  Classification\n",
      "507       2  0.0000  0.8713  0.1287               1\n",
      "608       2  0.5915  0.0000  0.4085               0\n",
      "452       1  0.0003  0.7677  0.2320               1\n",
      "368       1  0.0000  0.9033  0.0967               1\n",
      "242       1  0.0003  0.7677  0.2320               1\n",
      "928       0  0.9593  0.0000  0.0407               0\n",
      "262       0  0.9593  0.0000  0.0407               0\n",
      "809       0  0.9593  0.0000  0.0407               0\n",
      "318       2  0.0004  0.0017  0.9978               2\n",
      "49        1  0.0001  0.4150  0.5848               2\n"
     ]
    }
   ],
   "source": [
    "# Make accident severity classification for validation set \n",
    "# using Accidents neural network model. \n",
    "\n",
    "# Use accident_clf model to classify accident severity\n",
    "# for validation set.\n",
    "accident_pred = accident_clf.predict(valid_X)\n",
    "\n",
    "# Predict accident severity probabilities p(0), p(1),\n",
    "# and p(2) for validation set.\n",
    "accident_pred_prob = np.round(accident_clf.predict_proba(valid_X), \n",
    "                          decimals=4)\n",
    "\n",
    "# Create data frame to display classification results for\n",
    "# validation set. \n",
    "accident_pred_result = pd.DataFrame({'Actual': valid_y, \n",
    "                'p(0)': [p[0] for p in accident_pred_prob],\n",
    "                'p(1)': [p[1] for p in accident_pred_prob],\n",
    "                'p(2)': [p[2] for p in accident_pred_prob],\n",
    "                'Classification': accident_pred})\n",
    "\n",
    "print('Classification for Accidents Data for Validation Partition')\n",
    "print(accident_pred_result.head(10))"
   ]
  },
  {
   "cell_type": "code",
   "execution_count": 10,
   "metadata": {
    "scrolled": true
   },
   "outputs": [
    {
     "name": "stdout",
     "output_type": "stream",
     "text": [
      "Training Partition for Neural Network Model\n",
      "Confusion Matrix (Accuracy 0.8715)\n",
      "\n",
      "       Prediction\n",
      "Actual   0   1   2\n",
      "     0 332   0   0\n",
      "     1   0 172   8\n",
      "     2  31  38  18\n",
      "\n",
      "Validation Partition for Neural Network Model\n",
      "Confusion Matrix (Accuracy 0.8650)\n",
      "\n",
      "       Prediction\n",
      "Actual   0   1   2\n",
      "     0 218   0   1\n",
      "     1   0 115   4\n",
      "     2  24  25  13\n"
     ]
    }
   ],
   "source": [
    "# Confusion matrices for Accidents neural network model. \n",
    "\n",
    "# Identify and display confusion matrix for training partition. \n",
    "print('Training Partition for Neural Network Model')\n",
    "classificationSummary(train_y, accident_clf.predict(train_X))\n",
    "\n",
    "# Identify and display confusion matrix for validation partition. \n",
    "print()\n",
    "print('Validation Partition for Neural Network Model')\n",
    "classificationSummary(valid_y, accident_clf.predict(valid_X))"
   ]
  },
  {
   "cell_type": "code",
   "execution_count": 11,
   "metadata": {
    "scrolled": true
   },
   "outputs": [
    {
     "name": "stdout",
     "output_type": "stream",
     "text": [
      "Training Partition for Ordinal Logistic Model\n",
      "Confusion Matrix (Accuracy 0.7679)\n",
      "\n",
      "       Prediction\n",
      "Actual   0   1   2\n",
      "     0 331   1   0\n",
      "     1  13 117  50\n",
      "     2  35  40  12\n",
      "\n",
      "Validation Partition for Ordinal Logistic Model\n",
      "Confusion Matrix (Accuracy 0.7625)\n",
      "\n",
      "       Prediction\n",
      "Actual   0   1   2\n",
      "     0 219   0   0\n",
      "     1  19  78  22\n",
      "     2  29  25   8\n"
     ]
    }
   ],
   "source": [
    "# Develop and display ordinal logistic model for Accidents \n",
    "# data set.\n",
    "\n",
    "# Transfer Numpy int into just int ro run LogisticIT function.\n",
    "np.int = int\n",
    "\n",
    "# Utilize LogisticIT() function from mord library to \n",
    "# develop ordinal logistic regression. alpha = 0 \n",
    "# means no regularizaiton in this function. \n",
    "logit = LogisticIT(alpha=0)\n",
    "logit.fit(train_X, train_y)\n",
    "\n",
    "# Identify and display confusion matrix for training partition. \n",
    "print('Training Partition for Ordinal Logistic Model')\n",
    "classificationSummary(train_y, logit.predict(train_X))\n",
    "\n",
    "# Identify and display confusion matrix for validation partition. \n",
    "print()\n",
    "print('Validation Partition for Ordinal Logistic Model')\n",
    "classificationSummary(valid_y, logit.predict(valid_X))"
   ]
  },
  {
   "cell_type": "code",
   "execution_count": 12,
   "metadata": {
    "scrolled": false
   },
   "outputs": [
    {
     "name": "stdout",
     "output_type": "stream",
     "text": [
      "\n",
      "Classification for Accidents Using New Data\n",
      "   ALCHL_I  PROFIL_I_R  VEH_INVL  SUR_COND_1  SUR_COND_2  SUR_COND_3  \\\n",
      "0        2           1         1           1           0           0   \n",
      "1        1           1         1           0           0           1   \n",
      "2        2           0         2           0           0           0   \n",
      "\n",
      "   SUR_COND_4    p(0)    p(1)    p(2)  Classification  \n",
      "0           0  0.0002  0.6734  0.3263               1  \n",
      "1           0  0.0000  0.9170  0.0830               1  \n",
      "2           0  0.0003  0.1505  0.8492               2  \n"
     ]
    }
   ],
   "source": [
    "# Make classification for new Accidents data using \n",
    "# neural network model. \n",
    "\n",
    "# Consider dataframe new_data with 3 new records, for \n",
    "# which classification of accidents severity is required. \n",
    "# Notice that the 'MAX_SEV_IR' outcome variable is \n",
    "# not present in these records.\n",
    "new_data = pd.DataFrame({\n",
    "        'ALCHL_I': [2,1,2],  \n",
    "        'PROFIL_I_R': [1,1,0],\n",
    "        'VEH_INVL': [1, 1, 2],\n",
    "        'SUR_COND_1': [1, 0, 0],  \n",
    "        'SUR_COND_2': [0, 0, 0],\n",
    "        'SUR_COND_3': [0, 1, 0],  \n",
    "        'SUR_COND_4': [0, 0, 0],         \n",
    "})\n",
    "\n",
    "# Make classifications for new Accidents data.\n",
    "accident_pred_new = accident_clf.predict(new_data)\n",
    "\n",
    "# Predict multiple predictors logistic model's probabilities \n",
    "# p(0) and p(1) for validation set.\n",
    "accidents_prob_new = np.round(accident_clf.predict_proba(new_data), \n",
    "                      decimals=4)\n",
    "\n",
    "# Display new data and classifications for new data.\n",
    "pred_accident_result_new = pd.DataFrame({\n",
    "            'ALCHL_I': [2,1,2],  \n",
    "            'PROFIL_I_R': [1,1,0],\n",
    "            'VEH_INVL': [1, 1, 2],\n",
    "            'SUR_COND_1': [1, 0, 0],  \n",
    "            'SUR_COND_2': [0, 0, 0],\n",
    "            'SUR_COND_3': [0, 1, 0],  \n",
    "            'SUR_COND_4': [0, 0, 0],\n",
    "            'p(0)': [p[0] for p in accidents_prob_new],\n",
    "            'p(1)': [p[1] for p in accidents_prob_new],\n",
    "            'p(2)': [p[2] for p in accidents_prob_new],\n",
    "            'Classification': accident_pred_new\n",
    "})\n",
    "print()\n",
    "print('Classification for Accidents Using New Data')\n",
    "print(pred_accident_result_new)"
   ]
  },
  {
   "cell_type": "markdown",
   "metadata": {},
   "source": [
    "## Grid search for Accidents data set."
   ]
  },
  {
   "cell_type": "code",
   "execution_count": 13,
   "metadata": {},
   "outputs": [
    {
     "name": "stdout",
     "output_type": "stream",
     "text": [
      "Best score:0.8664\n",
      "Best parameter:  {'hidden_layer_sizes': 10}\n"
     ]
    }
   ],
   "source": [
    "# Identify grid search parameters. \n",
    "param_grid = {\n",
    "    'hidden_layer_sizes': list(range(2, 20)), \n",
    "}\n",
    "\n",
    "# Utilize GridSearchCV() to identify the best number \n",
    "# of nodes in the hidden layer. \n",
    "gridSearch = GridSearchCV(MLPClassifier(solver='lbfgs', max_iter=10000, random_state=1), \n",
    "                          param_grid, cv=5, n_jobs=-1, return_train_score=True)\n",
    "gridSearch.fit(train_X, train_y)\n",
    "\n",
    "# Display the best score and best parament value.\n",
    "print(f'Best score:{gridSearch.best_score_:.4f}')\n",
    "print('Best parameter: ', gridSearch.best_params_)"
   ]
  },
  {
   "cell_type": "code",
   "execution_count": 14,
   "metadata": {},
   "outputs": [
    {
     "name": "stdout",
     "output_type": "stream",
     "text": [
      "Final Intercepts for Accidents Neural Network Model\n",
      "[array([-3.84978959, -4.517135  ,  7.97136262,  1.29224263,  2.02724975,\n",
      "       -2.79618305, -2.35900296,  3.45674492, -1.78690143, 10.9659219 ]), array([-7.93350289, -0.90979657,  8.64096386])]\n",
      "\n",
      "Network Weights for Accidents Neural Network Model\n",
      "[array([[ -4.80731064,   5.43160065,  -8.11385339,   0.3772313 ,\n",
      "         -0.86481035,  -2.46740873,  -1.00359241,  -3.90222483,\n",
      "          7.70399154,  -2.85119534],\n",
      "       [ -1.17057259,   1.74077849,   6.28994209,  -7.21757244,\n",
      "         -7.41680207,  16.7366824 ,   4.70584155,  -6.00522714,\n",
      "        -17.52062432, -15.17237443],\n",
      "       [-11.49879198, -12.28451277,  -1.06056565,  -6.14252531,\n",
      "          0.28076509,   4.66713232,   4.5815072 ,  -6.71513573,\n",
      "         -8.01286798,  -9.8440572 ],\n",
      "       [  0.9382791 ,   1.33374401, -14.22397796,   9.80716794,\n",
      "          3.9186763 , -11.33103102,  -6.83522534,   0.19409907,\n",
      "          4.49311074,   9.20279464],\n",
      "       [ -3.76927114,  -2.25135046, -13.35822091,  -6.9121277 ,\n",
      "        -14.87037546,   4.91666399,   4.98783517,  -1.13603198,\n",
      "         -3.13614178,   4.78999937],\n",
      "       [ -0.25249176,   3.13396921,  -6.12896666,  -0.63239343,\n",
      "         -3.97820894,   1.45256797,   0.58509476,  -0.71335992,\n",
      "         -2.35568878,  -4.09935237],\n",
      "       [  3.50420141,   8.19125663,   2.5849911 ,  -1.29373219,\n",
      "         -9.69159998,  22.05894629,   2.56218226,  -3.26437104,\n",
      "         -3.65841728, -14.43362829]]), array([[ -9.31441853,   7.06975107,   2.83391508],\n",
      "       [-11.54057615,  12.55462353,  -1.00260914],\n",
      "       [  8.67734151, -18.35364182,  10.10885386],\n",
      "       [ -4.88792176,   3.59075065,   1.44172365],\n",
      "       [  6.79601885, -13.50738138,   6.66194651],\n",
      "       [-21.96915092,  16.56574886,   5.56984381],\n",
      "       [ -6.48189972,   3.62695316,   2.42475093],\n",
      "       [  9.14662941, -13.00104911,   4.06454184],\n",
      "       [ 10.92765313,   1.01369567, -11.90425147],\n",
      "       [  9.61724124, -15.13869102,   6.39037537]])]\n"
     ]
    }
   ],
   "source": [
    "# Use MLPCclassifier() function to train the improved neural network model\n",
    "# based on grid search results. \n",
    "\n",
    "# Apply: \n",
    "# (a) default input layer with the number of nodes equal \n",
    "#     to number of predictor variables (7); \n",
    "# (b) single hidden layer with 10 nodes based on grid search; \n",
    "# (c) default output layer with the number nodes equal\n",
    "#     to number of classes in outcome variable (3);\n",
    "# (d) 'logistic' activation function;\n",
    "# (e) solver = 'lbfgs', which is applied for small data \n",
    "#     sets for better performance and fast convergence. \n",
    "#     For large data sets, apply default solver = 'adam'. \n",
    "accident_clf_imp = MLPClassifier(hidden_layer_sizes=(10), max_iter=10000,\n",
    "                activation='logistic', solver='lbfgs', random_state=1)\n",
    "accident_clf_imp.fit(train_X, train_y)\n",
    "\n",
    "# Display network structure with the final values of \n",
    "# intercepts (Theta) and weights (W).\n",
    "print('Final Intercepts for Accidents Neural Network Model')\n",
    "print(accident_clf_imp.intercepts_)\n",
    "\n",
    "print()\n",
    "print('Network Weights for Accidents Neural Network Model')\n",
    "print(accident_clf_imp.coefs_)"
   ]
  },
  {
   "cell_type": "code",
   "execution_count": 15,
   "metadata": {
    "scrolled": false
   },
   "outputs": [
    {
     "name": "stdout",
     "output_type": "stream",
     "text": [
      "Training Partition for Neural Network Model\n",
      "Confusion Matrix (Accuracy 0.8781)\n",
      "\n",
      "       Prediction\n",
      "Actual   0   1   2\n",
      "     0 332   0   0\n",
      "     1   0 172   8\n",
      "     2  31  34  22\n",
      "\n",
      "Validation Partition for Neural Network Model\n",
      "Confusion Matrix (Accuracy 0.8725)\n",
      "\n",
      "       Prediction\n",
      "Actual   0   1   2\n",
      "     0 218   0   1\n",
      "     1   0 114   5\n",
      "     2  24  21  17\n"
     ]
    }
   ],
   "source": [
    "# Confusion matrices for improved neural network model for Accidents\n",
    "# using grid search results. \n",
    "\n",
    "# Identify and display confusion matrix for training partition. \n",
    "print('Training Partition for Neural Network Model')\n",
    "classificationSummary(train_y, accident_clf_imp.predict(train_X))\n",
    "\n",
    "# Identify and display confusion matrix for validation partition. \n",
    "print()\n",
    "print('Validation Partition for Neural Network Model')\n",
    "classificationSummary(valid_y, accident_clf_imp.predict(valid_X))"
   ]
  },
  {
   "cell_type": "code",
   "execution_count": 16,
   "metadata": {
    "scrolled": false
   },
   "outputs": [
    {
     "name": "stdout",
     "output_type": "stream",
     "text": [
      "   param_hidden_layer_sizes  mean_test_score  std_test_score\n",
      "0                         2         0.554258        0.003731\n",
      "1                         3         0.864762        0.009892\n",
      "2                         4         0.858067        0.009617\n",
      "3                         5         0.863095        0.011419\n",
      "4                         6         0.859748        0.008483\n",
      "5                         7         0.554258        0.003731\n",
      "6                         8         0.854762        0.003912\n",
      "7                         9         0.853081        0.008611\n",
      "8                        10         0.866415        0.012147\n",
      "9                        11         0.851401        0.008501\n",
      "10                       12         0.851401        0.013542\n",
      "11                       13         0.858081        0.010750\n",
      "12                       14         0.853067        0.007137\n",
      "13                       15         0.854748        0.006872\n",
      "14                       16         0.858081        0.007747\n",
      "15                       17         0.864748        0.013623\n",
      "16                       18         0.851401        0.010002\n",
      "17                       19         0.849734        0.009384\n"
     ]
    }
   ],
   "source": [
    "# For each hidden_layer_size, display grid search results including\n",
    "# mean and standard deviation of the score. \n",
    "display=['param_hidden_layer_sizes', 'mean_test_score', 'std_test_score']\n",
    "print(pd.DataFrame(gridSearch.cv_results_)[display])"
   ]
  },
  {
   "cell_type": "code",
   "execution_count": 17,
   "metadata": {
    "scrolled": false
   },
   "outputs": [
    {
     "data": {
      "text/plain": [
       "<Axes: xlabel='param_hidden_layer_sizes'>"
      ]
     },
     "execution_count": 17,
     "metadata": {},
     "output_type": "execute_result"
    },
    {
     "data": {
      "image/png": "[encoded data removed]",
      "text/plain": [
       "<Figure size 640x480 with 1 Axes>"
      ]
     },
     "metadata": {},
     "output_type": "display_data"
    }
   ],
   "source": [
    "# Develop a plot that demostrates mean_test_score and std_test_score.\n",
    "pd.DataFrame(gridSearch.cv_results_)[display].plot(x='param_hidden_layer_sizes', \n",
    "                    y='mean_test_score', yerr='std_test_score', ylim=(0.5, 0.9))"
   ]
  },
  {
   "cell_type": "markdown",
   "metadata": {},
   "source": [
    "# Neural network model for Toyota Corrola data set."
   ]
  },
  {
   "cell_type": "code",
   "execution_count": 18,
   "metadata": {
    "scrolled": false
   },
   "outputs": [
    {
     "name": "stdout",
     "output_type": "stream",
     "text": [
      "Index(['Id', 'Model', 'Price', 'Age_08_04', 'Mfg_Month', 'Mfg_Year', 'KM',\n",
      "       'Fuel_Type', 'HP', 'Met_Color', 'Color', 'Automatic', 'CC', 'Doors',\n",
      "       'Cylinders', 'Gears', 'Quarterly_Tax', 'Weight', 'Mfr_Guarantee',\n",
      "       'BOVAG_Guarantee', 'Guarantee_Period', 'ABS', 'Airbag_1', 'Airbag_2',\n",
      "       'Airco', 'Automatic_airco', 'Boardcomputer', 'CD_Player',\n",
      "       'Central_Lock', 'Powered_Windows', 'Power_Steering', 'Radio',\n",
      "       'Mistlamps', 'Sport_Model', 'Backseat_Divider', 'Metallic_Rim',\n",
      "       'Radio_cassette', 'Parking_Assistant', 'Tow_Bar'],\n",
      "      dtype='object')\n"
     ]
    }
   ],
   "source": [
    "# Create data frame for Toyota Corolla data set with 1000 top records.\n",
    "corolla_df = pd.read_csv('ToyotaCorolla.csv').iloc[:1000,:]\n",
    "\n",
    "# Display column names of ToyotaCorolla data frame.\n",
    "print(corolla_df.columns)"
   ]
  },
  {
   "cell_type": "code",
   "execution_count": 19,
   "metadata": {},
   "outputs": [
    {
     "name": "stdout",
     "output_type": "stream",
     "text": [
      "First 10 Records of Toyota Corolla Data Set\n",
      "   Price  Age     KM   HP  Metalic  Automatic    CC  Doors  Tax  Weight  \\\n",
      "0  13500   23  46986   90        1          0  2000      3  210    1165   \n",
      "1  13750   23  72937   90        1          0  2000      3  210    1165   \n",
      "2  13950   24  41711   90        1          0  2000      3  210    1165   \n",
      "3  14950   26  48000   90        0          0  2000      3  210    1165   \n",
      "4  13750   30  38500   90        0          0  2000      3  210    1170   \n",
      "5  12950   32  61000   90        0          0  2000      3  210    1170   \n",
      "6  16900   27  94612   90        1          0  2000      3  210    1245   \n",
      "7  18600   30  75889   90        1          0  2000      3  210    1245   \n",
      "8  21500   27  19700  192        0          0  1800      3  100    1185   \n",
      "9  12950   23  71138   69        0          0  1900      3  185    1105   \n",
      "\n",
      "   Fuel_Diesel  Fuel_Petrol  \n",
      "0            1            0  \n",
      "1            1            0  \n",
      "2            1            0  \n",
      "3            1            0  \n",
      "4            1            0  \n",
      "5            1            0  \n",
      "6            1            0  \n",
      "7            1            0  \n",
      "8            0            1  \n",
      "9            1            0  \n"
     ]
    }
   ],
   "source": [
    "# Change column names, identify predictors and outcome, \n",
    "# and data preprocessing.\n",
    "\n",
    "# Shorten some column names. \n",
    "corolla_df = corolla_df.rename(columns={'Age_08_04': 'Age', \n",
    "                   'Quarterly_Tax': 'Tax', 'Met_Color': 'Metalic',\n",
    "                                    'Fuel_Type': 'Fuel'})\n",
    "\n",
    "\n",
    "# Identify predictors (same as those in linear regression and \n",
    "# regression tree) and outcome for neural network model. \n",
    "predictors = ['Age', 'KM', 'Fuel', 'HP', 'Metalic', 'Automatic', 'CC', \n",
    "              'Doors', 'Tax', 'Weight']\n",
    "outcome = 'Price'\n",
    "\n",
    "# Name predictors and outcome data frames as X and y, respectively. \n",
    "# Convert, if necessary, categorical variables to dummy variables. \n",
    "X = pd.get_dummies(corolla_df[predictors], drop_first=True)\n",
    "y = corolla_df[outcome]\n",
    "\n",
    "# Display the first 10 records of Toyota Corolla data set. \n",
    "corolla_df_reg = pd.concat([y, X], axis=1)\n",
    "print('First 10 Records of Toyota Corolla Data Set')\n",
    "print(corolla_df_reg.head(10))"
   ]
  },
  {
   "cell_type": "code",
   "execution_count": 20,
   "metadata": {
    "scrolled": false
   },
   "outputs": [
    {
     "name": "stdout",
     "output_type": "stream",
     "text": [
      "Predictors for Training Partition\n",
      "     Age      KM   HP  Metalic  Automatic    CC  Doors  Tax  Weight  \\\n",
      "371   35   18000  110        1          0  1600      5   85    1075   \n",
      "45    23   84000   90        0          0  2000      5  234    1270   \n",
      "560   54   39291  110        1          0  1600      3   69    1040   \n",
      "748   61   81170  110        1          0  1600      4   69    1040   \n",
      "419   55   94122   86        1          0  1300      3   69    1015   \n",
      "604   68  204250   72        0          0  2000      3  185    1115   \n",
      "725   65   87821   86        1          0  1300      3   69    1015   \n",
      "11    22   43610  192        0          0  1800      3  100    1185   \n",
      "214   33   78108   90        1          0  2000      3  210    1170   \n",
      "344   33   28715  110        1          0  1600      5   85    1075   \n",
      "\n",
      "     Fuel_Diesel  Fuel_Petrol  \n",
      "371            0            1  \n",
      "45             1            0  \n",
      "560            0            1  \n",
      "748            0            1  \n",
      "419            0            1  \n",
      "604            1            0  \n",
      "725            0            1  \n",
      "11             0            1  \n",
      "214            1            0  \n",
      "344            0            1  \n",
      "\n",
      "Scaled Predictors for Training Partition\n",
      "     Age     KM     HP  Metalic  Automatic     CC  Doors    Tax  Weight  \\\n",
      "0 -0.778 -1.262  0.572    0.676     -0.245 -0.002  0.968 -0.118  -0.081   \n",
      "1 -1.498  0.576 -0.740   -1.480     -0.245  0.645  0.968  3.210   3.218   \n",
      "2  0.361 -0.669  0.572    0.676     -0.245 -0.002 -1.144 -0.476  -0.673   \n",
      "3  0.781  0.497  0.572    0.676     -0.245 -0.002 -0.088 -0.476  -0.673   \n",
      "4  0.421  0.858 -1.002    0.676     -0.245 -0.487 -1.144 -0.476  -1.096   \n",
      "5  1.201  3.924 -1.921   -1.480     -0.245  0.645 -1.144  2.115   0.595   \n",
      "6  1.021  0.682 -1.002    0.676     -0.245 -0.487 -1.144 -0.476  -1.096   \n",
      "7 -1.558 -0.549  5.953   -1.480     -0.245  0.321 -1.144  0.217   1.780   \n",
      "8 -0.898  0.412 -0.740    0.676     -0.245  0.645 -1.144  2.674   1.526   \n",
      "9 -0.898 -0.964  0.572    0.676     -0.245 -0.002  0.968 -0.118  -0.081   \n",
      "\n",
      "   Fuel_Diesel  Fuel_Petrol  \n",
      "0       -0.387        0.415  \n",
      "1        2.587       -2.412  \n",
      "2       -0.387        0.415  \n",
      "3       -0.387        0.415  \n",
      "4       -0.387        0.415  \n",
      "5        2.587       -2.412  \n",
      "6       -0.387        0.415  \n",
      "7       -0.387        0.415  \n",
      "8        2.587       -2.412  \n",
      "9       -0.387        0.415  \n"
     ]
    }
   ],
   "source": [
    "# Create data partitioning and scale the data using \n",
    "# StandardScaler()from scikit-learn libray. Display \n",
    "# original and scaled predictors for training partition. \n",
    "\n",
    "# Create data partition with training set, 60%(0.6), and \n",
    "# validation set 40%(0.4) of the Toyota Corolla data set.\n",
    "train_X, valid_X, train_y, valid_y = train_test_split(X, y, \n",
    "                            test_size=0.4, random_state=1)\n",
    "\n",
    "# Display the first 10 records of Toyota Corolla training \n",
    "# partition's predictors. \n",
    "print('Predictors for Training Partition')\n",
    "print(train_X.head(10))\n",
    "\n",
    "# Scale input data (predictors) for training  and validation \n",
    "# partitions using StandardScaler().\n",
    "sc_X = StandardScaler()\n",
    "train_X_sc = sc_X.fit_transform(train_X)\n",
    "valid_X_sc = sc_X.transform(valid_X)\n",
    "\n",
    "# Develop a data frame to display scaled predictors for \n",
    "# training partition. Round scaled values to 3 decimals.\n",
    "# Add coloumn titles to data frame.\n",
    "train_X_sc_df = np.round(pd.DataFrame(train_X_sc), decimals=3)                            \n",
    "train_X_sc_df.columns=['Age', 'KM', 'HP', 'Metalic', \n",
    "                       'Automatic', 'CC', 'Doors', 'Tax', 'Weight', \n",
    "                        'Fuel_Diesel',  'Fuel_Petrol']\n",
    "\n",
    "# Display scaled predictors for training partition.\n",
    "print()\n",
    "print('Scaled Predictors for Training Partition')\n",
    "print(train_X_sc_df.head(10))"
   ]
  },
  {
   "cell_type": "code",
   "execution_count": 21,
   "metadata": {
    "scrolled": false
   },
   "outputs": [
    {
     "name": "stdout",
     "output_type": "stream",
     "text": [
      "Final Intercepts for Toyota Corolla Neural Network Model\n",
      "[array([ 31.98131488,  33.96950299, -47.43171931, -89.96896289,\n",
      "       -17.15045524,  41.46287042, -15.05268064,   3.52803376,\n",
      "        51.44503159]), array([90.22978456])]\n",
      "\n",
      "Network Weights for Toyota Corolla Neural Network Model\n",
      "[array([[ 3.22875409e+00,  1.62963374e+01, -1.02809327e+01,\n",
      "         2.22647028e+01, -4.73022291e+01, -2.56713500e-01,\n",
      "         1.55100298e+01, -4.25056388e+00, -3.22672930e+01],\n",
      "       [-6.90249934e+00,  7.23766930e+00,  3.04252219e+00,\n",
      "        -3.29472519e-02, -9.55967291e+00, -1.58918288e+00,\n",
      "         4.49146189e+00, -4.29043058e+00, -5.03886649e+00],\n",
      "       [-9.44213953e+00,  3.49056362e+00,  1.61536176e+00,\n",
      "        -6.36103082e+00, -5.62099540e+00,  1.98170530e+01,\n",
      "        -3.15971154e+01,  6.93155362e+00, -5.47342771e+00],\n",
      "       [-2.47295009e+01,  9.29888833e+00, -9.32488102e+00,\n",
      "        -4.08911170e+00,  3.94505270e+00,  5.55927096e+00,\n",
      "        -7.78673748e+00,  4.01197054e+00,  7.19027604e+00],\n",
      "       [ 4.02720866e+00, -5.92674235e+00,  8.27889497e+00,\n",
      "         7.04092859e+00,  1.20027251e+01, -3.53376583e+00,\n",
      "         6.72635246e+00,  1.53433292e+00,  8.01066446e-01],\n",
      "       [-2.12615123e+00,  2.17314667e+00,  1.39269834e+00,\n",
      "         3.69355964e+00,  1.20517556e+00, -3.19983832e+00,\n",
      "        -1.69026041e+01,  1.20583656e+01, -6.26718965e-01],\n",
      "       [ 1.42296192e+01, -3.95749929e+01, -1.56511831e+01,\n",
      "        -1.83550095e-01, -7.16755866e+00,  2.20702729e+00,\n",
      "         1.07751346e+01,  3.95696479e+00,  3.79315760e+00],\n",
      "       [ 2.02285835e+01, -2.20961264e+00, -2.05534031e+01,\n",
      "         1.67049793e+01,  2.78934305e+01,  1.24260492e+01,\n",
      "         8.98320732e+00, -2.45758175e+01, -1.38136791e+01],\n",
      "       [-7.57635258e+00, -1.32005672e+00, -3.98547740e+00,\n",
      "         9.51641532e+00, -1.96458344e+00,  1.16464282e+01,\n",
      "        -5.67977687e+00,  4.24115768e+00, -4.05307847e+00],\n",
      "       [-2.37740028e+01, -2.90771800e+01, -2.42516796e-01,\n",
      "         2.62056999e+01,  3.31995711e+01, -1.10679918e+01,\n",
      "        -1.96844186e+01,  3.37902320e+01, -3.04879542e+00],\n",
      "       [ 1.63000288e+01,  1.48597307e+00, -1.54456983e+00,\n",
      "         1.05781332e+00,  1.08504316e+01,  1.20976823e+01,\n",
      "         1.79628992e+01,  2.93814490e+00, -1.12735861e+01]]), array([[43.4411967 ],\n",
      "       [29.57948208],\n",
      "       [49.55681089],\n",
      "       [99.31847122],\n",
      "       [35.77215108],\n",
      "       [81.76267816],\n",
      "       [22.18477239],\n",
      "       [27.52445398],\n",
      "       [67.85368558]])]\n"
     ]
    }
   ],
   "source": [
    "# Use MLPRegressor() function to train neural network model.\n",
    "# Apply: \n",
    "# (a) default input layer with the number of nodes equal \n",
    "#     to number of predictor variables (11); \n",
    "# (b) default single hidden layer with 9 nodes; \n",
    "# (c) default output layer with one outcome variable (Price);\n",
    "# (d) optimization function solver = 'lbfgs', \n",
    "#     which is applied for small data sets for better \n",
    "#     performance and fast convergence. For large data sets, \n",
    "#     apply default solver = 'adam' optimization function;\n",
    "# (e) model is fit with scaled predictors and regular outcome\n",
    "#     in training partition.\n",
    "corolla_reg = MLPRegressor(hidden_layer_sizes=(9), \n",
    "                solver='lbfgs', max_iter=10000, random_state=1)\n",
    "corolla_reg.fit(train_X_sc, train_y)\n",
    "\n",
    "# Display network structure with the final values of \n",
    "# intercepts (Theta) and weights (W).\n",
    "print('Final Intercepts for Toyota Corolla Neural Network Model')\n",
    "print(corolla_reg.intercepts_)\n",
    "\n",
    "print()\n",
    "print('Network Weights for Toyota Corolla Neural Network Model')\n",
    "print(corolla_reg.coefs_)\n"
   ]
  },
  {
   "cell_type": "code",
   "execution_count": 22,
   "metadata": {},
   "outputs": [
    {
     "name": "stdout",
     "output_type": "stream",
     "text": [
      "Predictions for Toyota Price for Validation Partition\n",
      "     Actual  Prediction  Residual\n",
      "507   11500    10608.30    891.70\n",
      "818    8950     9569.06   -619.06\n",
      "452   11450    10125.30   1324.70\n",
      "368   11450    13011.92  -1561.92\n",
      "242   11950    11826.38    123.62\n",
      "929    9995     9950.98     44.02\n",
      "262   13500    11509.68   1990.32\n",
      "810    7950     9452.90  -1502.90\n",
      "318    9900    11327.68  -1427.68\n",
      "49    21950    21406.60    543.40\n"
     ]
    }
   ],
   "source": [
    "# Make 'Price' predictions for validation set using Toyota Corolla \n",
    "# neural network model. \n",
    "\n",
    "# Use corolla_reg model to predict 'Price' outcome\n",
    "# for validation set.\n",
    "price_pred = np.round(corolla_reg.predict(valid_X_sc), decimals=2)\n",
    "\n",
    "# Create data frame to display prediction results for\n",
    "# validation set. \n",
    "price_pred_result = pd.DataFrame({'Actual': valid_y, \n",
    "                'Prediction': price_pred, 'Residual': valid_y-price_pred})\n",
    "\n",
    "print('Predictions for Toyota Price for Validation Partition')\n",
    "print(price_pred_result.head(10))"
   ]
  },
  {
   "cell_type": "code",
   "execution_count": 23,
   "metadata": {
    "scrolled": true
   },
   "outputs": [
    {
     "name": "stdout",
     "output_type": "stream",
     "text": [
      "Accuracy Measures for Training Partition for Neural Network\n",
      "\n",
      "Regression statistics\n",
      "\n",
      "                      Mean Error (ME) : -1.3313\n",
      "       Root Mean Squared Error (RMSE) : 1080.8326\n",
      "            Mean Absolute Error (MAE) : 805.0273\n",
      "          Mean Percentage Error (MPE) : -0.9289\n",
      "Mean Absolute Percentage Error (MAPE) : 7.1398\n",
      "\n",
      "Accuracy Measures for Validation Partition for Neural Network\n",
      "\n",
      "Regression statistics\n",
      "\n",
      "                      Mean Error (ME) : 18.7791\n",
      "       Root Mean Squared Error (RMSE) : 1160.8289\n",
      "            Mean Absolute Error (MAE) : 896.8095\n",
      "          Mean Percentage Error (MPE) : -0.9002\n",
      "Mean Absolute Percentage Error (MAPE) : 7.9460\n"
     ]
    }
   ],
   "source": [
    "# Neural network model accuracy measures for training and\n",
    "# validation partitions. \n",
    "\n",
    "# Identify and display neural network model accuracy measures \n",
    "# for training partition.\n",
    "print('Accuracy Measures for Training Partition for Neural Network')\n",
    "regressionSummary(train_y, corolla_reg.predict(train_X_sc))\n",
    "\n",
    "# Identify and display neural network accuracy measures \n",
    "# for validation partition.\n",
    "print()\n",
    "print('Accuracy Measures for Validation Partition for Neural Network')\n",
    "regressionSummary(valid_y, corolla_reg.predict(valid_X_sc))"
   ]
  },
  {
   "cell_type": "markdown",
   "metadata": {},
   "source": [
    "## (Optional) Fitting class probabilities separately in Accidents data set."
   ]
  },
  {
   "cell_type": "code",
   "execution_count": 24,
   "metadata": {},
   "outputs": [
    {
     "name": "stdout",
     "output_type": "stream",
     "text": [
      "Original Column Types\n",
      "ALCHL_I       int64\n",
      "PROFIL_I_R    int64\n",
      "SUR_COND      int64\n",
      "VEH_INVL      int64\n",
      "MAX_SEV_IR    int64\n",
      "dtype: object\n",
      "\n",
      "Converted Column Types\n",
      "ALCHL_I         int64\n",
      "PROFIL_I_R      int64\n",
      "VEH_INVL        int64\n",
      "SUR_COND_1      uint8\n",
      "SUR_COND_2      uint8\n",
      "SUR_COND_3      uint8\n",
      "SUR_COND_4      uint8\n",
      "MAX_SEV_IR_0    uint8\n",
      "MAX_SEV_IR_1    uint8\n",
      "MAX_SEV_IR_2    uint8\n",
      "dtype: object\n"
     ]
    }
   ],
   "source": [
    "# Create accidents_df data frame for Accidents data set. \n",
    "accidents_df = pd.read_csv('accidentsnn.csv')\n",
    "\n",
    "# Display variables data types.\n",
    "print('Original Column Types')\n",
    "print(accidents_df.dtypes)\n",
    "\n",
    "# Convert SUR_COND and MAX_SEV_IR into categorical variable in\n",
    "# order to create separate dummy variables for the respective\n",
    "# categories.  \n",
    "accidents_df.SUR_COND = accidents_df.SUR_COND.astype('category')\n",
    "accidents_df.MAX_SEV_IR = accidents_df.MAX_SEV_IR.astype('category')\n",
    "\n",
    "# Convert the categorical data into dummy variables.\n",
    "accidents_df = pd.get_dummies(accidents_df)\n",
    "\n",
    "# Drop the column for SUR_COND 9 = unknown.\n",
    "accidents_df = accidents_df.drop(columns=['SUR_COND_9'])\n",
    "\n",
    "# Display updated data types.\n",
    "print('')\n",
    "print('Converted Column Types')\n",
    "print(accidents_df.dtypes)"
   ]
  },
  {
   "cell_type": "code",
   "execution_count": 25,
   "metadata": {},
   "outputs": [
    {
     "data": {
      "text/html": [
       "<style>#sk-container-id-1 {color: black;}#sk-container-id-1 pre{padding: 0;}#sk-container-id-1 div.sk-toggleable {background-color: white;}#sk-container-id-1 label.sk-toggleable__label {cursor: pointer;display: block;width: 100%;margin-bottom: 0;padding: 0.3em;box-sizing: border-box;text-align: center;}#sk-container-id-1 label.sk-toggleable__label-arrow:before {content: \"▸\";float: left;margin-right: 0.25em;color: #696969;}#sk-container-id-1 label.sk-toggleable__label-arrow:hover:before {color: black;}#sk-container-id-1 div.sk-estimator:hover label.sk-toggleable__label-arrow:before {color: black;}#sk-container-id-1 div.sk-toggleable__content {max-height: 0;max-width: 0;overflow: hidden;text-align: left;background-color: #f0f8ff;}#sk-container-id-1 div.sk-toggleable__content pre {margin: 0.2em;color: black;border-radius: 0.25em;background-color: #f0f8ff;}#sk-container-id-1 input.sk-toggleable__control:checked~div.sk-toggleable__content {max-height: 200px;max-width: 100%;overflow: auto;}#sk-container-id-1 input.sk-toggleable__control:checked~label.sk-toggleable__label-arrow:before {content: \"▾\";}#sk-container-id-1 div.sk-estimator input.sk-toggleable__control:checked~label.sk-toggleable__label {background-color: #d4ebff;}#sk-container-id-1 div.sk-label input.sk-toggleable__control:checked~label.sk-toggleable__label {background-color: #d4ebff;}#sk-container-id-1 input.sk-hidden--visually {border: 0;clip: rect(1px 1px 1px 1px);clip: rect(1px, 1px, 1px, 1px);height: 1px;margin: -1px;overflow: hidden;padding: 0;position: absolute;width: 1px;}#sk-container-id-1 div.sk-estimator {font-family: monospace;background-color: #f0f8ff;border: 1px dotted black;border-radius: 0.25em;box-sizing: border-box;margin-bottom: 0.5em;}#sk-container-id-1 div.sk-estimator:hover {background-color: #d4ebff;}#sk-container-id-1 div.sk-parallel-item::after {content: \"\";width: 100%;border-bottom: 1px solid gray;flex-grow: 1;}#sk-container-id-1 div.sk-label:hover label.sk-toggleable__label {background-color: #d4ebff;}#sk-container-id-1 div.sk-serial::before {content: \"\";position: absolute;border-left: 1px solid gray;box-sizing: border-box;top: 0;bottom: 0;left: 50%;z-index: 0;}#sk-container-id-1 div.sk-serial {display: flex;flex-direction: column;align-items: center;background-color: white;padding-right: 0.2em;padding-left: 0.2em;position: relative;}#sk-container-id-1 div.sk-item {position: relative;z-index: 1;}#sk-container-id-1 div.sk-parallel {display: flex;align-items: stretch;justify-content: center;background-color: white;position: relative;}#sk-container-id-1 div.sk-item::before, #sk-container-id-1 div.sk-parallel-item::before {content: \"\";position: absolute;border-left: 1px solid gray;box-sizing: border-box;top: 0;bottom: 0;left: 50%;z-index: -1;}#sk-container-id-1 div.sk-parallel-item {display: flex;flex-direction: column;z-index: 1;position: relative;background-color: white;}#sk-container-id-1 div.sk-parallel-item:first-child::after {align-self: flex-end;width: 50%;}#sk-container-id-1 div.sk-parallel-item:last-child::after {align-self: flex-start;width: 50%;}#sk-container-id-1 div.sk-parallel-item:only-child::after {width: 0;}#sk-container-id-1 div.sk-dashed-wrapped {border: 1px dashed gray;margin: 0 0.4em 0.5em 0.4em;box-sizing: border-box;padding-bottom: 0.4em;background-color: white;}#sk-container-id-1 div.sk-label label {font-family: monospace;font-weight: bold;display: inline-block;line-height: 1.2em;}#sk-container-id-1 div.sk-label-container {text-align: center;}#sk-container-id-1 div.sk-container {/* jupyter's `normalize.less` sets `[hidden] { display: none; }` but bootstrap.min.css set `[hidden] { display: none !important; }` so we also need the `!important` here to be able to override the default hidden behavior on the sphinx rendered scikit-learn.org. See: https://github.com/scikit-learn/scikit-learn/issues/21755 */display: inline-block !important;position: relative;}#sk-container-id-1 div.sk-text-repr-fallback {display: none;}</style><div id=\"sk-container-id-1\" class=\"sk-top-container\"><div class=\"sk-text-repr-fallback\"><pre>MLPClassifier(activation=&#x27;logistic&#x27;, hidden_layer_sizes=3, max_iter=2000,\n",
       "              random_state=1, solver=&#x27;lbfgs&#x27;)</pre><b>In a Jupyter environment, please rerun this cell to show the HTML representation or trust the notebook. <br />On GitHub, the HTML representation is unable to render, please try loading this page with nbviewer.org.</b></div><div class=\"sk-container\" hidden><div class=\"sk-item\"><div class=\"sk-estimator sk-toggleable\"><input class=\"sk-toggleable__control sk-hidden--visually\" id=\"sk-estimator-id-1\" type=\"checkbox\" checked><label for=\"sk-estimator-id-1\" class=\"sk-toggleable__label sk-toggleable__label-arrow\">MLPClassifier</label><div class=\"sk-toggleable__content\"><pre>MLPClassifier(activation=&#x27;logistic&#x27;, hidden_layer_sizes=3, max_iter=2000,\n",
       "              random_state=1, solver=&#x27;lbfgs&#x27;)</pre></div></div></div></div></div>"
      ],
      "text/plain": [
       "MLPClassifier(activation='logistic', hidden_layer_sizes=3, max_iter=2000,\n",
       "              random_state=1, solver='lbfgs')"
      ]
     },
     "execution_count": 25,
     "metadata": {},
     "output_type": "execute_result"
    }
   ],
   "source": [
    "# Create outcome and predictors for the neural network model. \n",
    "outcome = ['MAX_SEV_IR_0', 'MAX_SEV_IR_1', 'MAX_SEV_IR_2']\n",
    "predictors = [c for c in accidents_df.columns if c not in outcome]\n",
    "classes = sorted(outcome)\n",
    "\n",
    "# Partition data.\n",
    "X = accidents_df[predictors]\n",
    "y = accidents_df[outcome]\n",
    "train_X, valid_X, train_y, valid_y = train_test_split(X, y, \n",
    "                            test_size=0.4, random_state=1)\n",
    "\n",
    "# Train neural network with one hidden layer and 3 nodes.\n",
    "clf = MLPClassifier(hidden_layer_sizes=(3), activation='logistic', \n",
    "                    solver='lbfgs',max_iter=2000, random_state=1)\n",
    "clf.fit(train_X, train_y)"
   ]
  },
  {
   "cell_type": "code",
   "execution_count": 26,
   "metadata": {},
   "outputs": [
    {
     "name": "stdout",
     "output_type": "stream",
     "text": [
      "Training Partition for Neural Network Model\n",
      "Confusion Matrix (Accuracy 0.8731)\n",
      "\n",
      "             Prediction\n",
      "      Actual MAX_SEV_IR_0 MAX_SEV_IR_1 MAX_SEV_IR_2\n",
      "MAX_SEV_IR_0          332            0            0\n",
      "MAX_SEV_IR_1            0          172            8\n",
      "MAX_SEV_IR_2           31           37           19\n",
      "\n",
      "Validation Partition for Neural Network Model\n",
      "Confusion Matrix (Accuracy 0.8625)\n",
      "\n",
      "             Prediction\n",
      "      Actual MAX_SEV_IR_0 MAX_SEV_IR_1 MAX_SEV_IR_2\n",
      "MAX_SEV_IR_0          218            0            1\n",
      "MAX_SEV_IR_1            1          115            3\n",
      "MAX_SEV_IR_2           24           26           12\n"
     ]
    }
   ],
   "source": [
    "# Identify accuracy of predictions for training partition.  \n",
    "# idxmax()function returns the index of the maximum value \n",
    "# across a specified axis. It is especially useful to figure \n",
    "# out the max column values for your rows OR maximum row value \n",
    "# for your columns. axis=1 means to find the highest column \n",
    "# for each row. \n",
    "trainPrediction = pd.DataFrame(clf.predict(train_X), columns=outcome).idxmax(axis=1)\n",
    "print('Training Partition for Neural Network Model')\n",
    "classificationSummary(train_y.idxmax(axis=1), trainPrediction, class_names=classes)\n",
    "\n",
    "# Identify accuracy of predictions for validation partition.  \n",
    "print('')\n",
    "print('Validation Partition for Neural Network Model')\n",
    "validPrediction = pd.DataFrame(clf.predict(valid_X), columns=outcome).idxmax(axis=1)\n",
    "classificationSummary(valid_y.idxmax(axis=1), validPrediction, class_names=classes)"
   ]
  },
  {
   "cell_type": "code",
   "execution_count": null,
   "metadata": {},
   "outputs": [],
   "source": []
  }
 ],
 "metadata": {
  "kernelspec": {
   "display_name": "Python 3 (ipykernel)",
   "language": "python",
   "name": "python3"
  },
  "language_info": {
   "codemirror_mode": {
    "name": "ipython",
    "version": 3
   },
   "file_extension": ".py",
   "mimetype": "text/x-python",
   "name": "python",
   "nbconvert_exporter": "python",
   "pygments_lexer": "ipython3",
   "version": "3.11.5"
  }
 },
 "nbformat": 4,
 "nbformat_minor": 2
}
