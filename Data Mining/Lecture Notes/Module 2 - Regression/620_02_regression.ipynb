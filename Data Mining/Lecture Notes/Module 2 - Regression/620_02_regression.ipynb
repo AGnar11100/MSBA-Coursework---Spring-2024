{
 "cells": [
  {
   "cell_type": "markdown",
   "metadata": {},
   "source": [
    "# Multiple Linear Regression."
   ]
  },
  {
   "cell_type": "markdown",
   "metadata": {},
   "source": [
    "## Import required packages."
   ]
  },
  {
   "cell_type": "code",
   "execution_count": 1,
   "metadata": {},
   "outputs": [],
   "source": [
    "from pathlib import Path\n",
    "\n",
    "import pandas as pd\n",
    "import numpy as np\n",
    "\n",
    "from sklearn.model_selection import train_test_split\n",
    "from sklearn.linear_model import LinearRegression\n",
    "from sklearn.metrics import r2_score\n",
    "\n",
    "import statsmodels.formula.api as sm\n",
    "\n",
    "from dmba import regressionSummary, exhaustive_search\n",
    "from dmba import backward_elimination, forward_selection, stepwise_selection\n",
    "from dmba import adjusted_r2_score, AIC_score, BIC_score\n",
    "\n",
    "import matplotlib.pylab as plt\n",
    "%matplotlib inline"
   ]
  },
  {
   "cell_type": "markdown",
   "metadata": {},
   "source": [
    "## Upload data set for analysis. Explore, clean, and pre-process data. "
   ]
  },
  {
   "cell_type": "code",
   "execution_count": 2,
   "metadata": {
    "scrolled": false
   },
   "outputs": [
    {
     "data": {
      "text/plain": [
       "(1436, 39)"
      ]
     },
     "execution_count": 2,
     "metadata": {},
     "output_type": "execute_result"
    }
   ],
   "source": [
    "# Create data frame from the original data set.  \n",
    "car_df = pd.read_csv('ToyotaCorolla.csv')\n",
    "\n",
    "# Determine dimensions of dataframe. \n",
    "car_df.shape # It has 1436 rows and 39 columns.\n"
   ]
  },
  {
   "cell_type": "code",
   "execution_count": 3,
   "metadata": {
    "scrolled": false
   },
   "outputs": [
    {
     "data": {
      "text/html": [
       "<div>\n",
       "<style scoped>\n",
       "    .dataframe tbody tr th:only-of-type {\n",
       "        vertical-align: middle;\n",
       "    }\n",
       "\n",
       "    .dataframe tbody tr th {\n",
       "        vertical-align: top;\n",
       "    }\n",
       "\n",
       "    .dataframe thead th {\n",
       "        text-align: right;\n",
       "    }\n",
       "</style>\n",
       "<table border=\"1\" class=\"dataframe\">\n",
       "  <thead>\n",
       "    <tr style=\"text-align: right;\">\n",
       "      <th></th>\n",
       "      <th>Id</th>\n",
       "      <th>Model</th>\n",
       "      <th>Price</th>\n",
       "      <th>Age_08_04</th>\n",
       "      <th>Mfg_Month</th>\n",
       "      <th>Mfg_Year</th>\n",
       "      <th>KM</th>\n",
       "      <th>Fuel_Type</th>\n",
       "      <th>HP</th>\n",
       "      <th>Met_Color</th>\n",
       "      <th>...</th>\n",
       "      <th>Powered_Windows</th>\n",
       "      <th>Power_Steering</th>\n",
       "      <th>Radio</th>\n",
       "      <th>Mistlamps</th>\n",
       "      <th>Sport_Model</th>\n",
       "      <th>Backseat_Divider</th>\n",
       "      <th>Metallic_Rim</th>\n",
       "      <th>Radio_cassette</th>\n",
       "      <th>Parking_Assistant</th>\n",
       "      <th>Tow_Bar</th>\n",
       "    </tr>\n",
       "  </thead>\n",
       "  <tbody>\n",
       "    <tr>\n",
       "      <th>0</th>\n",
       "      <td>1</td>\n",
       "      <td>TOYOTA Corolla 2.0 D4D HATCHB TERRA 2/3-Doors</td>\n",
       "      <td>13500</td>\n",
       "      <td>23</td>\n",
       "      <td>10</td>\n",
       "      <td>2002</td>\n",
       "      <td>46986</td>\n",
       "      <td>Diesel</td>\n",
       "      <td>90</td>\n",
       "      <td>1</td>\n",
       "      <td>...</td>\n",
       "      <td>1</td>\n",
       "      <td>1</td>\n",
       "      <td>0</td>\n",
       "      <td>0</td>\n",
       "      <td>0</td>\n",
       "      <td>1</td>\n",
       "      <td>0</td>\n",
       "      <td>0</td>\n",
       "      <td>0</td>\n",
       "      <td>0</td>\n",
       "    </tr>\n",
       "    <tr>\n",
       "      <th>1</th>\n",
       "      <td>2</td>\n",
       "      <td>TOYOTA Corolla 2.0 D4D HATCHB TERRA 2/3-Doors</td>\n",
       "      <td>13750</td>\n",
       "      <td>23</td>\n",
       "      <td>10</td>\n",
       "      <td>2002</td>\n",
       "      <td>72937</td>\n",
       "      <td>Diesel</td>\n",
       "      <td>90</td>\n",
       "      <td>1</td>\n",
       "      <td>...</td>\n",
       "      <td>0</td>\n",
       "      <td>1</td>\n",
       "      <td>0</td>\n",
       "      <td>0</td>\n",
       "      <td>0</td>\n",
       "      <td>1</td>\n",
       "      <td>0</td>\n",
       "      <td>0</td>\n",
       "      <td>0</td>\n",
       "      <td>0</td>\n",
       "    </tr>\n",
       "    <tr>\n",
       "      <th>2</th>\n",
       "      <td>3</td>\n",
       "      <td>TOYOTA Corolla 2.0 D4D HATCHB TERRA 2/3-Doors</td>\n",
       "      <td>13950</td>\n",
       "      <td>24</td>\n",
       "      <td>9</td>\n",
       "      <td>2002</td>\n",
       "      <td>41711</td>\n",
       "      <td>Diesel</td>\n",
       "      <td>90</td>\n",
       "      <td>1</td>\n",
       "      <td>...</td>\n",
       "      <td>0</td>\n",
       "      <td>1</td>\n",
       "      <td>0</td>\n",
       "      <td>0</td>\n",
       "      <td>0</td>\n",
       "      <td>1</td>\n",
       "      <td>0</td>\n",
       "      <td>0</td>\n",
       "      <td>0</td>\n",
       "      <td>0</td>\n",
       "    </tr>\n",
       "    <tr>\n",
       "      <th>3</th>\n",
       "      <td>4</td>\n",
       "      <td>TOYOTA Corolla 2.0 D4D HATCHB TERRA 2/3-Doors</td>\n",
       "      <td>14950</td>\n",
       "      <td>26</td>\n",
       "      <td>7</td>\n",
       "      <td>2002</td>\n",
       "      <td>48000</td>\n",
       "      <td>Diesel</td>\n",
       "      <td>90</td>\n",
       "      <td>0</td>\n",
       "      <td>...</td>\n",
       "      <td>0</td>\n",
       "      <td>1</td>\n",
       "      <td>0</td>\n",
       "      <td>0</td>\n",
       "      <td>0</td>\n",
       "      <td>1</td>\n",
       "      <td>0</td>\n",
       "      <td>0</td>\n",
       "      <td>0</td>\n",
       "      <td>0</td>\n",
       "    </tr>\n",
       "    <tr>\n",
       "      <th>4</th>\n",
       "      <td>5</td>\n",
       "      <td>TOYOTA Corolla 2.0 D4D HATCHB SOL 2/3-Doors</td>\n",
       "      <td>13750</td>\n",
       "      <td>30</td>\n",
       "      <td>3</td>\n",
       "      <td>2002</td>\n",
       "      <td>38500</td>\n",
       "      <td>Diesel</td>\n",
       "      <td>90</td>\n",
       "      <td>0</td>\n",
       "      <td>...</td>\n",
       "      <td>1</td>\n",
       "      <td>1</td>\n",
       "      <td>0</td>\n",
       "      <td>1</td>\n",
       "      <td>0</td>\n",
       "      <td>1</td>\n",
       "      <td>0</td>\n",
       "      <td>0</td>\n",
       "      <td>0</td>\n",
       "      <td>0</td>\n",
       "    </tr>\n",
       "  </tbody>\n",
       "</table>\n",
       "<p>5 rows × 39 columns</p>\n",
       "</div>"
      ],
      "text/plain": [
       "   Id                                          Model  Price  Age_08_04  \\\n",
       "0   1  TOYOTA Corolla 2.0 D4D HATCHB TERRA 2/3-Doors  13500         23   \n",
       "1   2  TOYOTA Corolla 2.0 D4D HATCHB TERRA 2/3-Doors  13750         23   \n",
       "2   3  TOYOTA Corolla 2.0 D4D HATCHB TERRA 2/3-Doors  13950         24   \n",
       "3   4  TOYOTA Corolla 2.0 D4D HATCHB TERRA 2/3-Doors  14950         26   \n",
       "4   5    TOYOTA Corolla 2.0 D4D HATCHB SOL 2/3-Doors  13750         30   \n",
       "\n",
       "   Mfg_Month  Mfg_Year     KM Fuel_Type  HP  Met_Color  ... Powered_Windows  \\\n",
       "0         10      2002  46986    Diesel  90          1  ...               1   \n",
       "1         10      2002  72937    Diesel  90          1  ...               0   \n",
       "2          9      2002  41711    Diesel  90          1  ...               0   \n",
       "3          7      2002  48000    Diesel  90          0  ...               0   \n",
       "4          3      2002  38500    Diesel  90          0  ...               1   \n",
       "\n",
       "   Power_Steering  Radio  Mistlamps  Sport_Model  Backseat_Divider  \\\n",
       "0               1      0          0            0                 1   \n",
       "1               1      0          0            0                 1   \n",
       "2               1      0          0            0                 1   \n",
       "3               1      0          0            0                 1   \n",
       "4               1      0          1            0                 1   \n",
       "\n",
       "   Metallic_Rim  Radio_cassette  Parking_Assistant  Tow_Bar  \n",
       "0             0               0                  0        0  \n",
       "1             0               0                  0        0  \n",
       "2             0               0                  0        0  \n",
       "3             0               0                  0        0  \n",
       "4             0               0                  0        0  \n",
       "\n",
       "[5 rows x 39 columns]"
      ]
     },
     "execution_count": 3,
     "metadata": {},
     "output_type": "execute_result"
    }
   ],
   "source": [
    "# Display the first 5 records of the original data set.\n",
    "car_df.head()\n"
   ]
  },
  {
   "cell_type": "code",
   "execution_count": 4,
   "metadata": {
    "scrolled": false
   },
   "outputs": [
    {
     "data": {
      "text/plain": [
       "Index(['Id', 'Model', 'Price', 'Age_08_04', 'Mfg_Month', 'Mfg_Year', 'KM',\n",
       "       'Fuel_Type', 'HP', 'Met_Color', 'Color', 'Automatic', 'CC', 'Doors',\n",
       "       'Cylinders', 'Gears', 'Quarterly_Tax', 'Weight', 'Mfr_Guarantee',\n",
       "       'BOVAG_Guarantee', 'Guarantee_Period', 'ABS', 'Airbag_1', 'Airbag_2',\n",
       "       'Airco', 'Automatic_airco', 'Boardcomputer', 'CD_Player',\n",
       "       'Central_Lock', 'Powered_Windows', 'Power_Steering', 'Radio',\n",
       "       'Mistlamps', 'Sport_Model', 'Backseat_Divider', 'Metallic_Rim',\n",
       "       'Radio_cassette', 'Parking_Assistant', 'Tow_Bar'],\n",
       "      dtype='object')"
      ]
     },
     "execution_count": 4,
     "metadata": {},
     "output_type": "execute_result"
    }
   ],
   "source": [
    "# Display the column names.\n",
    "car_df.columns"
   ]
  },
  {
   "cell_type": "code",
   "execution_count": 5,
   "metadata": {},
   "outputs": [
    {
     "data": {
      "text/html": [
       "<div>\n",
       "<style scoped>\n",
       "    .dataframe tbody tr th:only-of-type {\n",
       "        vertical-align: middle;\n",
       "    }\n",
       "\n",
       "    .dataframe tbody tr th {\n",
       "        vertical-align: top;\n",
       "    }\n",
       "\n",
       "    .dataframe thead th {\n",
       "        text-align: right;\n",
       "    }\n",
       "</style>\n",
       "<table border=\"1\" class=\"dataframe\">\n",
       "  <thead>\n",
       "    <tr style=\"text-align: right;\">\n",
       "      <th></th>\n",
       "      <th>Price</th>\n",
       "      <th>Age_08_04</th>\n",
       "      <th>KM</th>\n",
       "      <th>Fuel_Type</th>\n",
       "      <th>HP</th>\n",
       "      <th>Met_Color</th>\n",
       "      <th>Automatic</th>\n",
       "      <th>CC</th>\n",
       "      <th>Doors</th>\n",
       "      <th>Quarterly_Tax</th>\n",
       "      <th>Weight</th>\n",
       "    </tr>\n",
       "  </thead>\n",
       "  <tbody>\n",
       "    <tr>\n",
       "      <th>0</th>\n",
       "      <td>13500</td>\n",
       "      <td>23</td>\n",
       "      <td>46986</td>\n",
       "      <td>Diesel</td>\n",
       "      <td>90</td>\n",
       "      <td>1</td>\n",
       "      <td>0</td>\n",
       "      <td>2000</td>\n",
       "      <td>3</td>\n",
       "      <td>210</td>\n",
       "      <td>1165</td>\n",
       "    </tr>\n",
       "    <tr>\n",
       "      <th>1</th>\n",
       "      <td>13750</td>\n",
       "      <td>23</td>\n",
       "      <td>72937</td>\n",
       "      <td>Diesel</td>\n",
       "      <td>90</td>\n",
       "      <td>1</td>\n",
       "      <td>0</td>\n",
       "      <td>2000</td>\n",
       "      <td>3</td>\n",
       "      <td>210</td>\n",
       "      <td>1165</td>\n",
       "    </tr>\n",
       "    <tr>\n",
       "      <th>2</th>\n",
       "      <td>13950</td>\n",
       "      <td>24</td>\n",
       "      <td>41711</td>\n",
       "      <td>Diesel</td>\n",
       "      <td>90</td>\n",
       "      <td>1</td>\n",
       "      <td>0</td>\n",
       "      <td>2000</td>\n",
       "      <td>3</td>\n",
       "      <td>210</td>\n",
       "      <td>1165</td>\n",
       "    </tr>\n",
       "    <tr>\n",
       "      <th>3</th>\n",
       "      <td>14950</td>\n",
       "      <td>26</td>\n",
       "      <td>48000</td>\n",
       "      <td>Diesel</td>\n",
       "      <td>90</td>\n",
       "      <td>0</td>\n",
       "      <td>0</td>\n",
       "      <td>2000</td>\n",
       "      <td>3</td>\n",
       "      <td>210</td>\n",
       "      <td>1165</td>\n",
       "    </tr>\n",
       "    <tr>\n",
       "      <th>4</th>\n",
       "      <td>13750</td>\n",
       "      <td>30</td>\n",
       "      <td>38500</td>\n",
       "      <td>Diesel</td>\n",
       "      <td>90</td>\n",
       "      <td>0</td>\n",
       "      <td>0</td>\n",
       "      <td>2000</td>\n",
       "      <td>3</td>\n",
       "      <td>210</td>\n",
       "      <td>1170</td>\n",
       "    </tr>\n",
       "    <tr>\n",
       "      <th>5</th>\n",
       "      <td>12950</td>\n",
       "      <td>32</td>\n",
       "      <td>61000</td>\n",
       "      <td>Diesel</td>\n",
       "      <td>90</td>\n",
       "      <td>0</td>\n",
       "      <td>0</td>\n",
       "      <td>2000</td>\n",
       "      <td>3</td>\n",
       "      <td>210</td>\n",
       "      <td>1170</td>\n",
       "    </tr>\n",
       "    <tr>\n",
       "      <th>6</th>\n",
       "      <td>16900</td>\n",
       "      <td>27</td>\n",
       "      <td>94612</td>\n",
       "      <td>Diesel</td>\n",
       "      <td>90</td>\n",
       "      <td>1</td>\n",
       "      <td>0</td>\n",
       "      <td>2000</td>\n",
       "      <td>3</td>\n",
       "      <td>210</td>\n",
       "      <td>1245</td>\n",
       "    </tr>\n",
       "    <tr>\n",
       "      <th>7</th>\n",
       "      <td>18600</td>\n",
       "      <td>30</td>\n",
       "      <td>75889</td>\n",
       "      <td>Diesel</td>\n",
       "      <td>90</td>\n",
       "      <td>1</td>\n",
       "      <td>0</td>\n",
       "      <td>2000</td>\n",
       "      <td>3</td>\n",
       "      <td>210</td>\n",
       "      <td>1245</td>\n",
       "    </tr>\n",
       "    <tr>\n",
       "      <th>8</th>\n",
       "      <td>21500</td>\n",
       "      <td>27</td>\n",
       "      <td>19700</td>\n",
       "      <td>Petrol</td>\n",
       "      <td>192</td>\n",
       "      <td>0</td>\n",
       "      <td>0</td>\n",
       "      <td>1800</td>\n",
       "      <td>3</td>\n",
       "      <td>100</td>\n",
       "      <td>1185</td>\n",
       "    </tr>\n",
       "    <tr>\n",
       "      <th>9</th>\n",
       "      <td>12950</td>\n",
       "      <td>23</td>\n",
       "      <td>71138</td>\n",
       "      <td>Diesel</td>\n",
       "      <td>69</td>\n",
       "      <td>0</td>\n",
       "      <td>0</td>\n",
       "      <td>1900</td>\n",
       "      <td>3</td>\n",
       "      <td>185</td>\n",
       "      <td>1105</td>\n",
       "    </tr>\n",
       "  </tbody>\n",
       "</table>\n",
       "</div>"
      ],
      "text/plain": [
       "   Price  Age_08_04     KM Fuel_Type   HP  Met_Color  Automatic    CC  Doors  \\\n",
       "0  13500         23  46986    Diesel   90          1          0  2000      3   \n",
       "1  13750         23  72937    Diesel   90          1          0  2000      3   \n",
       "2  13950         24  41711    Diesel   90          1          0  2000      3   \n",
       "3  14950         26  48000    Diesel   90          0          0  2000      3   \n",
       "4  13750         30  38500    Diesel   90          0          0  2000      3   \n",
       "5  12950         32  61000    Diesel   90          0          0  2000      3   \n",
       "6  16900         27  94612    Diesel   90          1          0  2000      3   \n",
       "7  18600         30  75889    Diesel   90          1          0  2000      3   \n",
       "8  21500         27  19700    Petrol  192          0          0  1800      3   \n",
       "9  12950         23  71138    Diesel   69          0          0  1900      3   \n",
       "\n",
       "   Quarterly_Tax  Weight  \n",
       "0            210    1165  \n",
       "1            210    1165  \n",
       "2            210    1165  \n",
       "3            210    1165  \n",
       "4            210    1170  \n",
       "5            210    1170  \n",
       "6            210    1245  \n",
       "7            210    1245  \n",
       "8            100    1185  \n",
       "9            185    1105  "
      ]
     },
     "execution_count": 5,
     "metadata": {},
     "output_type": "execute_result"
    }
   ],
   "source": [
    "# Create a subset data frame with 11 columns and top \n",
    "# 1000 records for regression analysis.\n",
    "\n",
    "# Use the pd.concat() function to combine non-consecutive \n",
    "# columns into a new data frame, car_df_reg, with top 1000\n",
    "# records.\n",
    "# The axis argument specifies the dimension along which \n",
    "# the concatenation happens, 0=rows, 1=columns.\n",
    "car_df_reg  = pd.concat([car_df.iloc[0:1000,2:4], \n",
    "           car_df.iloc[0:1000,6:10], \n",
    "           car_df.iloc[0:1000,11:14], \n",
    "           car_df.iloc[0:1000,16:18]], axis=1)\n",
    "\n",
    "# Show the first 10 records of dataframe for regression analysis.\n",
    "car_df_reg.head(10)\n"
   ]
  },
  {
   "cell_type": "code",
   "execution_count": 6,
   "metadata": {},
   "outputs": [
    {
     "data": {
      "text/plain": [
       "Price             int64\n",
       "Age_08_04         int64\n",
       "KM                int64\n",
       "Fuel_Type        object\n",
       "HP                int64\n",
       "Met_Color         int64\n",
       "Automatic         int64\n",
       "CC                int64\n",
       "Doors             int64\n",
       "Quarterly_Tax     int64\n",
       "Weight            int64\n",
       "dtype: object"
      ]
     },
     "execution_count": 6,
     "metadata": {},
     "output_type": "execute_result"
    }
   ],
   "source": [
    "# Display column data types in the dataframe for regression analysis.\n",
    "car_df_reg.dtypes"
   ]
  },
  {
   "cell_type": "code",
   "execution_count": 7,
   "metadata": {},
   "outputs": [
    {
     "name": "stdout",
     "output_type": "stream",
     "text": [
      " \n",
      "Category levels and changed variable type:\n",
      "Index(['CNG', 'Diesel', 'Petrol'], dtype='object')\n",
      "category\n"
     ]
    }
   ],
   "source": [
    "# Change Fuel_Type variable to 'category'. \n",
    "car_df_reg.Fuel_Type = car_df_reg.Fuel_Type.astype('category')\n",
    "\n",
    "# Display category classes and category type.\n",
    "print(' ')\n",
    "print('Category levels and changed variable type:')\n",
    "print(car_df_reg.Fuel_Type.cat.categories)  # It can take one of three classes.\n",
    "print(car_df_reg.Fuel_Type.dtype)  # Type is now 'category'."
   ]
  },
  {
   "cell_type": "code",
   "execution_count": 8,
   "metadata": {},
   "outputs": [
    {
     "data": {
      "text/plain": [
       "Index(['Price', 'Age_08_04', 'KM', 'HP', 'Met_Color', 'Automatic', 'CC',\n",
       "       'Doors', 'Quarterly_Tax', 'Weight', 'Fuel_Type_Diesel',\n",
       "       'Fuel_Type_Petrol'],\n",
       "      dtype='object')"
      ]
     },
     "execution_count": 8,
     "metadata": {},
     "output_type": "execute_result"
    }
   ],
   "source": [
    "# Convert category variable 'Fuel' into dummy variables, \n",
    "# Use drop_first=True to drop the first dummy variable, CNG.\n",
    "car_df_reg = pd.get_dummies(car_df_reg, prefix_sep='_', \n",
    "                            drop_first=True)\n",
    "car_df_reg.columns"
   ]
  },
  {
   "cell_type": "markdown",
   "metadata": {},
   "source": [
    "## Develop multiple linear regression model and make predictions. "
   ]
  },
  {
   "cell_type": "code",
   "execution_count": 9,
   "metadata": {
    "scrolled": true
   },
   "outputs": [
    {
     "name": "stdout",
     "output_type": "stream",
     "text": [
      "Regression Model for Toyota Corolla Training Set\n",
      "\n",
      "Intercept:  -1319.35\n",
      "           Predictor  Coefficient\n",
      "0          Age_08_04      -140.75\n",
      "1                 KM        -0.02\n",
      "2                 HP        36.10\n",
      "3          Met_Color        84.28\n",
      "4          Automatic       416.78\n",
      "5                 CC         0.02\n",
      "6              Doors       -50.66\n",
      "7      Quarterly_Tax        13.63\n",
      "8             Weight        13.04\n",
      "9   Fuel_Type_Diesel      1066.46\n",
      "10  Fuel_Type_Petrol      2310.25\n"
     ]
    }
   ],
   "source": [
    "# Identify predictors and outcome of the regression model.\n",
    "predictors = ['Age_08_04', 'KM', 'HP', 'Met_Color', 'Automatic', 'CC',\n",
    "               'Doors', 'Quarterly_Tax', 'Weight', 'Fuel_Type_Diesel',\n",
    "               'Fuel_Type_Petrol']\n",
    "outcome = 'Price'\n",
    "\n",
    "# Identify X and y variables for regression and partition data\n",
    "# using 60% of records for training and 40% for validation \n",
    "# (test_size=0.4). \n",
    "X = car_df_reg[predictors]\n",
    "y = car_df_reg[outcome]\n",
    "train_X, valid_X, train_y, valid_y = train_test_split(X, y, test_size=0.4, random_state=1)\n",
    "\n",
    "# Create multiple linear regression model using X and y\n",
    "# and LinearRegression() function from sklearn (skikit-learn) \n",
    "# library.\n",
    "car_lm = LinearRegression()\n",
    "car_lm.fit(train_X, train_y)\n",
    "\n",
    "# Display intercept and regression coefficients. Round\n",
    "# them to 2 decimals.\n",
    "print('Regression Model for Toyota Corolla Training Set')\n",
    "print()\n",
    "print('Intercept: ', np.round(car_lm.intercept_, 2)) # coefficient Bo\n",
    "print(pd.DataFrame({'Predictor': X.columns, 'Coefficient': np.round(car_lm.coef_, 2)}))\n",
    "\n",
    "# Price =  -1319.35 - 140.75Age_08_04 - 0.02KM + 36.10 HP + 84.28 Met_Color  + 416.78  Automatic \n",
    "#             + 0.02 CC - 50.66  Doors + 13.63 Quarterly_Tax  + 13.04 Weight + 1066.46 Fuel_Type_Diesel\n",
    "#             + 2310.25 Fuel_Type_Petrol \n",
    "\n"
   ]
  },
  {
   "cell_type": "code",
   "execution_count": 10,
   "metadata": {
    "scrolled": true
   },
   "outputs": [
    {
     "name": "stdout",
     "output_type": "stream",
     "text": [
      "Actual, Prediction, and Residual Prices for Validation Set\n",
      "     Actual  Predicted  Residual\n",
      "507   11500   10607.33    892.67\n",
      "818    8950    9272.71   -322.71\n",
      "452   11450   10617.95    832.05\n",
      "368   11450   13600.40  -2150.40\n",
      "242   11950   12396.69   -446.69\n",
      "929    9995    9496.50    498.50\n",
      "262   13500   12480.06   1019.94\n",
      "810    7950    8834.15   -884.15\n",
      "318    9900   12183.36  -2283.36\n",
      "49    21950   19206.97   2743.03\n"
     ]
    }
   ],
   "source": [
    "# Use predict() to score (make) predictions for validation set.\n",
    "car_lm_pred = car_lm.predict(valid_X)\n",
    "\n",
    "# Develop and display data frame with actual values of Price,\n",
    "# scoring (predicted) results, and residuals.\n",
    "# Use round() function to round vlaues in data frame to \n",
    "# 2 decimals. \n",
    "print('Actual, Prediction, and Residual Prices for Validation Set')\n",
    "result = round(pd.DataFrame({'Actual': valid_y,'Predicted': car_lm_pred, \n",
    "                       'Residual': valid_y - car_lm_pred}), 2)\n",
    "print(result.head(10))"
   ]
  },
  {
   "cell_type": "markdown",
   "metadata": {},
   "source": [
    "## Identify and compare performance measures for training and validation set."
   ]
  },
  {
   "cell_type": "code",
   "execution_count": 11,
   "metadata": {},
   "outputs": [
    {
     "name": "stdout",
     "output_type": "stream",
     "text": [
      "Prediction Performance Measures for Training Set\n",
      "r2 :  0.856\n",
      "Adjusted r2 :  0.854\n",
      "AIC :  10422.3\n",
      "BIC :  10479.46\n",
      "\n",
      "Prediction Performance Measures for Validation Set\n",
      "r2 :  0.882\n",
      "adjusted r2 :  0.878\n",
      "AIC :  6905.12\n",
      "BIC :  6957.01\n"
     ]
    }
   ],
   "source": [
    "# Use predict() function to make predictions for\n",
    "# training set.\n",
    "pred_y = car_lm.predict(train_X)\n",
    "\n",
    "# Create prediction performance measures for training set.\n",
    "r2 = round(r2_score(train_y, pred_y),3)\n",
    "adj_r2 = round(adjusted_r2_score(train_y, pred_y, car_lm),3)\n",
    "aic = round(AIC_score(train_y, pred_y, car_lm),2)\n",
    "bic = round(BIC_score(train_y, pred_y, car_lm),2)\n",
    "\n",
    "# Display prediction performance measures for training set.\n",
    "print('Prediction Performance Measures for Training Set')\n",
    "print('r2 : ', r2)\n",
    "print('Adjusted r2 : ', adj_r2)\n",
    "print('AIC : ', aic)\n",
    "print('BIC : ', bic)\n",
    "print() \n",
    "\n",
    "# Create prediction performance measures for validation set.\n",
    "r2 = round(r2_score(valid_y, car_lm_pred),3)\n",
    "adj_r2 = round(adjusted_r2_score(valid_y, car_lm_pred, car_lm),3)\n",
    "aic = round(AIC_score(valid_y, car_lm_pred, car_lm),2)\n",
    "bic = round(BIC_score(valid_y, car_lm_pred, car_lm),2)\n",
    "\n",
    "# Display prediction performance measures for validation set.\n",
    "print('Prediction Performance Measures for Validation Set')\n",
    "print('r2 : ', r2)\n",
    "print('adjusted r2 : ', adj_r2)\n",
    "print('AIC : ', aic)\n",
    "print('BIC : ', bic)"
   ]
  },
  {
   "cell_type": "code",
   "execution_count": 12,
   "metadata": {
    "scrolled": false
   },
   "outputs": [
    {
     "name": "stdout",
     "output_type": "stream",
     "text": [
      "Accuracy Measures for Training Set - All Variables\n",
      "\n",
      "Regression statistics\n",
      "\n",
      "                      Mean Error (ME) : -0.0000\n",
      "       Root Mean Squared Error (RMSE) : 1400.5823\n",
      "            Mean Absolute Error (MAE) : 1046.9072\n",
      "          Mean Percentage Error (MPE) : -1.0223\n",
      "Mean Absolute Percentage Error (MAPE) : 9.2994\n",
      "\n",
      "Accuracy Measures for Validation Set - All Variables\n",
      "\n",
      "Regression statistics\n",
      "\n",
      "                      Mean Error (ME) : 103.6803\n",
      "       Root Mean Squared Error (RMSE) : 1312.8523\n",
      "            Mean Absolute Error (MAE) : 1017.5972\n",
      "          Mean Percentage Error (MPE) : -0.2633\n",
      "Mean Absolute Percentage Error (MAPE) : 9.0111\n"
     ]
    }
   ],
   "source": [
    "# Display common accuracy measures for training set.\n",
    "print('Accuracy Measures for Training Set - All Variables')\n",
    "regressionSummary(train_y, pred_y)\n",
    "print()\n",
    "\n",
    "# Display common accuracy measures for validation set.\n",
    "print('Accuracy Measures for Validation Set - All Variables')\n",
    "regressionSummary(valid_y, car_lm_pred)"
   ]
  },
  {
   "cell_type": "code",
   "execution_count": 13,
   "metadata": {},
   "outputs": [
    {
     "name": "stdout",
     "output_type": "stream",
     "text": [
      "New Toyota Corolla Data and Predictions for New Data\n",
      "   Age_08_04     KM   HP  Met_Color  Automatic  CC  Doors  Quarterly_Tax  \\\n",
      "0         24  35200   90          0          0   0      3             85   \n",
      "1         34  20840  190          0          1   0      4            220   \n",
      "\n",
      "   Weight  Fuel_Type_Diesel  Fuel_Type_Petrol  Predicted Price  \n",
      "0    1120                 1                 0         14600.01  \n",
      "1    1000                 0                 1         18943.73  \n"
     ]
    }
   ],
   "source": [
    "# Make predictions for new data using two new Toyota \n",
    "# Corolla records. \n",
    "\n",
    "# Develop dataframe with 2 new records. Notice that the \n",
    "# 'Price' output variable is not present in these records.\n",
    "new_reg_data = pd.DataFrame({\n",
    "            'Age_08_04': [24,34],  \n",
    "            'KM': [35200, 20840],\n",
    "            'HP': [90, 190],  \n",
    "            'Met_Color': [0, 0],\n",
    "            'Automatic': [0, 1],\n",
    "            'CC': [0,0],\n",
    "            'Doors': [3, 4],  \n",
    "            'Quarterly_Tax': [85, 220],  \n",
    "            'Weight': [1120, 1000],\n",
    "            'Fuel_Type_Diesel': [1, 0],\n",
    "            'Fuel_Type_Petrol': [0, 1],\n",
    "})\n",
    "\n",
    "# Use predict() function to make predictions for \n",
    "# new Toyota Corolla data using regression model \n",
    "# and round them to 2 decimals.\n",
    "pred_reg = np.round(car_lm.predict(new_reg_data), 2)\n",
    "\n",
    "# Display new data and display 'Price' prediction \n",
    "# for each record.\n",
    "pred_reg_result = pd.DataFrame({\n",
    "            'Age_08_04': [24,34],  \n",
    "            'KM': [35200, 20840],\n",
    "            'HP': [90, 190],  \n",
    "            'Met_Color': [0, 0],\n",
    "            'Automatic': [0, 1],\n",
    "            'CC': [0,0],\n",
    "            'Doors': [3, 4],  \n",
    "            'Quarterly_Tax': [85, 220],  \n",
    "            'Weight': [1120, 1000],\n",
    "            'Fuel_Type_Diesel': [1, 0],\n",
    "            'Fuel_Type_Petrol': [0, 1],\n",
    "            'Predicted Price': pred_reg,\n",
    "})\n",
    "\n",
    "print('New Toyota Corolla Data and Predictions for New Data')\n",
    "print(pred_reg_result)"
   ]
  },
  {
   "cell_type": "markdown",
   "metadata": {},
   "source": [
    "## Determine validation residuals and create histogram."
   ]
  },
  {
   "cell_type": "code",
   "execution_count": 14,
   "metadata": {},
   "outputs": [
    {
     "data": {
      "image/png": "[encoded data removed]",
      "text/plain": [
       "<Figure size 640x480 with 1 Axes>"
      ]
     },
     "metadata": {},
     "output_type": "display_data"
    }
   ],
   "source": [
    "# Identify validation residuals of the regression model\n",
    "# to check if they have approximately normal distribution.\n",
    "car_lm_pred = car_lm.predict(valid_X)\n",
    "all_residuals = valid_y - car_lm_pred\n",
    "\n",
    "# Develop data frame for the histogram using hist()\n",
    "# function.\n",
    "ax = pd.DataFrame({'Residuals': all_residuals}).hist(bins=25)\n",
    "\n",
    "# Show histogram plot. \n",
    "# plt.tight_layout()\n",
    "plt.show()"
   ]
  },
  {
   "cell_type": "markdown",
   "metadata": {},
   "source": [
    "## Use statsmodels library to develop linear regression models."
   ]
  },
  {
   "cell_type": "code",
   "execution_count": 15,
   "metadata": {},
   "outputs": [
    {
     "data": {
      "text/plain": [
       "Index(['Age_08_04', 'KM', 'HP', 'Met_Color', 'Automatic', 'CC', 'Doors',\n",
       "       'Quarterly_Tax', 'Weight', 'Fuel_Type_Diesel', 'Fuel_Type_Petrol',\n",
       "       'Price'],\n",
       "      dtype='object')"
      ]
     },
     "execution_count": 15,
     "metadata": {},
     "output_type": "execute_result"
    }
   ],
   "source": [
    "# Apply sm.ols() function from statsmodels library\n",
    "# to run a linear regression of Price on the \n",
    "# 11 predictors (including 2 dummy variables)\n",
    "# in the training set.\n",
    "\n",
    "# Create a data frame that inlcudes 11 predictors and\n",
    "# outcome (Price) for training set.\n",
    "train_df_sm = train_X.join(train_y)\n",
    "\n",
    "# Display columns in train_df data frame.\n",
    "train_df_sm.columns"
   ]
  },
  {
   "cell_type": "code",
   "execution_count": 16,
   "metadata": {},
   "outputs": [
    {
     "name": "stdout",
     "output_type": "stream",
     "text": [
      "                            OLS Regression Results                            \n",
      "==============================================================================\n",
      "Dep. Variable:                train_y   R-squared:                       0.856\n",
      "Model:                            OLS   Adj. R-squared:                  0.854\n",
      "Method:                 Least Squares   F-statistic:                     319.0\n",
      "Date:                Mon, 18 Mar 2024   Prob (F-statistic):          1.73e-239\n",
      "Time:                        18:08:14   Log-Likelihood:                -5198.1\n",
      "No. Observations:                 600   AIC:                         1.042e+04\n",
      "Df Residuals:                     588   BIC:                         1.047e+04\n",
      "Df Model:                          11                                         \n",
      "Covariance Type:            nonrobust                                         \n",
      "====================================================================================\n",
      "                       coef    std err          t      P>|t|      [0.025      0.975]\n",
      "------------------------------------------------------------------------------------\n",
      "Intercept        -1319.3544   1728.427     -0.763      0.446   -4713.997    2075.288\n",
      "Age_08_04         -140.7488      5.142    -27.374      0.000    -150.847    -130.650\n",
      "KM                  -0.0178      0.002     -7.286      0.000      -0.023      -0.013\n",
      "HP                  36.1034      5.321      6.785      0.000      25.653      46.554\n",
      "Met_Color           84.2818    127.005      0.664      0.507    -165.158     333.721\n",
      "Automatic          416.7820    259.794      1.604      0.109     -93.454     927.018\n",
      "CC                   0.0177      0.099      0.179      0.858      -0.177       0.213\n",
      "Doors              -50.6579     65.187     -0.777      0.437    -178.686      77.371\n",
      "Quarterly_Tax       13.6253      2.518      5.411      0.000       8.680      18.571\n",
      "Weight              13.0387      1.602      8.140      0.000       9.893      16.185\n",
      "Fuel_Type_Diesel  1066.4647    527.285      2.023      0.044      30.872    2102.057\n",
      "Fuel_Type_Petrol  2310.2495    521.045      4.434      0.000    1286.914    3333.585\n",
      "==============================================================================\n",
      "Omnibus:                       62.422   Durbin-Watson:                   1.899\n",
      "Prob(Omnibus):                  0.000   Jarque-Bera (JB):              366.046\n",
      "Skew:                           0.186   Prob(JB):                     3.27e-80\n",
      "Kurtosis:                       6.808   Cond. No.                     2.20e+06\n",
      "==============================================================================\n",
      "\n",
      "Notes:\n",
      "[1] Standard Errors assume that the covariance matrix of the errors is correctly specified.\n",
      "[2] The condition number is large, 2.2e+06. This might indicate that there are\n",
      "strong multicollinearity or other numerical problems.\n"
     ]
    }
   ],
   "source": [
    "# Create predictors for the model.\n",
    "predictors_sm = train_X.columns\n",
    "\n",
    "# Develop regression model formula, where\n",
    "# Price is outcome and 11 predictors. \n",
    "formula = 'train_y ~ ' + ' + '.join(predictors_sm)\n",
    "\n",
    "# Create multiple regression model using sm.ols()\n",
    "# function from statsmodels library.\n",
    "car_lm_sm = sm.ols(formula=formula, data=train_df_sm).fit()\n",
    "\n",
    "# Display regression summary.\n",
    "print(car_lm_sm.summary()) \n",
    "\n",
    "# The regression coefficients are the same as for the \n",
    "# regression model using LinearRegression() function \n",
    "# from scikit-learn library."
   ]
  },
  {
   "cell_type": "code",
   "execution_count": 17,
   "metadata": {},
   "outputs": [
    {
     "name": "stdout",
     "output_type": "stream",
     "text": [
      "Actual, Prediction, and Residual Price for Validation Set\n",
      "     Actual  Predicted  Residual\n",
      "507   11500   10607.33    892.67\n",
      "818    8950    9272.71   -322.71\n",
      "452   11450   10617.95    832.05\n",
      "368   11450   13600.40  -2150.40\n",
      "242   11950   12396.69   -446.69\n",
      "929    9995    9496.50    498.50\n",
      "262   13500   12480.06   1019.94\n",
      "810    7950    8834.15   -884.15\n",
      "318    9900   12183.36  -2283.36\n",
      "49    21950   19206.97   2743.03\n",
      "\n",
      "Accuracy Measures for Validation Set\n",
      "\n",
      "Regression statistics\n",
      "\n",
      "                      Mean Error (ME) : 103.6803\n",
      "       Root Mean Squared Error (RMSE) : 1312.8523\n",
      "            Mean Absolute Error (MAE) : 1017.5972\n",
      "          Mean Percentage Error (MPE) : -0.2633\n",
      "Mean Absolute Percentage Error (MAPE) : 9.0111\n"
     ]
    }
   ],
   "source": [
    "# Apply predict() function to score predictions  \n",
    "# for validation set.  \n",
    "car_lm_pred_sm = car_lm_sm.predict(valid_X)\n",
    "\n",
    "# Develop and display data frame with actual values of Price,\n",
    "# scoring (predicted) results, and residuals.\n",
    "# Use round() function to round vlaues in data frame to \n",
    "# 2 decimals. \n",
    "\n",
    "result = round(pd.DataFrame({'Actual': valid_y,'Predicted': car_lm_pred_sm, \n",
    "                       'Residual': valid_y - car_lm_pred_sm}), 2)\n",
    "print('Actual, Prediction, and Residual Price for Validation Set')\n",
    "print(result.head(10))\n",
    "print()\n",
    "\n",
    "# Display common accuracy measures for validation set.\n",
    "print('Accuracy Measures for Validation Set')\n",
    "regressionSummary(valid_y, car_lm_pred_sm)"
   ]
  },
  {
   "cell_type": "markdown",
   "metadata": {},
   "source": [
    "## Exhaustive Search algorithm."
   ]
  },
  {
   "cell_type": "code",
   "execution_count": 18,
   "metadata": {
    "scrolled": false
   },
   "outputs": [
    {
     "name": "stdout",
     "output_type": "stream",
     "text": [
      "     n     r2adj           AIC  Age_08_04  Automatic     CC  Doors  Fuel_Type_Diesel  \\\n",
      "0    1  0.767901  10689.712094       True      False  False  False             False   \n",
      "1    2  0.801160  10597.910645       True      False  False  False             False   \n",
      "2    3  0.829659  10506.084235       True      False  False  False             False   \n",
      "3    4  0.846357  10445.174820       True      False  False  False             False   \n",
      "4    5  0.849044  10435.578836       True      False  False  False             False   \n",
      "5    6  0.853172  10419.932278       True      False  False  False             False   \n",
      "6    7  0.853860  10418.104025       True      False  False  False              True   \n",
      "7    8  0.854297  10417.290103       True       True  False  False              True   \n",
      "8    9  0.854172  10418.789079       True       True  False   True              True   \n",
      "9   10  0.854036  10420.330800       True       True  False   True              True   \n",
      "10  11  0.853796  10422.298278       True       True   True   True              True   \n",
      "\n",
      "    Fuel_Type_Petrol     HP     KM  Met_Color  Quarterly_Tax  Weight  \n",
      "0              False  False  False      False          False   False  \n",
      "1              False   True  False      False          False   False  \n",
      "2              False   True  False      False          False    True  \n",
      "3              False   True   True      False          False    True  \n",
      "4              False   True   True      False           True    True  \n",
      "5               True   True   True      False           True    True  \n",
      "6               True   True   True      False           True    True  \n",
      "7               True   True   True      False           True    True  \n",
      "8               True   True   True      False           True    True  \n",
      "9               True   True   True       True           True    True  \n",
      "10              True   True   True       True           True    True  \n"
     ]
    }
   ],
   "source": [
    "# Define train_model() function used in Executive Search\n",
    "# algorithm with executive_search() function. \n",
    "def train_model(variables):\n",
    "    model = LinearRegression()\n",
    "    model.fit(train_X[variables], train_y)\n",
    "    return model\n",
    "\n",
    "# Define score_model() function used in Executive Search\n",
    "# algorithm with executive_search() function. \n",
    "def score_model(model, variables):\n",
    "    pred_y = model.predict(train_X[variables])\n",
    "    # Apply negative sign as score is optimized to be \n",
    "    # as low as possible in exhaustive_search() function.\n",
    "    return -adjusted_r2_score(train_y, pred_y, model)\n",
    "\n",
    "# Create allVariables object with predcitors in train_X,\n",
    "# i.e., training data set, with 11 predictor columns and \n",
    "# 600 records.\n",
    "allVariables = train_X.columns\n",
    "\n",
    "# The exhaustive_search() function consists of 3 arguments:\n",
    "# - allVariables - list of all variables in training data set,\n",
    "# - train_model() function that creates a model for a specific \n",
    "#    combination of variables,\n",
    "# - score_model() function that score the model performance using\n",
    "#     adjusted_r2.\n",
    "results = exhaustive_search(allVariables, train_model, score_model)\n",
    "\n",
    "# Create data[] loop process to identify and append the best model \n",
    "# for each combination of 1, 2, 3, ..., 11 variables with their \n",
    "# respective number of variables (n), adjusted R_squared (r2adj) and\n",
    "# AIC. \n",
    "data = []\n",
    "for result in results:\n",
    "    model = result['model']\n",
    "    variables = result['variables']\n",
    "    AIC = AIC_score(train_y, model.predict(train_X[variables]), model)\n",
    "    d = {'n': result['n'], 'r2adj': -result['score'], 'AIC': AIC}\n",
    "    d.update({var: var in result['variables'] for var in allVariables})\n",
    "    data.append(d)\n",
    "\n",
    "# Define the width of output presentation to be wider\n",
    "# to display results in two rows (instead of more rows\n",
    "# otherwise). \n",
    "pd.set_option('display.width', 100)\n",
    "\n",
    "# Display the Exhaustive Search results.\n",
    "print(pd.DataFrame(data, columns=('n', 'r2adj', 'AIC') + tuple(sorted(allVariables))))\n",
    "\n",
    "# Reset the output width to the default. \n",
    "pd.reset_option('display.width')"
   ]
  },
  {
   "cell_type": "code",
   "execution_count": 19,
   "metadata": {},
   "outputs": [
    {
     "name": "stdout",
     "output_type": "stream",
     "text": [
      "Regression Model for Training Set Using Exhaustive Search\n",
      "\n",
      "Intercept  -1077.52\n",
      "          Predictor  Coefficient\n",
      "0         Age_08_04      -140.98\n",
      "1         Automatic       425.43\n",
      "2  Fuel_Type_Diesel      1086.40\n",
      "3  Fuel_Type_Petrol      2277.11\n",
      "4                HP        36.26\n",
      "5                KM        -0.02\n",
      "6     Quarterly_Tax        13.49\n",
      "7            Weight        12.74\n"
     ]
    }
   ],
   "source": [
    "# Develop the multiple linear regression model based\n",
    "# on the Exhaustive Search results.\n",
    "\n",
    "# Identify predictors and outcome of the regression model.\n",
    "predictors_ex = ['Age_08_04', 'Automatic', 'Fuel_Type_Diesel', \n",
    "                 'Fuel_Type_Petrol', 'HP', 'KM', \n",
    "                 'Quarterly_Tax', 'Weight']\n",
    "outcome = 'Price'\n",
    "\n",
    "# Identify X and y variables for regression and partition data\n",
    "# using 60% of records for training and 40% for validation \n",
    "# (test_size=0.4). \n",
    "X = car_df_reg[predictors_ex]\n",
    "y = car_df_reg[outcome]\n",
    "train_X_ex, valid_X_ex, train_y_ex, valid_y_ex = \\\n",
    "          train_test_split(X, y, test_size=0.4, random_state=1)\n",
    "\n",
    "# Create multiple linear regression model using X and y.\n",
    "car_ex = LinearRegression()\n",
    "car_ex.fit(train_X_ex, train_y_ex)\n",
    "\n",
    "# Display intercept and regression coefficients. Round them\n",
    "# to 2 decimals.\n",
    "print('Regression Model for Training Set Using Exhaustive Search')\n",
    "print()\n",
    "print('Intercept ', np.round(car_ex.intercept_, 2))\n",
    "print(pd.DataFrame({'Predictor': X.columns,\n",
    "            'Coefficient': np.round(car_ex.coef_, 2)}))\n"
   ]
  },
  {
   "cell_type": "code",
   "execution_count": 20,
   "metadata": {},
   "outputs": [
    {
     "name": "stdout",
     "output_type": "stream",
     "text": [
      "\n",
      "Prediction for Validation Set Using Exhaustive Search\n",
      "     Actual  Predicted  Residual\n",
      "507   11500   10628.18    871.82\n",
      "818    8950    9298.63   -348.63\n",
      "452   11450   10548.30    901.70\n",
      "368   11450   13638.44  -2188.44\n",
      "242   11950   12323.92   -373.92\n",
      "929    9995    9523.56    471.44\n",
      "262   13500   12547.91    952.09\n",
      "810    7950    8851.56   -901.56\n",
      "318    9900   12120.39  -2220.39\n",
      "49    21950   19197.82   2752.18\n",
      "\n",
      "Accuracy Measures for Validation Set Using Exhaustive Search\n",
      "\n",
      "Regression statistics\n",
      "\n",
      "                      Mean Error (ME) : 103.3045\n",
      "       Root Mean Squared Error (RMSE) : 1314.4844\n",
      "            Mean Absolute Error (MAE) : 1016.8875\n",
      "          Mean Percentage Error (MPE) : -0.2700\n",
      "Mean Absolute Percentage Error (MAPE) : 8.9984\n"
     ]
    }
   ],
   "source": [
    "# Use predict() function to score (make) predictions \n",
    "# for validation set and measure their accuracy using\n",
    "# Exhaustive Search algorithm.\n",
    "car_ex_pred = car_ex.predict(valid_X_ex)\n",
    "\n",
    "# Develop and display data frame with actual values of Price,\n",
    "# scoring (predicted) results, and residuals.\n",
    "# Use round() function to round vlaues in data frame to \n",
    "# 2 decimals. \n",
    "result = round(pd.DataFrame({'Actual': valid_y_ex,'Predicted': car_ex_pred, \n",
    "                       'Residual': valid_y_ex - car_ex_pred}), 2)\n",
    "print()\n",
    "print('Prediction for Validation Set Using Exhaustive Search') \n",
    "print(result.head(10))\n",
    "\n",
    "# Display common accuracy measures for validation set.\n",
    "print()\n",
    "print('Accuracy Measures for Validation Set Using Exhaustive Search')\n",
    "regressionSummary(valid_y_ex, car_ex_pred)"
   ]
  },
  {
   "cell_type": "markdown",
   "metadata": {},
   "source": [
    "## Backward Elimination algorithm."
   ]
  },
  {
   "cell_type": "code",
   "execution_count": 21,
   "metadata": {
    "scrolled": true
   },
   "outputs": [
    {
     "name": "stdout",
     "output_type": "stream",
     "text": [
      "Variables: Age_08_04, KM, HP, Met_Color, Automatic, CC, Doors, Quarterly_Tax, Weight, Fuel_Type_Diesel, Fuel_Type_Petrol\n",
      "Start: score=10422.30\n",
      "Step: score=10420.33, remove CC\n",
      "Step: score=10418.79, remove Met_Color\n",
      "Step: score=10417.29, remove Doors\n",
      "Step: score=10417.29, remove None\n",
      "\n",
      "Best Variables from Backward Elimination Algorithm\n",
      "['Age_08_04', 'KM', 'HP', 'Automatic', 'Quarterly_Tax', 'Weight', 'Fuel_Type_Diesel', 'Fuel_Type_Petrol']\n"
     ]
    }
   ],
   "source": [
    "# Define train_model() function used in Backward Elimination\n",
    "# algorithm with backward_elimination() function. \n",
    "def train_model(variables):\n",
    "    model = LinearRegression()\n",
    "    model.fit(train_X[variables], train_y)\n",
    "    return model\n",
    "\n",
    "# Define score_model() function used in Backward Elimination\n",
    "# algorithm with backward_elimination() function. \n",
    "def score_model(model, variables):\n",
    "    return AIC_score(train_y, model.predict(train_X[variables]), model)\n",
    "\n",
    "# Use backward_elimination() function to identify the\n",
    "# best_model and best_variables. \n",
    "best_model_be, best_variables_be = backward_elimination(train_X.columns, \n",
    "                        train_model, score_model, verbose=True)\n",
    "\n",
    "# Display best variables based on Backward Elimination algorithm. \n",
    "print()\n",
    "print('Best Variables from Backward Elimination Algorithm')\n",
    "print(best_variables_be)"
   ]
  },
  {
   "cell_type": "code",
   "execution_count": 22,
   "metadata": {},
   "outputs": [
    {
     "name": "stdout",
     "output_type": "stream",
     "text": [
      "Regression Model for Training Set Using Backward Elimination\n",
      "\n",
      "Intercept  -1077.52\n",
      "          Predictor  Coefficient\n",
      "0         Age_08_04      -140.98\n",
      "1                KM        -0.02\n",
      "2                HP        36.26\n",
      "3         Automatic       425.43\n",
      "4     Quarterly_Tax        13.49\n",
      "5            Weight        12.74\n",
      "6  Fuel_Type_Diesel      1086.40\n",
      "7  Fuel_Type_Petrol      2277.11\n"
     ]
    }
   ],
   "source": [
    "# Develop the multiple linear regression model based\n",
    "# on the Backward Elimination results.\n",
    "\n",
    "# Identify predictors and outcome of the regression model.\n",
    "predictors_be = ['Age_08_04', 'KM', 'HP', 'Automatic', 'Quarterly_Tax', \n",
    "                'Weight', 'Fuel_Type_Diesel', 'Fuel_Type_Petrol']\n",
    "outcome = 'Price'\n",
    "\n",
    "# Identify X and y variables for regression and partition data\n",
    "# using 60% of records for training and 40% for validation \n",
    "# (test_size=0.4). \n",
    "X = car_df_reg[predictors_be]\n",
    "y = car_df_reg[outcome]\n",
    "train_X_be, valid_X_be, train_y_be, valid_y_be = \\\n",
    "          train_test_split(X, y, test_size=0.4, random_state=1)\n",
    "\n",
    "# Create multiple linear regression model using X and y.\n",
    "car_be = LinearRegression()\n",
    "car_be.fit(train_X_be, train_y_be)\n",
    "\n",
    "# Display intercept and regression coefficients. Round them\n",
    "# to 2 decimals.\n",
    "print('Regression Model for Training Set Using Backward Elimination')\n",
    "print()\n",
    "print('Intercept ', np.round(car_be.intercept_, 2))\n",
    "print(pd.DataFrame({'Predictor': X.columns,\n",
    "            'Coefficient': np.round(car_be.coef_, 2)}))\n"
   ]
  },
  {
   "cell_type": "code",
   "execution_count": 23,
   "metadata": {},
   "outputs": [
    {
     "name": "stdout",
     "output_type": "stream",
     "text": [
      "\n",
      "Predictions for Validation Set Using Backward Elimination\n",
      "     Actual  Predicted  Residual\n",
      "507   11500   10628.18    871.82\n",
      "818    8950    9298.63   -348.63\n",
      "452   11450   10548.30    901.70\n",
      "368   11450   13638.44  -2188.44\n",
      "242   11950   12323.92   -373.92\n",
      "929    9995    9523.56    471.44\n",
      "262   13500   12547.91    952.09\n",
      "810    7950    8851.56   -901.56\n",
      "318    9900   12120.39  -2220.39\n",
      "49    21950   19197.82   2752.18\n",
      "\n",
      "Accuracy Measures for Validation Set Using Backward Elimination\n",
      "\n",
      "Regression statistics\n",
      "\n",
      "                      Mean Error (ME) : 103.3045\n",
      "       Root Mean Squared Error (RMSE) : 1314.4844\n",
      "            Mean Absolute Error (MAE) : 1016.8875\n",
      "          Mean Percentage Error (MPE) : -0.2700\n",
      "Mean Absolute Percentage Error (MAPE) : 8.9984\n"
     ]
    }
   ],
   "source": [
    "# Use predict() to score predictions for validation set in\n",
    "# regression model based Backward Elimination algorithm.\n",
    "car_be_pred = car_be.predict(valid_X_be)\n",
    "\n",
    "# Develop and display data frame with actual values of Price,\n",
    "# scoring (predicted) results, and residuals.\n",
    "# Use round() function to round vlaues in data frame to \n",
    "# 2 decimals. \n",
    "result = round(pd.DataFrame({'Actual': valid_y_be,'Predicted': car_be_pred, \n",
    "                       'Residual': valid_y_be - car_be_pred}), 2)\n",
    "print()\n",
    "print('Predictions for Validation Set Using Backward Elimination')\n",
    "print(result.head(10))\n",
    "\n",
    "# Display common accuracy measures for validation set.\n",
    "print()\n",
    "print('Accuracy Measures for Validation Set Using Backward Elimination')\n",
    "regressionSummary(valid_y_be, car_be_pred)"
   ]
  },
  {
   "cell_type": "markdown",
   "metadata": {},
   "source": [
    "##  Forward Selection algorithm."
   ]
  },
  {
   "cell_type": "code",
   "execution_count": 24,
   "metadata": {
    "scrolled": true
   },
   "outputs": [
    {
     "name": "stdout",
     "output_type": "stream",
     "text": [
      "Variables: Age_08_04, KM, HP, Met_Color, Automatic, CC, Doors, Quarterly_Tax, Weight, Fuel_Type_Diesel, Fuel_Type_Petrol\n",
      "Start: score=11565.07, constant\n",
      "Step: score=10689.71, add Age_08_04\n",
      "Step: score=10597.91, add HP\n",
      "Step: score=10506.08, add Weight\n",
      "Step: score=10445.17, add KM\n",
      "Step: score=10435.58, add Quarterly_Tax\n",
      "Step: score=10419.93, add Fuel_Type_Petrol\n",
      "Step: score=10418.10, add Fuel_Type_Diesel\n",
      "Step: score=10417.29, add Automatic\n",
      "Step: score=10417.29, add None\n",
      "\n",
      "Best Variables from Forward Selection Algorithm\n",
      "['Age_08_04', 'HP', 'Weight', 'KM', 'Quarterly_Tax', 'Fuel_Type_Petrol', 'Fuel_Type_Diesel', 'Automatic']\n"
     ]
    }
   ],
   "source": [
    "# Define train_model() function used in Forward Selection\n",
    "# algorithm with forward_selection() function. \n",
    "# The initial model is the constant model - this requires \n",
    "# special handling in train_model and score_model.\n",
    "def train_model(variables):\n",
    "    if len(variables) == 0:\n",
    "        return None\n",
    "    model = LinearRegression()\n",
    "    model.fit(train_X[variables], train_y)\n",
    "    return model\n",
    "\n",
    "# Define score_model() function used in Forward Selection\n",
    "# algorithm with forward_selection() function. \n",
    "def score_model(model, variables):\n",
    "    if len(variables) == 0:\n",
    "        return AIC_score(train_y, [train_y.mean()] * len(train_y), model, df=1)\n",
    "    return AIC_score(train_y, model.predict(train_X[variables]), model)\n",
    "\n",
    "# Use forward_selection() function to identify the\n",
    "# best_model and best_variables.\n",
    "best_model_fs, best_variables_fs = forward_selection(train_X.columns, \n",
    "                    train_model, score_model, verbose=True)\n",
    "\n",
    "# Display best variables based on Forward Selection algorithm.\n",
    "print()\n",
    "print('Best Variables from Forward Selection Algorithm')\n",
    "print(best_variables_fs)"
   ]
  },
  {
   "cell_type": "code",
   "execution_count": 25,
   "metadata": {},
   "outputs": [
    {
     "name": "stdout",
     "output_type": "stream",
     "text": [
      "Regression Model for Training Set Using Forward Selection\n",
      "\n",
      "Intercept  -1077.52\n",
      "          Predictor  Coefficient\n",
      "0         Age_08_04      -140.98\n",
      "1                HP        36.26\n",
      "2            Weight        12.74\n",
      "3                KM        -0.02\n",
      "4     Quarterly_Tax        13.49\n",
      "5  Fuel_Type_Petrol      2277.11\n",
      "6  Fuel_Type_Diesel      1086.40\n",
      "7         Automatic       425.43\n"
     ]
    }
   ],
   "source": [
    "# Develop the multiple linear regression model based\n",
    "# on the Forward Selection results.\n",
    "\n",
    "# Identify predictors and outcome of the regression model.\n",
    "predictors_fs = ['Age_08_04', 'HP', 'Weight', 'KM', 'Quarterly_Tax', \n",
    "                 'Fuel_Type_Petrol', 'Fuel_Type_Diesel', 'Automatic']\n",
    "outcome = 'Price'\n",
    "\n",
    "# Identify X and y variables for regression and partition data\n",
    "# using 60% of records for training and 40% for validation \n",
    "# (test_size=0.4). \n",
    "X = car_df_reg[predictors_fs]\n",
    "y = car_df_reg[outcome]\n",
    "train_X_fs, valid_X_fs, train_y_fs, valid_y_fs = \\\n",
    "          train_test_split(X, y, test_size=0.4, random_state=1)\n",
    "\n",
    "# Create multiple linear regression model using X and y.\n",
    "car_fs = LinearRegression()\n",
    "car_fs.fit(train_X_fs, train_y_fs)\n",
    "\n",
    "# Display intercept and regression coefficients. Round them\n",
    "# to 2 decimals.\n",
    "print('Regression Model for Training Set Using Forward Selection')\n",
    "print()\n",
    "print('Intercept ', np.round(car_fs.intercept_, 2))\n",
    "print(pd.DataFrame({'Predictor': X.columns,\n",
    "            'Coefficient': np.round(car_fs.coef_, 2)}))"
   ]
  },
  {
   "cell_type": "code",
   "execution_count": 26,
   "metadata": {},
   "outputs": [
    {
     "name": "stdout",
     "output_type": "stream",
     "text": [
      "\n",
      "Predictions for Validation Set Using Forward Selection\n",
      "     Actual  Predicted  Residual\n",
      "507   11500   10628.18    871.82\n",
      "818    8950    9298.63   -348.63\n",
      "452   11450   10548.30    901.70\n",
      "368   11450   13638.44  -2188.44\n",
      "242   11950   12323.92   -373.92\n",
      "929    9995    9523.56    471.44\n",
      "262   13500   12547.91    952.09\n",
      "810    7950    8851.56   -901.56\n",
      "318    9900   12120.39  -2220.39\n",
      "49    21950   19197.82   2752.18\n",
      "\n",
      "Accuracy Measures for Validation Set Using Forward Selection\n",
      "\n",
      "Regression statistics\n",
      "\n",
      "                      Mean Error (ME) : 103.3045\n",
      "       Root Mean Squared Error (RMSE) : 1314.4844\n",
      "            Mean Absolute Error (MAE) : 1016.8875\n",
      "          Mean Percentage Error (MPE) : -0.2700\n",
      "Mean Absolute Percentage Error (MAPE) : 8.9984\n"
     ]
    }
   ],
   "source": [
    "# Use predict() to score predictions for validation set.\n",
    "car_fs_pred = car_fs.predict(valid_X_fs)\n",
    "\n",
    "# Develop and display data frame with actual values of Price,\n",
    "# scoring (predicted) results, and residuals.\n",
    "# Use round() function to round vlaues in data frame to \n",
    "# 2 decimals. \n",
    "result = round(pd.DataFrame({'Actual': valid_y_fs,'Predicted': car_fs_pred, \n",
    "                       'Residual': valid_y_fs - car_fs_pred}), 2)\n",
    "print()\n",
    "print('Predictions for Validation Set Using Forward Selection')\n",
    "print(result.head(10))\n",
    "\n",
    "# Display common accuracy measures for validation set.\n",
    "print()\n",
    "print('Accuracy Measures for Validation Set Using Forward Selection')\n",
    "regressionSummary(valid_y_fs, car_fs_pred)"
   ]
  },
  {
   "cell_type": "markdown",
   "metadata": {},
   "source": [
    "## Stepwise algorithm. "
   ]
  },
  {
   "cell_type": "code",
   "execution_count": 27,
   "metadata": {
    "scrolled": true
   },
   "outputs": [
    {
     "name": "stdout",
     "output_type": "stream",
     "text": [
      "Variables: Age_08_04, KM, HP, Met_Color, Automatic, CC, Doors, Quarterly_Tax, Weight, Fuel_Type_Diesel, Fuel_Type_Petrol\n",
      "Start: score=11565.07, constant\n",
      "Step: score=10689.71, add Age_08_04\n",
      "Step: score=10597.91, add HP\n",
      "Step: score=10506.08, add Weight\n",
      "Step: score=10445.17, add KM\n",
      "Step: score=10435.58, add Quarterly_Tax\n",
      "Step: score=10419.93, add Fuel_Type_Petrol\n",
      "Step: score=10418.10, add Fuel_Type_Diesel\n",
      "Step: score=10417.29, add Automatic\n",
      "Step: score=10417.29, unchanged None\n",
      "\n",
      "Best Variables from Stepwise Selection Algorithm\n",
      "['Age_08_04', 'HP', 'Weight', 'KM', 'Quarterly_Tax', 'Fuel_Type_Petrol', 'Fuel_Type_Diesel', 'Automatic']\n"
     ]
    }
   ],
   "source": [
    "# Define train_model() function used in Stepwise Selection\n",
    "# algorithm with stepwise_selection() function. \n",
    "# The initial model is the constant model - this requires \n",
    "# special handling in train_model and score_model.\n",
    "def train_model(variables):\n",
    "    if len(variables) == 0:\n",
    "        return None\n",
    "    model = LinearRegression()\n",
    "    model.fit(train_X[variables], train_y)\n",
    "    return model\n",
    "\n",
    "# Define score_model() function used in Stepwise Selection\n",
    "# algorithm with stepwise_selection() function. \n",
    "def score_model(model, variables):\n",
    "    if len(variables) == 0:\n",
    "        return AIC_score(train_y, [train_y.mean()] * len(train_y), model, df=1)\n",
    "    return AIC_score(train_y, model.predict(train_X[variables]), model)\n",
    "\n",
    "# Use stepwise() function to identify the best_model\n",
    "# and best_variables with Stepwise section algorithm.\n",
    "best_model_st, best_variables_st = stepwise_selection(train_X.columns, \n",
    "                    train_model, score_model, verbose=True)\n",
    "\n",
    "# Display best variables based on Stepwise algorithm.\n",
    "print()\n",
    "print('Best Variables from Stepwise Selection Algorithm')\n",
    "print(best_variables_st)"
   ]
  },
  {
   "cell_type": "code",
   "execution_count": 28,
   "metadata": {},
   "outputs": [
    {
     "name": "stdout",
     "output_type": "stream",
     "text": [
      "Regression Model for Training Set Using Stewise Selection\n",
      "\n",
      "Intercept  -1077.52\n",
      "          Predictor  Coefficient\n",
      "0         Age_08_04      -140.98\n",
      "1                HP        36.26\n",
      "2            Weight        12.74\n",
      "3                KM        -0.02\n",
      "4     Quarterly_Tax        13.49\n",
      "5  Fuel_Type_Petrol      2277.11\n",
      "6  Fuel_Type_Diesel      1086.40\n",
      "7         Automatic       425.43\n"
     ]
    }
   ],
   "source": [
    "# Develop the multiple linear regression model based\n",
    "# on the Stepwise Selection results.\n",
    "\n",
    "# Identify predictors and outcome of the regression model.\n",
    "predictors_st = ['Age_08_04', 'HP', 'Weight', 'KM', 'Quarterly_Tax', \n",
    "                 'Fuel_Type_Petrol', 'Fuel_Type_Diesel', 'Automatic']\n",
    "outcome = 'Price'\n",
    "\n",
    "# Identify X and y variables for regression and partition data\n",
    "# using 60% of records for training and 40% for validation \n",
    "# (test_size=0.4). \n",
    "X = car_df_reg[predictors_st]\n",
    "y = car_df_reg[outcome]\n",
    "train_X_st, valid_X_st, train_y_st, valid_y_st = \\\n",
    "          train_test_split(X, y, test_size=0.4, random_state=1)\n",
    "\n",
    "# Create multiple linear regression model using X and y.\n",
    "car_st = LinearRegression()\n",
    "car_st.fit(train_X_st, train_y_st)\n",
    "\n",
    "# Display intercept and regression coefficients. Round them\n",
    "# to 2 decimals.\n",
    "print('Regression Model for Training Set Using Stewise Selection')\n",
    "print()\n",
    "print('Intercept ', np.round(car_st.intercept_, 2))\n",
    "print(pd.DataFrame({'Predictor': X.columns,\n",
    "            'Coefficient': np.round(car_st.coef_, 2)}))"
   ]
  },
  {
   "cell_type": "code",
   "execution_count": 29,
   "metadata": {},
   "outputs": [
    {
     "name": "stdout",
     "output_type": "stream",
     "text": [
      "\n",
      "Predictions for Validation Set Using Stepwise Selection\n",
      "     Actual  Predicted  Residual\n",
      "507   11500   10628.18    871.82\n",
      "818    8950    9298.63   -348.63\n",
      "452   11450   10548.30    901.70\n",
      "368   11450   13638.44  -2188.44\n",
      "242   11950   12323.92   -373.92\n",
      "929    9995    9523.56    471.44\n",
      "262   13500   12547.91    952.09\n",
      "810    7950    8851.56   -901.56\n",
      "318    9900   12120.39  -2220.39\n",
      "49    21950   19197.82   2752.18\n",
      "\n",
      "Accuracy Measures for Validation Set Using Stepwise Selection\n",
      "\n",
      "Regression statistics\n",
      "\n",
      "                      Mean Error (ME) : 103.3045\n",
      "       Root Mean Squared Error (RMSE) : 1314.4844\n",
      "            Mean Absolute Error (MAE) : 1016.8875\n",
      "          Mean Percentage Error (MPE) : -0.2700\n",
      "Mean Absolute Percentage Error (MAPE) : 8.9984\n"
     ]
    }
   ],
   "source": [
    "# Use predict() to score predictions for validation set \n",
    "# using Stepwise algorithm.\n",
    "car_st_pred = car_st.predict(valid_X_st)\n",
    "\n",
    "# Develop and display data frame with actual values of Price,\n",
    "# scoring (predicted) results, and residuals.\n",
    "# Use round() function to round vlaues in data frame to \n",
    "# 2 decimals. \n",
    "result = round(pd.DataFrame({'Actual': valid_y_st,'Predicted': car_st_pred, \n",
    "                       'Residual': valid_y_st - car_st_pred}), 2)\n",
    "print()\n",
    "print('Predictions for Validation Set Using Stepwise Selection')\n",
    "print(result.head(10))\n",
    "\n",
    "# Display common accuracy measures for validation set.\n",
    "print()\n",
    "print('Accuracy Measures for Validation Set Using Stepwise Selection')\n",
    "regressionSummary(valid_y_st, car_st_pred)"
   ]
  },
  {
   "cell_type": "code",
   "execution_count": null,
   "metadata": {},
   "outputs": [],
   "source": []
  }
 ],
 "metadata": {
  "kernelspec": {
   "display_name": "Python 3 (ipykernel)",
   "language": "python",
   "name": "python3"
  },
  "language_info": {
   "codemirror_mode": {
    "name": "ipython",
    "version": 3
   },
   "file_extension": ".py",
   "mimetype": "text/x-python",
   "name": "python",
   "nbconvert_exporter": "python",
   "pygments_lexer": "ipython3",
   "version": "3.11.5"
  }
 },
 "nbformat": 4,
 "nbformat_minor": 2
}
