{
 "cells": [
  {
   "cell_type": "markdown",
   "metadata": {},
   "source": [
    "#  Introduction and Overview of Data Mining Process.\n"
   ]
  },
  {
   "cell_type": "markdown",
   "metadata": {},
   "source": [
    "## Import required packages."
   ]
  },
  {
   "cell_type": "code",
   "execution_count": 1,
   "metadata": {},
   "outputs": [],
   "source": [
    "from pathlib import Path # to interact with file system.\n",
    "\n",
    "import numpy as np # for working with arrays.\n",
    "import pandas as pd # for working with data frames (tables).\n",
    "\n",
    "from sklearn.model_selection import train_test_split # for data partition.\n",
    "from sklearn.metrics import r2_score # to identify r_squared for regression model.\n",
    "from sklearn.linear_model import LinearRegression # for linear regression model. \n",
    "\n",
    "%matplotlib inline \n",
    "import matplotlib.pylab as plt # for building and showing graphs."
   ]
  },
  {
   "cell_type": "markdown",
   "metadata": {},
   "source": [
    "Note that some imported packages use alias notations, to make the code more readable.\n",
    "\n",
    "import <package> as <alias>\n",
    "\n",
    "The aliases `np`, `pd`, and `plt` are commonly used in the data science community.\n"
   ]
  },
  {
   "cell_type": "markdown",
   "metadata": {},
   "source": [
    "## Step 2:  Load the West Roxbury data set. "
   ]
  },
  {
   "cell_type": "code",
   "execution_count": 2,
   "metadata": {},
   "outputs": [],
   "source": [
    "# Create a deta frame in Python using WestRoxbury.csv file.\n",
    "housing_df = pd.read_csv('WestRoxbury.csv')"
   ]
  },
  {
   "cell_type": "code",
   "execution_count": 3,
   "metadata": {
    "scrolled": true
   },
   "outputs": [
    {
     "name": "stdout",
     "output_type": "stream",
     "text": [
      "Number of rows and columns in data set: (5802, 14)\n"
     ]
    }
   ],
   "source": [
    "# Determine and display dimensions of data frame. \n",
    "print('Number of rows and columns in data set:', \n",
    "      housing_df.shape )\n",
    "# It has 5802 rows and 14 columns."
   ]
  },
  {
   "cell_type": "code",
   "execution_count": 4,
   "metadata": {},
   "outputs": [
    {
     "data": {
      "text/html": [
       "<div>\n",
       "<style scoped>\n",
       "    .dataframe tbody tr th:only-of-type {\n",
       "        vertical-align: middle;\n",
       "    }\n",
       "\n",
       "    .dataframe tbody tr th {\n",
       "        vertical-align: top;\n",
       "    }\n",
       "\n",
       "    .dataframe thead th {\n",
       "        text-align: right;\n",
       "    }\n",
       "</style>\n",
       "<table border=\"1\" class=\"dataframe\">\n",
       "  <thead>\n",
       "    <tr style=\"text-align: right;\">\n",
       "      <th></th>\n",
       "      <th>TOTAL VALUE</th>\n",
       "      <th>TAX</th>\n",
       "      <th>LOT SQFT</th>\n",
       "      <th>YR BUILT</th>\n",
       "      <th>GROSS AREA</th>\n",
       "      <th>LIVING AREA</th>\n",
       "      <th>FLOORS</th>\n",
       "      <th>ROOMS</th>\n",
       "      <th>BEDROOMS</th>\n",
       "      <th>FULL BATH</th>\n",
       "      <th>HALF BATH</th>\n",
       "      <th>KITCHEN</th>\n",
       "      <th>FIREPLACE</th>\n",
       "      <th>REMODEL</th>\n",
       "    </tr>\n",
       "  </thead>\n",
       "  <tbody>\n",
       "    <tr>\n",
       "      <th>0</th>\n",
       "      <td>344.2</td>\n",
       "      <td>4330</td>\n",
       "      <td>9965</td>\n",
       "      <td>1880</td>\n",
       "      <td>2436</td>\n",
       "      <td>1352</td>\n",
       "      <td>2.0</td>\n",
       "      <td>6</td>\n",
       "      <td>3</td>\n",
       "      <td>1</td>\n",
       "      <td>1</td>\n",
       "      <td>1</td>\n",
       "      <td>0</td>\n",
       "      <td>None</td>\n",
       "    </tr>\n",
       "    <tr>\n",
       "      <th>1</th>\n",
       "      <td>412.6</td>\n",
       "      <td>5190</td>\n",
       "      <td>6590</td>\n",
       "      <td>1945</td>\n",
       "      <td>3108</td>\n",
       "      <td>1976</td>\n",
       "      <td>2.0</td>\n",
       "      <td>10</td>\n",
       "      <td>4</td>\n",
       "      <td>2</td>\n",
       "      <td>1</td>\n",
       "      <td>1</td>\n",
       "      <td>0</td>\n",
       "      <td>Recent</td>\n",
       "    </tr>\n",
       "    <tr>\n",
       "      <th>2</th>\n",
       "      <td>330.1</td>\n",
       "      <td>4152</td>\n",
       "      <td>7500</td>\n",
       "      <td>1890</td>\n",
       "      <td>2294</td>\n",
       "      <td>1371</td>\n",
       "      <td>2.0</td>\n",
       "      <td>8</td>\n",
       "      <td>4</td>\n",
       "      <td>1</td>\n",
       "      <td>1</td>\n",
       "      <td>1</td>\n",
       "      <td>0</td>\n",
       "      <td>None</td>\n",
       "    </tr>\n",
       "    <tr>\n",
       "      <th>3</th>\n",
       "      <td>498.6</td>\n",
       "      <td>6272</td>\n",
       "      <td>13773</td>\n",
       "      <td>1957</td>\n",
       "      <td>5032</td>\n",
       "      <td>2608</td>\n",
       "      <td>1.0</td>\n",
       "      <td>9</td>\n",
       "      <td>5</td>\n",
       "      <td>1</td>\n",
       "      <td>1</td>\n",
       "      <td>1</td>\n",
       "      <td>1</td>\n",
       "      <td>None</td>\n",
       "    </tr>\n",
       "    <tr>\n",
       "      <th>4</th>\n",
       "      <td>331.5</td>\n",
       "      <td>4170</td>\n",
       "      <td>5000</td>\n",
       "      <td>1910</td>\n",
       "      <td>2370</td>\n",
       "      <td>1438</td>\n",
       "      <td>2.0</td>\n",
       "      <td>7</td>\n",
       "      <td>3</td>\n",
       "      <td>2</td>\n",
       "      <td>0</td>\n",
       "      <td>1</td>\n",
       "      <td>0</td>\n",
       "      <td>None</td>\n",
       "    </tr>\n",
       "  </tbody>\n",
       "</table>\n",
       "</div>"
      ],
      "text/plain": [
       "   TOTAL VALUE    TAX  LOT SQFT   YR BUILT  GROSS AREA   LIVING AREA  FLOORS   \\\n",
       "0         344.2  4330       9965      1880         2436         1352      2.0   \n",
       "1         412.6  5190       6590      1945         3108         1976      2.0   \n",
       "2         330.1  4152       7500      1890         2294         1371      2.0   \n",
       "3         498.6  6272      13773      1957         5032         2608      1.0   \n",
       "4         331.5  4170       5000      1910         2370         1438      2.0   \n",
       "\n",
       "   ROOMS  BEDROOMS   FULL BATH  HALF BATH  KITCHEN  FIREPLACE REMODEL  \n",
       "0      6          3          1          1        1          0    None  \n",
       "1     10          4          2          1        1          0  Recent  \n",
       "2      8          4          1          1        1          0    None  \n",
       "3      9          5          1          1        1          1    None  \n",
       "4      7          3          2          0        1          0    None  "
      ]
     },
     "execution_count": 4,
     "metadata": {},
     "output_type": "execute_result"
    }
   ],
   "source": [
    "# Display the first 5 rows of the dataframe. \n",
    "housing_df.head()"
   ]
  },
  {
   "cell_type": "code",
   "execution_count": 5,
   "metadata": {},
   "outputs": [
    {
     "data": {
      "text/html": [
       "<div>\n",
       "<style scoped>\n",
       "    .dataframe tbody tr th:only-of-type {\n",
       "        vertical-align: middle;\n",
       "    }\n",
       "\n",
       "    .dataframe tbody tr th {\n",
       "        vertical-align: top;\n",
       "    }\n",
       "\n",
       "    .dataframe thead th {\n",
       "        text-align: right;\n",
       "    }\n",
       "</style>\n",
       "<table border=\"1\" class=\"dataframe\">\n",
       "  <thead>\n",
       "    <tr style=\"text-align: right;\">\n",
       "      <th></th>\n",
       "      <th>TOTAL VALUE</th>\n",
       "      <th>TAX</th>\n",
       "      <th>LOT SQFT</th>\n",
       "      <th>YR BUILT</th>\n",
       "      <th>GROSS AREA</th>\n",
       "      <th>LIVING AREA</th>\n",
       "      <th>FLOORS</th>\n",
       "      <th>ROOMS</th>\n",
       "      <th>BEDROOMS</th>\n",
       "      <th>FULL BATH</th>\n",
       "      <th>HALF BATH</th>\n",
       "      <th>KITCHEN</th>\n",
       "      <th>FIREPLACE</th>\n",
       "      <th>REMODEL</th>\n",
       "    </tr>\n",
       "  </thead>\n",
       "  <tbody>\n",
       "    <tr>\n",
       "      <th>5797</th>\n",
       "      <td>404.8</td>\n",
       "      <td>5092</td>\n",
       "      <td>6762</td>\n",
       "      <td>1938</td>\n",
       "      <td>2594</td>\n",
       "      <td>1714</td>\n",
       "      <td>2.0</td>\n",
       "      <td>9</td>\n",
       "      <td>3</td>\n",
       "      <td>2</td>\n",
       "      <td>1</td>\n",
       "      <td>1</td>\n",
       "      <td>1</td>\n",
       "      <td>Recent</td>\n",
       "    </tr>\n",
       "    <tr>\n",
       "      <th>5798</th>\n",
       "      <td>407.9</td>\n",
       "      <td>5131</td>\n",
       "      <td>9408</td>\n",
       "      <td>1950</td>\n",
       "      <td>2414</td>\n",
       "      <td>1333</td>\n",
       "      <td>2.0</td>\n",
       "      <td>6</td>\n",
       "      <td>3</td>\n",
       "      <td>1</td>\n",
       "      <td>1</td>\n",
       "      <td>1</td>\n",
       "      <td>1</td>\n",
       "      <td>None</td>\n",
       "    </tr>\n",
       "    <tr>\n",
       "      <th>5799</th>\n",
       "      <td>406.5</td>\n",
       "      <td>5113</td>\n",
       "      <td>7198</td>\n",
       "      <td>1987</td>\n",
       "      <td>2480</td>\n",
       "      <td>1674</td>\n",
       "      <td>2.0</td>\n",
       "      <td>7</td>\n",
       "      <td>3</td>\n",
       "      <td>1</td>\n",
       "      <td>1</td>\n",
       "      <td>1</td>\n",
       "      <td>1</td>\n",
       "      <td>None</td>\n",
       "    </tr>\n",
       "    <tr>\n",
       "      <th>5800</th>\n",
       "      <td>308.7</td>\n",
       "      <td>3883</td>\n",
       "      <td>6890</td>\n",
       "      <td>1946</td>\n",
       "      <td>2000</td>\n",
       "      <td>1000</td>\n",
       "      <td>1.0</td>\n",
       "      <td>5</td>\n",
       "      <td>2</td>\n",
       "      <td>1</td>\n",
       "      <td>0</td>\n",
       "      <td>1</td>\n",
       "      <td>0</td>\n",
       "      <td>None</td>\n",
       "    </tr>\n",
       "    <tr>\n",
       "      <th>5801</th>\n",
       "      <td>447.6</td>\n",
       "      <td>5630</td>\n",
       "      <td>7406</td>\n",
       "      <td>1950</td>\n",
       "      <td>2510</td>\n",
       "      <td>1600</td>\n",
       "      <td>2.0</td>\n",
       "      <td>7</td>\n",
       "      <td>3</td>\n",
       "      <td>1</td>\n",
       "      <td>1</td>\n",
       "      <td>1</td>\n",
       "      <td>1</td>\n",
       "      <td>None</td>\n",
       "    </tr>\n",
       "  </tbody>\n",
       "</table>\n",
       "</div>"
      ],
      "text/plain": [
       "      TOTAL VALUE    TAX  LOT SQFT   YR BUILT  GROSS AREA   LIVING AREA  \\\n",
       "5797         404.8  5092       6762      1938         2594         1714   \n",
       "5798         407.9  5131       9408      1950         2414         1333   \n",
       "5799         406.5  5113       7198      1987         2480         1674   \n",
       "5800         308.7  3883       6890      1946         2000         1000   \n",
       "5801         447.6  5630       7406      1950         2510         1600   \n",
       "\n",
       "      FLOORS   ROOMS  BEDROOMS   FULL BATH  HALF BATH  KITCHEN  FIREPLACE  \\\n",
       "5797      2.0      9          3          2          1        1          1   \n",
       "5798      2.0      6          3          1          1        1          1   \n",
       "5799      2.0      7          3          1          1        1          1   \n",
       "5800      1.0      5          2          1          0        1          0   \n",
       "5801      2.0      7          3          1          1        1          1   \n",
       "\n",
       "     REMODEL  \n",
       "5797  Recent  \n",
       "5798    None  \n",
       "5799    None  \n",
       "5800    None  \n",
       "5801    None  "
      ]
     },
     "execution_count": 5,
     "metadata": {},
     "output_type": "execute_result"
    }
   ],
   "source": [
    "# Display the last five rows of the dataframe.\n",
    "housing_df.tail()"
   ]
  },
  {
   "cell_type": "markdown",
   "metadata": {},
   "source": [
    "## Step 2: Sampling and oversampling data."
   ]
  },
  {
   "cell_type": "code",
   "execution_count": 6,
   "metadata": {},
   "outputs": [
    {
     "data": {
      "text/html": [
       "<div>\n",
       "<style scoped>\n",
       "    .dataframe tbody tr th:only-of-type {\n",
       "        vertical-align: middle;\n",
       "    }\n",
       "\n",
       "    .dataframe tbody tr th {\n",
       "        vertical-align: top;\n",
       "    }\n",
       "\n",
       "    .dataframe thead th {\n",
       "        text-align: right;\n",
       "    }\n",
       "</style>\n",
       "<table border=\"1\" class=\"dataframe\">\n",
       "  <thead>\n",
       "    <tr style=\"text-align: right;\">\n",
       "      <th></th>\n",
       "      <th>TOTAL VALUE</th>\n",
       "      <th>TAX</th>\n",
       "      <th>LOT SQFT</th>\n",
       "      <th>YR BUILT</th>\n",
       "      <th>GROSS AREA</th>\n",
       "      <th>LIVING AREA</th>\n",
       "      <th>FLOORS</th>\n",
       "      <th>ROOMS</th>\n",
       "      <th>BEDROOMS</th>\n",
       "      <th>FULL BATH</th>\n",
       "      <th>HALF BATH</th>\n",
       "      <th>KITCHEN</th>\n",
       "      <th>FIREPLACE</th>\n",
       "      <th>REMODEL</th>\n",
       "    </tr>\n",
       "  </thead>\n",
       "  <tbody>\n",
       "    <tr>\n",
       "      <th>96</th>\n",
       "      <td>466.1</td>\n",
       "      <td>5863</td>\n",
       "      <td>8970</td>\n",
       "      <td>1999</td>\n",
       "      <td>2952</td>\n",
       "      <td>1872</td>\n",
       "      <td>2.0</td>\n",
       "      <td>7</td>\n",
       "      <td>4</td>\n",
       "      <td>2</td>\n",
       "      <td>1</td>\n",
       "      <td>1</td>\n",
       "      <td>1</td>\n",
       "      <td>None</td>\n",
       "    </tr>\n",
       "    <tr>\n",
       "      <th>4438</th>\n",
       "      <td>416.2</td>\n",
       "      <td>5235</td>\n",
       "      <td>4440</td>\n",
       "      <td>1935</td>\n",
       "      <td>3074</td>\n",
       "      <td>1832</td>\n",
       "      <td>2.0</td>\n",
       "      <td>8</td>\n",
       "      <td>4</td>\n",
       "      <td>2</td>\n",
       "      <td>0</td>\n",
       "      <td>1</td>\n",
       "      <td>0</td>\n",
       "      <td>None</td>\n",
       "    </tr>\n",
       "    <tr>\n",
       "      <th>5608</th>\n",
       "      <td>339.8</td>\n",
       "      <td>4274</td>\n",
       "      <td>6000</td>\n",
       "      <td>1955</td>\n",
       "      <td>2067</td>\n",
       "      <td>1304</td>\n",
       "      <td>2.0</td>\n",
       "      <td>6</td>\n",
       "      <td>3</td>\n",
       "      <td>1</td>\n",
       "      <td>1</td>\n",
       "      <td>1</td>\n",
       "      <td>1</td>\n",
       "      <td>None</td>\n",
       "    </tr>\n",
       "    <tr>\n",
       "      <th>1799</th>\n",
       "      <td>493.5</td>\n",
       "      <td>6208</td>\n",
       "      <td>6362</td>\n",
       "      <td>1989</td>\n",
       "      <td>3612</td>\n",
       "      <td>2798</td>\n",
       "      <td>2.0</td>\n",
       "      <td>8</td>\n",
       "      <td>3</td>\n",
       "      <td>2</td>\n",
       "      <td>1</td>\n",
       "      <td>1</td>\n",
       "      <td>1</td>\n",
       "      <td>None</td>\n",
       "    </tr>\n",
       "    <tr>\n",
       "      <th>4110</th>\n",
       "      <td>392.5</td>\n",
       "      <td>4937</td>\n",
       "      <td>6325</td>\n",
       "      <td>1925</td>\n",
       "      <td>3717</td>\n",
       "      <td>1964</td>\n",
       "      <td>1.5</td>\n",
       "      <td>9</td>\n",
       "      <td>5</td>\n",
       "      <td>2</td>\n",
       "      <td>0</td>\n",
       "      <td>1</td>\n",
       "      <td>1</td>\n",
       "      <td>None</td>\n",
       "    </tr>\n",
       "  </tbody>\n",
       "</table>\n",
       "</div>"
      ],
      "text/plain": [
       "      TOTAL VALUE    TAX  LOT SQFT   YR BUILT  GROSS AREA   LIVING AREA  \\\n",
       "96           466.1  5863       8970      1999         2952         1872   \n",
       "4438         416.2  5235       4440      1935         3074         1832   \n",
       "5608         339.8  4274       6000      1955         2067         1304   \n",
       "1799         493.5  6208       6362      1989         3612         2798   \n",
       "4110         392.5  4937       6325      1925         3717         1964   \n",
       "\n",
       "      FLOORS   ROOMS  BEDROOMS   FULL BATH  HALF BATH  KITCHEN  FIREPLACE  \\\n",
       "96        2.0      7          4          2          1        1          1   \n",
       "4438      2.0      8          4          2          0        1          0   \n",
       "5608      2.0      6          3          1          1        1          1   \n",
       "1799      2.0      8          3          2          1        1          1   \n",
       "4110      1.5      9          5          2          0        1          1   \n",
       "\n",
       "     REMODEL  \n",
       "96      None  \n",
       "4438    None  \n",
       "5608    None  \n",
       "1799    None  \n",
       "4110    None  "
      ]
     },
     "execution_count": 6,
     "metadata": {},
     "output_type": "execute_result"
    }
   ],
   "source": [
    "# Use the sample() function to retrieve a random sample of observations. \n",
    "# Here we sample 5 observations without replacement.\n",
    "housing_df.sample(5)"
   ]
  },
  {
   "cell_type": "code",
   "execution_count": 7,
   "metadata": {},
   "outputs": [
    {
     "data": {
      "text/html": [
       "<div>\n",
       "<style scoped>\n",
       "    .dataframe tbody tr th:only-of-type {\n",
       "        vertical-align: middle;\n",
       "    }\n",
       "\n",
       "    .dataframe tbody tr th {\n",
       "        vertical-align: top;\n",
       "    }\n",
       "\n",
       "    .dataframe thead th {\n",
       "        text-align: right;\n",
       "    }\n",
       "</style>\n",
       "<table border=\"1\" class=\"dataframe\">\n",
       "  <thead>\n",
       "    <tr style=\"text-align: right;\">\n",
       "      <th></th>\n",
       "      <th>TOTAL VALUE</th>\n",
       "      <th>TAX</th>\n",
       "      <th>LOT SQFT</th>\n",
       "      <th>YR BUILT</th>\n",
       "      <th>GROSS AREA</th>\n",
       "      <th>LIVING AREA</th>\n",
       "      <th>FLOORS</th>\n",
       "      <th>ROOMS</th>\n",
       "      <th>BEDROOMS</th>\n",
       "      <th>FULL BATH</th>\n",
       "      <th>HALF BATH</th>\n",
       "      <th>KITCHEN</th>\n",
       "      <th>FIREPLACE</th>\n",
       "      <th>REMODEL</th>\n",
       "    </tr>\n",
       "  </thead>\n",
       "  <tbody>\n",
       "    <tr>\n",
       "      <th>2156</th>\n",
       "      <td>666.3</td>\n",
       "      <td>8382</td>\n",
       "      <td>13269</td>\n",
       "      <td>1925</td>\n",
       "      <td>5933</td>\n",
       "      <td>3726</td>\n",
       "      <td>2.0</td>\n",
       "      <td>12</td>\n",
       "      <td>4</td>\n",
       "      <td>2</td>\n",
       "      <td>1</td>\n",
       "      <td>1</td>\n",
       "      <td>1</td>\n",
       "      <td>Recent</td>\n",
       "    </tr>\n",
       "    <tr>\n",
       "      <th>227</th>\n",
       "      <td>305.4</td>\n",
       "      <td>3841</td>\n",
       "      <td>6291</td>\n",
       "      <td>1960</td>\n",
       "      <td>2126</td>\n",
       "      <td>1380</td>\n",
       "      <td>2.0</td>\n",
       "      <td>6</td>\n",
       "      <td>3</td>\n",
       "      <td>1</td>\n",
       "      <td>1</td>\n",
       "      <td>1</td>\n",
       "      <td>0</td>\n",
       "      <td>None</td>\n",
       "    </tr>\n",
       "    <tr>\n",
       "      <th>2622</th>\n",
       "      <td>739.7</td>\n",
       "      <td>9305</td>\n",
       "      <td>14475</td>\n",
       "      <td>1930</td>\n",
       "      <td>6733</td>\n",
       "      <td>3714</td>\n",
       "      <td>2.0</td>\n",
       "      <td>11</td>\n",
       "      <td>4</td>\n",
       "      <td>2</td>\n",
       "      <td>2</td>\n",
       "      <td>1</td>\n",
       "      <td>2</td>\n",
       "      <td>Recent</td>\n",
       "    </tr>\n",
       "    <tr>\n",
       "      <th>4013</th>\n",
       "      <td>329.1</td>\n",
       "      <td>4140</td>\n",
       "      <td>7336</td>\n",
       "      <td>1920</td>\n",
       "      <td>2792</td>\n",
       "      <td>1279</td>\n",
       "      <td>1.0</td>\n",
       "      <td>6</td>\n",
       "      <td>3</td>\n",
       "      <td>1</td>\n",
       "      <td>0</td>\n",
       "      <td>1</td>\n",
       "      <td>1</td>\n",
       "      <td>Recent</td>\n",
       "    </tr>\n",
       "    <tr>\n",
       "      <th>2237</th>\n",
       "      <td>634.7</td>\n",
       "      <td>7984</td>\n",
       "      <td>5564</td>\n",
       "      <td>1920</td>\n",
       "      <td>4500</td>\n",
       "      <td>2610</td>\n",
       "      <td>2.0</td>\n",
       "      <td>11</td>\n",
       "      <td>6</td>\n",
       "      <td>1</td>\n",
       "      <td>1</td>\n",
       "      <td>1</td>\n",
       "      <td>1</td>\n",
       "      <td>Old</td>\n",
       "    </tr>\n",
       "    <tr>\n",
       "      <th>5034</th>\n",
       "      <td>736.7</td>\n",
       "      <td>9267</td>\n",
       "      <td>13960</td>\n",
       "      <td>1880</td>\n",
       "      <td>5358</td>\n",
       "      <td>3452</td>\n",
       "      <td>2.5</td>\n",
       "      <td>12</td>\n",
       "      <td>5</td>\n",
       "      <td>4</td>\n",
       "      <td>0</td>\n",
       "      <td>2</td>\n",
       "      <td>1</td>\n",
       "      <td>Old</td>\n",
       "    </tr>\n",
       "    <tr>\n",
       "      <th>5045</th>\n",
       "      <td>385.2</td>\n",
       "      <td>4845</td>\n",
       "      <td>5632</td>\n",
       "      <td>1925</td>\n",
       "      <td>2530</td>\n",
       "      <td>1634</td>\n",
       "      <td>2.0</td>\n",
       "      <td>7</td>\n",
       "      <td>3</td>\n",
       "      <td>1</td>\n",
       "      <td>0</td>\n",
       "      <td>1</td>\n",
       "      <td>1</td>\n",
       "      <td>None</td>\n",
       "    </tr>\n",
       "    <tr>\n",
       "      <th>4603</th>\n",
       "      <td>742.4</td>\n",
       "      <td>9339</td>\n",
       "      <td>12600</td>\n",
       "      <td>1884</td>\n",
       "      <td>6224</td>\n",
       "      <td>3298</td>\n",
       "      <td>2.0</td>\n",
       "      <td>11</td>\n",
       "      <td>7</td>\n",
       "      <td>2</td>\n",
       "      <td>1</td>\n",
       "      <td>1</td>\n",
       "      <td>2</td>\n",
       "      <td>Recent</td>\n",
       "    </tr>\n",
       "    <tr>\n",
       "      <th>4490</th>\n",
       "      <td>632.6</td>\n",
       "      <td>7958</td>\n",
       "      <td>8520</td>\n",
       "      <td>1915</td>\n",
       "      <td>4373</td>\n",
       "      <td>2469</td>\n",
       "      <td>2.0</td>\n",
       "      <td>12</td>\n",
       "      <td>6</td>\n",
       "      <td>2</td>\n",
       "      <td>1</td>\n",
       "      <td>1</td>\n",
       "      <td>1</td>\n",
       "      <td>Recent</td>\n",
       "    </tr>\n",
       "    <tr>\n",
       "      <th>3182</th>\n",
       "      <td>718.2</td>\n",
       "      <td>9034</td>\n",
       "      <td>19180</td>\n",
       "      <td>1918</td>\n",
       "      <td>6565</td>\n",
       "      <td>3564</td>\n",
       "      <td>2.5</td>\n",
       "      <td>11</td>\n",
       "      <td>4</td>\n",
       "      <td>2</td>\n",
       "      <td>2</td>\n",
       "      <td>1</td>\n",
       "      <td>0</td>\n",
       "      <td>None</td>\n",
       "    </tr>\n",
       "  </tbody>\n",
       "</table>\n",
       "</div>"
      ],
      "text/plain": [
       "      TOTAL VALUE    TAX  LOT SQFT   YR BUILT  GROSS AREA   LIVING AREA  \\\n",
       "2156         666.3  8382      13269      1925         5933         3726   \n",
       "227          305.4  3841       6291      1960         2126         1380   \n",
       "2622         739.7  9305      14475      1930         6733         3714   \n",
       "4013         329.1  4140       7336      1920         2792         1279   \n",
       "2237         634.7  7984       5564      1920         4500         2610   \n",
       "5034         736.7  9267      13960      1880         5358         3452   \n",
       "5045         385.2  4845       5632      1925         2530         1634   \n",
       "4603         742.4  9339      12600      1884         6224         3298   \n",
       "4490         632.6  7958       8520      1915         4373         2469   \n",
       "3182         718.2  9034      19180      1918         6565         3564   \n",
       "\n",
       "      FLOORS   ROOMS  BEDROOMS   FULL BATH  HALF BATH  KITCHEN  FIREPLACE  \\\n",
       "2156      2.0     12          4          2          1        1          1   \n",
       "227       2.0      6          3          1          1        1          0   \n",
       "2622      2.0     11          4          2          2        1          2   \n",
       "4013      1.0      6          3          1          0        1          1   \n",
       "2237      2.0     11          6          1          1        1          1   \n",
       "5034      2.5     12          5          4          0        2          1   \n",
       "5045      2.0      7          3          1          0        1          1   \n",
       "4603      2.0     11          7          2          1        1          2   \n",
       "4490      2.0     12          6          2          1        1          1   \n",
       "3182      2.5     11          4          2          2        1          0   \n",
       "\n",
       "     REMODEL  \n",
       "2156  Recent  \n",
       "227     None  \n",
       "2622  Recent  \n",
       "4013  Recent  \n",
       "2237     Old  \n",
       "5034     Old  \n",
       "5045    None  \n",
       "4603  Recent  \n",
       "4490  Recent  \n",
       "3182    None  "
      ]
     },
     "execution_count": 7,
     "metadata": {},
     "output_type": "execute_result"
    }
   ],
   "source": [
    "# The sample() function allows to specify weights for the individual rows. \n",
    "# Use this to oversample houses with records that have over 10 rooms.\n",
    "weights = [0.9 if rooms > 10 else 0.01 for rooms in housing_df.ROOMS]\n",
    "housing_df.sample(10, weights=weights)"
   ]
  },
  {
   "cell_type": "markdown",
   "metadata": {},
   "source": [
    "## Step 3: Data exploration, cleanup, and preprocessing."
   ]
  },
  {
   "cell_type": "code",
   "execution_count": 8,
   "metadata": {},
   "outputs": [
    {
     "name": "stdout",
     "output_type": "stream",
     "text": [
      "Original column titles:\n"
     ]
    },
    {
     "data": {
      "text/plain": [
       "Index(['TOTAL VALUE ', 'TAX', 'LOT SQFT ', 'YR BUILT', 'GROSS AREA ',\n",
       "       'LIVING AREA', 'FLOORS ', 'ROOMS', 'BEDROOMS ', 'FULL BATH',\n",
       "       'HALF BATH', 'KITCHEN', 'FIREPLACE', 'REMODEL'],\n",
       "      dtype='object')"
      ]
     },
     "execution_count": 8,
     "metadata": {},
     "output_type": "execute_result"
    }
   ],
   "source": [
    "# Display the column names.\n",
    "print('Original column titles:')\n",
    "housing_df.columns"
   ]
  },
  {
   "cell_type": "code",
   "execution_count": 9,
   "metadata": {},
   "outputs": [
    {
     "data": {
      "text/plain": [
       "Index(['TOTAL_VALUE', 'TAX', 'LOT SQFT ', 'YR BUILT', 'GROSS AREA ',\n",
       "       'LIVING AREA', 'FLOORS ', 'ROOMS', 'BEDROOMS ', 'FULL BATH',\n",
       "       'HALF BATH', 'KITCHEN', 'FIREPLACE', 'REMODEL'],\n",
       "      dtype='object')"
      ]
     },
     "execution_count": 9,
     "metadata": {},
     "output_type": "execute_result"
    }
   ],
   "source": [
    "# Note that some column titles above are with spaces and \n",
    "# some consist of two space-separated words.  \n",
    "# It's more convenient to have column names which are single words. \n",
    "\n",
    "# In the rename() function you can specify individual columns \n",
    "# by name and provide their new name using a dictionary.\n",
    "housing_df = housing_df.rename(columns={'TOTAL VALUE ': 'TOTAL_VALUE'})\n",
    "housing_df.columns"
   ]
  },
  {
   "cell_type": "code",
   "execution_count": 10,
   "metadata": {},
   "outputs": [
    {
     "name": "stdout",
     "output_type": "stream",
     "text": [
      "Modified column titles with no space and one word for titles:\n"
     ]
    },
    {
     "data": {
      "text/plain": [
       "Index(['TOTAL_VALUE', 'TAX', 'LOT_SQFT', 'YR_BUILT', 'GROSS_AREA',\n",
       "       'LIVING_AREA', 'FLOORS', 'ROOMS', 'BEDROOMS', 'FULL_BATH', 'HALF_BATH',\n",
       "       'KITCHEN', 'FIREPLACE', 'REMODEL'],\n",
       "      dtype='object')"
      ]
     },
     "execution_count": 10,
     "metadata": {},
     "output_type": "execute_result"
    }
   ],
   "source": [
    "# We therefore strip trailing spaces and replace the remaining spaces \n",
    "# with an underscore '_'. Instead of using the `rename` method, we \n",
    "# create a modified copy of `columns` and assign to the `columns` \n",
    "# field of the dataframe.\n",
    "print('Modified column titles with no space and one word for titles:')\n",
    "housing_df.columns = [s.strip().replace(' ', '_') for s in housing_df.columns]\n",
    "housing_df.columns"
   ]
  },
  {
   "cell_type": "markdown",
   "metadata": {},
   "source": [
    "## Step 3: Accessing subsets of the data.\n",
    "\n",
    "### Pandas uses two methods to access a data frame; `loc` and `iloc`. "
   ]
  },
  {
   "cell_type": "code",
   "execution_count": 11,
   "metadata": {
    "scrolled": true
   },
   "outputs": [
    {
     "data": {
      "text/html": [
       "<div>\n",
       "<style scoped>\n",
       "    .dataframe tbody tr th:only-of-type {\n",
       "        vertical-align: middle;\n",
       "    }\n",
       "\n",
       "    .dataframe tbody tr th {\n",
       "        vertical-align: top;\n",
       "    }\n",
       "\n",
       "    .dataframe thead th {\n",
       "        text-align: right;\n",
       "    }\n",
       "</style>\n",
       "<table border=\"1\" class=\"dataframe\">\n",
       "  <thead>\n",
       "    <tr style=\"text-align: right;\">\n",
       "      <th></th>\n",
       "      <th>TOTAL_VALUE</th>\n",
       "      <th>TAX</th>\n",
       "      <th>LOT_SQFT</th>\n",
       "      <th>YR_BUILT</th>\n",
       "      <th>GROSS_AREA</th>\n",
       "      <th>LIVING_AREA</th>\n",
       "      <th>FLOORS</th>\n",
       "      <th>ROOMS</th>\n",
       "      <th>BEDROOMS</th>\n",
       "      <th>FULL_BATH</th>\n",
       "      <th>HALF_BATH</th>\n",
       "      <th>KITCHEN</th>\n",
       "      <th>FIREPLACE</th>\n",
       "      <th>REMODEL</th>\n",
       "    </tr>\n",
       "  </thead>\n",
       "  <tbody>\n",
       "    <tr>\n",
       "      <th>0</th>\n",
       "      <td>344.2</td>\n",
       "      <td>4330</td>\n",
       "      <td>9965</td>\n",
       "      <td>1880</td>\n",
       "      <td>2436</td>\n",
       "      <td>1352</td>\n",
       "      <td>2.0</td>\n",
       "      <td>6</td>\n",
       "      <td>3</td>\n",
       "      <td>1</td>\n",
       "      <td>1</td>\n",
       "      <td>1</td>\n",
       "      <td>0</td>\n",
       "      <td>None</td>\n",
       "    </tr>\n",
       "    <tr>\n",
       "      <th>1</th>\n",
       "      <td>412.6</td>\n",
       "      <td>5190</td>\n",
       "      <td>6590</td>\n",
       "      <td>1945</td>\n",
       "      <td>3108</td>\n",
       "      <td>1976</td>\n",
       "      <td>2.0</td>\n",
       "      <td>10</td>\n",
       "      <td>4</td>\n",
       "      <td>2</td>\n",
       "      <td>1</td>\n",
       "      <td>1</td>\n",
       "      <td>0</td>\n",
       "      <td>Recent</td>\n",
       "    </tr>\n",
       "    <tr>\n",
       "      <th>2</th>\n",
       "      <td>330.1</td>\n",
       "      <td>4152</td>\n",
       "      <td>7500</td>\n",
       "      <td>1890</td>\n",
       "      <td>2294</td>\n",
       "      <td>1371</td>\n",
       "      <td>2.0</td>\n",
       "      <td>8</td>\n",
       "      <td>4</td>\n",
       "      <td>1</td>\n",
       "      <td>1</td>\n",
       "      <td>1</td>\n",
       "      <td>0</td>\n",
       "      <td>None</td>\n",
       "    </tr>\n",
       "    <tr>\n",
       "      <th>3</th>\n",
       "      <td>498.6</td>\n",
       "      <td>6272</td>\n",
       "      <td>13773</td>\n",
       "      <td>1957</td>\n",
       "      <td>5032</td>\n",
       "      <td>2608</td>\n",
       "      <td>1.0</td>\n",
       "      <td>9</td>\n",
       "      <td>5</td>\n",
       "      <td>1</td>\n",
       "      <td>1</td>\n",
       "      <td>1</td>\n",
       "      <td>1</td>\n",
       "      <td>None</td>\n",
       "    </tr>\n",
       "  </tbody>\n",
       "</table>\n",
       "</div>"
      ],
      "text/plain": [
       "   TOTAL_VALUE   TAX  LOT_SQFT  YR_BUILT  GROSS_AREA  LIVING_AREA  FLOORS  \\\n",
       "0        344.2  4330      9965      1880        2436         1352     2.0   \n",
       "1        412.6  5190      6590      1945        3108         1976     2.0   \n",
       "2        330.1  4152      7500      1890        2294         1371     2.0   \n",
       "3        498.6  6272     13773      1957        5032         2608     1.0   \n",
       "\n",
       "   ROOMS  BEDROOMS  FULL_BATH  HALF_BATH  KITCHEN  FIREPLACE REMODEL  \n",
       "0      6         3          1          1        1          0    None  \n",
       "1     10         4          2          1        1          0  Recent  \n",
       "2      8         4          1          1        1          0    None  \n",
       "3      9         5          1          1        1          1    None  "
      ]
     },
     "execution_count": 11,
     "metadata": {},
     "output_type": "execute_result"
    }
   ],
   "source": [
    "# Display the first 4 rows of the data frame using loc command.\n",
    "housing_df.loc[0:3] # for loc, the second index in the slice is inclusive."
   ]
  },
  {
   "cell_type": "code",
   "execution_count": 12,
   "metadata": {},
   "outputs": [
    {
     "data": {
      "text/html": [
       "<div>\n",
       "<style scoped>\n",
       "    .dataframe tbody tr th:only-of-type {\n",
       "        vertical-align: middle;\n",
       "    }\n",
       "\n",
       "    .dataframe tbody tr th {\n",
       "        vertical-align: top;\n",
       "    }\n",
       "\n",
       "    .dataframe thead th {\n",
       "        text-align: right;\n",
       "    }\n",
       "</style>\n",
       "<table border=\"1\" class=\"dataframe\">\n",
       "  <thead>\n",
       "    <tr style=\"text-align: right;\">\n",
       "      <th></th>\n",
       "      <th>TOTAL_VALUE</th>\n",
       "      <th>TAX</th>\n",
       "      <th>LOT_SQFT</th>\n",
       "      <th>YR_BUILT</th>\n",
       "      <th>GROSS_AREA</th>\n",
       "      <th>LIVING_AREA</th>\n",
       "      <th>FLOORS</th>\n",
       "      <th>ROOMS</th>\n",
       "      <th>BEDROOMS</th>\n",
       "      <th>FULL_BATH</th>\n",
       "      <th>HALF_BATH</th>\n",
       "      <th>KITCHEN</th>\n",
       "      <th>FIREPLACE</th>\n",
       "      <th>REMODEL</th>\n",
       "    </tr>\n",
       "  </thead>\n",
       "  <tbody>\n",
       "    <tr>\n",
       "      <th>0</th>\n",
       "      <td>344.2</td>\n",
       "      <td>4330</td>\n",
       "      <td>9965</td>\n",
       "      <td>1880</td>\n",
       "      <td>2436</td>\n",
       "      <td>1352</td>\n",
       "      <td>2.0</td>\n",
       "      <td>6</td>\n",
       "      <td>3</td>\n",
       "      <td>1</td>\n",
       "      <td>1</td>\n",
       "      <td>1</td>\n",
       "      <td>0</td>\n",
       "      <td>None</td>\n",
       "    </tr>\n",
       "    <tr>\n",
       "      <th>1</th>\n",
       "      <td>412.6</td>\n",
       "      <td>5190</td>\n",
       "      <td>6590</td>\n",
       "      <td>1945</td>\n",
       "      <td>3108</td>\n",
       "      <td>1976</td>\n",
       "      <td>2.0</td>\n",
       "      <td>10</td>\n",
       "      <td>4</td>\n",
       "      <td>2</td>\n",
       "      <td>1</td>\n",
       "      <td>1</td>\n",
       "      <td>0</td>\n",
       "      <td>Recent</td>\n",
       "    </tr>\n",
       "    <tr>\n",
       "      <th>2</th>\n",
       "      <td>330.1</td>\n",
       "      <td>4152</td>\n",
       "      <td>7500</td>\n",
       "      <td>1890</td>\n",
       "      <td>2294</td>\n",
       "      <td>1371</td>\n",
       "      <td>2.0</td>\n",
       "      <td>8</td>\n",
       "      <td>4</td>\n",
       "      <td>1</td>\n",
       "      <td>1</td>\n",
       "      <td>1</td>\n",
       "      <td>0</td>\n",
       "      <td>None</td>\n",
       "    </tr>\n",
       "    <tr>\n",
       "      <th>3</th>\n",
       "      <td>498.6</td>\n",
       "      <td>6272</td>\n",
       "      <td>13773</td>\n",
       "      <td>1957</td>\n",
       "      <td>5032</td>\n",
       "      <td>2608</td>\n",
       "      <td>1.0</td>\n",
       "      <td>9</td>\n",
       "      <td>5</td>\n",
       "      <td>1</td>\n",
       "      <td>1</td>\n",
       "      <td>1</td>\n",
       "      <td>1</td>\n",
       "      <td>None</td>\n",
       "    </tr>\n",
       "  </tbody>\n",
       "</table>\n",
       "</div>"
      ],
      "text/plain": [
       "   TOTAL_VALUE   TAX  LOT_SQFT  YR_BUILT  GROSS_AREA  LIVING_AREA  FLOORS  \\\n",
       "0        344.2  4330      9965      1880        2436         1352     2.0   \n",
       "1        412.6  5190      6590      1945        3108         1976     2.0   \n",
       "2        330.1  4152      7500      1890        2294         1371     2.0   \n",
       "3        498.6  6272     13773      1957        5032         2608     1.0   \n",
       "\n",
       "   ROOMS  BEDROOMS  FULL_BATH  HALF_BATH  KITCHEN  FIREPLACE REMODEL  \n",
       "0      6         3          1          1        1          0    None  \n",
       "1     10         4          2          1        1          0  Recent  \n",
       "2      8         4          1          1        1          0    None  \n",
       "3      9         5          1          1        1          1    None  "
      ]
     },
     "execution_count": 12,
     "metadata": {},
     "output_type": "execute_result"
    }
   ],
   "source": [
    "# Display the first 4 rows of the data frame using iloc command.\n",
    "housing_df.iloc[0:4] # for iloc, the second index in the slice is exclusive."
   ]
  },
  {
   "cell_type": "markdown",
   "metadata": {},
   "source": [
    "#### Note the difference in the two methods with respect to the slice notation! \n",
    "#### For consistency with how slices are defined in Python, we will use the `iloc` method mostly (but not always) from here on."
   ]
  },
  {
   "cell_type": "code",
   "execution_count": 13,
   "metadata": {},
   "outputs": [
    {
     "data": {
      "text/plain": [
       "0    344.2\n",
       "1    412.6\n",
       "2    330.1\n",
       "3    498.6\n",
       "4    331.5\n",
       "5    337.4\n",
       "6    359.4\n",
       "7    320.4\n",
       "8    333.5\n",
       "9    409.4\n",
       "Name: TOTAL_VALUE, dtype: float64"
      ]
     },
     "execution_count": 13,
     "metadata": {},
     "output_type": "execute_result"
    }
   ],
   "source": [
    "# Display the first 10 rows of the first column.\n",
    "housing_df['TOTAL_VALUE'].iloc[0:10]\n",
    "\n",
    "# This is an equivalent; the order is not important.\n",
    "housing_df.iloc[0:10]['TOTAL_VALUE'] \n",
    "\n",
    "# This is another equivalent.\n",
    "housing_df.iloc[0:10].TOTAL_VALUE "
   ]
  },
  {
   "cell_type": "code",
   "execution_count": 14,
   "metadata": {},
   "outputs": [
    {
     "data": {
      "text/plain": [
       "TOTAL_VALUE    331.5\n",
       "TAX             4170\n",
       "LOT_SQFT        5000\n",
       "YR_BUILT        1910\n",
       "GROSS_AREA      2370\n",
       "LIVING_AREA     1438\n",
       "FLOORS           2.0\n",
       "ROOMS              7\n",
       "BEDROOMS           3\n",
       "FULL_BATH          2\n",
       "Name: 4, dtype: object"
      ]
     },
     "execution_count": 14,
     "metadata": {},
     "output_type": "execute_result"
    }
   ],
   "source": [
    "# Display the 5th row of the first 10 columns. \n",
    "# The iloc methods allows specifying the rows and columns \n",
    "# within one set of brackets: dataframe.iloc[rows, columns].\n",
    "housing_df.iloc[4][0:10]\n",
    "\n",
    "# This is a simpler equivalent.\n",
    "housing_df.iloc[4, 0:10] "
   ]
  },
  {
   "cell_type": "code",
   "execution_count": 15,
   "metadata": {},
   "outputs": [
    {
     "data": {
      "text/html": [
       "<div>\n",
       "<style scoped>\n",
       "    .dataframe tbody tr th:only-of-type {\n",
       "        vertical-align: middle;\n",
       "    }\n",
       "\n",
       "    .dataframe tbody tr th {\n",
       "        vertical-align: top;\n",
       "    }\n",
       "\n",
       "    .dataframe thead th {\n",
       "        text-align: right;\n",
       "    }\n",
       "</style>\n",
       "<table border=\"1\" class=\"dataframe\">\n",
       "  <thead>\n",
       "    <tr style=\"text-align: right;\">\n",
       "      <th></th>\n",
       "      <th>TOTAL_VALUE</th>\n",
       "      <th>TAX</th>\n",
       "      <th>LOT_SQFT</th>\n",
       "      <th>YR_BUILT</th>\n",
       "      <th>GROSS_AREA</th>\n",
       "      <th>LIVING_AREA</th>\n",
       "      <th>FLOORS</th>\n",
       "      <th>ROOMS</th>\n",
       "      <th>BEDROOMS</th>\n",
       "      <th>FULL_BATH</th>\n",
       "    </tr>\n",
       "  </thead>\n",
       "  <tbody>\n",
       "    <tr>\n",
       "      <th>4</th>\n",
       "      <td>331.5</td>\n",
       "      <td>4170</td>\n",
       "      <td>5000</td>\n",
       "      <td>1910</td>\n",
       "      <td>2370</td>\n",
       "      <td>1438</td>\n",
       "      <td>2.0</td>\n",
       "      <td>7</td>\n",
       "      <td>3</td>\n",
       "      <td>2</td>\n",
       "    </tr>\n",
       "  </tbody>\n",
       "</table>\n",
       "</div>"
      ],
      "text/plain": [
       "   TOTAL_VALUE   TAX  LOT_SQFT  YR_BUILT  GROSS_AREA  LIVING_AREA  FLOORS  \\\n",
       "4        331.5  4170      5000      1910        2370         1438     2.0   \n",
       "\n",
       "   ROOMS  BEDROOMS  FULL_BATH  \n",
       "4      7         3          2  "
      ]
     },
     "execution_count": 15,
     "metadata": {},
     "output_type": "execute_result"
    }
   ],
   "source": [
    "# If prefer to preserve the data frame format, \n",
    "# use a slice for the 4th row [4:5, ...] as well.\n",
    "housing_df.iloc[4:5, 0:10]"
   ]
  },
  {
   "cell_type": "code",
   "execution_count": 16,
   "metadata": {},
   "outputs": [
    {
     "data": {
      "text/html": [
       "<div>\n",
       "<style scoped>\n",
       "    .dataframe tbody tr th:only-of-type {\n",
       "        vertical-align: middle;\n",
       "    }\n",
       "\n",
       "    .dataframe tbody tr th {\n",
       "        vertical-align: top;\n",
       "    }\n",
       "\n",
       "    .dataframe thead th {\n",
       "        text-align: right;\n",
       "    }\n",
       "</style>\n",
       "<table border=\"1\" class=\"dataframe\">\n",
       "  <thead>\n",
       "    <tr style=\"text-align: right;\">\n",
       "      <th></th>\n",
       "      <th>TOTAL_VALUE</th>\n",
       "      <th>TAX</th>\n",
       "      <th>GROSS_AREA</th>\n",
       "      <th>LIVING_AREA</th>\n",
       "    </tr>\n",
       "  </thead>\n",
       "  <tbody>\n",
       "    <tr>\n",
       "      <th>4</th>\n",
       "      <td>331.5</td>\n",
       "      <td>4170</td>\n",
       "      <td>2370</td>\n",
       "      <td>1438</td>\n",
       "    </tr>\n",
       "    <tr>\n",
       "      <th>5</th>\n",
       "      <td>337.4</td>\n",
       "      <td>4244</td>\n",
       "      <td>2124</td>\n",
       "      <td>1060</td>\n",
       "    </tr>\n",
       "  </tbody>\n",
       "</table>\n",
       "</div>"
      ],
      "text/plain": [
       "   TOTAL_VALUE   TAX  GROSS_AREA  LIVING_AREA\n",
       "4        331.5  4170        2370         1438\n",
       "5        337.4  4244        2124         1060"
      ]
     },
     "execution_count": 16,
     "metadata": {},
     "output_type": "execute_result"
    }
   ],
   "source": [
    "# Use the pd.concat() function if you want to combine \n",
    "# non-consecutive columns into a new data frame. \n",
    "# The axis argument specifies the dimension along which \n",
    "# the concatenation happens, axis=0 for rows, axis=1 for columns.\n",
    "pd.concat([housing_df.iloc[4:6,0:2], housing_df.iloc[4:6,4:6]], axis=1)"
   ]
  },
  {
   "cell_type": "code",
   "execution_count": 17,
   "metadata": {},
   "outputs": [
    {
     "data": {
      "text/html": [
       "<div>\n",
       "<style scoped>\n",
       "    .dataframe tbody tr th:only-of-type {\n",
       "        vertical-align: middle;\n",
       "    }\n",
       "\n",
       "    .dataframe tbody tr th {\n",
       "        vertical-align: top;\n",
       "    }\n",
       "\n",
       "    .dataframe thead th {\n",
       "        text-align: right;\n",
       "    }\n",
       "</style>\n",
       "<table border=\"1\" class=\"dataframe\">\n",
       "  <thead>\n",
       "    <tr style=\"text-align: right;\">\n",
       "      <th></th>\n",
       "      <th>TOTAL_VALUE</th>\n",
       "    </tr>\n",
       "  </thead>\n",
       "  <tbody>\n",
       "    <tr>\n",
       "      <th>0</th>\n",
       "      <td>344.2</td>\n",
       "    </tr>\n",
       "    <tr>\n",
       "      <th>1</th>\n",
       "      <td>412.6</td>\n",
       "    </tr>\n",
       "    <tr>\n",
       "      <th>2</th>\n",
       "      <td>330.1</td>\n",
       "    </tr>\n",
       "    <tr>\n",
       "      <th>3</th>\n",
       "      <td>498.6</td>\n",
       "    </tr>\n",
       "    <tr>\n",
       "      <th>4</th>\n",
       "      <td>331.5</td>\n",
       "    </tr>\n",
       "    <tr>\n",
       "      <th>...</th>\n",
       "      <td>...</td>\n",
       "    </tr>\n",
       "    <tr>\n",
       "      <th>5797</th>\n",
       "      <td>404.8</td>\n",
       "    </tr>\n",
       "    <tr>\n",
       "      <th>5798</th>\n",
       "      <td>407.9</td>\n",
       "    </tr>\n",
       "    <tr>\n",
       "      <th>5799</th>\n",
       "      <td>406.5</td>\n",
       "    </tr>\n",
       "    <tr>\n",
       "      <th>5800</th>\n",
       "      <td>308.7</td>\n",
       "    </tr>\n",
       "    <tr>\n",
       "      <th>5801</th>\n",
       "      <td>447.6</td>\n",
       "    </tr>\n",
       "  </tbody>\n",
       "</table>\n",
       "<p>5802 rows × 1 columns</p>\n",
       "</div>"
      ],
      "text/plain": [
       "      TOTAL_VALUE\n",
       "0           344.2\n",
       "1           412.6\n",
       "2           330.1\n",
       "3           498.6\n",
       "4           331.5\n",
       "...           ...\n",
       "5797        404.8\n",
       "5798        407.9\n",
       "5799        406.5\n",
       "5800        308.7\n",
       "5801        447.6\n",
       "\n",
       "[5802 rows x 1 columns]"
      ]
     },
     "execution_count": 17,
     "metadata": {},
     "output_type": "execute_result"
    }
   ],
   "source": [
    "# To specify the 1st full column, use the : on its own.\n",
    "housing_df.iloc[:,0:1]"
   ]
  },
  {
   "cell_type": "code",
   "execution_count": 18,
   "metadata": {
    "scrolled": false
   },
   "outputs": [
    {
     "data": {
      "text/plain": [
       "0       344.2\n",
       "1       412.6\n",
       "2       330.1\n",
       "3       498.6\n",
       "4       331.5\n",
       "        ...  \n",
       "5797    404.8\n",
       "5798    407.9\n",
       "5799    406.5\n",
       "5800    308.7\n",
       "5801    447.6\n",
       "Name: TOTAL_VALUE, Length: 5802, dtype: float64"
      ]
     },
     "execution_count": 18,
     "metadata": {},
     "output_type": "execute_result"
    }
   ],
   "source": [
    "# An often more practical way is to use \n",
    "# the column name 'TOTAL_VALUE\" as follows.\n",
    "housing_df['TOTAL_VALUE']"
   ]
  },
  {
   "cell_type": "code",
   "execution_count": 19,
   "metadata": {},
   "outputs": [
    {
     "data": {
      "text/plain": [
       "0    344.2\n",
       "1    412.6\n",
       "2    330.1\n",
       "3    498.6\n",
       "4    331.5\n",
       "5    337.4\n",
       "6    359.4\n",
       "7    320.4\n",
       "8    333.5\n",
       "9    409.4\n",
       "Name: TOTAL_VALUE, dtype: float64"
      ]
     },
     "execution_count": 19,
     "metadata": {},
     "output_type": "execute_result"
    }
   ],
   "source": [
    "# Subset the column using a slice.\n",
    "housing_df['TOTAL_VALUE'][0:10]"
   ]
  },
  {
   "cell_type": "code",
   "execution_count": 20,
   "metadata": {},
   "outputs": [
    {
     "name": "stdout",
     "output_type": "stream",
     "text": [
      "Number of rows:  5802\n",
      "Mean of TOTAL_VALUE:  392.6857149258877\n"
     ]
    }
   ],
   "source": [
    "# Pandas provides a number of ways to access statistics of columns.\n",
    "\n",
    "# Present number of rows in the data set.\n",
    "print('Number of rows: ', len(housing_df['TOTAL_VALUE']))\n",
    "\n",
    "# Present mean of the TOTAL_VALUE row.\n",
    "print('Mean of TOTAL_VALUE: ', housing_df['TOTAL_VALUE'].mean())"
   ]
  },
  {
   "cell_type": "code",
   "execution_count": 21,
   "metadata": {},
   "outputs": [
    {
     "data": {
      "text/plain": [
       "count    5802.000000\n",
       "mean      392.685715\n",
       "std        99.177414\n",
       "min       105.000000\n",
       "25%       325.125000\n",
       "50%       375.900000\n",
       "75%       438.775000\n",
       "max      1217.800000\n",
       "Name: TOTAL_VALUE, dtype: float64"
      ]
     },
     "execution_count": 21,
     "metadata": {},
     "output_type": "execute_result"
    }
   ],
   "source": [
    "# Use describe() to display a number of common\n",
    "# statistics for the TOTAL_VALUE column.\n",
    "housing_df['TOTAL_VALUE'].describe()"
   ]
  },
  {
   "cell_type": "code",
   "execution_count": 22,
   "metadata": {},
   "outputs": [
    {
     "data": {
      "text/html": [
       "<div>\n",
       "<style scoped>\n",
       "    .dataframe tbody tr th:only-of-type {\n",
       "        vertical-align: middle;\n",
       "    }\n",
       "\n",
       "    .dataframe tbody tr th {\n",
       "        vertical-align: top;\n",
       "    }\n",
       "\n",
       "    .dataframe thead th {\n",
       "        text-align: right;\n",
       "    }\n",
       "</style>\n",
       "<table border=\"1\" class=\"dataframe\">\n",
       "  <thead>\n",
       "    <tr style=\"text-align: right;\">\n",
       "      <th></th>\n",
       "      <th>TOTAL_VALUE</th>\n",
       "      <th>TAX</th>\n",
       "      <th>LOT_SQFT</th>\n",
       "      <th>YR_BUILT</th>\n",
       "      <th>GROSS_AREA</th>\n",
       "      <th>LIVING_AREA</th>\n",
       "      <th>FLOORS</th>\n",
       "      <th>ROOMS</th>\n",
       "      <th>BEDROOMS</th>\n",
       "      <th>FULL_BATH</th>\n",
       "      <th>HALF_BATH</th>\n",
       "      <th>KITCHEN</th>\n",
       "      <th>FIREPLACE</th>\n",
       "    </tr>\n",
       "  </thead>\n",
       "  <tbody>\n",
       "    <tr>\n",
       "      <th>count</th>\n",
       "      <td>5802.00</td>\n",
       "      <td>5802.00</td>\n",
       "      <td>5802.00</td>\n",
       "      <td>5802.00</td>\n",
       "      <td>5802.00</td>\n",
       "      <td>5802.00</td>\n",
       "      <td>5802.00</td>\n",
       "      <td>5802.00</td>\n",
       "      <td>5802.00</td>\n",
       "      <td>5802.00</td>\n",
       "      <td>5802.00</td>\n",
       "      <td>5802.00</td>\n",
       "      <td>5802.00</td>\n",
       "    </tr>\n",
       "    <tr>\n",
       "      <th>mean</th>\n",
       "      <td>392.69</td>\n",
       "      <td>4939.49</td>\n",
       "      <td>6278.08</td>\n",
       "      <td>1936.74</td>\n",
       "      <td>2924.84</td>\n",
       "      <td>1657.07</td>\n",
       "      <td>1.68</td>\n",
       "      <td>6.99</td>\n",
       "      <td>3.23</td>\n",
       "      <td>1.30</td>\n",
       "      <td>0.61</td>\n",
       "      <td>1.02</td>\n",
       "      <td>0.74</td>\n",
       "    </tr>\n",
       "    <tr>\n",
       "      <th>std</th>\n",
       "      <td>99.18</td>\n",
       "      <td>1247.65</td>\n",
       "      <td>2669.71</td>\n",
       "      <td>35.99</td>\n",
       "      <td>883.98</td>\n",
       "      <td>540.46</td>\n",
       "      <td>0.44</td>\n",
       "      <td>1.44</td>\n",
       "      <td>0.85</td>\n",
       "      <td>0.52</td>\n",
       "      <td>0.53</td>\n",
       "      <td>0.12</td>\n",
       "      <td>0.57</td>\n",
       "    </tr>\n",
       "    <tr>\n",
       "      <th>min</th>\n",
       "      <td>105.00</td>\n",
       "      <td>1320.00</td>\n",
       "      <td>997.00</td>\n",
       "      <td>0.00</td>\n",
       "      <td>821.00</td>\n",
       "      <td>504.00</td>\n",
       "      <td>1.00</td>\n",
       "      <td>3.00</td>\n",
       "      <td>1.00</td>\n",
       "      <td>1.00</td>\n",
       "      <td>0.00</td>\n",
       "      <td>1.00</td>\n",
       "      <td>0.00</td>\n",
       "    </tr>\n",
       "    <tr>\n",
       "      <th>25%</th>\n",
       "      <td>325.12</td>\n",
       "      <td>4089.50</td>\n",
       "      <td>4772.00</td>\n",
       "      <td>1920.00</td>\n",
       "      <td>2347.00</td>\n",
       "      <td>1308.00</td>\n",
       "      <td>1.00</td>\n",
       "      <td>6.00</td>\n",
       "      <td>3.00</td>\n",
       "      <td>1.00</td>\n",
       "      <td>0.00</td>\n",
       "      <td>1.00</td>\n",
       "      <td>0.00</td>\n",
       "    </tr>\n",
       "    <tr>\n",
       "      <th>50%</th>\n",
       "      <td>375.90</td>\n",
       "      <td>4728.00</td>\n",
       "      <td>5683.00</td>\n",
       "      <td>1935.00</td>\n",
       "      <td>2700.00</td>\n",
       "      <td>1548.50</td>\n",
       "      <td>2.00</td>\n",
       "      <td>7.00</td>\n",
       "      <td>3.00</td>\n",
       "      <td>1.00</td>\n",
       "      <td>1.00</td>\n",
       "      <td>1.00</td>\n",
       "      <td>1.00</td>\n",
       "    </tr>\n",
       "    <tr>\n",
       "      <th>75%</th>\n",
       "      <td>438.78</td>\n",
       "      <td>5519.50</td>\n",
       "      <td>7022.25</td>\n",
       "      <td>1955.00</td>\n",
       "      <td>3239.00</td>\n",
       "      <td>1873.75</td>\n",
       "      <td>2.00</td>\n",
       "      <td>8.00</td>\n",
       "      <td>4.00</td>\n",
       "      <td>2.00</td>\n",
       "      <td>1.00</td>\n",
       "      <td>1.00</td>\n",
       "      <td>1.00</td>\n",
       "    </tr>\n",
       "    <tr>\n",
       "      <th>max</th>\n",
       "      <td>1217.80</td>\n",
       "      <td>15319.00</td>\n",
       "      <td>46411.00</td>\n",
       "      <td>2011.00</td>\n",
       "      <td>8154.00</td>\n",
       "      <td>5289.00</td>\n",
       "      <td>3.00</td>\n",
       "      <td>14.00</td>\n",
       "      <td>9.00</td>\n",
       "      <td>5.00</td>\n",
       "      <td>3.00</td>\n",
       "      <td>2.00</td>\n",
       "      <td>4.00</td>\n",
       "    </tr>\n",
       "  </tbody>\n",
       "</table>\n",
       "</div>"
      ],
      "text/plain": [
       "       TOTAL_VALUE       TAX  LOT_SQFT  YR_BUILT  GROSS_AREA  LIVING_AREA  \\\n",
       "count      5802.00   5802.00   5802.00   5802.00     5802.00      5802.00   \n",
       "mean        392.69   4939.49   6278.08   1936.74     2924.84      1657.07   \n",
       "std          99.18   1247.65   2669.71     35.99      883.98       540.46   \n",
       "min         105.00   1320.00    997.00      0.00      821.00       504.00   \n",
       "25%         325.12   4089.50   4772.00   1920.00     2347.00      1308.00   \n",
       "50%         375.90   4728.00   5683.00   1935.00     2700.00      1548.50   \n",
       "75%         438.78   5519.50   7022.25   1955.00     3239.00      1873.75   \n",
       "max        1217.80  15319.00  46411.00   2011.00     8154.00      5289.00   \n",
       "\n",
       "        FLOORS    ROOMS  BEDROOMS  FULL_BATH  HALF_BATH  KITCHEN  FIREPLACE  \n",
       "count  5802.00  5802.00   5802.00    5802.00    5802.00  5802.00    5802.00  \n",
       "mean      1.68     6.99      3.23       1.30       0.61     1.02       0.74  \n",
       "std       0.44     1.44      0.85       0.52       0.53     0.12       0.57  \n",
       "min       1.00     3.00      1.00       1.00       0.00     1.00       0.00  \n",
       "25%       1.00     6.00      3.00       1.00       0.00     1.00       0.00  \n",
       "50%       2.00     7.00      3.00       1.00       1.00     1.00       1.00  \n",
       "75%       2.00     8.00      4.00       2.00       1.00     1.00       1.00  \n",
       "max       3.00    14.00      9.00       5.00       3.00     2.00       4.00  "
      ]
     },
     "execution_count": 22,
     "metadata": {},
     "output_type": "execute_result"
    }
   ],
   "source": [
    "# Use describe() function to display column statistics\n",
    "# for the entire data set. \n",
    "np.round(housing_df.describe(), decimals=2)"
   ]
  },
  {
   "cell_type": "markdown",
   "metadata": {},
   "source": [
    "##  Step 3: Data set variables and change variable type. "
   ]
  },
  {
   "cell_type": "code",
   "execution_count": 23,
   "metadata": {},
   "outputs": [
    {
     "data": {
      "text/plain": [
       "Index(['TOTAL_VALUE', 'TAX', 'LOT_SQFT', 'YR_BUILT', 'GROSS_AREA',\n",
       "       'LIVING_AREA', 'FLOORS', 'ROOMS', 'BEDROOMS', 'FULL_BATH', 'HALF_BATH',\n",
       "       'KITCHEN', 'FIREPLACE', 'REMODEL'],\n",
       "      dtype='object')"
      ]
     },
     "execution_count": 23,
     "metadata": {},
     "output_type": "execute_result"
    }
   ],
   "source": [
    "# Display column names.\n",
    "housing_df.columns"
   ]
  },
  {
   "cell_type": "code",
   "execution_count": 24,
   "metadata": {
    "scrolled": true
   },
   "outputs": [
    {
     "data": {
      "text/plain": [
       "TOTAL_VALUE    float64\n",
       "TAX              int64\n",
       "LOT_SQFT         int64\n",
       "YR_BUILT         int64\n",
       "GROSS_AREA       int64\n",
       "LIVING_AREA      int64\n",
       "FLOORS         float64\n",
       "ROOMS            int64\n",
       "BEDROOMS         int64\n",
       "FULL_BATH        int64\n",
       "HALF_BATH        int64\n",
       "KITCHEN          int64\n",
       "FIREPLACE        int64\n",
       "REMODEL         object\n",
       "dtype: object"
      ]
     },
     "execution_count": 24,
     "metadata": {},
     "output_type": "execute_result"
    }
   ],
   "source": [
    "# Display column data types. \n",
    "housing_df.dtypes"
   ]
  },
  {
   "cell_type": "code",
   "execution_count": 25,
   "metadata": {},
   "outputs": [
    {
     "name": "stdout",
     "output_type": "stream",
     "text": [
      "Original REMODEL variable:\n",
      "object\n",
      " \n",
      "Category levels and changed variable type:\n",
      "Index(['None', 'Old', 'Recent'], dtype='object')\n",
      "category\n"
     ]
    }
   ],
   "source": [
    "# The REMODEL column is 'object'; does not have \n",
    "# the 'category' definition.\n",
    "print('Original REMODEL variable:')\n",
    "print(housing_df.REMODEL.dtype)\n",
    "\n",
    "# Need to change REMODEL variable type to 'category'. \n",
    "housing_df.REMODEL = housing_df.REMODEL.astype('category')\n",
    "\n",
    "# Display category levels (classes) and category type.\n",
    "print(' ')\n",
    "print('Category levels and changed variable type:')\n",
    "print(housing_df.REMODEL.cat.categories)  # It can take one of three levels.\n",
    "print(housing_df.REMODEL.dtype)  # Type is now 'category'."
   ]
  },
  {
   "cell_type": "code",
   "execution_count": 26,
   "metadata": {},
   "outputs": [
    {
     "data": {
      "text/plain": [
       "Index(['TOTAL_VALUE', 'TAX', 'LOT_SQFT', 'YR_BUILT', 'GROSS_AREA',\n",
       "       'LIVING_AREA', 'FLOORS', 'ROOMS', 'BEDROOMS', 'FULL_BATH', 'HALF_BATH',\n",
       "       'KITCHEN', 'FIREPLACE', 'REMODEL_Old', 'REMODEL_Recent'],\n",
       "      dtype='object')"
      ]
     },
     "execution_count": 26,
     "metadata": {},
     "output_type": "execute_result"
    }
   ],
   "source": [
    "# Convert category variable REMODEL into dummy variables, \n",
    "# REMODEL_Old and REMODEL_Recent. \n",
    "# Use drop_first=True to drop the first dummy variable for 'None'.\n",
    "housing_df = pd.get_dummies(housing_df, prefix_sep='_', \n",
    "                            drop_first=True)\n",
    "housing_df.columns"
   ]
  },
  {
   "cell_type": "code",
   "execution_count": 27,
   "metadata": {
    "scrolled": true
   },
   "outputs": [
    {
     "name": "stdout",
     "output_type": "stream",
     "text": [
      "   REMODEL_Old  REMODEL_Recent\n",
      "0            0               0\n",
      "1            0               1\n",
      "2            0               0\n",
      "3            0               0\n",
      "4            0               0\n",
      "5            1               0\n",
      "6            0               0\n",
      "7            0               0\n",
      "8            0               1\n",
      "9            0               0\n"
     ]
    }
   ],
   "source": [
    "# Display values of the new dummy variables, \n",
    "# REMODEL_Old and REMODEL_Recent.\n",
    "# If both dummy variables equal to 0, then REMODEL is 'None'.\n",
    "print(housing_df.loc[:, 'REMODEL_Old':'REMODEL_Recent'].head(10))"
   ]
  },
  {
   "cell_type": "markdown",
   "metadata": {},
   "source": [
    "## Step 3: Missing values' data procedures."
   ]
  },
  {
   "cell_type": "code",
   "execution_count": 28,
   "metadata": {},
   "outputs": [
    {
     "name": "stdout",
     "output_type": "stream",
     "text": [
      "Number of rows and columns in data set:\n",
      "(5802, 14)\n",
      "\n",
      "Original column names:\n",
      "Index(['TOTAL VALUE ', 'TAX', 'LOT SQFT ', 'YR BUILT', 'GROSS AREA ',\n",
      "       'LIVING AREA', 'FLOORS ', 'ROOMS', 'BEDROOMS ', 'FULL BATH',\n",
      "       'HALF BATH', 'KITCHEN', 'FIREPLACE', 'REMODEL'],\n",
      "      dtype='object')\n",
      "\n",
      "Updated column names:\n",
      "Index(['TOTAL_VALUE', 'TAX', 'LOT_SQFT', 'YR_BUILT', 'GROSS_AREA',\n",
      "       'LIVING_AREA', 'FLOORS', 'ROOMS', 'BEDROOMS', 'FULL_BATH', 'HALF_BATH',\n",
      "       'KITCHEN', 'FIREPLACE', 'REMODEL'],\n",
      "      dtype='object')\n",
      "\n",
      "Number of rows with valid BEDROOMS values before:\n",
      "5802\n"
     ]
    }
   ],
   "source": [
    "# Create a deta frame in Python using WestRoxbury.csv file.\n",
    "housing_df_miss = pd.read_csv('WestRoxbury.csv')\n",
    "\n",
    "# Determine and display dimensions of data frame. \n",
    "print('Number of rows and columns in data set:')\n",
    "print(housing_df_miss.shape) # It has 5802 rows and 14 columns.\n",
    "\n",
    "# Display original column names.\n",
    "print()\n",
    "print('Original column names:')\n",
    "print(housing_df_miss.columns)\n",
    "\n",
    "# Strip trailing spaces and replace the remaining spaces \n",
    "# with an underscore _. Instead of using the `rename` method, we \n",
    "# create a modified copy of `columns` and assign to the `columns` \n",
    "# field of the dataframe. \n",
    "# Display changed column names.\n",
    "housing_df_miss.columns = [s.strip().replace(' ', '_') for s in housing_df_miss.columns]\n",
    "print()\n",
    "print('Updated column names:')\n",
    "print(housing_df_miss.columns)\n",
    "\n",
    "# Display number of rows before putting NA values in BEDROOMS \n",
    "# column.\n",
    "print()\n",
    "print('Number of rows with valid BEDROOMS values before:') \n",
    "print(housing_df_miss['BEDROOMS'].count()) \n"
   ]
  },
  {
   "cell_type": "code",
   "execution_count": 29,
   "metadata": {},
   "outputs": [
    {
     "name": "stdout",
     "output_type": "stream",
     "text": [
      "Sample rows for which missing values will be added:\n",
      "Int64Index([5380, 858, 3664, 4806, 5526, 5726, 2844, 974, 2673, 2033], dtype='int64')\n"
     ]
    }
   ],
   "source": [
    "# To illustrate missing data procedures, we first convert \n",
    "# a few entries for BEDROOMS column to NA's. \n",
    "\n",
    "# Create a sample of 10 rows from the data frame housing_df, for which\n",
    "# missing values will be added in BEDROOMS column.\n",
    "missingRows = housing_df_miss.sample(10).index\n",
    "\n",
    "# Display rows, for which missing values will be added.\n",
    "print('Sample rows for which missing values will be added:') \n",
    "print(missingRows)\n"
   ]
  },
  {
   "cell_type": "code",
   "execution_count": 30,
   "metadata": {},
   "outputs": [
    {
     "name": "stdout",
     "output_type": "stream",
     "text": [
      "Number of rows with valid BEDROOMS values after setting to NaN:  5792\n"
     ]
    }
   ],
   "source": [
    "# In 10-sample rows, put NAs (NaN) in the BEDROOMS column.\n",
    "housing_df_miss.loc[missingRows, 'BEDROOMS'] = np.nan\n",
    "\n",
    "# Display the number of rows with BEDROOM values (without NsN).\n",
    "print('Number of rows with valid BEDROOMS values after setting to NaN: ', \n",
    "      housing_df_miss['BEDROOMS'].count()) "
   ]
  },
  {
   "cell_type": "code",
   "execution_count": 31,
   "metadata": {},
   "outputs": [
    {
     "name": "stdout",
     "output_type": "stream",
     "text": [
      "Number of rows after removing rows with missing values:  5792\n"
     ]
    }
   ],
   "source": [
    "# Remove rows with missing values.\n",
    "reduced_df = housing_df_miss.dropna()\n",
    "\n",
    "# Display number of rows after removing missing values. \n",
    "print('Number of rows after removing rows with missing values: ', len(reduced_df))"
   ]
  },
  {
   "cell_type": "code",
   "execution_count": 32,
   "metadata": {},
   "outputs": [
    {
     "name": "stdout",
     "output_type": "stream",
     "text": [
      "Number of rows with valid BEDROOMS values after filling NaN values:  5802\n"
     ]
    }
   ],
   "source": [
    "# Impute missing values using the median of the \n",
    "# remaining values. By default, the median() function \n",
    "# of pandas dataframe ignores NA values. \n",
    "\n",
    "# Identify median of BEDROOMS column values \n",
    "# (NA values ignored).\n",
    "medianBedrooms = housing_df_miss['BEDROOMS'].median()\n",
    "\n",
    "# In BEDROOM column, fill (impute) the value \n",
    "# of median for NA (NaN) values.\n",
    "housing_df_miss.BEDROOMS = housing_df.BEDROOMS.fillna(value=medianBedrooms)\n",
    "\n",
    "# Display the number of rows with valid BEDROOM values \n",
    "#(no NAs) after imputation. \n",
    "print('Number of rows with valid BEDROOMS values after filling NaN values: ',\n",
    "      housing_df_miss['BEDROOMS'].count())"
   ]
  },
  {
   "cell_type": "markdown",
   "metadata": {},
   "source": [
    "## Step 6: Partition data. "
   ]
  },
  {
   "cell_type": "code",
   "execution_count": 33,
   "metadata": {},
   "outputs": [
    {
     "name": "stdout",
     "output_type": "stream",
     "text": [
      "Data paritions using Pandas\n",
      "Training  :  (3481, 15)\n",
      "Validation:  (2321, 15)\n",
      "\n",
      "Data partitions using scikit-learn\n",
      "Training  :  (3481, 15)\n",
      "Validation:  (2321, 15)\n"
     ]
    }
   ],
   "source": [
    "# Split the data set into training (60%) and validation (40%) sets. \n",
    "# Randomly sample 60% of the data set into a new data frame \n",
    "# 'trainData'. The remaining 40% serve as validation set, \n",
    "# 'validData'.\n",
    "\n",
    "# Develop training set (partition).\n",
    "# Random_state is set to a defined value to get the same partitions \n",
    "# when re-running the code.\n",
    "trainData= housing_df.sample(frac=0.6, random_state=1)\n",
    "\n",
    "# Assign and display rows that are not already in the training \n",
    "# set, into validation set, validData. \n",
    "validData = housing_df.drop(trainData.index)\n",
    "\n",
    "print('Data paritions using Pandas')\n",
    "print('Training  : ', trainData.shape)\n",
    "print('Validation: ', validData.shape)\n",
    "\n",
    "# Alternative way of partition using scikit-learn package.\n",
    "# This approach, which is simpler, will be used in all Python \n",
    "# files to partition data.\n",
    "print()\n",
    "print('Data partitions using scikit-learn')\n",
    "trainData, validData = train_test_split(housing_df, \n",
    "                    test_size=0.40, random_state=1)\n",
    "print('Training  : ', trainData.shape)\n",
    "print('Validation: ', validData.shape)"
   ]
  },
  {
   "cell_type": "markdown",
   "metadata": {},
   "source": [
    "## Steps 7 and 8: Chooase DM technique (linear regression) and associated algorithm LinearRegression() for WestRoxbury example. "
   ]
  },
  {
   "cell_type": "code",
   "execution_count": 34,
   "metadata": {
    "scrolled": true
   },
   "outputs": [
    {
     "name": "stdout",
     "output_type": "stream",
     "text": [
      "Actual, Predicted, and Residual Values for TOTAL_VALUE in Training Set\n",
      "\n",
      "      TOTAL_VALUE   Predicted   Residual\n",
      "2024        392.0  387.726258   4.273742\n",
      "5140        476.3  430.785540  45.514460\n",
      "5259        367.4  384.042952 -16.642952\n",
      "421         350.3  369.005551 -18.705551\n",
      "1401        348.1  314.725722  33.374278\n"
     ]
    }
   ],
   "source": [
    "# Data loading and preprocessing.\n",
    "\n",
    "# Develop dataframe.\n",
    "housing_df = pd.read_csv('WestRoxbury.csv') \n",
    "\n",
    "# Make column titles (variable names) as one word and \n",
    "# without blank. \n",
    "housing_df.columns = [s.strip().replace(' ', '_') for s in housing_df.columns] \n",
    "\n",
    "# Develo dummy variables for categorical variables \n",
    "# (REMODEL_Old and REMODEL_Recent).\n",
    "housing_df = pd.get_dummies(housing_df, prefix_sep='_', drop_first=True)\n",
    "\n",
    "# Exclude TOTAL_VALUE and TAX columns (variables) from predictors.\n",
    "excludeColumns = ('TOTAL_VALUE', 'TAX')\n",
    "\n",
    "# Develop predictor variables. \n",
    "predictors = [s for s in housing_df.columns if s not in excludeColumns]\n",
    "\n",
    "# Develop outcome. \n",
    "outcome = 'TOTAL_VALUE'\n",
    "\n",
    "# Partition data for X (predictors) and y (outcome). \n",
    "# The split is 60% for training parition set, and 40% for validation \n",
    "# parition set.\n",
    "X = housing_df[predictors]\n",
    "y = housing_df[outcome]\n",
    "train_X, valid_X, train_y, valid_y = train_test_split(X, y, \n",
    "                        test_size=0.4, random_state=1)\n",
    "\n",
    "# Using LinerRegression() function from scikit-learn, develop \n",
    "# linear regression model based on training set.\n",
    "lin_model = LinearRegression()\n",
    "lin_model.fit(train_X, train_y)\n",
    "\n",
    "# Using the developed linear regression model, lin_model, predict values \n",
    "# in the training set. \n",
    "train_pred = lin_model.predict(train_X)\n",
    "print('Actual, Predicted, and Residual Values for TOTAL_VALUE in Training Set')\n",
    "print()\n",
    "train_results = pd.DataFrame({\n",
    "    'TOTAL_VALUE': train_y, \n",
    "    'Predicted': train_pred, \n",
    "    'Residual': train_y - train_pred\n",
    "})\n",
    "print(train_results.head())"
   ]
  },
  {
   "cell_type": "code",
   "execution_count": 35,
   "metadata": {
    "scrolled": false
   },
   "outputs": [
    {
     "data": {
      "image/png": "[encoded data removed]",
      "text/plain": [
       "<Figure size 640x480 with 1 Axes>"
      ]
     },
     "metadata": {},
     "output_type": "display_data"
    }
   ],
   "source": [
    "# Develop and display plot for actual and predicted values \n",
    "# of TOTAL_VALUE for training set.\n",
    "plt.plot(train_results.TOTAL_VALUE, train_results.Predicted, '.')\n",
    "plt.xlabel('Actual ')  # set x-axis label\n",
    "plt.ylabel('Predicted')  # set y-axis label\n",
    "axes = plt.gca()\n",
    "plt.plot(axes.get_xlim(), axes.get_xlim(), '--')\n",
    "plt.show()"
   ]
  },
  {
   "cell_type": "code",
   "execution_count": 36,
   "metadata": {},
   "outputs": [
    {
     "name": "stdout",
     "output_type": "stream",
     "text": [
      "Actual, Predicted, and Residual Values for TOTAL_VALUE in Validation Set\n",
      "\n",
      "      TOTAL_VALUE   Predicted   Residual\n",
      "1822        462.0  406.946377  55.053623\n",
      "1998        370.4  362.888928   7.511072\n",
      "5126        407.4  390.287208  17.112792\n",
      "808         316.1  382.470203 -66.370203\n",
      "4034        393.2  434.334998 -41.134998\n"
     ]
    }
   ],
   "source": [
    "# Using the developed linear regression model, lin_model, predict values \n",
    "# in the validation set. \n",
    "valid_pred = lin_model.predict(valid_X)\n",
    "valid_results = pd.DataFrame({\n",
    "    'TOTAL_VALUE': valid_y, \n",
    "    'Predicted': valid_pred, \n",
    "    'Residual': valid_y - valid_pred\n",
    "})\n",
    "print('Actual, Predicted, and Residual Values for TOTAL_VALUE in Validation Set')\n",
    "print()\n",
    "print(valid_results.head())"
   ]
  },
  {
   "cell_type": "code",
   "execution_count": 37,
   "metadata": {
    "scrolled": false
   },
   "outputs": [
    {
     "data": {
      "image/png": "[encoded data removed]",
      "text/plain": [
       "<Figure size 640x480 with 1 Axes>"
      ]
     },
     "metadata": {},
     "output_type": "display_data"
    }
   ],
   "source": [
    "# Develop and display plot for validation set.\n",
    "plt.plot(valid_results.TOTAL_VALUE, valid_results.Predicted, '.')\n",
    "plt.xlabel('Actual')  # set x-axis label\n",
    "plt.ylabel('Predicted')  # set y-axis label\n",
    "axes = plt.gca()\n",
    "plt.plot(axes.get_xlim(), axes.get_xlim(), '--')\n",
    "plt.show()"
   ]
  },
  {
   "cell_type": "markdown",
   "metadata": {},
   "source": [
    "## Step 8: Use accuracy perfomance metrics to assess the model's performance."
   ]
  },
  {
   "cell_type": "code",
   "execution_count": 38,
   "metadata": {},
   "outputs": [
    {
     "name": "stdout",
     "output_type": "stream",
     "text": [
      "Training set r2:  0.8097\n",
      "Validation set r2:  0.8171\n"
     ]
    }
   ],
   "source": [
    "# Identify and display the metrics that scikit-learn provides.\n",
    "print('Training set r2: ', np.round(r2_score(train_results.TOTAL_VALUE,\n",
    "                            train_results.Predicted), decimals = 4))\n",
    "print('Validation set r2: ', np.round(r2_score(valid_results.TOTAL_VALUE, \n",
    "                            valid_results.Predicted), decimals = 4))"
   ]
  },
  {
   "cell_type": "code",
   "execution_count": 40,
   "metadata": {
    "scrolled": true
   },
   "outputs": [
    {
     "name": "stdout",
     "output_type": "stream",
     "text": [
      "Collecting dmba\n",
      "  Obtaining dependency information for dmba from https://files.pythonhosted.org/packages/e5/ec/b58a6ea1bd4cd6ceb7d74718655a1beb777eefebcbf52d89cbab4fd9eb66/dmba-0.2.4-py3-none-any.whl.metadata\n",
      "  Downloading dmba-0.2.4-py3-none-any.whl.metadata (1.9 kB)\n",
      "Requirement already satisfied: graphviz in c:\\users\\naran\\anaconda3\\lib\\site-packages (from dmba) (0.20.1)\n",
      "Requirement already satisfied: matplotlib in c:\\users\\naran\\anaconda3\\lib\\site-packages (from dmba) (3.7.1)\n",
      "Requirement already satisfied: numpy in c:\\users\\naran\\anaconda3\\lib\\site-packages (from dmba) (1.24.3)\n",
      "Requirement already satisfied: pandas in c:\\users\\naran\\anaconda3\\lib\\site-packages (from dmba) (1.5.3)\n",
      "Requirement already satisfied: scikit-learn in c:\\users\\naran\\anaconda3\\lib\\site-packages (from dmba) (1.3.0)\n",
      "Requirement already satisfied: scipy in c:\\users\\naran\\anaconda3\\lib\\site-packages (from dmba) (1.10.1)\n",
      "Requirement already satisfied: contourpy>=1.0.1 in c:\\users\\naran\\anaconda3\\lib\\site-packages (from matplotlib->dmba) (1.0.5)\n",
      "Requirement already satisfied: cycler>=0.10 in c:\\users\\naran\\anaconda3\\lib\\site-packages (from matplotlib->dmba) (0.11.0)\n",
      "Requirement already satisfied: fonttools>=4.22.0 in c:\\users\\naran\\anaconda3\\lib\\site-packages (from matplotlib->dmba) (4.25.0)\n",
      "Requirement already satisfied: kiwisolver>=1.0.1 in c:\\users\\naran\\anaconda3\\lib\\site-packages (from matplotlib->dmba) (1.4.4)\n",
      "Requirement already satisfied: packaging>=20.0 in c:\\users\\naran\\anaconda3\\lib\\site-packages (from matplotlib->dmba) (23.0)\n",
      "Requirement already satisfied: pillow>=6.2.0 in c:\\users\\naran\\anaconda3\\lib\\site-packages (from matplotlib->dmba) (9.4.0)\n",
      "Requirement already satisfied: pyparsing>=2.3.1 in c:\\users\\naran\\anaconda3\\lib\\site-packages (from matplotlib->dmba) (3.0.9)\n",
      "Requirement already satisfied: python-dateutil>=2.7 in c:\\users\\naran\\anaconda3\\lib\\site-packages (from matplotlib->dmba) (2.8.2)\n",
      "Requirement already satisfied: pytz>=2020.1 in c:\\users\\naran\\anaconda3\\lib\\site-packages (from pandas->dmba) (2022.7)\n",
      "Requirement already satisfied: joblib>=1.1.1 in c:\\users\\naran\\anaconda3\\lib\\site-packages (from scikit-learn->dmba) (1.2.0)\n",
      "Requirement already satisfied: threadpoolctl>=2.0.0 in c:\\users\\naran\\anaconda3\\lib\\site-packages (from scikit-learn->dmba) (2.2.0)\n",
      "Requirement already satisfied: six>=1.5 in c:\\users\\naran\\anaconda3\\lib\\site-packages (from python-dateutil>=2.7->matplotlib->dmba) (1.16.0)\n",
      "Downloading dmba-0.2.4-py3-none-any.whl (11.8 MB)\n",
      "   ---------------------------------------- 0.0/11.8 MB ? eta -:--:--\n",
      "   ---------------------------------------- 0.1/11.8 MB 6.8 MB/s eta 0:00:02\n",
      "   - -------------------------------------- 0.3/11.8 MB 4.1 MB/s eta 0:00:03\n",
      "   -- ------------------------------------- 0.8/11.8 MB 6.2 MB/s eta 0:00:02\n",
      "   ---- ----------------------------------- 1.5/11.8 MB 8.5 MB/s eta 0:00:02\n",
      "   ------- -------------------------------- 2.1/11.8 MB 10.2 MB/s eta 0:00:01\n",
      "   ------- -------------------------------- 2.1/11.8 MB 10.2 MB/s eta 0:00:01\n",
      "   ------- -------------------------------- 2.1/11.8 MB 10.2 MB/s eta 0:00:01\n",
      "   ------- -------------------------------- 2.1/11.8 MB 10.2 MB/s eta 0:00:01\n",
      "   -------- ------------------------------- 2.4/11.8 MB 5.8 MB/s eta 0:00:02\n",
      "   ---------- ----------------------------- 3.0/11.8 MB 6.8 MB/s eta 0:00:02\n",
      "   ---------- ----------------------------- 3.1/11.8 MB 6.9 MB/s eta 0:00:02\n",
      "   ------------ --------------------------- 3.8/11.8 MB 7.1 MB/s eta 0:00:02\n",
      "   -------------- ------------------------- 4.2/11.8 MB 7.4 MB/s eta 0:00:02\n",
      "   --------------- ------------------------ 4.6/11.8 MB 7.3 MB/s eta 0:00:01\n",
      "   ----------------- ---------------------- 5.2/11.8 MB 7.8 MB/s eta 0:00:01\n",
      "   ------------------ --------------------- 5.4/11.8 MB 7.6 MB/s eta 0:00:01\n",
      "   -------------------- ------------------- 6.2/11.8 MB 8.0 MB/s eta 0:00:01\n",
      "   ---------------------- ----------------- 6.5/11.8 MB 8.0 MB/s eta 0:00:01\n",
      "   ------------------------ --------------- 7.2/11.8 MB 8.4 MB/s eta 0:00:01\n",
      "   ------------------------- -------------- 7.5/11.8 MB 8.3 MB/s eta 0:00:01\n",
      "   --------------------------- ------------ 8.2/11.8 MB 8.6 MB/s eta 0:00:01\n",
      "   ----------------------------- ---------- 8.6/11.8 MB 8.6 MB/s eta 0:00:01\n",
      "   ------------------------------- -------- 9.3/11.8 MB 8.9 MB/s eta 0:00:01\n",
      "   --------------------------------- ------ 9.8/11.8 MB 9.0 MB/s eta 0:00:01\n",
      "   ----------------------------------- ---- 10.5/11.8 MB 9.5 MB/s eta 0:00:01\n",
      "   ------------------------------------- -- 11.0/11.8 MB 9.6 MB/s eta 0:00:01\n",
      "   ---------------------------------------  11.5/11.8 MB 9.6 MB/s eta 0:00:01\n",
      "   ---------------------------------------  11.8/11.8 MB 9.6 MB/s eta 0:00:01\n",
      "   ---------------------------------------- 11.8/11.8 MB 9.2 MB/s eta 0:00:00\n",
      "Installing collected packages: dmba\n",
      "Successfully installed dmba-0.2.4\n",
      "Accuracy Performance Measures for Trainining Set\n",
      "\n",
      "Regression statistics\n",
      "\n",
      "                      Mean Error (ME) : -0.0000\n",
      "       Root Mean Squared Error (RMSE) : 43.0306\n",
      "            Mean Absolute Error (MAE) : 32.6042\n",
      "          Mean Percentage Error (MPE) : -1.1116\n",
      "Mean Absolute Percentage Error (MAPE) : 8.4886\n",
      "\n",
      "Accuracy Performance Measures for Validation Set\n",
      "\n",
      "Regression statistics\n",
      "\n",
      "                      Mean Error (ME) : -0.1463\n",
      "       Root Mean Squared Error (RMSE) : 42.7292\n",
      "            Mean Absolute Error (MAE) : 31.9663\n",
      "          Mean Percentage Error (MPE) : -1.0884\n",
      "Mean Absolute Percentage Error (MAPE) : 8.3283\n"
     ]
    }
   ],
   "source": [
    "# !pip install dmba\n",
    "# Import the utility function regressionSummary() for measuring \n",
    "# performance accuracy of the predictive technique (linear\n",
    "# regression model). \n",
    "from dmba import regressionSummary\n",
    "\n",
    "# Use and display regressionSummary() for training set.\n",
    "print('Accuracy Performance Measures for Trainining Set')\n",
    "regressionSummary(train_results.TOTAL_VALUE, train_results.Predicted)\n",
    "print()\n",
    "\n",
    "# Use and display regressionSummary() for validation set.\n",
    "print('Accuracy Performance Measures for Validation Set')\n",
    "regressionSummary(valid_results.TOTAL_VALUE, valid_results.Predicted)"
   ]
  },
  {
   "cell_type": "markdown",
   "metadata": {},
   "source": [
    "## Step 10: Make predictions for new data records."
   ]
  },
  {
   "cell_type": "code",
   "execution_count": 41,
   "metadata": {
    "scrolled": true
   },
   "outputs": [
    {
     "name": "stdout",
     "output_type": "stream",
     "text": [
      "   LOT_SQFT  YR_BUILT  GROSS_AREA  LIVING_AREA  FLOORS  ROOMS  BEDROOMS  \\\n",
      "0      4200      1960        2670         1710     2.0     10         4   \n",
      "1      6444      1940        2886         1474     1.5      6         3   \n",
      "2      5035      1925        3264         1523     1.9      6         2   \n",
      "\n",
      "   FULL_BATH  HALF_BATH  KITCHEN  FIREPLACE  REMODEL_Old  REMODEL_Recent  \n",
      "0          1          1        1          1            0               0  \n",
      "1          1          1        1          1            0               0  \n",
      "2          1          0        1          0            0               1  \n",
      "Predictions:  [384.472 378.067 386.018]\n"
     ]
    }
   ],
   "source": [
    "# Develop dataframe with 3 new records. \n",
    "# Notice that the TOTAL_VALUE response variable\n",
    "# is not present in these records.\n",
    "new_data = pd.DataFrame({\n",
    "    'LOT_SQFT': [4200, 6444, 5035],\n",
    "    'YR_BUILT': [1960, 1940, 1925],\n",
    "    'GROSS_AREA': [2670, 2886, 3264],\n",
    "    'LIVING_AREA': [1710, 1474, 1523],\n",
    "    'FLOORS': [2.0, 1.5, 1.9],\n",
    "    'ROOMS': [10, 6, 6],\n",
    "    'BEDROOMS': [4, 3, 2],\n",
    "    'FULL_BATH': [1, 1, 1],\n",
    "    'HALF_BATH': [1, 1, 0],\n",
    "    'KITCHEN': [1, 1, 1],\n",
    "    'FIREPLACE': [1, 1, 0],\n",
    "    'REMODEL_Old': [0, 0, 0],\n",
    "    'REMODEL_Recent': [0, 0, 1],\n",
    "})\n",
    "\n",
    "# Display the 3 new records.\n",
    "print(new_data)\n",
    "\n",
    "# Display the prediction results of using the linear regression model\n",
    "# for the 3 new records.\n",
    "# Round prediction results by 3 decimals.\n",
    "print('Predictions: ', np.round(lin_model.predict(new_data), decimals=3))"
   ]
  },
  {
   "cell_type": "code",
   "execution_count": null,
   "metadata": {},
   "outputs": [],
   "source": []
  }
 ],
 "metadata": {
  "kernelspec": {
   "display_name": "Python 3 (ipykernel)",
   "language": "python",
   "name": "python3"
  },
  "language_info": {
   "codemirror_mode": {
    "name": "ipython",
    "version": 3
   },
   "file_extension": ".py",
   "mimetype": "text/x-python",
   "name": "python",
   "nbconvert_exporter": "python",
   "pygments_lexer": "ipython3",
   "version": "3.11.5"
  }
 },
 "nbformat": 4,
 "nbformat_minor": 2
}
