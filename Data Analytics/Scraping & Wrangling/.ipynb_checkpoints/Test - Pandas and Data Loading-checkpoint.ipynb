{
 "cells": [
  {
   "cell_type": "code",
   "execution_count": null,
   "metadata": {},
   "outputs": [],
   "source": [
    "import pandas as pd\n",
    "import numpy as np\n",
    "import matplotlib.pyplot as plt"
   ]
  },
  {
   "cell_type": "markdown",
   "metadata": {},
   "source": [
    "# Question 1\n",
    "\n",
    "Write a Pandas program to get the first 3 rows of a given DataFrame.\n",
    "\n",
    "Sample DataFrame:\\\n",
    "exam_data = {'name': ['Anastasia', 'Dima', 'Katherine', 'James', 'Emily', 'Michael', 'Matthew', 'Laura', 'Kevin', 'Jonas'],\\\n",
    "'score': [12.5, 9, 16.5, np.nan, 9, 20, 14.5, np.nan, 8, 19],\\\n",
    "'attempts': [1, 3, 2, 3, 2, 3, 1, 1, 2, 1]}\\\n",
    "labels = ['a', 'b', 'c', 'd', 'e', 'f', 'g', 'h', 'i', 'j']\n",
    "\n",
    "Note: To safe time, you can copy these inputs directly into your code.\n",
    "\n",
    "Example Output:\n",
    "\n",
    "|   | name      | score | attempts | \n",
    "|---|-----------|-------|----------|\n",
    "| a | Anastasia | 12.5  | 1        | \n",
    "| b | Dima      | 9.5   | 3        | \n",
    "| c | Katherine | 16.5  | 2        | \n"
   ]
  },
  {
   "cell_type": "code",
   "execution_count": null,
   "metadata": {},
   "outputs": [],
   "source": [
    "exam_data = {'name': ['Anastasia', 'Dima', 'Katherine', 'James', 'Emily', 'Michael', 'Matthew', 'Laura', 'Kevin', 'Jonas'],\n",
    "'score': [12.5, 9, 16.5, np.nan, 9, 20, 14.5, np.nan, 8, 19],\n",
    "'attempts': [1, 3, 2, 3, 2, 3, 1, 1, 2, 1]}\n",
    "labels = ['a', 'b', 'c', 'd', 'e', 'f', 'g', 'h', 'i', 'j']\n",
    "\n",
    "exam_data = pd.DataFrame(exam_data, index=labels)\n",
    "exam_data.head(3)"
   ]
  },
  {
   "cell_type": "markdown",
   "metadata": {},
   "source": [
    "# Question 2\n",
    "\n",
    "Write a Pandas program to select the rows where number of attempts in the examination is less than 2 and score greater than 15.\n",
    "\n",
    "Sample DataFrame:\\\n",
    "Sample Python dictionary data and list labels:\\\n",
    "exam_data = {'name': ['Anastasia', 'Dima', 'Katherine', 'James', 'Emily', 'Michael', 'Matthew', 'Laura', 'Kevin', 'Jonas'],\\\n",
    "'score': [12.5, 9, 16.5, np.nan, 9, 20, 14.5, np.nan, 8, 19],\\\n",
    "'attempts': [1, 3, 2, 3, 2, 3, 1, 1, 2, 1]}\\\n",
    "labels = ['a', 'b', 'c', 'd', 'e', 'f', 'g', 'h', 'i', 'j']"
   ]
  },
  {
   "cell_type": "code",
   "execution_count": null,
   "metadata": {},
   "outputs": [],
   "source": [
    "attempts_mask = exam_data['attempts'] < 2\n",
    "score_mask = exam_data['score'] > 15\n",
    "\n",
    "exam_data[attempts_mask & score_mask]"
   ]
  },
  {
   "cell_type": "markdown",
   "metadata": {},
   "source": [
    "# Question 3\n",
    "\n",
    "Write a Pandas program to crease a new column named \"qualify\" to check if the students score is qualify or not. If there is no score, lable it as \"Not Sure\".\n",
    "\n",
    "If score >= 10, assign \"Yes\".\n",
    "If score < 10, assign \"No\".\n",
    "If score value is missing, assign \"Not Sure\".\n",
    "\n",
    "Sample DataFrame:\n",
    "\n",
    "Sample Python dictionary data and list labels:\n",
    "\n",
    "exam_data = {'name': ['Anastasia', 'Dima', 'Katherine', 'James', 'Emily', 'Michael', 'Matthew', 'Laura', 'Kevin', 'Jonas'],\n",
    "'score': [12.5, 9, 16.5, np.nan, 9, 20, 14.5, np.nan, 8, 19],\n",
    "'attempts': [1, 3, 2, 3, 2, 3, 1, 1, 2, 1]}\n",
    "labels = ['a', 'b', 'c', 'd', 'e', 'f', 'g', 'h', 'i', 'j']\n",
    "\n",
    "Example output:\n",
    "\n",
    "|   | name      | score | attempts | qualify  |\n",
    "|---|-----------|-------|----------|----------|\n",
    "| a | Anastasia | 12.5  | 1        | Yes      |\n",
    "| b | Dima      | 9.5   | 3        | No       |\n",
    "| c | Katherine | 16.5  | 2        | Yes      |\n",
    "| d | James     | NaN   | 3        | Not Sure |\n",
    "| . | ...       | ...   | .        | ...      |\n",
    "\n",
    "\n"
   ]
  },
  {
   "cell_type": "code",
   "execution_count": null,
   "metadata": {},
   "outputs": [],
   "source": [
    "# df['qualify'] = df['score'].apply(lambda x: 'Yes' if x >= 10 else ('No' if x < 10 else 'Not Sure'))\n",
    "# OOORRR\n",
    "#\n",
    "# def qualify_status(score):\n",
    "#     if pd.isna(score):\n",
    "#         return 'Not Sure'\n",
    "#     elif score >= 10:\n",
    "#         return 'Yes'\n",
    "#     else:\n",
    "#         return 'No'\n",
    "\n",
    "# # Apply the function using apply method to create new column 'qualify'\n",
    "# df['qualify'] = df['score'].apply(qualify_status)\n",
    "\n",
    "exam_data['qualify'] = np.where(exam_data['score'] >= 10, 'Yes', np.where(exam_data['score'] < 10, 'No', 'Not Sure'))\n",
    "exam_data['qualify']"
   ]
  },
  {
   "cell_type": "markdown",
   "metadata": {},
   "source": [
    "# Question 4\n",
    "\n",
    "Write a Pandas program to import given excel data (spy.xlsx) into a Pandas dataframe. "
   ]
  },
  {
   "cell_type": "code",
   "execution_count": null,
   "metadata": {},
   "outputs": [],
   "source": [
    "xl_data = pd.read_excel('spy.xlsx')\n",
    "xl_data.head()"
   ]
  },
  {
   "cell_type": "markdown",
   "metadata": {},
   "source": [
    "# Question 5\n",
    "\n",
    "Based on the dataframe from given excel data (spy.xlsx), write a Pandas program to generate a new column \"Volatility\" and the volatility of each trading day is defined as \"(High - Low)/Close\".\n",
    "\n",
    "Example output:\n",
    "\n",
    "|   | Date       | Open   | High     | Low      | Clsoe    | Volume    | Volatility   |\n",
    "|---|------------|--------|----------|----------|----------|-----------|--------------|\n",
    "| 0 | 01/22/2019 | 264.82 | 265.06   | 261.0600 | 262.86   | 115531183 | 0.015217     |\n",
    "| . | ...        | ...    | ...      | ...      | ...      | ...       | ...          |\n",
    "\n",
    "Note that here 0.015217 = (265.06 - 261.0600)/262.85"
   ]
  },
  {
   "cell_type": "code",
   "execution_count": null,
   "metadata": {},
   "outputs": [],
   "source": [
    "xl_data['Volatility'] = (xl_data['High'] - xl_data['Low']) / xl_data['Close']\n",
    "xl_data['Volatility']"
   ]
  },
  {
   "cell_type": "markdown",
   "metadata": {},
   "source": [
    "# Question 6\n",
    "\n",
    "We define that when the volaitlity is higher than 0.03, it is a high volatility trading day. Based on the new dataframe we generated from question 5, find out all of the high volatility trading days."
   ]
  },
  {
   "cell_type": "code",
   "execution_count": null,
   "metadata": {},
   "outputs": [],
   "source": [
    "!pip install pandasql"
   ]
  },
  {
   "cell_type": "code",
   "execution_count": null,
   "metadata": {},
   "outputs": [],
   "source": [
    "import pandasql as ps"
   ]
  },
  {
   "cell_type": "code",
   "execution_count": null,
   "metadata": {},
   "outputs": [],
   "source": [
    "query = '''select Date as High_Vol_Days from xl_data where Volatility > .03'''"
   ]
  },
  {
   "cell_type": "code",
   "execution_count": null,
   "metadata": {},
   "outputs": [],
   "source": [
    "ps.sqldf(query, locals())"
   ]
  }
 ],
 "metadata": {
  "kernelspec": {
   "display_name": "Python 3 (ipykernel)",
   "language": "python",
   "name": "python3"
  },
  "language_info": {
   "codemirror_mode": {
    "name": "ipython",
    "version": 3
   },
   "file_extension": ".py",
   "mimetype": "text/x-python",
   "name": "python",
   "nbconvert_exporter": "python",
   "pygments_lexer": "ipython3",
   "version": "3.11.5"
  }
 },
 "nbformat": 4,
 "nbformat_minor": 4
}
