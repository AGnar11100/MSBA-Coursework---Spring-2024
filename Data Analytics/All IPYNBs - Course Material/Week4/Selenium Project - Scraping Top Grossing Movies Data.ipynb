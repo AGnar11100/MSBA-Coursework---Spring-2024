{
 "cells": [
  {
   "cell_type": "markdown",
   "metadata": {},
   "source": [
    "# Project: Scraping Top Grossing Movies Data\n",
    "\n",
    "Task: Our task is to scrape the top 200 movies with their lifetime collection and release data and save it in a CSV file. The website we will be using is https://www.boxofficemojo.com/chart/top_lifetime_gross/?area=XWW they have a chart of the top 200 highest-grossing movies."
   ]
  },
  {
   "cell_type": "markdown",
   "metadata": {},
   "source": [
    "### Step 1: Importing Libraries and Modules"
   ]
  },
  {
   "cell_type": "code",
   "execution_count": 1,
   "metadata": {},
   "outputs": [],
   "source": [
    "from selenium import webdriver\n",
    "from selenium.webdriver.common.keys import Keys\n",
    "import pandas as pd\n",
    "from selenium.webdriver.common.by import By"
   ]
  },
  {
   "cell_type": "markdown",
   "metadata": {},
   "source": [
    "### Step 2: Accessing Driver & Website"
   ]
  },
  {
   "cell_type": "code",
   "execution_count": 2,
   "metadata": {},
   "outputs": [],
   "source": [
    "driver = webdriver.Chrome()\n",
    "driver.get('https://www.boxofficemojo.com/chart/top_lifetime_gross/?area=XWW')"
   ]
  },
  {
   "cell_type": "markdown",
   "metadata": {},
   "source": [
    "### Step 3: Scraping Movie Names"
   ]
  },
  {
   "cell_type": "code",
   "execution_count": 3,
   "metadata": {},
   "outputs": [
    {
     "name": "stdout",
     "output_type": "stream",
     "text": [
      "['Avatar', 'Avengers: Endgame', 'Avatar: The Way of Water', 'Titanic', 'Star Wars: Episode VII - The Force Awakens', 'Avengers: Infinity War', 'Spider-Man: No Way Home', 'Jurassic World', 'The Lion King', 'Avengers: Age of Ultron', 'Furious 7', 'The Avengers', 'Top Gun: Maverick', 'Frozen II', 'Barbie', 'Frozen', 'The Super Mario Bros. Movie', 'Harry Potter and the Deathly Hallows: Part 2', 'Black Panther', 'Star Wars: Episode VIII - The Last Jedi', 'Jurassic World: Fallen Kingdom', 'Beauty and the Beast', 'Incredibles 2', 'The Fate of the Furious', 'Iron Man 3', 'The Lord of the Rings: The Return of the King', 'Minions', 'Aquaman', 'Captain America: Civil War', 'Skyfall', 'Spider-Man: Far from Home', 'Captain Marvel', 'Transformers: Dark of the Moon', 'Jurassic Park', 'The Dark Knight Rises', 'The Lord of the Rings: The Two Towers', 'Transformers: Age of Extinction', 'Joker', 'Star Wars: Episode IX - The Rise of Skywalker', 'Toy Story 4', 'Toy Story 3', \"Pirates of the Caribbean: Dead Man's Chest\", 'Rogue One: A Star Wars Story', 'Aladdin', \"Harry Potter and the Sorcerer's Stone\", 'Pirates of the Caribbean: On Stranger Tides', 'Despicable Me 3', 'Zootopia', 'The Dark Knight', 'Star Wars: Episode I - The Phantom Menace', 'Finding Dory', 'Alice in Wonderland', 'The Hobbit: An Unexpected Journey', 'Jurassic World Dominion', 'Star Wars: Episode III - Revenge of the Sith', 'Jumanji: Welcome to the Jungle', 'Harry Potter and the Deathly Hallows: Part 1', 'Despicable Me 2', 'The Lion King', 'Finding Nemo', 'The Jungle Book', \"Pirates of the Caribbean: At World's End\", 'The Hobbit: The Battle of the Five Armies', 'The Hobbit: The Desolation of Smaug', 'Doctor Strange in the Multiverse of Madness', 'Oppenheimer', 'The Lord of the Rings: The Fellowship of the Ring', 'Minions: The Rise of Gru', 'Harry Potter and the Order of the Phoenix', 'Harry Potter and the Half-Blood Prince', 'Shrek 2', 'Harry Potter and the Chamber of Secrets', 'Bohemian Rhapsody', 'The Battle at Lake Changjin', 'Harry Potter and the Goblet of Fire', 'Spider-Man 3', 'The Secret Life of Pets', 'Ice Age: Dawn of the Dinosaurs', 'Spectre', 'Spider-Man: Homecoming', 'Ice Age: Continental Drift', 'Batman v Superman: Dawn of Justice', 'Wolf Warrior 2', 'The Hunger Games: Catching Fire', 'Guardians of the Galaxy Vol. 2', 'Mission: Impossible II', 'Black Panther: Wakanda Forever', 'Inside Out', 'Venom', 'Thor: Ragnarok', 'Spider-Man', 'The Twilight Saga: Breaking Dawn - Part 2', 'Guardians of the Galaxy Vol. 3', 'Inception', 'Transformers: Revenge of the Fallen', 'Wonder Woman', 'Hi, Mom', 'Independence Day', 'Fantastic Beasts and Where to Find Them', 'Coco', 'Shrek the Third', 'Harry Potter and the Prisoner of Azkaban', 'Jumanji: The Next Level', 'Pirates of the Caribbean: Dead Men Tell No Tales', '2012', 'E.T. the Extra-Terrestrial', 'Mission: Impossible - Fallout', 'Indiana Jones and the Kingdom of the Crystal Skull', 'Spider-Man 2', 'Fast & Furious 6', 'No Time to Die', 'Deadpool 2', 'Deadpool', 'The Sixth Sense', 'Star Wars: Episode IV - A New Hope', 'Guardians of the Galaxy', 'Gravity', 'The Batman', 'Fast & Furious Presents: Hobbs & Shaw', 'Gladiator', 'Big Hero 6', 'Thor: Love and Thunder', 'The Da Vinci Code', 'Maleficent', 'The Hunger Games: Mockingjay - Part 1', 'The Amazing Spider-Man', 'Shrek Forever After', 'Suicide Squad', 'X-Men: Days of Future Past', \"Madagascar 3: Europe's Most Wanted\", 'Monsters University', 'The Chronicles of Narnia: The Lion, the Witch and the Wardrobe', 'The Matrix Reloaded', 'Up', 'Interstellar', 'F9: The Fast Saga', 'Ne Zha', 'Captain America: The Winter Soldier', 'The Twilight Saga: Breaking Dawn - Part 1', 'The Twilight Saga: New Moon', 'Dawn of the Planet of the Apes', 'Transformers', 'The Amazing Spider-Man 2', 'Star Wars: Episode II - Attack of the Clones', 'Fast X', 'It', 'The Wandering Earth', 'The Twilight Saga: Eclipse', 'The Hunger Games', 'Mission: Impossible - Ghost Protocol', 'Mamma Mia!', 'Spider-Man: Across the Spider-Verse', 'Moana', 'Detective Chinatown 3', 'The Passion of the Christ', 'Mission: Impossible - Rogue Nation', 'Forrest Gump', 'Doctor Strange', 'Man of Steel', 'War of the Worlds', 'Ice Age: The Meltdown', 'Kung Fu Panda 2', 'The Hunger Games: Mockingjay - Part 2', 'Justice League', 'Fantastic Beasts: The Crimes of Grindelwald', 'Pirates of the Caribbean: The Curse of the Black Pearl', 'Men in Black 3', 'Thor: The Dark World', 'The Incredibles', 'Sing', 'Kung Fu Panda', 'The Martian', 'Hancock', 'Water Gate Bridge', 'Fast Five', 'Iron Man 2', 'Ratatouille', 'Ant-Man and the Wasp', 'Logan', 'How to Train Your Dragon 2', 'The Lost World: Jurassic Park', 'Spirited Away', 'Casino Royale', 'Life of Pi', 'The Day After Tomorrow', 'Ready Player One', 'Monsters, Inc.', 'Transformers: The Last Knight', 'Madagascar: Escape 2 Africa', 'Tangled', 'Quantum of Solace', 'Men in Black', 'The Croods', 'The Hangover Part II', 'Iron Man', 'Twilight', 'I Am Legend', 'Operation Red Sea', 'Night at the Museum', 'Fifty Shades of Grey']\n"
     ]
    },
    {
     "data": {
      "text/plain": [
       "' It will print all the movie names inside a list '"
      ]
     },
     "execution_count": 3,
     "metadata": {},
     "output_type": "execute_result"
    }
   ],
   "source": [
    "# <a class=\"a-link-normal\" href=\"/title/tt0499549/?ref_=bo_cso_table_1\">Avatar</a>\n",
    "movies_names = driver.find_elements(By.XPATH,'//td[@class=\"a-text-left mojo-field-type-title\"]/a[@class=\"a-link-normal\"]')\n",
    "movie_name_list = []\n",
    "for movie in range(len(movies_names)):\n",
    "    movie_name_list.append(movies_names[movie].text)\n",
    "print(movie_name_list)\n",
    "''' It will print all the movie names inside a list '''"
   ]
  },
  {
   "cell_type": "markdown",
   "metadata": {},
   "source": [
    "### Step 4: Scraping Movie Release Dates."
   ]
  },
  {
   "cell_type": "code",
   "execution_count": 4,
   "metadata": {},
   "outputs": [
    {
     "name": "stdout",
     "output_type": "stream",
     "text": [
      "['2009', '2019', '2022', '1997', '2015', '2018', '2021', '2015', '2019', '2015', '2015', '2012', '2022', '2019', '2023', '2013', '2023', '2011', '2018', '2017', '2018', '2017', '2018', '2017', '2013', '2003', '2015', '2018', '2016', '2012', '2019', '2019', '2011', '1993', '2012', '2002', '2014', '2019', '2019', '2019', '2010', '2006', '2016', '2019', '2001', '2011', '2017', '2016', '2008', '1999', '2016', '2010', '2012', '2022', '2005', '2017', '2010', '2013', '1994', '2003', '2016', '2007', '2014', '2013', '2022', '2023', '2001', '2022', '2007', '2009', '2004', '2002', '2018', '2021', '2005', '2007', '2016', '2009', '2015', '2017', '2012', '2016', '2017', '2013', '2017', '2000', '2022', '2015', '2018', '2017', '2002', '2012', '2023', '2010', '2009', '2017', '2021', '1996', '2016', '2017', '2007', '2004', '2019', '2017', '2009', '1982', '2018', '2008', '2004', '2013', '2021', '2018', '2016', '1999', '1977', '2014', '2013', '2022', '2019', '2000', '2014', '2022', '2006', '2014', '2014', '2012', '2010', '2016', '2014', '2012', '2013', '2005', '2003', '2009', '2014', '2021', '2019', '2014', '2011', '2009', '2014', '2007', '2014', '2002', '2023', '2017', '2019', '2010', '2012', '2011', '2008', '2023', '2016', '2021', '2004', '2015', '1994', '2016', '2013', '2005', '2006', '2011', '2015', '2017', '2018', '2003', '2012', '2013', '2004', '2016', '2008', '2015', '2008', '2022', '2011', '2010', '2007', '2018', '2017', '2014', '1997', '2001', '2006', '2012', '2004', '2018', '2001', '2017', '2008', '2010', '2008', '1997', '2013', '2011', '2008', '2008', '2007', '2018', '2006', '2015']\n"
     ]
    },
    {
     "data": {
      "text/plain": [
       "' It will print all the movies release dates inside a list '"
      ]
     },
     "execution_count": 4,
     "metadata": {},
     "output_type": "execute_result"
    }
   ],
   "source": [
    "release_year = driver.find_elements(By.XPATH,'//td[@class=\"a-text-left mojo-field-type-year\"]/a[@class=\"a-link-normal\"]')\n",
    "release_year_list = []\n",
    "for year in range(len(release_year)):\n",
    "    release_year_list.append(release_year[year].text)\n",
    "print(release_year_list)\n",
    "''' It will print all the movies release dates inside a list '''"
   ]
  },
  {
   "cell_type": "markdown",
   "metadata": {},
   "source": [
    "### Step 5: Scraping Movie Crossings."
   ]
  },
  {
   "cell_type": "code",
   "execution_count": 5,
   "metadata": {},
   "outputs": [
    {
     "name": "stdout",
     "output_type": "stream",
     "text": [
      "['$2,923,706,026', '$2,799,439,100', '$2,320,250,281', '$2,264,750,694', '$2,071,310,218', '$2,052,415,039', '$1,921,847,111', '$1,671,537,444', '$1,663,079,059', '$1,542,317,294', '$1,527,251,659', '$1,520,538,536', '$1,495,696,292', '$1,453,683,476', '$1,445,638,421', '$1,397,045,694', '$1,361,952,674', '$1,356,961,410', '$1,349,926,083', '$1,334,407,706', '$1,310,469,037', '$1,266,115,964', '$1,243,225,667', '$1,236,009,236', '$1,215,577,205', '$1,183,481,430', '$1,161,000,230', '$1,157,347,433', '$1,155,046,416', '$1,142,504,419', '$1,131,927,996', '$1,131,416,446', '$1,123,794,079', '$1,114,456,337', '$1,114,125,189', '$1,107,943,412', '$1,104,054,072', '$1,078,958,629', '$1,077,022,372', '$1,073,841,394', '$1,067,316,101', '$1,066,179,747', '$1,058,684,742', '$1,054,304,000', '$1,049,966,517', '$1,046,721,266', '$1,034,800,131', '$1,029,526,569', '$1,029,315,930', '$1,029,275,933', '$1,029,266,989', '$1,025,468,216', '$1,019,136,646', '$1,009,490,506', '$1,007,590,096', '$995,340,026', '$986,716,332', '$970,766,005', '$969,979,313', '$968,244,303', '$967,724,775', '$963,420,425', '$962,253,946', '$959,079,095', '$956,566,345', '$956,203,295', '$943,783,268', '$942,682,470', '$941,304,876', '$934,866,219', '$928,963,672', '$926,264,243', '$918,355,943', '$902,548,476', '$899,182,536', '$894,983,373', '$894,567,999', '$887,941,839', '$880,707,597', '$880,167,151', '$877,244,782', '$874,362,803', '$870,325,439', '$865,011,746', '$863,756,903', '$860,989,917', '$859,208,836', '$858,852,998', '$856,090,650', '$855,301,806', '$854,975,789', '$848,593,948', '$845,555,777', '$839,891,506', '$836,303,693', '$823,970,682', '$822,009,764', '$817,400,891', '$816,037,575', '$814,337,054', '$813,367,380', '$807,128,997', '$801,693,929', '$795,922,298', '$793,539,832', '$792,910,554', '$791,658,205', '$790,653,942', '$788,976,453', '$788,686,065', '$785,968,497', '$785,896,632', '$782,837,347', '$779,213,346', '$775,398,007', '$773,350,376', '$773,031,617', '$772,245,583', '$770,345,636', '$766,052,632', '$765,113,264', '$761,488,561', '$760,006,945', '$759,859,939', '$759,159,711', '$757,930,854', '$754,371,909', '$749,200,054', '$748,008,807', '$746,921,274', '$746,874,091', '$745,013,115', '$744,483,161', '$736,208,143', '$731,079,637', '$726,662,032', '$726,264,074', '$714,421,503', '$712,205,856', '$711,048,123', '$710,689,034', '$709,709,780', '$709,039,799', '$708,922,804', '$706,454,547', '$704,242,888', '$699,992,512', '$698,513,085', '$695,220,619', '$694,713,380', '$694,665,577', '$690,897,910', '$687,229,282', '$686,257,563', '$685,266,757', '$682,721,289', '$678,226,465', '$677,796,833', '$670,145,518', '$669,654,970', '$667,094,506', '$665,692,281', '$661,456,867', '$661,326,987', '$655,755,901', '$655,172,446', '$654,213,485', '$644,783,140', '$641,269,748', '$634,338,409', '$632,083,197', '$631,058,917', '$629,443,428', '$626,571,697', '$626,140,012', '$623,933,331', '$623,728,318', '$622,674,139', '$622,193,415', '$621,537,519', '$618,638,999', '$616,892,198', '$616,505,162', '$609,749,660', '$608,375,873', '$607,874,422', '$606,216,310', '$605,425,157', '$603,900,354', '$592,472,813', '$589,593,476', '$589,390,539', '$587,266,745', '$586,764,305', '$585,796,247', '$585,623,606', '$585,410,052', '$579,330,426', '$574,482,479', '$570,983,010']\n"
     ]
    },
    {
     "data": {
      "text/plain": [
       "' It will print all the movies Grossings inside a list '"
      ]
     },
     "execution_count": 5,
     "metadata": {},
     "output_type": "execute_result"
    }
   ],
   "source": [
    "lifetime_gross = driver.find_elements(By.XPATH,'//td[@class=\"a-text-right mojo-field-type-money\"]')\n",
    "lifetime_gross_list = []\n",
    "for i in range(len(lifetime_gross)):\n",
    "    lifetime_gross_list.append(lifetime_gross[i].text)\n",
    "print(lifetime_gross_list)\n",
    "''' It will print all the movies Grossings inside a list '''"
   ]
  },
  {
   "cell_type": "markdown",
   "metadata": {},
   "source": [
    "### Step 6: Storing Data In a CSV"
   ]
  },
  {
   "cell_type": "code",
   "execution_count": 6,
   "metadata": {},
   "outputs": [],
   "source": [
    "data =list( zip(movie_name_list, release_year_list, lifetime_gross_list))\n",
    "df = pd.DataFrame(data,columns=['Movie Name', 'Release Date','Lifetime Earnings'])\n",
    "df.to_csv('top_200_movies_with_lifetime_gross.csv',index=False)"
   ]
  },
  {
   "cell_type": "code",
   "execution_count": null,
   "metadata": {},
   "outputs": [],
   "source": []
  }
 ],
 "metadata": {
  "kernelspec": {
   "display_name": "Python 3 (ipykernel)",
   "language": "python",
   "name": "python3"
  },
  "language_info": {
   "codemirror_mode": {
    "name": "ipython",
    "version": 3
   },
   "file_extension": ".py",
   "mimetype": "text/x-python",
   "name": "python",
   "nbconvert_exporter": "python",
   "pygments_lexer": "ipython3",
   "version": "3.10.9"
  }
 },
 "nbformat": 4,
 "nbformat_minor": 4
}
