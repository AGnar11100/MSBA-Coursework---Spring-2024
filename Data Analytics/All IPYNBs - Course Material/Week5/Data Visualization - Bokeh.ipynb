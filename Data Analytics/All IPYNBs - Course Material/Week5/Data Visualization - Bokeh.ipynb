{
 "cells": [
  {
   "cell_type": "markdown",
   "metadata": {},
   "source": [
    "# Data Visualization - Bokeh\n",
    "\n",
    "Bokeh is mainly famous for its interactive charts visualization. Bokeh renders its plots using HTML and JavaScript that uses modern web browsers for presenting elegant, concise construction of novel graphics with high-level interactivity. \n",
    "\n",
    "To install this type the below command in the terminal."
   ]
  },
  {
   "cell_type": "code",
   "execution_count": 1,
   "metadata": {},
   "outputs": [],
   "source": [
    "#pip install bokeh"
   ]
  },
  {
   "cell_type": "markdown",
   "metadata": {},
   "source": [
    "## Scatter Plot\n",
    "\n",
    "Scatter Plot in Bokeh can be plotted using the scatter() method of the plotting module. Here pass the x and y coordinates respectively."
   ]
  },
  {
   "cell_type": "code",
   "execution_count": 2,
   "metadata": {},
   "outputs": [
    {
     "name": "stderr",
     "output_type": "stream",
     "text": [
      "BokehUserWarning: ColumnDataSource's columns must be of the same length. Current lengths: ('line_color', 256), ('x', 244), ('y', 244)\n",
      "BokehUserWarning: ColumnDataSource's columns must be of the same length. Current lengths: ('fill_color', 256), ('line_color', 256), ('x', 244), ('y', 244)\n",
      "BokehUserWarning: ColumnDataSource's columns must be of the same length. Current lengths: ('fill_color', 256), ('hatch_color', 256), ('line_color', 256), ('x', 244), ('y', 244)\n"
     ]
    }
   ],
   "source": [
    "# importing the modules\n",
    "from bokeh.plotting import figure, output_file, show\n",
    "from bokeh.palettes import magma\n",
    "import pandas as pd\n",
    "  \n",
    "  \n",
    "# instantiating the figure object\n",
    "graph = figure(title = \"Bokeh Scatter Graph\")\n",
    "  \n",
    "# reading the database\n",
    "data = pd.read_csv(\"tips.csv\")\n",
    "  \n",
    "color = magma(256)\n",
    "  \n",
    "# plotting the graph\n",
    "graph.scatter(data['total_bill'], data['tip'], color=color)\n",
    "  \n",
    "# displaying the model\n",
    "show(graph)"
   ]
  },
  {
   "cell_type": "markdown",
   "metadata": {},
   "source": [
    "## Line Chart\n",
    "\n",
    "A line plot can be created using the line() method of the plotting module."
   ]
  },
  {
   "cell_type": "code",
   "execution_count": 3,
   "metadata": {},
   "outputs": [
    {
     "name": "stderr",
     "output_type": "stream",
     "text": [
      "BokehUserWarning: ColumnDataSource's columns must be of the same length. Current lengths: ('x', 123), ('y', 244)\n"
     ]
    }
   ],
   "source": [
    "# importing the modules\n",
    "from bokeh.plotting import figure, output_file, show\n",
    "import pandas as pd\n",
    "  \n",
    "  \n",
    "# instantiating the figure object\n",
    "graph = figure(title = \"Bokeh Bar Chart\")\n",
    "  \n",
    "# reading the database\n",
    "data = pd.read_csv(\"tips.csv\")\n",
    "  \n",
    "# Count of each unique value of\n",
    "# tip column\n",
    "df = data['tip'].value_counts()\n",
    "  \n",
    "# plotting the graph\n",
    "graph.line(df, data['tip'])\n",
    "  \n",
    "# displaying the model\n",
    "show(graph)"
   ]
  },
  {
   "cell_type": "markdown",
   "metadata": {},
   "source": [
    "## Bar Chart\n",
    "\n",
    "Bar Chart can be of two types horizontal bars and vertical bars. Each can be created using the hbar() and vbar() functions of the plotting interface respectively."
   ]
  },
  {
   "cell_type": "code",
   "execution_count": 4,
   "metadata": {},
   "outputs": [],
   "source": [
    "# importing the modules\n",
    "from bokeh.plotting import figure, output_file, show\n",
    "import pandas as pd\n",
    "  \n",
    "  \n",
    "# instantiating the figure object\n",
    "graph = figure(title = \"Bokeh Bar Chart\")\n",
    "  \n",
    "# reading the database\n",
    "data = pd.read_csv(\"tips.csv\")\n",
    "  \n",
    "# plotting the graph\n",
    "graph.vbar(data['total_bill'][:30], top=data['tip'][30])\n",
    "  \n",
    "# displaying the model\n",
    "show(graph)"
   ]
  },
  {
   "cell_type": "markdown",
   "metadata": {},
   "source": [
    "## Interactive Data Visualization\n",
    "\n",
    "One of the key features of Bokeh is to add interaction to the plots. Let’s see various interactions that can be added.\n",
    "\n",
    "Interactive Legends\n",
    "**click_policy** property makes the legend interactive. There are two types of interactivity –\n",
    "\n",
    "- **Hiding:** Hides the Glyphs.\n",
    "- **Muting:** Hiding the glyph makes it vanish completely, on the other hand, muting the glyph just de-emphasizes the glyph based on the parameters."
   ]
  },
  {
   "cell_type": "code",
   "execution_count": 5,
   "metadata": {},
   "outputs": [],
   "source": [
    "from bokeh.plotting import figure, output_file, show\n",
    "import pandas as pd\n",
    "  \n",
    "  \n",
    "# instantiating the figure object\n",
    "graph = figure(title = \"Bokeh Bar Chart\")\n",
    "  \n",
    "# reading the database\n",
    "data = pd.read_csv(\"tips.csv\")\n",
    "  \n",
    "# plotting the graph\n",
    "graph.vbar(data['total_bill'], top=data['tip'], \n",
    "           legend_label = \"Bill VS Tips\", color='green')\n",
    "  \n",
    "graph.vbar(data['tip'], top=data['size'], \n",
    "           legend_label = \"Tips VS Size\", color='red')\n",
    "  \n",
    "graph.legend.click_policy = \"hide\"\n",
    "  \n",
    "# displaying the model\n",
    "show(graph)"
   ]
  },
  {
   "cell_type": "code",
   "execution_count": null,
   "metadata": {},
   "outputs": [],
   "source": []
  },
  {
   "cell_type": "code",
   "execution_count": null,
   "metadata": {},
   "outputs": [],
   "source": []
  }
 ],
 "metadata": {
  "kernelspec": {
   "display_name": "Python 3 (ipykernel)",
   "language": "python",
   "name": "python3"
  },
  "language_info": {
   "codemirror_mode": {
    "name": "ipython",
    "version": 3
   },
   "file_extension": ".py",
   "mimetype": "text/x-python",
   "name": "python",
   "nbconvert_exporter": "python",
   "pygments_lexer": "ipython3",
   "version": "3.11.5"
  }
 },
 "nbformat": 4,
 "nbformat_minor": 4
}
