{
 "cells": [
  {
   "cell_type": "code",
   "execution_count": null,
   "metadata": {},
   "outputs": [],
   "source": [
    "import pandas as pd\n",
    "import numpy as np"
   ]
  },
  {
   "cell_type": "code",
   "execution_count": null,
   "metadata": {},
   "outputs": [],
   "source": [
    "import warnings\n",
    "warnings.simplefilter(\"ignore\")"
   ]
  },
  {
   "cell_type": "markdown",
   "metadata": {},
   "source": [
    "# Reading and Editing Tabular Data\n",
    "\n",
    "## 1. csv files\n"
   ]
  },
  {
   "cell_type": "code",
   "execution_count": null,
   "metadata": {},
   "outputs": [],
   "source": [
    "!cat test.csv\n",
    "# If windows user, tryp '!type'. "
   ]
  },
  {
   "cell_type": "code",
   "execution_count": null,
   "metadata": {},
   "outputs": [],
   "source": [
    "df=pd.read_csv('test.csv')\n",
    "df"
   ]
  },
  {
   "cell_type": "code",
   "execution_count": null,
   "metadata": {},
   "outputs": [],
   "source": [
    "df1=pd.read_table('test.csv',sep='|')\n",
    "df1\n",
    "\n",
    "# Question: Why the delimiter '|' doesn't work? What is the correct delimiter?"
   ]
  },
  {
   "cell_type": "markdown",
   "metadata": {},
   "source": [
    "When there is no header row..."
   ]
  },
  {
   "cell_type": "code",
   "execution_count": null,
   "metadata": {},
   "outputs": [],
   "source": [
    "df2=pd.read_csv('test.csv',names=['col1','col2','col3','col4','col5'])\n",
    "df2"
   ]
  },
  {
   "cell_type": "markdown",
   "metadata": {},
   "source": [
    "## 2. URLs\n",
    "\n",
    "Given the url:\n",
    "'https://raw.githubusercontent.com/justmarkham/DAT8/master/data/chipotle.tsv, we find that each data value is seperated by tab. So we use sep attribute '\\t'. "
   ]
  },
  {
   "cell_type": "code",
   "execution_count": null,
   "metadata": {},
   "outputs": [],
   "source": [
    "url='https://raw.githubusercontent.com/justmarkham/DAT8/master/data/chipotle.tsv'\n",
    "chipo=pd.read_csv(url,sep='\\t')\n",
    "#chipo=pd.read_table(url,sep='\\t')\n",
    "chipo.head()\n"
   ]
  },
  {
   "cell_type": "markdown",
   "metadata": {},
   "source": [
    "### <font color='red'>**Exercise:**</font>\n",
    "\n",
    "How many rows or how many entries in this data set?"
   ]
  },
  {
   "cell_type": "code",
   "execution_count": null,
   "metadata": {},
   "outputs": [],
   "source": [
    "#Solution 1 \n",
    "#shape[0], means the shape of the rows\n",
    "#shape[1] means the shape of the columns\n",
    "chipo.shape[0]"
   ]
  },
  {
   "cell_type": "code",
   "execution_count": null,
   "metadata": {},
   "outputs": [],
   "source": [
    "#Solution 2\n",
    "len(chipo.index)"
   ]
  },
  {
   "cell_type": "markdown",
   "metadata": {},
   "source": [
    "### <font color='red'>**Exercise:**</font>\n",
    "\n",
    "How many columns in this DataFrame?"
   ]
  },
  {
   "cell_type": "code",
   "execution_count": null,
   "metadata": {},
   "outputs": [],
   "source": [
    "chipo.shape[1]"
   ]
  },
  {
   "cell_type": "code",
   "execution_count": null,
   "metadata": {},
   "outputs": [],
   "source": [
    "chipo.columns #show all the column names"
   ]
  },
  {
   "cell_type": "markdown",
   "metadata": {},
   "source": [
    "### <font color='red'>**Exercise:**</font>\n",
    "\n",
    "What is the most ordered item?\n",
    "\n",
    "Only show the order with the highest order quantity in the entire data set. "
   ]
  },
  {
   "cell_type": "code",
   "execution_count": null,
   "metadata": {},
   "outputs": [],
   "source": [
    "c=chipo.sort_values(by='quantity',ascending=False)\n",
    "c.head(1)#without specifying number of head rows, it will show 5 by default. "
   ]
  },
  {
   "cell_type": "markdown",
   "metadata": {},
   "source": [
    "## 3. Reading text files in pieces"
   ]
  },
  {
   "cell_type": "code",
   "execution_count": null,
   "metadata": {},
   "outputs": [],
   "source": [
    "import pandas as pd\n",
    "short=pd.read_csv(url,sep='\\t',nrows=20)\n",
    "short"
   ]
  },
  {
   "cell_type": "code",
   "execution_count": null,
   "metadata": {},
   "outputs": [],
   "source": [
    "short[['item_name','quantity']]"
   ]
  },
  {
   "cell_type": "markdown",
   "metadata": {},
   "source": [
    "### <font color='red'>**Exercise:**</font>\n",
    "\n",
    "Count the number of missing values. How many values are missing for each of the variable (column)?"
   ]
  },
  {
   "cell_type": "code",
   "execution_count": null,
   "metadata": {},
   "outputs": [],
   "source": [
    "short.isnull().sum()"
   ]
  },
  {
   "cell_type": "markdown",
   "metadata": {},
   "source": [
    "### <font color='red'>**Exercise:**</font>\n",
    "\n",
    "Fill the value of NaN with string value '[Fresh Tomato Salsa]'."
   ]
  },
  {
   "cell_type": "code",
   "execution_count": null,
   "metadata": {},
   "outputs": [],
   "source": [
    "short.choice_description.fillna('[Fresh Tomato Salsa]',inplace=True)\n",
    "short"
   ]
  },
  {
   "cell_type": "markdown",
   "metadata": {},
   "source": [
    "## 4. Excel files"
   ]
  },
  {
   "cell_type": "code",
   "execution_count": null,
   "metadata": {},
   "outputs": [],
   "source": [
    "result=pd.read_excel('test2.xlsx','Lecture')# Sheet name matches exactly the sheet that we want to open. \n",
    "result"
   ]
  },
  {
   "cell_type": "code",
   "execution_count": null,
   "metadata": {},
   "outputs": [],
   "source": [
    "new=result.sort_index(axis=1,ascending=False)\n",
    "new"
   ]
  },
  {
   "cell_type": "code",
   "execution_count": null,
   "metadata": {},
   "outputs": [],
   "source": [
    "x=pd.ExcelFile('test2.xlsx')\n",
    "result=pd.read_excel(x,'Lecture')\n",
    "result"
   ]
  },
  {
   "cell_type": "markdown",
   "metadata": {},
   "source": [
    "### Create a new excel and write onto it\n",
    "\n",
    "To write in a Excel file, you need firstly create an ExcelWriter, then write data to it using pandas objects' *to_excel* method. "
   ]
  },
  {
   "cell_type": "code",
   "execution_count": null,
   "metadata": {},
   "outputs": [],
   "source": [
    "writer=pd.ExcelWriter('test4.xlsx') # Create an excel called 'test4.xlsx'\n",
    "result.to_excel(writer,'XYZ')\n",
    "writer.save() # This command is important: without it nothing is written and saved. "
   ]
  },
  {
   "cell_type": "code",
   "execution_count": null,
   "metadata": {},
   "outputs": [],
   "source": [
    "new=pd.read_excel('test4.xlsx','XYZ')\n",
    "new"
   ]
  },
  {
   "cell_type": "markdown",
   "metadata": {},
   "source": [
    "## Writing Data to Text Format\n",
    "\n",
    "Using DataFrame's *to_csv* method, you can write a DataFrame to a comma-separated csv file. "
   ]
  },
  {
   "cell_type": "code",
   "execution_count": null,
   "metadata": {
    "scrolled": false
   },
   "outputs": [],
   "source": [
    "data=pd.read_csv('test.csv')\n",
    "data"
   ]
  },
  {
   "cell_type": "markdown",
   "metadata": {},
   "source": [
    "### <font color='red'>**Exercise:**</font>\n",
    "\n",
    "Can you please add a new column called 'something', with two values ['one','two']?"
   ]
  },
  {
   "cell_type": "code",
   "execution_count": null,
   "metadata": {
    "scrolled": true
   },
   "outputs": [],
   "source": [
    "data['something']=['one','two']\n",
    "data"
   ]
  },
  {
   "cell_type": "markdown",
   "metadata": {},
   "source": [
    "### <font color='red'>**Exercise:**</font>\n",
    "\n",
    "How do we reorder the sequence of column so that 'something' is the first column? You might need to create a new dataframe from the previous. "
   ]
  },
  {
   "cell_type": "code",
   "execution_count": null,
   "metadata": {},
   "outputs": [],
   "source": [
    "# Solution 1\n",
    "data=data.reindex(columns=['something','a','b','c','d','message'])\n",
    "data"
   ]
  },
  {
   "cell_type": "code",
   "execution_count": null,
   "metadata": {},
   "outputs": [],
   "source": [
    "# Solution 2\n",
    "data1=pd.DataFrame(data,columns=['something','a','b','c','d','message'])\n",
    "data1"
   ]
  },
  {
   "cell_type": "code",
   "execution_count": null,
   "metadata": {},
   "outputs": [],
   "source": [
    "# Write this dataframe to a csv file called 'test_out.csv' and display the content. \n",
    "data1.to_csv('test_out.csv')\n",
    "!cat test_out.csv"
   ]
  },
  {
   "cell_type": "markdown",
   "metadata": {},
   "source": [
    "If you want to use other dlimiters, not just comma, use *sep=''*. Note, csv file can use other delimiter. You just need to specify it. "
   ]
  },
  {
   "cell_type": "code",
   "execution_count": null,
   "metadata": {},
   "outputs": [],
   "source": [
    "data1.to_csv('test_out.csv',sep='|')\n",
    "!cat test_out.csv"
   ]
  },
  {
   "cell_type": "markdown",
   "metadata": {},
   "source": [
    "You may write only a subset of the columns and in an order of your choice."
   ]
  },
  {
   "cell_type": "code",
   "execution_count": null,
   "metadata": {
    "scrolled": true
   },
   "outputs": [],
   "source": [
    "# index=False, means the original index [0,1] no longer recorded.\n",
    "data1.to_csv('test_out.csv',index=False,columns=['a','b','c'])\n",
    "!cat test_out.csv"
   ]
  },
  {
   "cell_type": "markdown",
   "metadata": {},
   "source": [
    "You may choose not to show the index and columns. "
   ]
  },
  {
   "cell_type": "code",
   "execution_count": null,
   "metadata": {
    "scrolled": true
   },
   "outputs": [],
   "source": [
    "data1.to_csv('test_out.csv',index=False,header=False) \n",
    "#note that you can't write columns=False, which means no column will be showing.\n",
    "!cat test_out.csv"
   ]
  },
  {
   "cell_type": "code",
   "execution_count": null,
   "metadata": {},
   "outputs": [],
   "source": [
    "new=pd.read_csv('test_out.csv')\n",
    "new"
   ]
  },
  {
   "cell_type": "markdown",
   "metadata": {},
   "source": [
    "### <font color='red'>**Exercise:**</font>\n",
    "\n",
    "Please create a dataframe with random standard normal distribution, the index is [1,2,3,4], and column is ['A','B','C']. \n",
    "\n",
    "Sort the dataframe based on the column of ['B'], descending order.\n",
    "\n",
    "Then write this dataframe to an excel with the name that you want to give. "
   ]
  },
  {
   "cell_type": "code",
   "execution_count": null,
   "metadata": {},
   "outputs": [],
   "source": [
    "df=pd.DataFrame(np.random.randn(4,3), index=[1,2,3,4],columns=['A','B','C'])\n",
    "df1=df.sort_values(by=\"B\", ascending=False)\n",
    "writer=pd.ExcelWriter('latenight.xlsx')\n",
    "df1.to_excel(writer,'XYZ')\n",
    "writer.save()\n",
    "\n",
    "result=pd.read_excel('latenight.xlsx','XYZ')\n",
    "result"
   ]
  }
 ],
 "metadata": {
  "kernelspec": {
   "display_name": "Python 3 (ipykernel)",
   "language": "python",
   "name": "python3"
  },
  "language_info": {
   "codemirror_mode": {
    "name": "ipython",
    "version": 3
   },
   "file_extension": ".py",
   "mimetype": "text/x-python",
   "name": "python",
   "nbconvert_exporter": "python",
   "pygments_lexer": "ipython3",
   "version": "3.11.5"
  }
 },
 "nbformat": 4,
 "nbformat_minor": 2
}
