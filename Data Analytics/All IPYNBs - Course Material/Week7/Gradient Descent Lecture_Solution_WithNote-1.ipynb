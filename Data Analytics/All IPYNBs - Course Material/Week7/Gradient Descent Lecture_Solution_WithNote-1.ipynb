{
 "cells": [
  {
   "cell_type": "markdown",
   "metadata": {},
   "source": [
    "# Gradient Descent on Simple Linear Regression\n",
    "\n",
    "The following example was modifed based on online source, author id: aw7633"
   ]
  },
  {
   "cell_type": "markdown",
   "metadata": {},
   "source": [
    "## Part 1\n",
    "\n",
    "x = [30., 40., 40., 50., 60., 70., 70., 70., 80., 90.] List of advertising investment in $1000\n",
    "\n",
    "y = [184.4, 279.1, 244.0, 314.2, 382.2, 450.2, 423.6, 410.2, 500.4, 505.3] List of corresponding sales in $1000\n",
    "\n",
    "The purpose is to identify relationship (hopefully accurate and reliable) between x and y, so that we can project future sales rather accurately based on the projected advertising investment.\n",
    "\n",
    "Let's take a look at the scatter plot first.\n",
    "The relationship between x and y seems to be linear. Or at least good enough.\n",
    "A linear relationship between x and y can be written as a linear function: y = a + bx.\n",
    "Typically, x is called independent variable, input variable, or feature; \n",
    "and y is called dependent variable, or output variable.\n",
    "\n",
    "To follow the convention, we rewrite the regression function as follows:\n",
    "h(x) = t0 + t1* x (t0 regresents $\\theta_0$, and so on). \n",
    "\n",
    "In CS, this function is called a hypothesis. \n",
    "However, there are infinitely many choices of t0 and t1 (infiniately many hypothesis).\n",
    "\n",
    "We draw a scatter plot and visually observed that linear relationship might be a good fit. "
   ]
  },
  {
   "cell_type": "code",
   "execution_count": 2,
   "metadata": {},
   "outputs": [
    {
     "data": {
      "image/png": "[encoded data removed]",
      "text/plain": [
       "<Figure size 432x288 with 1 Axes>"
      ]
     },
     "metadata": {
      "needs_background": "light"
     },
     "output_type": "display_data"
    }
   ],
   "source": [
    "import matplotlib.pyplot as plt\n",
    "\n",
    "x = [30., 40., 40., 50., 60., 70., 70., 70., 80., 90.]\n",
    "y = [184.4, 279.1, 244.0, 314.2, 382.2, 450.2, 423.6, 410.2, 500.4, 505.3]\n",
    "\n",
    "plt.scatter(x, y) # Plot scatter to observe qualitative relationships between x and y.\n",
    "plt.show()"
   ]
  },
  {
   "cell_type": "markdown",
   "metadata": {},
   "source": [
    "## Part 2\n",
    "\n",
    "Most likely, you want a linear function or line that fits the existing data \n",
    "(called sample in Statistics and training set in CS) the best. That way, we will\n",
    "feel much more comfortable making projections or predictions.\n",
    "\n",
    "However, we have to measure/quantify/define \"the fit\" and \"the best fit\" in the first place.\n",
    "\n",
    "How would you define the fit? \n",
    "\n",
    "We define fit by using the cost function (\"average\" squared errors). \n",
    "\n",
    "In python, Please define a function that takes the list of x values, the list of y values, and list of t = [t0, t1] as input and that the value of cost function as output. **Notice: don't run it since this is an incomplete code.**"
   ]
  },
  {
   "cell_type": "code",
   "execution_count": 3,
   "metadata": {},
   "outputs": [],
   "source": [
    "def cost(x, y, t): # This only works for the case with one feature or input variable (simply speaking, one x)\n",
    "    m = len(y)\n",
    "    SSE = 0\n",
    "    for i in range(m):\n",
    "        SSE += (t[0] + t[1]*x[i] - y[i])**2\n",
    "    return SSE/(2*m)"
   ]
  },
  {
   "cell_type": "markdown",
   "metadata": {},
   "source": [
    "# Part 3\n",
    "\n",
    "Now that we have defined the cost function which serves as the criterion for us to look for the best choice of t0 and t1. Our goal is to find the optimal value (minimum) of this cost function by updating t0 and t1 repeatly. \n",
    "\n",
    "Next, we need to actually find the optimal values for t0 and t1.\n",
    "Of course, the classic Statistics has shown us a neat formula for computing optimal t0 and t1 (Least Square method). \n",
    "\n",
    "Here, we introduce a different approach,a computational approach to find optimal t.\n",
    "This approach is called (batch) gradient descent algorithm. It might not be as elegant as the statistical approach. But it is much more practical and power in practice.\n",
    "\n",
    "\n",
    "Here is how the gradient descent algorithm works.\n",
    "\n",
    "Step 1: we pick any starting point for t. Typically, t = [0, 0] \n",
    "particularly if x and y are normalized. More on normalization in the next example.\n",
    "\n",
    "Step 2: calculate the value of the cost function based on the chosen t.\n",
    "\n",
    "Step 3: make a small adjustment to t by moving a samll step towards gradient direction.\n",
    "The length of small step is denoted by alpha, officially called learning rate. This give you a t value at current iteration. \n",
    "\n",
    "Step 4: once you update t to the current iteration, plug into the cost function. Compare the cost function value at current iteration with the cost function value at previous iteration of t. (Idealy the cost function will decrease at each iteration)\n",
    "\n",
    "Step 5: Repeat Step 3 and Step 4 until you find the difference of cost function values is small enough. \n",
    "\n",
    "The formula for calculate gradient descent is provided in Microsoft Word document.\n",
    "\n",
    "Define a functin named gradient(x, y, a, t). This function takes in four parameters:\n",
    "   1. list of x values\n",
    "   2. list of y values\n",
    "   3. learning rate alpha denoted by a\n",
    "   4. and list t, note t=[t0,t1]\n",
    "\n",
    "This function returns the list of updated t with gradient descent.\n",
    "**Notice: don't run it since this is an incomplete code.**"
   ]
  },
  {
   "cell_type": "code",
   "execution_count": 4,
   "metadata": {},
   "outputs": [],
   "source": [
    "def gradient(x, y, a, t): # return the updated values for t=[t0, t1]\n",
    "    m = len(y)\n",
    "    RSE = 0\n",
    "    SUM_ex = 0\n",
    "    for i in range(m):\n",
    "        e = t[0] + t[1]*x[i] - y[i]\n",
    "        RSE += e\n",
    "        SUM_ex += e*x[i]\n",
    "    t[0] = t[0] - a/m*RSE\n",
    "    t[1] = t[1] - a/m*SUM_ex\n",
    "    return t"
   ]
  },
  {
   "cell_type": "markdown",
   "metadata": {},
   "source": [
    "## Part 4\n",
    "\n",
    "The choice of alpha and starting theta values can be tricky. More often than not, \n",
    "the choice may not lead to convergence.\n",
    "\n",
    "Question: what is convergence? \n",
    "value of cost function at current iteration = value of cost function at last iteration\n",
    "\n",
    "To make gradient descent algorithm likely to converge, we can normalize our data.\n",
    "There are different ways of normalizing data. For example, (x - mean)/SD.\n",
    "Here, we will do the following:\n",
    "\n",
    "(xmax - x)/(xmax - xmin)\n",
    "\n",
    "Next we create a function named normalization. This function takes a list of numbers as input.\n",
    "The output of the function is a list of normalized numbers.\n",
    "\n",
    "After normalization, we can run gradient descent on normalized x and y.\n",
    "\n",
    "### <font color = 'red'>Exercise:</font>\n",
    "Write a function named ``normalization(x)`` to implement above. **Notice: don't run it since this is an incomplete code.**"
   ]
  },
  {
   "cell_type": "code",
   "execution_count": 5,
   "metadata": {},
   "outputs": [],
   "source": [
    "def normalization(x): # take a list of numbers and return a list of normalized number\n",
    "    maxi = max(x)\n",
    "    mini = min(x)\n",
    "    return [(maxi - num)/(maxi - mini) for num in x]"
   ]
  },
  {
   "cell_type": "markdown",
   "metadata": {},
   "source": [
    "### Exercise:\n",
    "\n",
    "If we normalize x and y, the t will be the regression coefficient based on normalized x and y, named normed_t. \n",
    "normed_y=normed_t0+normed_t1 * normed_x. \n",
    "\n",
    "Ultimately, we want to find t based on original x and y. If you caculated normed_t, can you find out the formula to transfer back to t? \n",
    "\n",
    "Please write a function named back2Norm. \n",
    "\n",
    "This function takes five input parameters: xmax, xmin, ymax, ymin, and t.\n",
    "t=[t0, t1] contains the optimal values of t0 and t1 based on normalized x and y.\n",
    "This function will return to an updated list of t, which contains the values of t0\n",
    "and t1 based on the original values of x and y.\n",
    "\n",
    "**Notice: don't run it since this is an incomplete code.**"
   ]
  },
  {
   "cell_type": "code",
   "execution_count": 6,
   "metadata": {},
   "outputs": [],
   "source": [
    "def back2Norm(xmax, xmin, ymax, ymin, t): # Once again, this is for SLR with one input variable\n",
    "    t[0] = ymax - t[0]*(ymax - ymin) - t[1]*(ymax - ymin)*xmax/(xmax - xmin)\n",
    "    t[1] = t[1]*(ymax - ymin)/(xmax - xmin)\n",
    "    return t"
   ]
  },
  {
   "cell_type": "markdown",
   "metadata": {},
   "source": [
    "## Part 5: Wrap it up. \n",
    "\n",
    "Write a main function to implement the steps described in **Part 3**. \n",
    "\n",
    "Set starting values of theta to be t = [0, 0]; learning rate a = 0.2; and \n",
    "the number of iteration of gradient descent to be 100.\n",
    "\n",
    "For each iteration, please print the following in the same line:\n",
    "iteration number, current t, current value of cost function, current value of cost function - last value of cost function\n",
    "\n",
    "Observe whether the algorithm converges or not in the end. If not, adjust your learning rate and # of iterations.\n",
    "If your algorithm converges, print out the values of t0 and t1 based on original values of x and y.\n"
   ]
  },
  {
   "cell_type": "code",
   "execution_count": 1,
   "metadata": {
    "scrolled": true
   },
   "outputs": [
    {
     "name": "stdout",
     "output_type": "stream",
     "text": [
      "99 [0.008068987732616368, 0.8464713587062076] 0.0067547400374692425 -0.00010692892131462881\n",
      "The regression coefficient is [94.38541567901967, 4.542426441012725]\n"
     ]
    }
   ],
   "source": [
    "\n",
    "def normalization(x): # take a list of numbers and return a list of normalized number\n",
    "    maxi = max(x)\n",
    "    mini = min(x)\n",
    "    return [(maxi - num)/(maxi - mini) for num in x]\n",
    "\n",
    "def cost(x, y, t): # This only works for the case with one feature or input variable\n",
    "    m = len(y)\n",
    "    SSE = 0\n",
    "    for i in range(m):\n",
    "        SSE += (t[0] + t[1]*x[i] - y[i])**2\n",
    "    return SSE/m\n",
    "\n",
    "\n",
    "def gradient(x, y, a, t): # return the updated values for t=[t0, t1]\n",
    "    m = len(y)\n",
    "    RSE = 0\n",
    "    SUM_ex = 0\n",
    "    for i in range(m):\n",
    "        e = t[0] + t[1]*x[i] - y[i]\n",
    "        RSE += e\n",
    "        SUM_ex += e*x[i]\n",
    "    t[0] = t[0] - a/m*RSE\n",
    "    t[1] = t[1] - a/m*SUM_ex\n",
    "    return t\n",
    "\n",
    "def back2Norm(xmax, xmin, ymax, ymin, t): # Once again, this is for SLR with one input variable\n",
    "    t[0] = ymax - t[0]*(ymax - ymin) - t[1]*(ymax - ymin)*xmax/(xmax - xmin)\n",
    "    t[1] = t[1]*(ymax - ymin)/(xmax - xmin)\n",
    "    return t\n",
    "\n",
    "def main():\n",
    "    x0 = [30., 40., 40., 50., 60., 70., 70., 70., 80., 90.]\n",
    "    y0 = [184.4, 279.1, 244.0, 314.2, 382.2, 450.2, 423.6, 410.2, 500.4, 505.3]\n",
    "\n",
    "    x = normalization(x0)\n",
    "    y = normalization(y0)\n",
    "\n",
    "    t = [0, 0]\n",
    "    a = 0.2\n",
    "    Iter = 100\n",
    "\n",
    "    PreviousCost = cost(x,y,t)\n",
    "    \n",
    "    for i in range(Iter):\n",
    "        if i==Iter-1:\n",
    "            print (i, t, cost(x,y,t), cost(x,y,t)- PreviousCost)\n",
    "        PreviousCost = cost(x,y,t)        \n",
    "        t = gradient(x, y, a, t)\n",
    "        \n",
    "\n",
    "    print ('The regression coefficient is', back2Norm(max(x0), min(x0), max(y0), min(y0), t))\n",
    "    \n",
    "if __name__ == \"__main__\":\n",
    "    main()\n",
    "    "
   ]
  },
  {
   "cell_type": "markdown",
   "metadata": {},
   "source": [
    "## Part 6\n",
    "\n",
    "We will plot a line chart that helps us determine whether our gradient descent algorithm converges or not.\n",
    "\n",
    "To that end, in your main function, add a few lines of code:\n",
    "save your iteration number and the corresponding value of Previous Cost - current cost. \n",
    "Plot a line chart with x-axis being the number of interations and y-axis being the decrease in the value of cost function.\n",
    "\n",
    "Observe whether the algorithm converges or not in the end. If not, adjust your learning rate and # of iterations."
   ]
  },
  {
   "cell_type": "code",
   "execution_count": 2,
   "metadata": {},
   "outputs": [
    {
     "name": "stdout",
     "output_type": "stream",
     "text": [
      "499 [-0.09525965294625673, 1.037761437814279] 0.003239800986146641 0.0\n",
      "[36.34235447915961, 5.550294090941309]\n"
     ]
    },
    {
     "data": {
      "image/png": "[encoded data removed]",
      "text/plain": [
       "<Figure size 640x480 with 1 Axes>"
      ]
     },
     "metadata": {},
     "output_type": "display_data"
    }
   ],
   "source": [
    "def normalization(x): # take a list of numbers and return a list of normalized number\n",
    "    maxi = max(x)\n",
    "    mini = min(x)\n",
    "    return [(maxi - num)/(maxi - mini) for num in x]\n",
    "\n",
    "def cost(x, y, t): # This only works for the case with one feature or input variable\n",
    "    m = len(y)\n",
    "    SSE = 0\n",
    "    for i in range(m):\n",
    "        SSE += (t[0] + t[1]*x[i] - y[i])**2\n",
    "    return SSE/m\n",
    "\n",
    "\n",
    "def gradient(x, y, a, t): # return the updated values for t=[t0, t1]\n",
    "    m = len(y)\n",
    "    RSE = 0\n",
    "    SUM_ex = 0\n",
    "    for i in range(m):\n",
    "        e = t[0] + t[1]*x[i] - y[i]\n",
    "        RSE += e\n",
    "        SUM_ex += e*x[i]\n",
    "    t[0] = t[0] - a/m*RSE\n",
    "    t[1] = t[1] - a/m*SUM_ex\n",
    "    return t\n",
    "\n",
    "def back2Norm(xmax, xmin, ymax, ymin, t): # Once again, this is for SLR with one input variable\n",
    "    t[0] = ymax - t[0]*(ymax - ymin) - t[1]*(ymax - ymin)*xmax/(xmax - xmin)\n",
    "    t[1] = t[1]*(ymax - ymin)/(xmax - xmin)\n",
    "    return t\n",
    "\n",
    "import matplotlib.pyplot as plt  \n",
    "def main():\n",
    "    x0 = [30., 40., 40., 50., 60., 70., 70., 70., 80., 90.]\n",
    "    y0 = [184.4, 279.1, 244.0, 314.2, 382.2, 450.2, 423.6, 410.2, 500.4, 505.3]\n",
    "\n",
    "    x = normalization(x0)\n",
    "    y = normalization(y0)\n",
    "\n",
    "    t = [0, 0]\n",
    "    a = 0.5\n",
    "    Iter = 500\n",
    "\n",
    "    Iteration = []\n",
    "    CostDescent = []\n",
    "    \n",
    "    PreviousCost = cost(x,y,t)\n",
    "    \n",
    "    for i in range(Iter):\n",
    "        if i==Iter-1:\n",
    "            print (i, t, cost(x,y,t), cost(x,y,t)- PreviousCost)\n",
    "        Iteration.append(i)\n",
    "        CostDescent.append(-cost(x,y,t) + PreviousCost)        \n",
    "        PreviousCost = cost(x,y,t)        \n",
    "        t = gradient(x, y, a, t)\n",
    "\n",
    "    \n",
    "    print (back2Norm(max(x0), min(x0), max(y0), min(y0), t))\n",
    "\n",
    "# please add the code to plot the line here: \n",
    "    plt.plot(Iteration[100:200], CostDescent[100:200], 'ro-')\n",
    "    plt.xlabel(\"Number of Iterations\")\n",
    "    plt.ylabel(\"Decrease in Cost\")\n",
    "    \n",
    "    plt.show()\n",
    "      \n",
    "if __name__ == \"__main__\":\n",
    "    main()\n",
    "    "
   ]
  },
  {
   "cell_type": "markdown",
   "metadata": {},
   "source": [
    "Self-note:\n",
    "\n",
    "running Linear Regression using other method:\n",
    "http://jeremy.kiwi.nz/pythoncourse/2016/03/21/lesson-06-applied.html\n",
    "\n",
    "Least Square, from the Assignment.\n",
    "\n",
    "Possibly add material from the link t the lecture"
   ]
  },
  {
   "cell_type": "code",
   "execution_count": null,
   "metadata": {},
   "outputs": [],
   "source": []
  }
 ],
 "metadata": {
  "kernelspec": {
   "display_name": "Python 3 (ipykernel)",
   "language": "python",
   "name": "python3"
  },
  "language_info": {
   "codemirror_mode": {
    "name": "ipython",
    "version": 3
   },
   "file_extension": ".py",
   "mimetype": "text/x-python",
   "name": "python",
   "nbconvert_exporter": "python",
   "pygments_lexer": "ipython3",
   "version": "3.10.9"
  }
 },
 "nbformat": 4,
 "nbformat_minor": 2
}
