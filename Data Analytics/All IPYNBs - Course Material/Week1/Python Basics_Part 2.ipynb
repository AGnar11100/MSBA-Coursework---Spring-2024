{
 "cells": [
  {
   "cell_type": "markdown",
   "metadata": {},
   "source": [
    "# Python Basics_Part 2"
   ]
  },
  {
   "cell_type": "markdown",
   "metadata": {},
   "source": [
    "# Functions"
   ]
  },
  {
   "cell_type": "code",
   "execution_count": 1,
   "metadata": {},
   "outputs": [
    {
     "data": {
      "text/plain": [
       "1"
      ]
     },
     "execution_count": 1,
     "metadata": {},
     "output_type": "execute_result"
    }
   ],
   "source": [
    "A=min(1,2,3)\n",
    "A"
   ]
  },
  {
   "cell_type": "markdown",
   "metadata": {},
   "source": [
    "## Example 4-0\n",
    "\n",
    "Write a short Python Function, is_multiple(n, m), that takes two integer values and returns True if n is a multiple of m, that is n=mi for some integer i. And False otherwise. \n",
    "\n",
    "In below, you will see three ways. "
   ]
  },
  {
   "cell_type": "code",
   "execution_count": 2,
   "metadata": {},
   "outputs": [
    {
     "name": "stdout",
     "output_type": "stream",
     "text": [
      "type in an integer: 12\n",
      "type in an integer: 13\n",
      "Is 12 multiple of 13 ?\n",
      " False\n"
     ]
    }
   ],
   "source": [
    "def is_multiple(n,m):\n",
    "    if n%m ==0:\n",
    "        return True\n",
    "    else:\n",
    "        return False\n",
    "\n",
    "def main():\n",
    "    i=int(input(\"type in an integer: \"))\n",
    "    j=int(input(\"type in an integer: \"))\n",
    "    print (\"Is %d multiple of\"%i,\"%d\"%j,\"?\\n\",is_multiple(i,j))\n",
    "    \n",
    "if __name__ == \"__main__\":# This is to ensure that the defined \n",
    "    #functions run properly if those functions are also called somewhere else.\n",
    "    main()"
   ]
  },
  {
   "cell_type": "code",
   "execution_count": 3,
   "metadata": {},
   "outputs": [
    {
     "name": "stdout",
     "output_type": "stream",
     "text": [
      "type in an integer: 12\n",
      "type in an integer: 12\n",
      "Is 12 multiple of 12 ?\n",
      " True\n"
     ]
    }
   ],
   "source": [
    "def is_multiple(n,m):\n",
    "    if n%m ==0:\n",
    "        return True\n",
    "    else:\n",
    "        return False\n",
    "\n",
    "\n",
    "i=int(input(\"type in an integer: \"))\n",
    "j=int(input(\"type in an integer: \"))\n",
    "print (\"Is %d multiple of\"%i,\"%d\"%j,\"?\\n\",is_multiple(i,j))\n",
    "    "
   ]
  },
  {
   "cell_type": "code",
   "execution_count": 4,
   "metadata": {},
   "outputs": [
    {
     "name": "stdout",
     "output_type": "stream",
     "text": [
      "type in an integer: 12\n",
      "type in an integer: 12\n",
      "Is 12 multiple of 12 ?\n",
      " True\n"
     ]
    }
   ],
   "source": [
    "def is_multiple(n,m):\n",
    "    if n%m ==0:\n",
    "        return True\n",
    "    else:\n",
    "        return False\n",
    "\n",
    "def main():\n",
    "    i=int(input(\"type in an integer: \"))\n",
    "    j=int(input(\"type in an integer: \"))\n",
    "    print (\"Is %d multiple of\"%i,\"%d\"%j,\"?\\n\",is_multiple(i,j))\n",
    "\n",
    "main()\n"
   ]
  },
  {
   "cell_type": "markdown",
   "metadata": {},
   "source": [
    "## Example 4-1\n",
    "In a particular jurisdiction, taxi fares consist of a base fare of $4.00, plus $0.25 for every 140 meters traveled. \n",
    "Write a function that takes the distance traveled (in kilometers) as its only parameter and returns to total fare as its only result.\n",
    "Write a main program that demonstrates the function.\n",
    "\n",
    "Taxi fares change over time. \n",
    "Use constants to represent the base fare and the variable portion of the fare so that the program can be updated easily when the rates increase.\n",
    "\n",
    "Exercise:"
   ]
  },
  {
   "cell_type": "code",
   "execution_count": 5,
   "metadata": {},
   "outputs": [
    {
     "name": "stdout",
     "output_type": "stream",
     "text": [
      "Please enter the distance your taxi traveled in kilometers: 13\n",
      "The total taxi fare is $27.00\n"
     ]
    }
   ],
   "source": [
    "def taxi_fare(km):\n",
    "    BASE_FARE = 4.0\n",
    "    FARE_PER_140M = 0.25\n",
    "    return BASE_FARE + FARE_PER_140M * int(1000*km/140)\n",
    "    \n",
    "def main():\n",
    "    distance = float(input(\"Please enter the distance your taxi traveled in kilometers: \"))\n",
    "    print (\"The total taxi fare is\", \"$\"+\"%.2f\" % taxi_fare(distance))\n",
    "\n",
    "if __name__ == \"__main__\": # This is to ensure that the defined functions run properly if those functions are also called somewhere else.\n",
    "    main()"
   ]
  },
  {
   "cell_type": "markdown",
   "metadata": {},
   "source": [
    "# Lists"
   ]
  },
  {
   "cell_type": "code",
   "execution_count": 6,
   "metadata": {},
   "outputs": [
    {
     "data": {
      "text/plain": [
       "[3, 5, 8, 9]"
      ]
     },
     "execution_count": 6,
     "metadata": {},
     "output_type": "execute_result"
    }
   ],
   "source": [
    "a=[5,3,9,8]\n",
    "a.sort()\n",
    "a"
   ]
  },
  {
   "cell_type": "code",
   "execution_count": 7,
   "metadata": {},
   "outputs": [
    {
     "name": "stdout",
     "output_type": "stream",
     "text": [
      "[3, 5, 9]\n"
     ]
    },
    {
     "data": {
      "text/plain": [
       "[5, 3, 9]"
      ]
     },
     "execution_count": 7,
     "metadata": {},
     "output_type": "execute_result"
    }
   ],
   "source": [
    "b=[5,3,9]\n",
    "print(sorted(b))\n",
    "b"
   ]
  },
  {
   "cell_type": "code",
   "execution_count": 8,
   "metadata": {},
   "outputs": [
    {
     "name": "stdout",
     "output_type": "stream",
     "text": [
      "2 1 0\n"
     ]
    }
   ],
   "source": [
    "a = [66.25, 333, 333, 1, 1234.5] # create a list\n",
    "print (a.count(333), a.count(66.25), a.count('x'))"
   ]
  },
  {
   "cell_type": "code",
   "execution_count": 9,
   "metadata": {},
   "outputs": [
    {
     "data": {
      "text/plain": [
       "[66.25, 333, -1, 333, 1, 1234.5]"
      ]
     },
     "execution_count": 9,
     "metadata": {},
     "output_type": "execute_result"
    }
   ],
   "source": [
    "a = [66.25, 333, 333, 1, 1234.5] # create a list\n",
    "a.insert(2, -1)  #List.insert(index, element)\n",
    "a"
   ]
  },
  {
   "cell_type": "code",
   "execution_count": 10,
   "metadata": {},
   "outputs": [
    {
     "data": {
      "text/plain": [
       "[66.25, 333, -1, 333, 1, 1234.5, 333]"
      ]
     },
     "execution_count": 10,
     "metadata": {},
     "output_type": "execute_result"
    }
   ],
   "source": [
    "a.append(333) # appends an element to the end of the list. \n",
    "a"
   ]
  },
  {
   "cell_type": "code",
   "execution_count": 11,
   "metadata": {},
   "outputs": [
    {
     "data": {
      "text/plain": [
       "1"
      ]
     },
     "execution_count": 11,
     "metadata": {},
     "output_type": "execute_result"
    }
   ],
   "source": [
    "a.index(333) #show the first found element’s index"
   ]
  },
  {
   "cell_type": "code",
   "execution_count": 12,
   "metadata": {},
   "outputs": [
    {
     "data": {
      "text/plain": [
       "[66.25, -1, 333, 1, 1234.5, 333]"
      ]
     },
     "execution_count": 12,
     "metadata": {},
     "output_type": "execute_result"
    }
   ],
   "source": [
    "a.remove(333) # removes the first found element\n",
    "a"
   ]
  },
  {
   "cell_type": "code",
   "execution_count": 13,
   "metadata": {},
   "outputs": [
    {
     "data": {
      "text/plain": [
       "2"
      ]
     },
     "execution_count": 13,
     "metadata": {},
     "output_type": "execute_result"
    }
   ],
   "source": [
    "a.index(333)"
   ]
  },
  {
   "cell_type": "code",
   "execution_count": 14,
   "metadata": {},
   "outputs": [
    {
     "data": {
      "text/plain": [
       "[66.25, -1, 333, 1, 1234.5]"
      ]
     },
     "execution_count": 14,
     "metadata": {},
     "output_type": "execute_result"
    }
   ],
   "source": [
    "a.pop() #list.pop(pos) pos needs to be a specified position that you want to remove. \n",
    "        #If no input of pos, then remove the last element. It will return to the list. \n",
    "a"
   ]
  },
  {
   "cell_type": "code",
   "execution_count": 15,
   "metadata": {},
   "outputs": [
    {
     "data": {
      "text/plain": [
       "[66.25, -1, 1, 1234.5]"
      ]
     },
     "execution_count": 15,
     "metadata": {},
     "output_type": "execute_result"
    }
   ],
   "source": [
    "a.pop(2)\n",
    "a"
   ]
  },
  {
   "cell_type": "markdown",
   "metadata": {},
   "source": [
    "## Exercise: \n",
    "\n",
    "Example 5-1\n",
    "Write a program that reads integers from the user and stores them in a list.\n",
    "Your program should continue reading values until the user enters 0.\n",
    "Then it should display all of the values entered (except for the 0) in order from smallest to largest, with one value appearing on each line.\n",
    "\n",
    "#Hint: use either the sort method or the sorted function to sort the list\n",
    "#https://docs.python.org/3/howto/sorting.html\n"
   ]
  },
  {
   "cell_type": "code",
   "execution_count": null,
   "metadata": {},
   "outputs": [],
   "source": [
    "\n"
   ]
  },
  {
   "cell_type": "code",
   "execution_count": null,
   "metadata": {},
   "outputs": [],
   "source": [
    "\n",
    "\n",
    "\n",
    "\n",
    "\n",
    "\n",
    "\n",
    "\n",
    "\n",
    "\n",
    "\n",
    "\n",
    "\n"
   ]
  },
  {
   "cell_type": "markdown",
   "metadata": {},
   "source": [
    "# Answers for the above Exercises"
   ]
  },
  {
   "cell_type": "code",
   "execution_count": null,
   "metadata": {},
   "outputs": [
    {
     "name": "stdout",
     "output_type": "stream",
     "text": [
      "Please enter an integer (0 to quit): 111\n",
      "Please enter an integer (0 to quit): 11\n",
      "Please enter an integer (0 to quit): 11\n",
      "Please enter an integer (0 to quit): 1\n",
      "Please enter an integer (0 to quit): 1\n",
      "Please enter an integer (0 to quit): 1\n"
     ]
    }
   ],
   "source": [
    "data_list=[]\n",
    "num = int(input(\"Please enter an integer (0 to quit): \"))\n",
    "while num != 0:\n",
    "    data_list.append(num)\n",
    "    num = int(input(\"Please enter an integer (0 to quit): \"))\n",
    "data_list.sort() # or sorted(data_list)\n",
    "\n",
    "print (\"The values, sorted into ascendng order, are:\")\n",
    "for num in data_list:\n",
    "    print(num)"
   ]
  }
 ],
 "metadata": {
  "kernelspec": {
   "display_name": "Python 3 (ipykernel)",
   "language": "python",
   "name": "python3"
  },
  "language_info": {
   "codemirror_mode": {
    "name": "ipython",
    "version": 3
   },
   "file_extension": ".py",
   "mimetype": "text/x-python",
   "name": "python",
   "nbconvert_exporter": "python",
   "pygments_lexer": "ipython3",
   "version": "3.11.5"
  }
 },
 "nbformat": 4,
 "nbformat_minor": 2
}
