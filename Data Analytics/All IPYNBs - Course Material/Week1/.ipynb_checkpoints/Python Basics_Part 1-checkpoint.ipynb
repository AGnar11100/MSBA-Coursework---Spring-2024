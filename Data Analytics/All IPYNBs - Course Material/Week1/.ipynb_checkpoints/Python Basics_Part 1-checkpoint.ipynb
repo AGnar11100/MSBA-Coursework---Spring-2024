{
 "cells": [
  {
   "cell_type": "markdown",
   "metadata": {},
   "source": [
    "# Python Basics _ Part 1"
   ]
  },
  {
   "cell_type": "code",
   "execution_count": null,
   "metadata": {},
   "outputs": [],
   "source": [
    "# Example 1-1\n",
    "# \n",
    "# Asks the user to enter his or her name. \n",
    "# The program responds with a message that says hello to the user, using his or her name.\n",
    "#\n",
    "\n",
    "name = input(\"Please enter your name: \") # raw_input converts anything it gets into a string\n",
    "print('Hello,', name,\"!\")                     # when using ',', a whitespace is added automatically between words.\n",
    "print('Hello, '+str(name)+'!')                # '+\" can be used to concatenate strings\n",
    "print('Hello, '+name+'!' )                   #name is already a string. So, name and str(name) are the same."
   ]
  },
  {
   "cell_type": "code",
   "execution_count": null,
   "metadata": {},
   "outputs": [],
   "source": [
    "3 / 2"
   ]
  },
  {
   "cell_type": "code",
   "execution_count": null,
   "metadata": {},
   "outputs": [],
   "source": [
    "print(type(3.), type(2), type(_),type(3/2), type('jia'))"
   ]
  },
  {
   "cell_type": "code",
   "execution_count": null,
   "metadata": {},
   "outputs": [],
   "source": [
    "for i in range(5):\n",
    "    print(i)\n",
    "\n",
    "    print(5)"
   ]
  },
  {
   "cell_type": "code",
   "execution_count": null,
   "metadata": {},
   "outputs": [],
   "source": [
    "# this code is not working now.\n",
    "my_lst = [for i in range(1000)]"
   ]
  },
  {
   "cell_type": "code",
   "execution_count": null,
   "metadata": {},
   "outputs": [],
   "source": [
    "my_lst = list(range(10))"
   ]
  },
  {
   "cell_type": "code",
   "execution_count": null,
   "metadata": {},
   "outputs": [],
   "source": [
    "my_lst[-1]"
   ]
  },
  {
   "cell_type": "code",
   "execution_count": null,
   "metadata": {},
   "outputs": [],
   "source": [
    "my_lst.append(\"jia\")"
   ]
  },
  {
   "cell_type": "code",
   "execution_count": null,
   "metadata": {},
   "outputs": [],
   "source": [
    "my_lst"
   ]
  },
  {
   "cell_type": "code",
   "execution_count": null,
   "metadata": {},
   "outputs": [],
   "source": [
    "my_tup = (1, 2, 3, 'multiple', 'data', 'types', 1.0)"
   ]
  },
  {
   "cell_type": "code",
   "execution_count": null,
   "metadata": {},
   "outputs": [],
   "source": [
    "my_tup"
   ]
  },
  {
   "cell_type": "code",
   "execution_count": null,
   "metadata": {},
   "outputs": [],
   "source": [
    "my_tup.count(1)"
   ]
  },
  {
   "cell_type": "code",
   "execution_count": null,
   "metadata": {},
   "outputs": [],
   "source": [
    "lst = [1,1,1, 2, 2]"
   ]
  },
  {
   "cell_type": "code",
   "execution_count": null,
   "metadata": {},
   "outputs": [],
   "source": [
    "my_set = set(lst)\n",
    "my_set"
   ]
  },
  {
   "cell_type": "code",
   "execution_count": null,
   "metadata": {},
   "outputs": [],
   "source": [
    "2 in lst"
   ]
  },
  {
   "cell_type": "code",
   "execution_count": null,
   "metadata": {},
   "outputs": [],
   "source": [
    "2 in my_set   # more effecient way to check members in a list."
   ]
  },
  {
   "cell_type": "code",
   "execution_count": null,
   "metadata": {},
   "outputs": [],
   "source": [
    "t = [1,2,3]"
   ]
  },
  {
   "cell_type": "code",
   "execution_count": null,
   "metadata": {},
   "outputs": [],
   "source": [
    "t[1] = t[1] + 2\n",
    "t  # list is mutable."
   ]
  },
  {
   "cell_type": "code",
   "execution_count": null,
   "metadata": {},
   "outputs": [],
   "source": [
    "t = (1, 2, [30, 40])\n",
    "# this code is not working as tuples are immutable\n",
    "t[2] += [50, 60]"
   ]
  },
  {
   "cell_type": "code",
   "execution_count": null,
   "metadata": {},
   "outputs": [],
   "source": [
    "t"
   ]
  },
  {
   "cell_type": "code",
   "execution_count": null,
   "metadata": {},
   "outputs": [],
   "source": [
    "###### Example 1-2\n",
    "# \n",
    "# Asks the user to enter the width and length of a room in feet as floating point numbers. \n",
    "# The program computes and displays the area of the room.\n",
    "#\n",
    "\n",
    "width=float(input('Please enter the width of the room in feet: '))        #float function converts input into a floating point number.\n",
    "length=float(input('Please enter the length of the room in feet: '))\n",
    "\n",
    "print(\"The area of this room is \"+str(width*length)+' square feet'+'\\n'\n",
    "      \"The area of this room is\", width*length, 'square feet')"
   ]
  },
  {
   "cell_type": "markdown",
   "metadata": {},
   "source": [
    "# Example 1-3\n",
    "\n",
    "All the built-in functions in the math module of python 3.7 can be found here:\n",
    "https://docs.python.org/3.7/library/math.html\n",
    "\n",
    "    Create a program that reads two integers, a and b, from the user. \n",
    "    The program computes and displays the following:\n",
    "    The sum of a and b\n",
    "    The difference when b is subtracted from a\n",
    "    the product of a and b\n",
    "    The quotient when a is divided by b\n",
    "    The remainder when a is divided by b\n",
    "    The result of base-10, base-e, and base-2 logarithm of a\n",
    "    The result of a^b \n",
    "    The result of e^a\n"
   ]
  },
  {
   "cell_type": "code",
   "execution_count": null,
   "metadata": {},
   "outputs": [],
   "source": [
    "from math import log, log10, exp, e\n",
    "a=int(input('please input an integer number:'))\n",
    "b=int(input('please input another integer number:'))"
   ]
  },
  {
   "cell_type": "code",
   "execution_count": null,
   "metadata": {},
   "outputs": [],
   "source": [
    "# The sum of a and b\n",
    "print (a,\"+\",b, \"is\", a+b)"
   ]
  },
  {
   "cell_type": "code",
   "execution_count": null,
   "metadata": {},
   "outputs": [],
   "source": [
    "# The quotient when a is divided by b\n",
    "print (a,\"is devided by\",b,\"is\",a/b)"
   ]
  },
  {
   "cell_type": "code",
   "execution_count": null,
   "metadata": {},
   "outputs": [],
   "source": [
    "# The remainder when a is divided by b\n",
    "print (\"the remainder is\",a%b)"
   ]
  },
  {
   "cell_type": "code",
   "execution_count": null,
   "metadata": {},
   "outputs": [],
   "source": [
    "# The result of base-10, base-e, and base-2 logarithm of a\n",
    "print (\"The base 10 logarithm of\", a, \"is\", log10(a))\n",
    "print (\"The base e logarithm of\",a, \"is\",log(a))\n",
    "print (\"The base \"+str(b)+\" logarithm of\",a, \"is\", log(a,b))"
   ]
  },
  {
   "cell_type": "code",
   "execution_count": null,
   "metadata": {},
   "outputs": [],
   "source": [
    "# The result of a^b \n",
    "# The result of e^a\n",
    "print (\"The result of\", a,\"^\",b,\"is\",pow(a,b))\n",
    "print (\"The result of\", e,\"^\",a,\"is\",exp(a))"
   ]
  },
  {
   "cell_type": "markdown",
   "metadata": {},
   "source": [
    "## Example 1-6\n",
    "\n",
    "A bakery sells loaves of bread for $3.49 each. Day old bread is discounted by 60%.\n",
    "This program begins by reading the number of loaves of day-old bread purchased from the user.\n",
    "Thenthe program display the regular price, the discount, and the total price.\n",
    "All the values should be displayed using two decimal places, and the decimal points in all the numbers\n",
    "should be aligned when reasonable values are entered by the user."
   ]
  },
  {
   "cell_type": "code",
   "execution_count": null,
   "metadata": {},
   "outputs": [],
   "source": [
    "\n",
    "BREAD_PRICE = 3.49\n",
    "DISCOUNT_RATE = 0.60\n",
    "\n",
    "num_loaves = int(input(\"Please enter the number of day-old loaves purchased: \"))\n",
    "\n",
    "regular_price = num_loaves * BREAD_PRICE\n",
    "discount = regular_price * DISCOUNT_RATE\n",
    "total = regular_price - discount\n",
    "\n",
    "# %6.2f means print a float with 2 decimal places. Add spaces if this has less than 6 characters.\n",
    "print (\"Regular price:  %6.2f\" % regular_price)\n",
    "print (\"Discount:       %6.2f\" % discount)\n",
    "print (\"Total:          %6.2f\" % total)"
   ]
  },
  {
   "cell_type": "code",
   "execution_count": null,
   "metadata": {},
   "outputs": [],
   "source": [
    "n=893456.123\n",
    "print (\"%.2f\"%n)\n",
    "# %.2f means floating point with two decimal places"
   ]
  },
  {
   "cell_type": "markdown",
   "metadata": {},
   "source": [
    "# Conditional Execution"
   ]
  },
  {
   "cell_type": "code",
   "execution_count": null,
   "metadata": {},
   "outputs": [],
   "source": [
    "x=1\n",
    "if x > 2 :\n",
    "    print('Bigger than 2')\n",
    "    print ('Still bigger')\n",
    "print('Done with 2')\n"
   ]
  },
  {
   "cell_type": "code",
   "execution_count": null,
   "metadata": {},
   "outputs": [],
   "source": [
    "x=7\n",
    "if x < 2 :\n",
    "    print('Below 2')\n",
    "elif x < 20 :\n",
    "    print('Below 20')\n",
    "elif x < 10 : \n",
    "    print('Below 10')\n",
    "else :\n",
    "    print('Something else')\n"
   ]
  },
  {
   "cell_type": "markdown",
   "metadata": {},
   "source": [
    "## Example 2-2 \n",
    "\n",
    "This program reads a letter of the alphabet from the user. \n",
    "If the user enters something other than a letter, the program displays an error message.\n",
    "If the user enters 'a, 'e', 'i', 'o', 'u', 'A', 'E', 'I', 'O', or 'U', the program displays a message indicating that the letter enters is a vowel.\n",
    "If the user enters 'y' or 'Y', the program should display a message indicating that sometimes y is a vowel, and sometimes y is a consonant.\n",
    "Otherwise, display a message indicating that the letter is a consonant.\n",
    "\n",
    "Remark: Make use of string.ascii_lowercase, string.ascii_uppercase, or string.letters from the string module\n",
    "\n",
    "Remark: Use \"in\" operator in Python. For example, \"x\" in \"xyz\" is True; \"X\" in \"xyz\" is False. \n",
    "\n",
    "\n",
    "Remark: It is always a good idea to check the Python (2.7) documentation at: https://docs.python.org/2/library/index.html"
   ]
  },
  {
   "cell_type": "code",
   "execution_count": null,
   "metadata": {
    "scrolled": true
   },
   "outputs": [],
   "source": [
    "import string\n",
    "\n",
    "VOWELS ='aeiouAEIOU'\n",
    "\n",
    "LETTER = input(\"Please enter a letter from the alphabet: \")\n",
    "\n",
    "# string.ascii_letters contains all the lower case and upper case letters.\n",
    "if LETTER not in string.ascii_letters:\n",
    "    print (\"What you entered,\", '\"'+str(LETTER)+'\"'+\",\", \"is not a letter from the alphabet.\")\n",
    "elif LETTER == 'y' or LETTER ==\"Y\":\n",
    "    print (\"sometimes\", LETTER, \"is a vowel, and sometimes\", LETTER, \"is a consonant.\")\n",
    "elif LETTER in VOWELS:\n",
    "    print (LETTER, \"is a vowel.\")\n",
    "else:\n",
    "    print (LETTER, \"is a consonant.\")"
   ]
  },
  {
   "cell_type": "markdown",
   "metadata": {},
   "source": [
    "## Eaxmple 3-0\n",
    "Write a short Python function that counts the number of vowels in a given character string."
   ]
  },
  {
   "cell_type": "code",
   "execution_count": null,
   "metadata": {},
   "outputs": [],
   "source": [
    "S=input(\"please type in a word: \")\n",
    "Vowels= \"aeiouAEIOU\"\n",
    "#Vowels = ['a','e','i'....]\n",
    "count=0\n",
    "for x in S:\n",
    "    if x in Vowels:\n",
    "        count+=1     \n",
    "print (count)\n",
    "# count +=1 is equivalent with count = count + 1"
   ]
  },
  {
   "cell_type": "markdown",
   "metadata": {},
   "source": [
    "## Example 3-1"
   ]
  },
  {
   "cell_type": "code",
   "execution_count": null,
   "metadata": {},
   "outputs": [],
   "source": [
    "#A particular retailer is having a 60% off sale on a variety of discontinued products.\n",
    "#The retailer would like to help its customers determine the reduced price of the merchandise by having a \n",
    "#printed discount table on the shelf\n",
    "#that shows the original prices and the prices after the discount has been applied.\n",
    "\n",
    "#Write a program that uses a loop to generate this table, showing the original price, the discount amount, \n",
    "#and the new price for purchases of\n",
    "#$4.95, $9.95, $14.95, $19.95, and $24.95.\n",
    "#Ensure that the discount amounts and the new prices are rounded to 2 decimal places when they are displayed.\n",
    "\n",
    "Price_List= [4.95,9.95, 14.95,19.95,24.95]\n",
    "Discount = 0.6\n",
    "\n",
    "print (\"original price \",\" discount price \",\" new price\")\n",
    "    \n",
    "for price in Price_List:\n",
    "    Dis_Amount=price * Discount\n",
    "    new_price=price-Dis_Amount\n",
    "    print (\"%12.2f\"%price,\"%12.2f\"%Dis_Amount,\"%12.2f\"%new_price )"
   ]
  },
  {
   "cell_type": "code",
   "execution_count": null,
   "metadata": {},
   "outputs": [],
   "source": [
    "Price_List= [4.95,9.95, 14.95,19.95,24.95]\n",
    "Discount = 0.6\n",
    "j=0\n",
    "print (\"original price \",\" discount price \",\" new price\")\n",
    "\n",
    "while j < len(Price_List) :\n",
    "    Dis_Amount=Price_List[j] * Discount\n",
    "    new_price=Price_List[j]-Dis_Amount\n",
    "    print (\"%12.2f\"%Price_List[j],\"%12.2f\"%Dis_Amount,\"%12.2f\"%new_price )\n",
    "    j+=1"
   ]
  },
  {
   "cell_type": "code",
   "execution_count": null,
   "metadata": {},
   "outputs": [],
   "source": [
    "# Another way of doing this example. \n",
    "\n",
    "pricelist = [4.95,9.95,14.95,19.95,24.95]\n",
    "print (\"original price\",\"discount amount\",\"new price\")\n",
    "for org_prc in pricelist:\n",
    "    dis_amt = 60/100*org_prc\n",
    "    new_prc = org_prc-dis_amt\n",
    "    print (\"$%6.2f\" %org_prc,\"\\t\",\"$%6.2f\"%dis_amt,\"\\t\",\"$%6.2f\"%new_prc)"
   ]
  },
  {
   "cell_type": "markdown",
   "metadata": {},
   "source": [
    "## Example 3-4\n",
    "A string is a palindrome if it is identical forward and backward.\n",
    "For example \"anna\", \"civic\", \"level\" and \"hannah\" are all examples of palindromic words.\n",
    "Write a program that reads a string from the user and uses a loop to determine whether or not it is a palindrome.\n",
    "Display the result, including a meaningful output message.\n",
    "\n",
    "Please use 'while' and 'if' to write thie program. "
   ]
  },
  {
   "cell_type": "code",
   "execution_count": null,
   "metadata": {},
   "outputs": [],
   "source": [
    "word = input(\"Please enter a word: \")\n",
    "\n",
    "i = 0\n",
    "\n",
    "while i < int(len(word)/2):  # just need to check whether the first half matches the second half.\n",
    "    if word.lower()[i] != word.lower()[-1-i]: # not case-sensitive\n",
    "        print (word, \"is not a palindrome.\")        \n",
    "        break # get out of the loop and done\n",
    "    else:\n",
    "        i+=1 # check the next one\n",
    "    if i == int(len(word)/2):  \n",
    "        print (word, \"is a palindrome.\")"
   ]
  },
  {
   "cell_type": "markdown",
   "metadata": {},
   "source": [
    "### Exercise:\n",
    "Can you use 'for' loop to write this program?"
   ]
  },
  {
   "cell_type": "code",
   "execution_count": null,
   "metadata": {},
   "outputs": [],
   "source": []
  },
  {
   "cell_type": "code",
   "execution_count": null,
   "metadata": {},
   "outputs": [],
   "source": []
  },
  {
   "cell_type": "code",
   "execution_count": null,
   "metadata": {},
   "outputs": [],
   "source": []
  },
  {
   "cell_type": "code",
   "execution_count": null,
   "metadata": {},
   "outputs": [],
   "source": []
  },
  {
   "cell_type": "markdown",
   "metadata": {},
   "source": [
    "# Answers for the above Exercises"
   ]
  },
  {
   "cell_type": "code",
   "execution_count": null,
   "metadata": {},
   "outputs": [],
   "source": [
    "word = input(\"Please enter a word: \")\n",
    "for i in range(int(len(word)/2)):\n",
    "    if word.lower()[i] != word.lower()[-1-i]:\n",
    "        print (word, \"is not a palindrome.\")\n",
    "        break\n",
    "    elif i==int(len(word)/2)-1:\n",
    "        print (word, \"is a palindrome.\")"
   ]
  },
  {
   "cell_type": "code",
   "execution_count": null,
   "metadata": {},
   "outputs": [],
   "source": []
  },
  {
   "cell_type": "code",
   "execution_count": null,
   "metadata": {},
   "outputs": [],
   "source": []
  }
 ],
 "metadata": {
  "kernelspec": {
   "display_name": "Python 3 (ipykernel)",
   "language": "python",
   "name": "python3"
  },
  "language_info": {
   "codemirror_mode": {
    "name": "ipython",
    "version": 3
   },
   "file_extension": ".py",
   "mimetype": "text/x-python",
   "name": "python",
   "nbconvert_exporter": "python",
   "pygments_lexer": "ipython3",
   "version": "3.11.5"
  }
 },
 "nbformat": 4,
 "nbformat_minor": 2
}
