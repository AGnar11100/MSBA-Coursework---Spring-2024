{
 "cells": [
  {
   "cell_type": "markdown",
   "metadata": {},
   "source": [
    "# Dictionaries"
   ]
  },
  {
   "cell_type": "code",
   "execution_count": 1,
   "metadata": {
    "scrolled": true
   },
   "outputs": [
    {
     "name": "stdout",
     "output_type": "stream",
     "text": [
      "{'ham': 'yes', 'egg': 'yes'}\n",
      "yes\n"
     ]
    }
   ],
   "source": [
    "food={'ham':'yes','egg':'yes'}\n",
    "print(food)\n",
    "print(food['ham'])"
   ]
  },
  {
   "cell_type": "code",
   "execution_count": 2,
   "metadata": {
    "scrolled": true
   },
   "outputs": [
    {
     "data": {
      "text/plain": [
       "{'ham': 'yes', 'egg': 'yes', 'spam': 'no'}"
      ]
     },
     "execution_count": 2,
     "metadata": {},
     "output_type": "execute_result"
    }
   ],
   "source": [
    "food['spam']='no'\n",
    "food"
   ]
  },
  {
   "cell_type": "code",
   "execution_count": 3,
   "metadata": {
    "scrolled": true
   },
   "outputs": [
    {
     "data": {
      "text/plain": [
       "{'ham': 'yes', 'egg': 'yes', 'spam': 'yes'}"
      ]
     },
     "execution_count": 3,
     "metadata": {},
     "output_type": "execute_result"
    }
   ],
   "source": [
    "new={'spam':'yes'}\n",
    "food.update(new)\n",
    "food"
   ]
  },
  {
   "cell_type": "code",
   "execution_count": 4,
   "metadata": {
    "scrolled": true
   },
   "outputs": [
    {
     "data": {
      "text/plain": [
       "{}"
      ]
     },
     "execution_count": 4,
     "metadata": {},
     "output_type": "execute_result"
    }
   ],
   "source": [
    "food.clear()\n",
    "food"
   ]
  },
  {
   "cell_type": "code",
   "execution_count": 5,
   "metadata": {
    "scrolled": false
   },
   "outputs": [
    {
     "name": "stdout",
     "output_type": "stream",
     "text": [
      "{'house': 'Haus', 'cat': 'Katze', 'red': 'rouge', 'blau': 'bleu'}\n"
     ]
    }
   ],
   "source": [
    "w={\"house\":\"Haus\",\"cat\":\"Katze\",\"red\":\"rot\"}\n",
    "w1 = {\"red\":\"rouge\",\"blau\":\"bleu\"}\n",
    "w.update(w1)\n",
    "print(w)"
   ]
  },
  {
   "cell_type": "markdown",
   "metadata": {},
   "source": [
    "## Iterating"
   ]
  },
  {
   "cell_type": "code",
   "execution_count": 6,
   "metadata": {
    "scrolled": true
   },
   "outputs": [
    {
     "name": "stdout",
     "output_type": "stream",
     "text": [
      "ham\n",
      "egg\n"
     ]
    }
   ],
   "source": [
    "#Iterate the keys: Method 1\n",
    "food={'ham':'yes','egg':'yes'}\n",
    "for key in food.keys():\n",
    "    print (key)"
   ]
  },
  {
   "cell_type": "code",
   "execution_count": 7,
   "metadata": {
    "scrolled": true
   },
   "outputs": [
    {
     "name": "stdout",
     "output_type": "stream",
     "text": [
      "ham\n",
      "egg\n"
     ]
    }
   ],
   "source": [
    "# Iterate the keys: Method 2\n",
    "for key in food:\n",
    "    print (key)"
   ]
  },
  {
   "cell_type": "code",
   "execution_count": 8,
   "metadata": {
    "scrolled": true
   },
   "outputs": [
    {
     "name": "stdout",
     "output_type": "stream",
     "text": [
      "ham yes\n",
      "egg yes\n"
     ]
    }
   ],
   "source": [
    "for x in food:\n",
    "    print (x,food[x])"
   ]
  },
  {
   "cell_type": "code",
   "execution_count": 9,
   "metadata": {
    "scrolled": true
   },
   "outputs": [
    {
     "name": "stdout",
     "output_type": "stream",
     "text": [
      "yes\n",
      "yes\n"
     ]
    }
   ],
   "source": [
    " # Iterate the values: Method 1\n",
    "for b in food.values():\n",
    "    print (b)"
   ]
  },
  {
   "cell_type": "code",
   "execution_count": 10,
   "metadata": {
    "scrolled": true
   },
   "outputs": [
    {
     "name": "stdout",
     "output_type": "stream",
     "text": [
      "yes\n",
      "yes\n"
     ]
    }
   ],
   "source": [
    "# Iterate the values: Method 2\n",
    "for b in food:\n",
    "    print (food[b])"
   ]
  },
  {
   "cell_type": "markdown",
   "metadata": {},
   "source": [
    "## zip() function"
   ]
  },
  {
   "cell_type": "code",
   "execution_count": 11,
   "metadata": {
    "scrolled": true
   },
   "outputs": [
    {
     "name": "stdout",
     "output_type": "stream",
     "text": [
      "<zip object at 0x00000206C11EDB40>\n"
     ]
    }
   ],
   "source": [
    "dishes = [\"pizza\", \"sauerkraut\", \"paella\", \"Hamburger\"]\n",
    "countries = [\"Italy\", \"Germany\", \"Spain\", \"USA\"]\n",
    "country_specialities = zip(countries, dishes)\n",
    "print(country_specialities)"
   ]
  },
  {
   "cell_type": "code",
   "execution_count": 12,
   "metadata": {
    "scrolled": true
   },
   "outputs": [
    {
     "name": "stdout",
     "output_type": "stream",
     "text": [
      "{'Italy': 'pizza', 'Germany': 'sauerkraut', 'Spain': 'paella', 'USA': 'Hamburger'}\n"
     ]
    }
   ],
   "source": [
    "# but country_specialities is not a dictionary yet. \n",
    "country_specialities_dict = dict(country_specialities)\n",
    "print (country_specialities_dict)"
   ]
  },
  {
   "cell_type": "markdown",
   "metadata": {},
   "source": [
    "## The get Method"
   ]
  },
  {
   "cell_type": "code",
   "execution_count": 13,
   "metadata": {
    "scrolled": true
   },
   "outputs": [
    {
     "data": {
      "text/plain": [
       "'yes'"
      ]
     },
     "execution_count": 13,
     "metadata": {},
     "output_type": "execute_result"
    }
   ],
   "source": [
    "food={'ham':'yes','egg':'yes'}\n",
    "x=food.get('ham',0)\n",
    "x"
   ]
  },
  {
   "cell_type": "code",
   "execution_count": 14,
   "metadata": {
    "scrolled": true
   },
   "outputs": [
    {
     "name": "stdout",
     "output_type": "stream",
     "text": [
      "Please enter a line of text: a line of text\n"
     ]
    },
    {
     "data": {
      "text/plain": [
       "['a', 'line', 'of', 'text']"
      ]
     },
     "execution_count": 14,
     "metadata": {},
     "output_type": "execute_result"
    }
   ],
   "source": [
    "A = input('Please enter a line of text: ')\n",
    "words = A.split()\n",
    "words"
   ]
  },
  {
   "cell_type": "code",
   "execution_count": 15,
   "metadata": {
    "scrolled": true
   },
   "outputs": [
    {
     "name": "stdout",
     "output_type": "stream",
     "text": [
      "a\n",
      "line\n",
      "of\n",
      "text\n"
     ]
    }
   ],
   "source": [
    "for x in words:\n",
    "    print(x)"
   ]
  },
  {
   "cell_type": "markdown",
   "metadata": {},
   "source": [
    "## Exercise 1:\n",
    "\n",
    "Write a function named reverseLookup that finds all of the keys in a dictionary that map to a specific value.\n",
    "\n",
    "The function will take the dictionary and the value to search for as its only parameters. It will return a (possibly empty) list of keys from the dictionary that map to the provided value.\n",
    "\n",
    "Include a main program that demonstrates the reverseLookup function as part of your solution.\n",
    "Your program should create a dictionary and then show that the reverseLookup function works correctly \n",
    "In the main program, implement the following:\n",
    "Assuming you have 15 students aged from 5 to 12, it's possible that several students share the same age. To make it easy, they are named from 'A' to 'O'.Create a dictionary with the names as the keys, and the ages are the values. Randomly generate an age from 5 tp 12 (including 12) and assign that to each student."
   ]
  },
  {
   "cell_type": "code",
   "execution_count": 16,
   "metadata": {
    "scrolled": true
   },
   "outputs": [
    {
     "name": "stdout",
     "output_type": "stream",
     "text": [
      "Please enter a line of text: a line of text\n",
      "Words: ['a', 'line', 'of', 'text']\n",
      "Counting...\n",
      "{'a': 1, 'line': 1, 'of': 1, 'text': 1}\n"
     ]
    }
   ],
   "source": [
    "# Hint...\n",
    "counts=dict()\n",
    "A = input('Please enter a line of text: ')\n",
    "\n",
    "words = A.split()\n",
    "\n",
    "print ('Words:', words)\n",
    "\n",
    "print ('Counting...')\n",
    "for word in words:\n",
    "    counts[word] = counts.get(word,0) + 1\n",
    "print (counts)"
   ]
  },
  {
   "cell_type": "code",
   "execution_count": 17,
   "metadata": {
    "scrolled": true
   },
   "outputs": [
    {
     "name": "stdout",
     "output_type": "stream",
     "text": [
      "{'A': 6, 'B': 9, 'C': 7, 'D': 6, 'E': 8, 'F': 10, 'G': 5, 'H': 7, 'I': 9, 'J': 10, 'K': 5, 'L': 12, 'M': 7, 'N': 5, 'O': 11}\n"
     ]
    }
   ],
   "source": [
    "#Hint...\n",
    "import random\n",
    "name_age={}\n",
    "Names='ABCDEFGHIJKLMNO'\n",
    "for n in Names :\n",
    "    name_age[n] = random.randint(5, 12)\n",
    "print (name_age)"
   ]
  },
  {
   "cell_type": "code",
   "execution_count": 18,
   "metadata": {
    "scrolled": true
   },
   "outputs": [],
   "source": [
    "# Putting together\n",
    "\n"
   ]
  },
  {
   "cell_type": "code",
   "execution_count": null,
   "metadata": {},
   "outputs": [],
   "source": []
  },
  {
   "cell_type": "markdown",
   "metadata": {},
   "source": [
    "## Answer for Exercise 1"
   ]
  },
  {
   "cell_type": "code",
   "execution_count": 19,
   "metadata": {},
   "outputs": [
    {
     "name": "stdout",
     "output_type": "stream",
     "text": [
      "The names of students of age 5 are ['I', 'M']\n",
      "The names of students of age 6 are ['B']\n",
      "The names of students of age 7 are ['D', 'H', 'K']\n",
      "The names of students of age 8 are ['N']\n",
      "The names of students of age 9 are ['A', 'O']\n",
      "The names of students of age 10 are ['G', 'L']\n",
      "The names of students of age 11 are ['E']\n",
      "The names of students of age 12 are ['C', 'F', 'J']\n"
     ]
    }
   ],
   "source": [
    "# Putting together\n",
    "\n",
    "# define your reverseLookup function below:\n",
    "def reverseLookup(aDict, value):\n",
    "    List=[]\n",
    "    for key in aDict:\n",
    "        if aDict[key]==value:\n",
    "            List.append(key)\n",
    "    return List\n",
    "# main function is already defined for you\n",
    "def main():\n",
    "    import random\n",
    "    name_age={}\n",
    "    Names='ABCDEFGHIJKLMNO'\n",
    "    for n in Names :\n",
    "        name_age[n] = random.randint(5, 12)\n",
    "    \n",
    "    for i in range(5, 13):\n",
    "        print (\"The names of students of age\", i, \"are\", reverseLookup(name_age, i))\n",
    "#    print name_age\n",
    "        \n",
    "if __name__ == \"__main__\":\n",
    "    main()         \n"
   ]
  },
  {
   "cell_type": "markdown",
   "metadata": {},
   "source": [
    "### Another way to do the work"
   ]
  },
  {
   "cell_type": "code",
   "execution_count": 20,
   "metadata": {},
   "outputs": [
    {
     "name": "stdout",
     "output_type": "stream",
     "text": [
      "{'A': 9, 'B': 7, 'C': 7, 'D': 11, 'E': 9, 'F': 11, 'G': 8, 'H': 12, 'I': 9, 'K': 12, 'L': 6, 'M': 11, 'N': 9, 'O': 10}\n"
     ]
    }
   ],
   "source": [
    "# Another to do the work\n",
    "import random \n",
    "def gen_dic():\n",
    "    roster = {}\n",
    "    name_list = 'ABCDEFGHIGKLMNO'\n",
    "    for letter in name_list:\n",
    "        roster[letter] = random.randint(5, 12)\n",
    "    return roster\n",
    "\n",
    "roster = gen_dic()\n",
    "print(roster)"
   ]
  },
  {
   "cell_type": "code",
   "execution_count": 21,
   "metadata": {},
   "outputs": [
    {
     "name": "stdout",
     "output_type": "stream",
     "text": [
      "{5: [], 6: ['L'], 7: ['B', 'C'], 8: ['G'], 9: ['A', 'E', 'I', 'N'], 10: ['O'], 11: ['D', 'F', 'M'], 12: ['H', 'K']}\n"
     ]
    }
   ],
   "source": [
    "def reverseLookup():\n",
    "    counts = dict()\n",
    "    for i in range(5,13,1):\n",
    "        counts[i] = [];\n",
    "        for kid in roster:\n",
    "            if roster[kid] == i:\n",
    "                counts[i].append(kid)\n",
    "    print(counts)\n",
    "reverseLookup()"
   ]
  },
  {
   "cell_type": "markdown",
   "metadata": {},
   "source": [
    "# Files"
   ]
  },
  {
   "cell_type": "code",
   "execution_count": 22,
   "metadata": {
    "scrolled": true
   },
   "outputs": [
    {
     "name": "stdout",
     "output_type": "stream",
     "text": [
      "<_io.TextIOWrapper name='mbox.txt' mode='r' encoding='cp1252'>\n"
     ]
    }
   ],
   "source": [
    "fhandle=open('mbox.txt','r')\n",
    "print(fhandle)"
   ]
  },
  {
   "cell_type": "code",
   "execution_count": 23,
   "metadata": {
    "scrolled": true
   },
   "outputs": [
    {
     "name": "stdout",
     "output_type": "stream",
     "text": [
      "From stephen.marquard@uct.ac.za Sat Jan  5 09:14:16 2008\n",
      "\n",
      "Return-Path: <postmaster@collab.sakaiproject.org>\n",
      "\n",
      "Date: Sat, 5 Jan 2008 09:12:18 -0500\n",
      "\n",
      "To: source@collab.sakaiproject.org\n",
      "\n",
      "From: stephen.marquard@uct.ac.za\n",
      "\n",
      "Subject: [sakai] svn commit: r39772 - content/branches/\n",
      "\n",
      "\n",
      "\n",
      "Details: http://source.sakaiproject.org/viewsvn/?view=rev&rev=39772\n"
     ]
    }
   ],
   "source": [
    "xfile=open('mbox.txt')\n",
    "for line in xfile:\n",
    "    print (line)"
   ]
  },
  {
   "cell_type": "markdown",
   "metadata": {},
   "source": [
    "**The following ways can deal with the error.**"
   ]
  },
  {
   "cell_type": "code",
   "execution_count": 47,
   "metadata": {
    "scrolled": true
   },
   "outputs": [
    {
     "name": "stdout",
     "output_type": "stream",
     "text": [
      "From stephen.marquard@uct.ac.za Sat Jan  5 09:14:16 2008\n",
      " Return-Path: <postmaster@collab.sakaiproject.org>\n",
      " Date: Sat, 5 Jan 2008 09:12:18 -0500\n",
      " To: source@collab.sakaiproject.org\n",
      " From: stephen.marquard@uct.ac.za\n",
      " Subject: [sakai] svn commit: r39772 - content/branches/\n",
      " \n",
      " Details: http://source.sakaiproject.org/viewsvn/?view=rev&rev=39772 "
     ]
    }
   ],
   "source": [
    "xfile=open('mbox.txt',encoding=\"utf8\", errors='ignore')\n",
    "for line in xfile:\n",
    "    print (line, sep='\\t', end=' ')\n",
    "\n",
    "#why does it have extra lines after each line?"
   ]
  },
  {
   "cell_type": "code",
   "execution_count": 25,
   "metadata": {
    "scrolled": true
   },
   "outputs": [
    {
     "name": "stdout",
     "output_type": "stream",
     "text": [
      "From stephen.marquard@uct.ac.za Sat Jan  5 09:14:16 2008\n",
      "\n",
      "Return-Path: <postmaster@collab.sakaiproject.org>\n",
      "\n",
      "Date: Sat, 5 Jan 2008 09:12:18 -0500\n",
      "\n",
      "To: source@collab.sakaiproject.org\n",
      "\n",
      "From: stephen.marquard@uct.ac.za\n",
      "\n",
      "Subject: [sakai] svn commit: r39772 - content/branches/\n",
      "\n",
      "\n",
      "\n",
      "Details: http://source.sakaiproject.org/viewsvn/?view=rev&rev=39772\n"
     ]
    }
   ],
   "source": [
    "# Different way of repeating the above command. \n",
    "with open('mbox.txt',encoding=\"utf8\", errors='ignore') as xfile:\n",
    "    for line in xfile:\n",
    "        print (line)"
   ]
  },
  {
   "cell_type": "code",
   "execution_count": 26,
   "metadata": {
    "scrolled": true
   },
   "outputs": [
    {
     "name": "stdout",
     "output_type": "stream",
     "text": [
      "57\n",
      "50\n",
      "37\n",
      "35\n",
      "33\n",
      "56\n",
      "1\n",
      "67\n",
      "Line Count: 8\n"
     ]
    }
   ],
   "source": [
    "xfile = open('mbox.txt',encoding=\"utf8\", errors='ignore')\n",
    "count = 0\n",
    "for line in xfile:\n",
    "    count = count + 1\n",
    "    print (len(line))\n",
    "print ('Line Count:', count)"
   ]
  },
  {
   "cell_type": "code",
   "execution_count": 27,
   "metadata": {
    "scrolled": true
   },
   "outputs": [
    {
     "name": "stdout",
     "output_type": "stream",
     "text": [
      "58\n",
      "51\n",
      "38\n",
      "36\n",
      "34\n",
      "57\n",
      "2\n",
      "67\n",
      "Line Count: 8\n"
     ]
    }
   ],
   "source": [
    "xfile = open('mbox.txt','rb')# That b in the mode specifier in the open() \n",
    "#states that the file shall be treated as binary,\n",
    "count = 0\n",
    "for line in xfile:\n",
    "    count = count + 1\n",
    "    print (len(line))\n",
    "print ('Line Count:', count)"
   ]
  },
  {
   "cell_type": "code",
   "execution_count": 28,
   "metadata": {
    "scrolled": true
   },
   "outputs": [
    {
     "name": "stdout",
     "output_type": "stream",
     "text": [
      "From stephen.marquard@uct.ac.za Sat Jan  5 09:14:16 2008\n",
      "Return-Path: <postmaster@collab.sakaiproject.org>\n",
      "Date: Sat, 5 Jan 2008 09:12:18 -0500\n",
      "To: source@collab.sakaiproject.org\n",
      "From: stephen.marquard@uct.ac.za\n",
      "Subject: [sakai] svn commit: r39772 - content/branches/\n",
      "\n",
      "Details: http://source.sakaiproject.org/viewsvn/?view=rev&rev=39772\n"
     ]
    }
   ],
   "source": [
    "xfile = open('mbox.txt',encoding=\"utf8\", errors='ignore')\n",
    "whole=xfile.read()\n",
    "print(whole)\n",
    "#as you may see, using this method can miss some letters. "
   ]
  },
  {
   "cell_type": "code",
   "execution_count": 29,
   "metadata": {
    "scrolled": true
   },
   "outputs": [
    {
     "data": {
      "text/plain": [
       "343"
      ]
     },
     "execution_count": 29,
     "metadata": {},
     "output_type": "execute_result"
    }
   ],
   "source": [
    "xfile = open('mbox.txt','rb')\n",
    "whole=xfile.read()\n",
    "len(whole)"
   ]
  },
  {
   "cell_type": "code",
   "execution_count": 30,
   "metadata": {
    "scrolled": true
   },
   "outputs": [
    {
     "name": "stdout",
     "output_type": "stream",
     "text": [
      "From stephen.marquard@uct.ac.za Sat Jan  5 09:14:16 2008\n",
      "Return-Path: <postmaster@collab.sakaiproject.org>\n",
      "Date: Sat, 5 Jan 2008 09:12:18 -0500\n",
      "To: source@collab.sakaiproject.org\n",
      "From: stephen.marquard@uct.ac.za\n",
      "Subject: [sakai] svn commit: r39772 - content/branches/\n",
      "\n",
      "Details: http://source.sakaiproject.org/viewsvn/?view=rev&rev=39772\n"
     ]
    }
   ],
   "source": [
    "xfile = open('mbox.txt',encoding=\"utf8\", errors='ignore')\n",
    "for line in xfile:\n",
    "    line=line.strip()\n",
    "    print (line)\n"
   ]
  },
  {
   "cell_type": "code",
   "execution_count": 31,
   "metadata": {
    "scrolled": true
   },
   "outputs": [
    {
     "name": "stdout",
     "output_type": "stream",
     "text": [
      "55\n"
     ]
    }
   ],
   "source": [
    "count=0\n",
    "i=0\n",
    "while i<=10:\n",
    "    count=count+i\n",
    "    i+=1\n",
    "print(count)"
   ]
  },
  {
   "cell_type": "markdown",
   "metadata": {},
   "source": [
    "# file Practices"
   ]
  },
  {
   "cell_type": "code",
   "execution_count": 32,
   "metadata": {
    "scrolled": true
   },
   "outputs": [
    {
     "name": "stdout",
     "output_type": "stream",
     "text": [
      "From stephen.marquard@uct.ac.za Sat Jan  5 091416 2008\n",
      "\n",
      "Return-Path postmaster@collab.sakaiproject.org\n",
      "\n",
      "Received from murder (mail.umich.edu [141.211.14.90])\n",
      "\n",
      "\t by frankenstein.mail.umich.edu (Cyrus v2.3.8) with LMTPA;\n",
      "\n",
      "\t Sat, 05 Jan 2008 091416 -0500\n",
      "\n",
      "X-Sieve CMU Sieve 2.3\n",
      "\n",
      "Received from murder ([unix socket])\n",
      "\n",
      "\t by mail.umich.edu (Cyrus v2.2.12) with LMTPA;\n",
      "\n",
      "\t Sat, 05 Jan 2008 091416 -0500\n",
      "\n",
      "Received from holes.mr.itd.umich.edu (holes.mr.itd.umich.edu [141.211.14.79])\n",
      "\n",
      "\tby flawless.mail.umich.edu () with ESMTP id m05EEFR1013674;\n",
      "\n",
      "\tSat, 5 Jan 2008 091415 -0500\n",
      "\n",
      "Received FROM paploo.uhi.ac.uk (app1.prod.collab.uhi.ac.uk [194.35.219.184])\n",
      "\n",
      "\tBY holes.mr.itd.umich.edu ID 477F90B0.2DB2F.12494 ; \n",
      "\n",
      "\t 5 Jan 2008 091410 -0500\n",
      "\n",
      "Received from paploo.uhi.ac.uk (localhost [127.0.0.1])\n",
      "\n",
      "\tby paploo.uhi.ac.uk (Postfix) with ESMTP id 5F919BC2F2;\n",
      "\n",
      "\tSat,  5 Jan 2008 141005 +0000 (GMT)\n",
      "\n",
      "Message-ID 200801051412.m05ECIaH010327@nakamura.uits.iupui.edu\n",
      "\n",
      "Mime-Version 1.0\n"
     ]
    }
   ],
   "source": [
    "#open file \"mbox1.txt\" in read mode, return to a sequence of lines. Print each line. \n",
    "fhand = open('mbox1.txt',encoding=\"utf8\", errors='ignore')\n",
    "for line in fhand:\n",
    "    print (line)"
   ]
  },
  {
   "cell_type": "code",
   "execution_count": 33,
   "metadata": {
    "scrolled": true
   },
   "outputs": [
    {
     "name": "stdout",
     "output_type": "stream",
     "text": [
      "From stephen.marquard@uct.ac.za Sat Jan  5 091416 2008\n",
      "\n",
      "Return-Path postmaster@collab.sakaiproject.org\n",
      "\n",
      "Received from murder (mail.umich.edu [141.211.14.90])\n",
      "\n",
      "\t by frankenstein.mail.umich.edu (Cyrus v2.3.8) with LMTPA;\n",
      "\n",
      "\t Sat, 05 Jan 2008 091416 -0500\n",
      "\n",
      "X-Sieve CMU Sieve 2.3\n",
      "\n",
      "Received from murder ([unix socket])\n",
      "\n",
      "\t by mail.umich.edu (Cyrus v2.2.12) with LMTPA;\n",
      "\n",
      "\t Sat, 05 Jan 2008 091416 -0500\n",
      "\n",
      "Received from holes.mr.itd.umich.edu (holes.mr.itd.umich.edu [141.211.14.79])\n",
      "\n",
      "\tby flawless.mail.umich.edu () with ESMTP id m05EEFR1013674;\n",
      "\n",
      "\tSat, 5 Jan 2008 091415 -0500\n",
      "\n",
      "Received FROM paploo.uhi.ac.uk (app1.prod.collab.uhi.ac.uk [194.35.219.184])\n",
      "\n",
      "\tBY holes.mr.itd.umich.edu ID 477F90B0.2DB2F.12494 ; \n",
      "\n",
      "\t 5 Jan 2008 091410 -0500\n",
      "\n",
      "Received from paploo.uhi.ac.uk (localhost [127.0.0.1])\n",
      "\n",
      "\tby paploo.uhi.ac.uk (Postfix) with ESMTP id 5F919BC2F2;\n",
      "\n",
      "\tSat,  5 Jan 2008 141005 +0000 (GMT)\n",
      "\n",
      "Message-ID 200801051412.m05ECIaH010327@nakamura.uits.iupui.edu\n",
      "\n",
      "Mime-Version 1.0\n"
     ]
    }
   ],
   "source": [
    "fhand = open('mbox1.txt',encoding=\"utf8\", errors='ignore') #fhand is not a list\n",
    "for line in fhand.readlines(): #fhand.readlines() returns a list of lines. \n",
    "    print (line) "
   ]
  },
  {
   "cell_type": "code",
   "execution_count": 34,
   "metadata": {
    "scrolled": true
   },
   "outputs": [
    {
     "data": {
      "text/plain": [
       "941"
      ]
     },
     "execution_count": 34,
     "metadata": {},
     "output_type": "execute_result"
    }
   ],
   "source": [
    "fhand = open('mbox1.txt',encoding=\"utf8\", errors='ignore')\n",
    "len(fhand.read()) #fhand.read() returns one big string."
   ]
  },
  {
   "cell_type": "code",
   "execution_count": 35,
   "metadata": {
    "scrolled": true
   },
   "outputs": [
    {
     "data": {
      "text/plain": [
       "960"
      ]
     },
     "execution_count": 35,
     "metadata": {},
     "output_type": "execute_result"
    }
   ],
   "source": [
    "fhand = open('mbox1.txt','rb')\n",
    "len(fhand.read())"
   ]
  },
  {
   "cell_type": "code",
   "execution_count": 36,
   "metadata": {
    "scrolled": true
   },
   "outputs": [],
   "source": [
    "# create a file or write a file, add content into it. Notice: if you \"write\" on a existing file, it will overwirte the complete text file. \n",
    "fh = open(\"hello.txt\",\"w\")\n",
    "fh.write(\"Hello World\")\n",
    "fh.close()"
   ]
  },
  {
   "cell_type": "code",
   "execution_count": 37,
   "metadata": {
    "scrolled": true
   },
   "outputs": [],
   "source": [
    "# write a file and add several lines. If you want to read it and print it, you have to open it again with \"r\" mode. \n",
    "fh = open(\"hello.txt\", \"w\")\n",
    "lines_of_text = [\"a line of text\\n\", \"another line of text\\n\", \"a third line\\n\"]\n",
    "fh.writelines(lines_of_text)\n",
    "fh.close()"
   ]
  },
  {
   "cell_type": "code",
   "execution_count": 38,
   "metadata": {
    "scrolled": true
   },
   "outputs": [
    {
     "name": "stdout",
     "output_type": "stream",
     "text": [
      "Hello World again\n",
      "\n"
     ]
    }
   ],
   "source": [
    "#To append to the end of a file. You may append to an existing file or create a new one if the file does not exist. Notice: you have to close the file to be able to read what you write. \n",
    "fh = open(\"New.txt\", \"a\")\n",
    "fh.write(\"Hello World again\\n\")\n",
    "fh.close()\n",
    "fhand=open(\"New.txt\",\"r\")\n",
    "print (fhand.read())"
   ]
  },
  {
   "cell_type": "markdown",
   "metadata": {},
   "source": [
    "## Exercise 2:\n",
    "\n",
    "Create a program that adds line numbers to a file. The name of the input file will be 7-1_input.txt.\n",
    "The name of the new file that your program will create is 7-1_output.txt.\n",
    "Each line in the output file should begin with the line number, followed by a colon and a space, followed by the line from the input file."
   ]
  },
  {
   "cell_type": "code",
   "execution_count": null,
   "metadata": {
    "scrolled": true
   },
   "outputs": [],
   "source": []
  },
  {
   "cell_type": "code",
   "execution_count": null,
   "metadata": {
    "scrolled": true
   },
   "outputs": [],
   "source": []
  },
  {
   "cell_type": "markdown",
   "metadata": {},
   "source": [
    "# Answers for the Exercises 2"
   ]
  },
  {
   "cell_type": "code",
   "execution_count": 39,
   "metadata": {
    "scrolled": true
   },
   "outputs": [
    {
     "data": {
      "text/plain": [
       "True"
      ]
     },
     "execution_count": 39,
     "metadata": {},
     "output_type": "execute_result"
    }
   ],
   "source": [
    "#startwith() method\n",
    "line=\"Received: from A to B\"\n",
    "line.startswith('Received')"
   ]
  },
  {
   "cell_type": "code",
   "execution_count": 40,
   "metadata": {
    "scrolled": true
   },
   "outputs": [
    {
     "name": "stdout",
     "output_type": "stream",
     "text": [
      "this is the file.\n",
      "\n",
      "hope it works well\n",
      "See you.\n"
     ]
    }
   ],
   "source": [
    "fhand=open('7-1_input.txt')\n",
    "print (fhand.read())"
   ]
  },
  {
   "cell_type": "code",
   "execution_count": 41,
   "metadata": {
    "scrolled": true
   },
   "outputs": [],
   "source": [
    "outfile = open('7-1_output.txt', 'a') # Create the output file. \n",
    "\n",
    "line_num = 1 # line number indicator\n",
    "\n",
    "infile= open('7-1_input.txt', 'r') # open the input file for reading\n",
    "for line in infile:\n",
    "    outfile.write(str(line_num)+\": \"+line)\n",
    "    line_num +=1\n",
    "\n",
    "\n",
    "outfile.close()"
   ]
  },
  {
   "cell_type": "code",
   "execution_count": 42,
   "metadata": {
    "scrolled": true
   },
   "outputs": [
    {
     "name": "stdout",
     "output_type": "stream",
     "text": [
      "1: this is the file.\n",
      "2: \n",
      "3: hope it works well\n",
      "4: See you.\n"
     ]
    }
   ],
   "source": [
    "# Please read the output file. \n",
    "fhand=open('7-1_output.txt')\n",
    "print(fhand.read())"
   ]
  },
  {
   "cell_type": "code",
   "execution_count": null,
   "metadata": {
    "scrolled": true
   },
   "outputs": [],
   "source": []
  },
  {
   "cell_type": "code",
   "execution_count": null,
   "metadata": {},
   "outputs": [],
   "source": []
  }
 ],
 "metadata": {
  "kernelspec": {
   "display_name": "Python 3 (ipykernel)",
   "language": "python",
   "name": "python3"
  },
  "language_info": {
   "codemirror_mode": {
    "name": "ipython",
    "version": 3
   },
   "file_extension": ".py",
   "mimetype": "text/x-python",
   "name": "python",
   "nbconvert_exporter": "python",
   "pygments_lexer": "ipython3",
   "version": "3.11.5"
  }
 },
 "nbformat": 4,
 "nbformat_minor": 2
}
